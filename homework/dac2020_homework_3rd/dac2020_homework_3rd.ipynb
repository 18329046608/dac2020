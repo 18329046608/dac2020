{
 "cells": [
  {
   "cell_type": "markdown",
   "metadata": {},
   "source": [
    "# 《数据采集与清洗》\n",
    "## 第三次作业内容： 数据存储\n",
    "### 考察内容：\n",
    "+ CSV\n",
    "+ PIL\n",
    "+ xml.tree\n",
    "+ pymysql\n",
    "+ sqlalchemy\n",
    "\n",
    "### 注：\n",
    "+ 代码要有注释，结果要有分析；\n",
    "+ 本次作业提交截至时间：2020年3月30日(星期一)；\n",
    "+ 文件命名规则: 班级号+学号+姓名+作业序号，示例：``1_20188989899_李明_2``；\n",
    "+ 提交方式：1班发送至邮箱：632994085@qq.com；2班发送至邮箱：786888939@qq.com."
   ]
  },
  {
   "cell_type": "markdown",
   "metadata": {},
   "source": [
    "### CSV\n",
    "请手动将至少四个国家的新冠肺炎疫情数据（包括国别、新增确诊、累计确诊、累计治愈、累计死亡）保存到CSV文件。"
   ]
  },
  {
   "cell_type": "markdown",
   "metadata": {},
   "source": [
    "### PIL\n",
    "请用 Requests 库抓取一张网络图片，用 PIL 库旋转，然后显示出来。\n"
   ]
  },
  {
   "cell_type": "markdown",
   "metadata": {},
   "source": [
    "### xml.tree\n",
    "请用 xml.tree 模块生成一个 xml 格式文件（内容可考虑湘潭大学机构设置，也可自选，可适当设置属性参数，至少包含两级）。"
   ]
  },
  {
   "cell_type": "markdown",
   "metadata": {},
   "source": [
    "### pymysql\n",
    "+ 请抓取腾讯网上公布的海外当日新冠肺炎疫情数据（包括国别、新增确诊、累计确诊、累计治愈、累计死亡）,用 pymysql 库保存到 mysql 数据库中。\n",
    "+ 删除累计确诊数少于1000的，然后按累计确诊数从大到小进行排序。\n",
    "+ 请将中国的数据增加入表，然后按新增确诊数从大到小进行排序。"
   ]
  },
  {
   "cell_type": "markdown",
   "metadata": {},
   "source": [
    "### sqlalchemy\n",
    "+ 请抓取腾讯网上公布的我国近三个月的新冠肺炎疫情数据（包括累计确诊、累计治愈、累计死亡、现有确诊、现有重症、境外输入），用 sqlalchemy 保存到 mysql 数据库中。\n",
    "+ 请完成按省的统计结果。"
   ]
  },
  {
   "cell_type": "code",
   "execution_count": null,
   "metadata": {},
   "outputs": [],
   "source": []
  }
 ],
 "metadata": {
  "kernelspec": {
   "display_name": "Python 3",
   "language": "python",
   "name": "python3"
  },
  "language_info": {
   "codemirror_mode": {
    "name": "ipython",
    "version": 3
   },
   "file_extension": ".py",
   "mimetype": "text/x-python",
   "name": "python",
   "nbconvert_exporter": "python",
   "pygments_lexer": "ipython3",
   "version": "3.7.6"
  }
 },
 "nbformat": 4,
 "nbformat_minor": 4
}
