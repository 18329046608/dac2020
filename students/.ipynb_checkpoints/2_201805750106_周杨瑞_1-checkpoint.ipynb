{
 "cells": [
  {
   "cell_type": "markdown",
   "metadata": {},
   "source": [
    "# 第一次作业\n"
   ]
  },
  {
   "cell_type": "markdown",
   "metadata": {},
   "source": [
    "# request+浏览器伪装+爬取想要的数据（小说）"
   ]
  },
  {
   "cell_type": "code",
   "execution_count": null,
   "metadata": {},
   "outputs": [],
   "source": [
    "import requests\n",
    "import re\n",
    "import time\n",
    "import socket\n",
    "socket.setdefaulttimeout(10)\n",
    "novl_url='http://www.tianyashuku.com/wuxia/7/'\n",
    "send_headers = {\n",
    "    \"User-Agent\": \"Mozilla/5.0 (Windows NT 10.0; Win64; x64) AppleWebKit/537.36 (KHTML, like Gecko) Chrome/61.0.3163.100 Safari/537.36\",\n",
    "    \"Connection\": \"keep-alive\",\n",
    "    \"Accept\": \"text/html,application/xhtml+xml,application/xml;q=0.9,image/webp,image/apng,*/*;q=0.8\",\n",
    "    \"Accept-Language\": \"zh-CN,zh;q=0.8\"\n",
    "    }#伪装成浏览器\n",
    "#小说的url\n",
    "response=requests.get(novl_url,send_headers)#访问\n",
    "response.close()\n",
    " \n",
    "response.encoding='utf-8'\n",
    "html=response.text\n",
    "#print(html)\n",
    "title=re.findall('<title>(.*?)</title>',html)[0]\n",
    "fp=open('%s.txt'%title,'w',encoding='utf-8')#创建TXT\n",
    "print(title)#将标题写入文档\n",
    "fp.write(title)\n",
    "fp.write('\\n\\n')\n",
    "chapter_info=re.findall('<a href=\"(.*?)\" title=\"(.*?)\">.*?</a>',html)\n",
    " \n",
    "for chapter in chapter_info:\n",
    "    chapter_title=chapter[1]\n",
    "    chapter_url='http://www.tianyashuku.com' +chapter[0]#补全url\n",
    "#正则表达式中有两个(.*?)所以章节都是二维列表，0是标题，1是url\n",
    "    print(chapter_url,chapter_title)\n",
    "    try:\n",
    "        chapter_response=requests.get(chapter_url,send_headers)\n",
    "        chapter_response.encoding='utf-8'\n",
    "        chapter_html=chapter_response.text\n",
    "        chapter_response.close()\n",
    "        print(chapter_html)\n",
    " \n",
    "        chapter_content=re.findall(r'<[P/p]>&nbsp;&nbsp;&nbsp; (.*?)</[P/p]>',chapter_html);\n",
    "        fp.write(chapter_title)#匹配每个自然段\n",
    "        fp.write('\\n')#写入每一章的标题\n",
    "        try :\n",
    "            for content in chapter_content:\n",
    "                temp=str(content)\n",
    "                temp=temp.replace('&middot;','.')\n",
    "                temp=temp.replace('&rdquo;','”')\n",
    "                temp=temp.replace('&ldquo;','“')\n",
    "                temp=temp.replace('&hellip;','…')\n",
    "                temp=temp.replace('&mdash;','—')\n",
    "                temp=temp.replace('&rsquo;','’')\n",
    "                temp=temp.replace('&lsquo;','‘')\n",
    "                #标点符号替换标点符号代码\n",
    "                fp.write(temp)\n",
    "                fp.write('\\n  ')\n",
    "            print(\"成功访问并写入:%s\"%chapter_title)\n",
    "            fp.write('\\n')\n",
    "        except:\n",
    "            print(\"写入出错!\")\n",
    "    except:\n",
    "           print(\"访问失败!\")\n",
    "#fp.close()\n",
    "print(len(chapter_info))\n"
   ]
  },
  {
   "cell_type": "code",
   "execution_count": null,
   "metadata": {},
   "outputs": [],
   "source": []
  }
 ],
 "metadata": {
  "kernelspec": {
   "display_name": "Python 3",
   "language": "python",
   "name": "python3"
  },
  "language_info": {
   "codemirror_mode": {
    "name": "ipython",
    "version": 3
   },
   "file_extension": ".py",
   "mimetype": "text/x-python",
   "name": "python",
   "nbconvert_exporter": "python",
   "pygments_lexer": "ipython3",
   "version": "3.7.6"
  }
 },
 "nbformat": 4,
 "nbformat_minor": 2
}
