{
 "cells": [
  {
   "cell_type": "markdown",
   "metadata": {},
   "source": [
    "# 《数据采集与清洗》\n",
    "## 第一次作业内容： 网页抓取\n",
    "### 具体目标：\n",
    "+ 用``urllib.requests``库发起一次``get``请求，输出``response``文本信息；\n",
    "+ 用``Requests``库伪装成火狐浏览器发起一次``post``请求，输出``response``文本信息；\n",
    "+ 用``Requests``库中的``session``对象发出``get``请求，设置``cookies``并获取，输出获取的``cookies``内容；\n",
    "+ 实现抓取网页的不去重深度遍历算法，自选合适的种子网站和相关参数，输出结果；\n",
    "+ 编写抓取网页的广度遍历算法（含去重和不去重），自选合适的种子网站和相关参数，输出结果；\n",
    "+ (选)将抓取网页的去重深度遍历算法封装成对象（类），并测试。\n",
    "\n",
    "### 注：\n",
    "+ 代码要有注释，结果要有分析；\n",
    "+ 本次作业提交截至时间：2020年3月10日(星期二)；\n",
    "+ 文件命名规则: 班级号+学号+姓名+作业序号，示例：``1_20188989899_张三_1``；\n",
    "+ 提交方式：1班发送至邮箱：632994085@qq.com；2班发送至邮箱：786888939@qq.com."
   ]
  },
  {
   "cell_type": "markdown",
   "metadata": {},
   "source": [
    "### 问题1：用``urllib.requests``库发起一次``get``请求，输出``response``文本信息。"
   ]
  },
  {
   "cell_type": "code",
   "execution_count": 2,
   "metadata": {
    "scrolled": false
   },
   "outputs": [
    {
     "name": "stdout",
     "output_type": "stream",
     "text": [
      "{}\n"
     ]
    }
   ],
   "source": [
    "import requests\n",
    "import json\n",
    "url_get = 'http://httpbin.org/get'\n",
    "response = requests.get(url_get,timeout=5)\n",
    "print(json.loads(response.text)['args'])"
   ]
  },
  {
   "cell_type": "code",
   "execution_count": null,
   "metadata": {},
   "outputs": [],
   "source": []
  },
  {
   "cell_type": "markdown",
   "metadata": {},
   "source": [
    "这里对结果进行分析。"
   ]
  },
  {
   "cell_type": "markdown",
   "metadata": {},
   "source": [
    "### 用``Requests``库伪装成火狐浏览器发起一次``post``请求，输出``response``文本信息。"
   ]
  },
  {
   "cell_type": "code",
   "execution_count": 16,
   "metadata": {
    "collapsed": true
   },
   "outputs": [
    {
     "name": "stdout",
     "output_type": "stream",
     "text": [
      "<!doctype html>\r\n",
      "<html lang=\"en\">\r\n",
      "<head>\r\n",
      "    <meta charset=\"UTF-8\">\r\n",
      "    <title>百度百科——全球最大中文百科全书</title>\r\n",
      "    <style>\r\n",
      "    p {\r\n",
      "        margin: 0;\r\n",
      "    }\r\n",
      "    .baikeLogo {\r\n",
      "        width: 780px;\r\n",
      "        height: 50px;\r\n",
      "        margin: 150px auto 75px;\r\n",
      "        text-indent: -9999em;\r\n",
      "    background: url(https://gss0.baidu.com/70cFsjip0QIZ8tyhnq/img/baike/logo-baike.png) 50% 50% no-repeat;\r\n",
      "    }\r\n",
      "    /* S-- errorBox */\r\n",
      "        .errorBox {\r\n",
      "            width: 780px;\r\n",
      "            margin: 0 auto 65px; \r\n",
      "            text-align: center;\r\n",
      "            font-family: \"Microsoft yahei\";\r\n",
      "        }\r\n",
      "        .errorBox .timeOut {\r\n",
      "            color: #666;\r\n",
      "            font-size: 16px;\r\n",
      "        }\r\n",
      "        .errorBox .timeOut a {\r\n",
      "            color: #136ec2;\r\n",
      "            text-decoration:none;\r\n",
      "        }\r\n",
      "        .errorBox .countdown {\r\n",
      "            font-weight: 700;\r\n",
      "        }\r\n",
      "    /* E-- errorBox */\r\n",
      "\r\n",
      "    /* S-- sorryBox */\r\n",
      "        .sorryBox {\r\n",
      "            position: relative;\r\n",
      "            margin-bottom: 10px;\r\n",
      "        }\r\n",
      "        .sorryBox .sorryTxt {\r\n",
      "            color: #559ee7;\r\n",
      "        }\r\n",
      "        .sorryBox .sorryCont {\r\n",
      "            color: #333;\r\n",
      "            font-size: 35px;\r\n",
      "        }\r\n",
      "        .sorryBox .sorryBubble {\r\n",
      "            position: absolute;\r\n",
      "            left: 98px;\r\n",
      "            top: -35px;\r\n",
      "            width: 72px;\r\n",
      "            height: 37px;\r\n",
      "            background: url(/static/common/img/error_bubble_7da2966.jpg) no-repeat 50% 50%;\r\n",
      "        }\r\n",
      "    /* E-- sorryBox */\r\n",
      "\r\n",
      "    /* S-- footer */\r\n",
      "        .ft {\r\n",
      "            width: 780px;\r\n",
      "            margin: 0 auto 65px;\r\n",
      "            padding-top: 20px;\r\n",
      "            padding-bottom: 20px; \r\n",
      "            line-height: 20px;\r\n",
      "            color: #666;\r\n",
      "            font-size: 12px;\r\n",
      "            text-align: center;\r\n",
      "            background-color: #f8f8f8;\r\n",
      "        }\r\n",
      "        .ft a{\r\n",
      "            color: #2d64b3;\r\n",
      "            text-decoration: none;\r\n",
      "        }\r\n",
      "        .ft a:hover {\r\n",
      "            text-decoration: underline;\r\n",
      "        }\r\n",
      "        .feedBackWays .ul {\r\n",
      "            margin: 0;\r\n",
      "            padding: 0;\r\n",
      "        }\r\n",
      "        .feedBackWays .li {\r\n",
      "            list-style: none;\r\n",
      "        }\r\n",
      "        .ftCont {\r\n",
      "            margin-top: 20px;\r\n",
      "            color: #2d64b3;\r\n",
      "        }\r\n",
      "    /* E-- footer */\r\n",
      "    </style>\r\n",
      "</head>\r\n",
      "<body>\r\n",
      "    <div id=\"bd\">\r\n",
      "        <h1 class=\"baikeLogo\">\r\n",
      "            百度百科错误页\r\n",
      "        </h1>\r\n",
      "        <div class=\"errorBox\">\r\n",
      "            <!-- 主体 -->\r\n",
      "            <div class=\"sorryBox\">\r\n",
      "                <div class=\"sorryBubble\"></div>\r\n",
      "                <p class=\"sorryCont\"><span class=\"sorryTxt\">抱歉</span>，您所访问的页面不存在...</p>\r\n",
      "            </div>\r\n",
      "            <div class=\"timeOut\">\r\n",
      "                <p><span class=\"countdown\" id=\"countdown\">3</span>秒后自动跳转到<a href=\"http://baike.baidu.com/\">百科首页</a></p>\r\n",
      "            </div>\r\n",
      "            <!-- /主体 -->\r\n",
      "        </div>\r\n",
      "    </div>\r\n",
      "    <div id=\"ft\">\r\n",
      "        <div class=\"ft\">\r\n",
      "            <div class=\"feedBackWays\">\r\n",
      "                <ul class=\"ul\">\r\n",
      "                    <li class=\"li\">如果想提出功能问题或意见建议,请到<a href=\"http://baike.baidu.com/feedback\" target=\"_blank\">意见反馈</a>;</li>\r\n",
      "                    <li class=\"li\">如果您要举报侵权或违法信息,请到<a href=\"http://help.baidu.com/newadd?prod_id=10&category=1\" target=\"_blank\">投诉中心</a>;</li>\r\n",
      "                    <li class=\"li\">其他问题请访问<a href=\"http://tieba.baidu.com/f?kw=%B0%D9%B6%C8%B0%D9%BF%C6\" target=\"_blank\">百度百科吧</a>。</li>\r\n",
      "                </ul>\r\n",
      "            </div>\r\n",
      "            <div class=\"ftCont\">\r\n",
      "                &copy;<span id=\"copyYear\"></span>Baidu <a href=\"http://www.baidu.com/duty/\" target=\"_blank\">使用百度前必读</a> | <a href=\"http://help.baidu.com/question?prod_en=baike&class=89&id=1637\" target=\"_blank\">百科协议</a> | <a href=\"http://baike.baidu.com/hezuo/\" target=\"_blank\">百度百科合作平台</a>\r\n",
      "            </div>\r\n",
      "        </div>\r\n",
      "    </div>\r\n",
      "    <script type=\"text/javascript\">\r\n",
      "    window.onload = function(){\r\n",
      "        var time = 3,\r\n",
      "            year = new Date().getFullYear();\r\n",
      "        \r\n",
      "        document.getElementById(\"copyYear\").innerHTML = year;\r\n",
      "        setInterval(function(){\r\n",
      "            if (time == 0){\r\n",
      "                window.location = \"http://baike.baidu.com/\";\r\n",
      "                return;\r\n",
      "            }\r\n",
      "            document.getElementById(\"countdown\").innerHTML = time;\r\n",
      "            time--; \r\n",
      "        }, 1000);\r\n",
      "    }\r\n",
      "    </script>\r\n",
      "</body>\r\n",
      "</html>\n"
     ]
    }
   ],
   "source": [
    "pujing_url='https://baike.baidu.com/item/%E5%BC%97%E6%8B%89%E5%9F%BA%E7%B1%B3%E5%B0%94%C2%B7%E5%BC%97%E6%8B%89%E5%9F%BA%E7%B1%B3%E7%BD%97%E7%BB%B4%E5%A5%87%C2%B7%E6%99%AE%E4%BA%AC/1156718?fromtitle=%E6%99%AE%E4%BA%AC&fromid=589294'#url\n",
    "headers={\n",
    "    \"User_Agent\":'Mozilla/4.0(compatible;MSIE 5.5;Windows NT)'\n",
    "}\n",
    "response=requests.post(pujing_url,headers)#模拟火狐浏览器进行访问\n",
    "response.encoding='utf-8'#确定编码规则\n",
    "html=response.text\n",
    "print(html)"
   ]
  },
  {
   "cell_type": "code",
   "execution_count": null,
   "metadata": {},
   "outputs": [],
   "source": []
  },
  {
   "cell_type": "markdown",
   "metadata": {},
   "source": [
    "这里对结果进行分析。"
   ]
  },
  {
   "cell_type": "markdown",
   "metadata": {},
   "source": [
    "### 用``Requests``库中的``session``对象发出``get``请求，设置``cookies``并获取，输出获取的``cookies``内容。 "
   ]
  },
  {
   "cell_type": "code",
   "execution_count": 2,
   "metadata": {
    "scrolled": false
   },
   "outputs": [
    {
     "data": {
      "text/plain": [
       "'{\\n  \"cookies\": {\\n    \"sessioncookies\": \"987654321\"\\n  }\\n}\\n'"
      ]
     },
     "execution_count": 2,
     "metadata": {},
     "output_type": "execute_result"
    }
   ],
   "source": [
    "import re,requests\n",
    "s = requests.Session() # 创建一个session对象 \n",
    "s.get('http://httpbin.org/cookies/set/sessioncookies/987654321') # 用session对象发出get请求，设置cookies \n",
    "# 用session对象发出另外一个get请求，获取cookies \n",
    "r = s.get(\"http://httpbin.org/cookies\") \n",
    "# 显示结果 \n",
    "r.text "
   ]
  },
  {
   "cell_type": "code",
   "execution_count": null,
   "metadata": {},
   "outputs": [],
   "source": []
  },
  {
   "cell_type": "markdown",
   "metadata": {},
   "source": [
    "这里对结果进行分析。"
   ]
  },
  {
   "cell_type": "markdown",
   "metadata": {},
   "source": [
    "### 实现抓取网页的不去重深度遍历算法，自选合适的种子网站和相关参数，输出结果。\n"
   ]
  },
  {
   "cell_type": "code",
   "execution_count": 3,
   "metadata": {
    "scrolled": true
   },
   "outputs": [
    {
     "name": "stdout",
     "output_type": "stream",
     "text": [
      "['/item/秒懂星课堂', '/item/秒懂大师说', '/item/秒懂看瓦特', '/item/秒懂五千年', '/item/秒懂全视界', '/item/%E7%99%BE%E5%BA%A6%E7%99%BE%E7%A7%91%EF%BC%9A%E5%A4%9A%E4%B9%89%E8%AF%8D', '/item/%E4%B9%89%E9%A1%B9', '/item/%E6%99%AE%E4%BA%AC?force=1', '/item/%E6%99%AE%E4%BA%AC/20132344#viewPageContent', '/item/%E6%99%AE%E4%BA%AC/19348856#viewPageContent', '/item/%E6%99%AE%E4%BA%AC/14756301#viewPageContent', '/item/%E5%88%97%E5%AE%81%E6%A0%BC%E5%8B%92/16251', '/item/%E5%9C%A3%E5%BD%BC%E5%BE%97%E5%A0%A1/6447', '/item/%E6%80%BB%E7%90%86', '/item/%E7%BB%9F%E4%B8%80%E4%BF%84%E7%BD%97%E6%96%AF%E5%85%9A', '/item/%E4%BF%84%E7%99%BD%E8%81%94%E7%9B%9F/8457077', '/item/%E4%BF%84%E7%BD%97%E6%96%AF/125568', '/item/%E8%B6%85%E7%BA%A7%E5%A4%A7%E5%9B%BD/1975636', '/item/%E8%81%94%E9%82%A6%E6%94%BF%E5%BA%9C/6345319', '/item/%E5%88%A9%E7%9B%8A/5733966', '/item/%E8%8B%8F%E8%81%94%E8%A7%A3%E4%BD%93/634053', '/item/%E9%93%81%E8%85%95/10681340', '/item/%E6%80%BB%E7%BB%9F/412', '/item/%E6%97%B6%E4%BB%A3/1944848', '/item/%E7%A6%8F%E5%B8%83%E6%96%AF/301065', '/item/%E6%97%B6%E4%BB%A3/1944848', '/item/%E7%A6%8F%E5%B8%83%E6%96%AF/301065', '/item//522193', '/item/%E4%BF%84%E7%BD%97%E6%96%AF%E6%80%BB%E7%BB%9F/5640674', '/item/%E6%9F%B3%E5%BE%B7%E7%B1%B3%E6%8B%89%C2%B7%E9%98%BF%E5%88%97%E5%85%8B%E5%BE%B7%E7%BD%97%E4%BB%98%E5%A8%9C%C2%B7%E6%99%AE%E4%BA%AC%E5%A8%9C/720888', '/item/%E5%BE%B7%E7%B1%B3%E7%89%B9%E9%87%8C%C2%B7%E9%98%BF%E7%BA%B3%E6%89%98%E5%88%A9%E8%80%B6%E7%BB%B4%E5%A5%87%C2%B7%E6%A2%85%E5%BE%B7%E9%9F%A6%E6%9D%B0%E5%A4%AB/5358674', '/item/%E4%BF%84%E7%BD%97%E6%96%AF%E8%81%94%E9%82%A6', '/item/%E4%BF%84%E7%BD%97%E6%96%AF%E4%BA%BA/854086', '/item/%E5%9C%A3%E5%BD%BC%E5%BE%97%E5%A0%A1/6447', '/item/%E6%94%BF%E6%B2%BB%E5%AE%B6', '/item/%E5%9C%A3%E5%BD%BC%E5%BE%97%E5%A0%A1%E5%9B%BD%E7%AB%8B%E5%A4%A7%E5%AD%A6', '/item/%E4%B8%9C%E6%AD%A3%E6%95%99', '/item/%E4%B8%96%E7%95%8C%E8%B4%B8%E6%98%93%E7%BB%84%E7%BB%87', '/item/%E4%BF%84%E7%BD%97%E6%96%AF%E6%80%BB%E7%BB%9F', '/item/%E4%BF%84%E7%BD%97%E6%96%AF%E6%80%BB%E7%90%86', '/item/%E4%BF%84%E7%99%BD%E8%81%94%E7%9B%9F', '/item/%E9%83%A8%E9%95%BF%E4%BC%9A%E8%AE%AE', '/item/%E4%B8%BB%E5%B8%AD', '/item/%E4%B8%96%E7%95%8C%E8%B4%B8%E6%98%93%E7%BB%84%E7%BB%87', '/item/%E4%BF%84%E7%BD%97%E6%96%AF%E6%80%BB%E7%BB%9F', '/item/%E4%BF%84%E7%BD%97%E6%96%AF%E6%80%BB%E7%90%86', '/item/%E4%BF%84%E7%99%BD%E8%81%94%E7%9B%9F', '/item/%E9%83%A8%E9%95%BF%E4%BC%9A%E8%AE%AE', '/item/%E4%B8%BB%E5%B8%AD', '/item/%E7%BB%9F%E4%B8%80%E4%BF%84%E7%BD%97%E6%96%AF%E5%85%9A', '/item/%E4%B8%BB%E5%B8%AD', '/item/%E6%97%B6%E4%BB%A3', '/item/%E7%A6%8F%E5%B8%83%E6%96%AF', '/item/%E7%BB%9F%E4%B8%80%E4%BF%84%E7%BD%97%E6%96%AF%E5%85%9A', '/item/%E5%88%97%E5%AE%81%E6%A0%BC%E5%8B%92', '/item/%E5%9C%A3%E5%BD%BC%E5%BE%97%E5%A0%A1', '/item/%E8%8B%8F%E8%81%94%E6%B5%B7%E5%86%9B', '/item/%E6%BD%9C%E8%89%87%E9%83%A8%E9%98%9F', '/item/%E8%8B%8F%E8%81%94', '/item/%E5%88%97%E5%AE%81%E6%A0%BC%E5%8B%92%E4%BF%9D%E5%8D%AB%E6%88%98', '/item/%E7%99%BD%E5%96%89', '/item/%E5%88%97%E5%AE%81', '/item/%E6%96%AF%E5%A4%A7%E6%9E%97', '/item/%E7%A7%81%E4%BA%BA%E5%8E%A8%E5%B8%88', '/item/%E5%B0%91%E5%85%88%E9%98%9F%E5%91%98', '/item/%E5%88%97%E5%AE%81%E6%A0%BC%E5%8B%92%E5%A4%A7%E5%AD%A6', '/item/%E5%8D%9A%E5%A3%AB%E5%AD%A6%E4%BD%8D', '/item/%E5%9C%A3%E5%BD%BC%E5%BE%97%E5%A0%A1%E5%9B%BD%E7%AB%8B%E7%9F%BF%E4%B8%9A%E5%AD%A6%E9%99%A2', '/item/%E5%85%8B%E6%A0%BC%E5%8B%83', '/item/%E5%88%97%E5%AE%81%E6%A0%BC%E5%8B%92', '/item/%E8%B0%A2%E5%B0%94%E7%9B%96%C2%B7%E4%BC%8A%E4%B8%87%E8%AF%BA%E5%A4%AB', '/item/%E8%8B%8F%E8%81%94%E5%85%B1%E4%BA%A7%E5%85%9A', '/item/%E5%85%8B%E6%A0%BC%E5%8B%83', '/item/%E5%88%97%E5%AE%81%E6%A0%BC%E5%8B%92/16251', '/item/%E8%8E%AB%E6%96%AF%E7%A7%91', '/item/%E9%97%B4%E8%B0%8D', '/item/%E8%A5%BF%E5%BE%B7', '/item/%E4%B8%A4%E5%BE%B7%E7%BB%9F%E4%B8%80', '/item/%E5%9C%A3%E5%BD%BC%E5%BE%97%E5%A0%A1%E5%B8%82', '/item/%E7%B1%B3%E5%93%88%E4%BC%8A%E5%B0%94%C2%B7%E6%88%88%E5%B0%94%E5%B7%B4%E4%B9%94%E5%A4%AB', '/item/%E8%8E%AB%E6%96%AF%E7%A7%91', '/item/%E5%8F%B6%E5%88%A9%E9%92%A6', '/item/%E7%A7%98%E4%B9%A6', '/item/%E6%80%BB%E7%90%86', '/item/%E5%9B%BD%E5%AE%B6%E6%9D%9C%E9%A9%AC', '/item/%E5%88%AB%E6%96%AF%E5%85%B0%E4%BA%BA%E8%B4%A8%E4%BA%8B%E4%BB%B6', '/item/%E7%AB%8B%E6%B3%95%E6%9C%BA%E6%9E%84', '/item/%E6%81%90%E6%80%96%E4%B8%BB%E4%B9%89', '/item/%E7%BB%9F%E4%B8%80%E4%BF%84%E7%BD%97%E6%96%AF%E5%85%9A', '/item/%E5%9B%BD%E6%83%85%E5%92%A8%E6%96%87', '/item/%E5%85%AB%E5%9B%BD%E9%9B%86%E5%9B%A2', '/item/%E5%8F%B6%E5%88%A9%E9%92%A6', '/item/%E5%AE%AA%E6%B3%95', '/item/%E7%BB%A7%E6%89%BF%E4%BA%BA', '/item/%E4%BF%84%E7%BD%97%E6%96%AF%E8%81%94%E9%82%A6', '/item/%E7%BB%9F%E4%B8%80%E4%BF%84%E7%BD%97%E6%96%AF%E5%85%9A', '/item/%E5%85%9A%E9%AD%81', '/item/%E5%9B%BD%E5%AE%B6%E6%9D%9C%E9%A9%AC', '/item/%E7%BB%9F%E4%B8%80%E4%BF%84%E7%BD%97%E6%96%AF%E5%85%9A', '/item/%E6%A2%85%E5%BE%B7%E9%9F%A6%E6%9D%B0%E5%A4%AB', '/item/%E6%A2%85%E5%BE%B7%E9%9F%A6%E6%9D%B0%E5%A4%AB', '/item/%E6%9D%9C%E9%A9%AC', '/item/%E4%B8%8B%E8%AE%AE%E9%99%A2', '/item/%E4%B9%85%E5%8A%A0%E8%AF%BA%E5%A4%AB', '/item/%E6%97%A5%E9%87%8C%E8%AF%BA%E5%A4%AB%E6%96%AF%E5%9F%BA', '/item/%E7%B1%B3%E7%BD%97%E8%AF%BA%E5%A4%AB', '/item/%E5%86%9B%E4%BA%8B%E5%9F%BA%E5%9C%B0', '/item/%E5%AE%89%E7%90%86%E4%BC%9A', '/item/%E4%BC%8A%E6%8B%89%E5%85%8B', '/item/%E8%81%94%E5%90%88%E5%9B%BD', '/item/%E6%85%95%E5%B0%BC%E9%BB%91/855', '/item/%E6%8D%B7%E5%85%8B', '/item/%E9%98%BF%E5%A1%9E%E6%8B%9C%E7%96%86', '/item/%E6%B3%A2%E5%85%B0/421640', '/item/%E5%9C%9F%E8%80%B3%E5%85%B6/198448', '/item/%E5%88%A9%E6%AF%94%E4%BA%9A', '/item/%E8%B6%85%E7%BA%A7%E5%A4%A7%E5%9B%BD', '/item/%E6%85%95%E5%B0%BC%E9%BB%91%E4%BC%9A%E8%AE%AE', '/item/%E5%9B%BD%E9%99%85%E6%B3%95', '/item/%E5%86%9B%E5%A4%87%E7%AB%9E%E8%B5%9B', '/item/%E5%A4%9A%E6%9E%81%E5%8C%96', '/item/%E6%AC%A7%E7%9B%9F', '/item/%E5%85%AB%E5%9B%BD%E9%9B%86%E5%9B%A2', '/item/%E5%BE%B7%E5%9B%BD', '/item/%E5%8D%B0%E5%BA%A6', '/item/%E6%9E%81%E6%9D%83%E4%B8%BB%E4%B9%89', '/item/%E5%B8%83%E4%BB%80', '/item/%E5%B8%83%E8%8E%B1%E5%B0%94', '/item/%E6%96%BD%E7%BD%97%E5%BE%B7', '/item/%E9%BB%98%E5%85%8B%E5%B0%94', '/item/%E6%A0%BC%E5%93%88%E7%89%B9%C2%B7%E6%96%BD%E7%BD%97%E5%BE%B7', '/item/%E5%A4%A9%E7%84%B6%E6%B0%94', '/item/%E5%9C%A3%E5%BD%BC%E5%BE%97%E5%A0%A1', '/item/%E7%8B%AC%E8%81%94%E4%BD%93', '/item/%E6%AC%A7%E7%9B%9F', '/item/%E5%8C%97%E7%BA%A6', '/item/%E4%B9%8C%E5%85%8B%E5%85%B0', '/item/%E6%A0%BC%E9%B2%81%E5%90%89%E4%BA%9A', '/item/%E6%91%A9%E5%B0%94%E5%A4%9A%E7%93%A6', '/item/%E5%88%86%E7%A6%BB%E4%B8%BB%E4%B9%89', '/item/%E6%B3%A2%E7%BD%97%E7%9A%84%E6%B5%B7', '/item/%E7%88%B1%E6%B2%99%E5%B0%BC%E4%BA%9A', '/item/%E5%85%8B%E9%87%8C%E7%B1%B3%E4%BA%9A%E5%85%B1%E5%92%8C%E5%9B%BD/13345297', '/item/%E5%8D%97%E5%A5%A5%E5%A1%9E%E6%A2%AF', '/item/%E4%BF%84%E7%BD%97%E6%96%AF/125568', '/item/%E5%8F%99%E5%88%A9%E4%BA%9A', '/item/%E4%BC%8A%E6%96%AF%E5%85%B0%E5%9B%BD', '/item/%E6%B8%A9%E5%AE%B6%E5%AE%9D/115402', '/item/%E5%8C%97%E4%BA%AC%E4%BA%BA%E6%B0%91%E5%A4%A7%E4%BC%9A%E5%A0%82', '/item/%E4%BF%84%E7%BD%97%E6%96%AF%E8%81%94%E9%82%A6', '/item/%E6%99%AE%E4%BA%AC', '/item/%E4%B8%AD%E5%9B%BD/1122445', '/item/%E6%B8%A9%E5%AE%B6%E5%AE%9D/115402', '/item/%E5%A4%A9%E7%84%B6%E6%B0%94', '/item/%E7%9F%B3%E6%B2%B9', '/item/%E5%A4%96%E4%BA%A4%E9%83%A8', '/item/%E5%88%98%E4%B8%BA%E6%B0%91', '/item/%E5%8C%97%E4%BA%AC/128981', '/item/%E8%83%A1%E9%94%A6%E6%B6%9B', '/item/%E5%8C%97%E4%BA%AC%E4%BA%BA%E6%B0%91%E5%A4%A7%E4%BC%9A%E5%A0%82', '/item/%E9%BB%98%E5%85%8B%E5%B0%94/16917924', '/item/%E6%B1%89%E8%AF%BA%E5%A8%81%E5%B7%A5%E4%B8%9A%E5%8D%9A%E8%A7%88%E4%BC%9A', '/item/%E6%B1%89%E8%AF%BA%E5%A8%81%E5%B7%A5%E4%B8%9A%E5%8D%9A%E8%A7%88%E4%BC%9A', '/item/%E4%B9%8C%E5%85%8B%E5%85%B0', '/item/%E5%85%8B%E9%87%8C%E5%A7%86%E6%9E%97%E5%AE%AB', '/item/%E5%8F%99%E5%88%A9%E4%BA%9A%E6%80%BB%E7%BB%9F/5177807', '/item/%E5%B7%B4%E6%B2%99%E5%B0%94%C2%B7%E9%98%BF%E8%90%A8%E5%BE%B7/2867946', '/item/%E6%97%A5%E6%9C%AC%E9%A6%96%E7%9B%B8', '/item/%E6%A3%AE%E5%96%9C%E6%9C%97', '/item/%E5%B7%9D%E5%A5%88%E6%8F%90%E6%A1%88', '/item/%E6%A3%AE%E5%96%9C%E6%9C%97', '/item/%E5%B0%8F%E6%B3%89%E7%BA%AF%E4%B8%80%E9%83%8E', '/item/%E9%9D%96%E5%9B%BD%E7%A5%9E%E7%A4%BE/1096', '/item/%E4%B8%AD%E5%9B%BD/1122445', '/item/%E9%9F%A9%E5%9B%BD/6009333', '/item/%E8%81%94%E5%90%88%E5%9B%BD', '/item/%E5%AE%89%E7%90%86%E4%BC%9A', '/item/%E5%B8%B8%E4%BB%BB%E7%90%86%E4%BA%8B%E5%9B%BD', '/item/%E6%97%A5%E6%9C%AC%E8%87%AA%E6%B0%91%E5%85%9A', '/item/%E9%BD%BF%E8%88%9E%E7%BE%A4%E5%B2%9B', '/item/%E8%89%B2%E4%B8%B9%E5%B2%9B', '/item/%E5%8F%B3%E7%BF%BC', '/item/%E8%90%A8%E5%93%88%E6%9E%97%E5%B2%9B', '/item/%E8%8B%8F%E8%81%94', '/item/%E4%BC%8A%E6%9C%97', '/item/%E5%B7%B4%E5%9F%BA%E6%96%AF%E5%9D%A6', '/item/%E9%9F%A9%E5%9B%BD/6009333', '/item/%E6%9C%9D%E9%B2%9C/191777', '/item/%E4%BF%84%E7%BD%97%E6%96%AF/125568', '/item/%E6%B0%91%E4%B8%BB', '/item/%E5%9B%BD%E5%86%85%E7%94%9F%E4%BA%A7%E6%80%BB%E5%80%BC', '/item/%E8%B4%AD%E4%B9%B0%E5%8A%9B%E5%B9%B3%E4%BB%B7', '/item/%E6%80%BB%E7%BB%9F', '/item/%E6%80%BB%E7%BB%9F', '/item/%E7%A6%8F%E5%B8%83%E6%96%AF', '/item/%E5%85%A8%E7%90%83%E6%9C%80%E5%85%B7%E5%BD%B1%E5%93%8D%E5%8A%9B%E4%BA%BA%E7%89%A9', '/item/%E5%BC%97%E6%8B%89%E5%9F%BA%E7%B1%B3%E5%B0%94%C2%B7%E6%99%AE%E4%BA%AC', '/item/%E7%A6%8F%E5%B8%83%E6%96%AF', '/item/%E5%85%A8%E7%90%83%E6%9C%80%E5%85%B7%E5%BD%B1%E5%93%8D%E5%8A%9B%E4%BA%BA%E7%89%A9', '/item/%E6%8D%8D%E5%8D%AB%E4%BF%84%E7%BD%97%E6%96%AF%E5%A4%A7%E5%9B%BD%E5%9C%B0%E4%BD%8D%E5%A5%96', '/item/%E6%97%B6%E4%BB%A3/1944848', '/item/%E6%97%B6%E4%BB%A3/1944848', '/item/%E4%B9%A0%E8%BF%91%E5%B9%B3/515617', '/item/%E6%99%AE%E4%BA%AC/589294', '/item/%E6%B8%85%E5%8D%8E%E5%A4%A7%E5%AD%A6/111764', '/item/%E5%9C%A3%E5%BD%BC%E5%BE%97%E5%A0%A1', '/item/%E5%BE%B7%E7%B4%AF%E6%96%AF%E9%A1%BF', '/item/%E5%BE%B7%E5%9B%BD/147953', '/item/%E6%9F%B3%E5%BE%B7%E7%B1%B3%E6%8B%89', '/item/%E6%9F%B3%E5%BE%B7%E7%B1%B3%E6%8B%89', '/item/%E5%8A%A0%E9%87%8C%E5%AE%81%E6%A0%BC%E5%8B%92', '/item/%E8%A5%BF%E7%8F%AD%E7%89%99', '/item/%E6%9F%B3%E5%BE%B7%E7%B1%B3%E6%8B%89%C2%B7%E6%99%AE%E4%BA%AC%E5%A8%9C', '/item/%E6%99%AE%E4%BA%AC', '/item/%E6%9F%B3%E5%BE%B7%E7%B1%B3%E6%8B%89', '/item/%E4%BD%A9%E6%96%AF%E7%A7%91%E5%A4%AB', '/item/%E5%BC%97%E6%8B%89%E5%9F%BA%E7%B1%B3%E5%B0%94%C2%B7%E6%99%AE%E4%BA%AC', '/item/%E6%9F%B3%E5%BE%B7%E7%B1%B3%E6%8B%89%C2%B7%E6%99%AE%E4%BA%AC%E5%A8%9C', '/item/%E5%85%8B%E9%87%8C%E5%A7%86%E6%9E%97%E5%AE%AB', '/item/%E5%85%AC%E5%AF%93', '/item/%E6%B1%BD%E8%BD%A6', '/item/%E8%A5%BF%E4%BC%AF%E5%88%A9%E4%BA%9A/63915', '/item/%E9%87%8C%E6%A0%B9', '/item/%E8%8E%AB%E6%96%AF%E7%A7%91%E7%BA%A2%E5%9C%BA', '/item/%E6%91%84%E5%BD%B1%E5%B8%88', '/item/%E6%9F%94%E9%81%93', '/item/%E6%A1%91%E6%90%8F', '/item/%E5%88%97%E5%AE%81%E6%A0%BC%E5%8B%92', '/item/%E9%98%BF%E5%B8%83%E6%9D%9C%E6%8B%89%E8%80%B6%E5%A4%AB', '/item/%E5%9B%BD%E9%99%85%E6%9F%94%E9%81%93%E8%81%94%E5%90%88%E4%BC%9A', '/item/%E4%B8%96%E7%95%8C%E8%B7%86%E6%8B%B3%E9%81%93%E8%81%94%E5%90%88%E4%BC%9A', '/item/%E6%A2%81%E8%B5%9E%E5%B7%9E', '/item/%E5%A0%AA%E5%AF%9F%E5%8A%A0%E5%8D%8A%E5%B2%9B', '/item/%E9%B2%B8%E9%B1%BC', '/item/%E4%BF%84%E7%BD%97%E6%96%AF', '/item/%E5%88%97%E5%AE%81%E6%A0%BC%E5%8B%92', '/item/%E9%9B%B7%E8%AF%BA%E6%96%B9%E7%A8%8B%E5%BC%8F%E8%B5%9B%E8%BD%A6', '/item/%E7%B4%A2%E5%A5%91', '/item/%E9%A9%AC%E6%8B%89%E6%9D%BE/18579', '/item/%E6%94%BF%E6%B2%BB', '/item/%E7%BB%8F%E6%B5%8E', '/item/%E5%8F%B8%E6%B3%95', '/item/%E5%AE%89%E5%85%A8', '/item/%E7%B4%A2%E5%A5%91%E5%86%AC%E5%A5%A5%E4%BC%9A', '/item/%E4%BA%9A%E5%8A%AA%E7%A7%91%E7%BB%B4%E5%A5%87', '/item/%E8%8B%8F%E8%81%94%E8%A7%A3%E4%BD%93', '/item/%E5%8F%99%E5%88%A9%E4%BA%9A/215811', '/item/ISIS/14507116', '/item/%E7%BE%8E%E5%9B%BD%E5%85%B1%E5%92%8C%E5%85%9A', '/item/%E4%B8%AA%E4%BA%BA%E5%B4%87%E6%8B%9C', '/item/%E5%8D%A1%E6%96%AF%E5%B8%95%E7%BD%97%E5%A4%AB', '/item/%E4%BF%84%E7%BD%97%E6%96%AF%E5%85%B1%E4%BA%A7%E5%85%9A', '/item/%E4%B9%85%E5%8A%A0%E8%AF%BA%E5%A4%AB', '/item/%E5%AE%AA%E6%B3%95', '/item/%E4%BF%84%E7%BD%97%E6%96%AF%E5%85%B1%E4%BA%A7%E5%85%9A', '/item/%E5%9B%BD%E5%AE%B6%E6%9D%9C%E9%A9%AC', '/item/%E8%BD%A6%E8%87%A3', '/item/%E4%BA%BA%E6%9D%83', '/item/%E7%BE%8E%E5%9B%BD%E5%9B%BD%E5%8A%A1%E5%8D%BF', '/item/%E9%B2%8D%E5%A8%81%E5%B0%94', '/item/%E8%B4%A2%E9%98%80', '/item/%E6%9D%83%E5%A8%81%E4%B8%BB%E4%B9%89', '/item/%E4%B9%94%E6%B2%BB%C2%B7%E6%B2%83%E5%85%8B%C2%B7%E5%B8%83%E4%BB%80', '/item/%E5%8D%A1%E6%96%AF%E5%B8%95%E7%BD%97%E5%A4%AB', '/item/%E6%B8%B8%E8%A1%8C', '/item/%E6%AC%A7%E7%9B%9F%E5%B3%B0%E4%BC%9A', '/item/%E7%99%BE%E5%BA%A6%E7%99%BE%E7%A7%91%EF%BC%9A%E6%9C%AC%E4%BA%BA%E8%AF%8D%E6%9D%A1%E7%BC%96%E8%BE%91%E6%9C%8D%E5%8A%A1/22442459?bk_fr=pcFooter']\n"
     ]
    },
    {
     "name": "stdout",
     "output_type": "stream",
     "text": [
      "['/item/秒懂星课堂', '/item/秒懂大师说', '/item/秒懂看瓦特', '/item/秒懂五千年', '/item/秒懂全视界', '/item/%E7%99%BE%E5%BA%A6%E7%99%BE%E7%A7%91/85895', '/item/%E5%8F%82%E8%80%83%E8%B5%84%E6%96%99/5718004', '/item/%E8%BA%AB%E4%BB%BD%E8%AF%81/113951', '/item/%E6%88%B7%E5%8F%A3%E6%9C%AC/5104621', '/item/%E4%B9%89%E9%A1%B9/6176882', '/item/%E5%8F%82%E8%80%83%E8%B5%84%E6%96%99/5718004', '/item/%E7%99%BE%E5%BA%A6%E7%99%BE%E7%A7%91%EF%BC%9A%E6%9C%AC%E4%BA%BA%E8%AF%8D%E6%9D%A1%E7%BC%96%E8%BE%91%E6%9C%8D%E5%8A%A1/22442459?bk_fr=pcFooter']\n",
      "['/item/秒懂星课堂', '/item/秒懂大师说', '/item/秒懂看瓦特', '/item/秒懂五千年', '/item/秒懂全视界', '/item/%E7%99%BE%E5%BA%A6%E7%99%BE%E7%A7%91/85895', '/item/%E5%8F%82%E8%80%83%E8%B5%84%E6%96%99/5718004', '/item/%E8%BA%AB%E4%BB%BD%E8%AF%81/113951', '/item/%E6%88%B7%E5%8F%A3%E6%9C%AC/5104621', '/item/%E4%B9%89%E9%A1%B9/6176882', '/item/%E5%8F%82%E8%80%83%E8%B5%84%E6%96%99/5718004', '/item/%E7%99%BE%E5%BA%A6%E7%99%BE%E7%A7%91%EF%BC%9A%E6%9C%AC%E4%BA%BA%E8%AF%8D%E6%9D%A1%E7%BC%96%E8%BE%91%E6%9C%8D%E5%8A%A1/22442459?bk_fr=pcFooter']\n",
      "['/item/秒懂星课堂', '/item/秒懂大师说', '/item/秒懂看瓦特', '/item/秒懂五千年', '/item/秒懂全视界', '/item/%E7%99%BE%E5%BA%A6%E7%99%BE%E7%A7%91/85895', '/item/%E5%8F%82%E8%80%83%E8%B5%84%E6%96%99/5718004', '/item/%E8%BA%AB%E4%BB%BD%E8%AF%81/113951', '/item/%E6%88%B7%E5%8F%A3%E6%9C%AC/5104621', '/item/%E4%B9%89%E9%A1%B9/6176882', '/item/%E5%8F%82%E8%80%83%E8%B5%84%E6%96%99/5718004', '/item/%E7%99%BE%E5%BA%A6%E7%99%BE%E7%A7%91%EF%BC%9A%E6%9C%AC%E4%BA%BA%E8%AF%8D%E6%9D%A1%E7%BC%96%E8%BE%91%E6%9C%8D%E5%8A%A1/22442459?bk_fr=pcFooter']\n",
      "['/item/秒懂星课堂', '/item/秒懂大师说', '/item/秒懂看瓦特', '/item/秒懂五千年', '/item/秒懂全视界', '/item/%E7%99%BE%E5%BA%A6%E7%99%BE%E7%A7%91/85895', '/item/%E5%8F%82%E8%80%83%E8%B5%84%E6%96%99/5718004', '/item/%E8%BA%AB%E4%BB%BD%E8%AF%81/113951', '/item/%E6%88%B7%E5%8F%A3%E6%9C%AC/5104621', '/item/%E4%B9%89%E9%A1%B9/6176882', '/item/%E5%8F%82%E8%80%83%E8%B5%84%E6%96%99/5718004', '/item/%E7%99%BE%E5%BA%A6%E7%99%BE%E7%A7%91%EF%BC%9A%E6%9C%AC%E4%BA%BA%E8%AF%8D%E6%9D%A1%E7%BC%96%E8%BE%91%E6%9C%8D%E5%8A%A1/22442459?bk_fr=pcFooter']\n",
      "['/item/秒懂星课堂', '/item/秒懂大师说', '/item/秒懂看瓦特', '/item/秒懂五千年', '/item/秒懂全视界', '/item/%E7%99%BE%E5%BA%A6%E7%99%BE%E7%A7%91/85895', '/item/%E5%8F%82%E8%80%83%E8%B5%84%E6%96%99/5718004', '/item/%E8%BA%AB%E4%BB%BD%E8%AF%81/113951', '/item/%E6%88%B7%E5%8F%A3%E6%9C%AC/5104621', '/item/%E4%B9%89%E9%A1%B9/6176882', '/item/%E5%8F%82%E8%80%83%E8%B5%84%E6%96%99/5718004', '/item/%E7%99%BE%E5%BA%A6%E7%99%BE%E7%A7%91%EF%BC%9A%E6%9C%AC%E4%BA%BA%E8%AF%8D%E6%9D%A1%E7%BC%96%E8%BE%91%E6%9C%8D%E5%8A%A1/22442459?bk_fr=pcFooter']\n",
      "['/item/秒懂星课堂', '/item/秒懂大师说', '/item/秒懂看瓦特', '/item/秒懂五千年', '/item/秒懂全视界', '/item/%E7%99%BE%E5%BA%A6%E7%99%BE%E7%A7%91/85895', '/item/%E5%8F%82%E8%80%83%E8%B5%84%E6%96%99/5718004', '/item/%E8%BA%AB%E4%BB%BD%E8%AF%81/113951', '/item/%E6%88%B7%E5%8F%A3%E6%9C%AC/5104621', '/item/%E4%B9%89%E9%A1%B9/6176882', '/item/%E5%8F%82%E8%80%83%E8%B5%84%E6%96%99/5718004', '/item/%E7%99%BE%E5%BA%A6%E7%99%BE%E7%A7%91%EF%BC%9A%E6%9C%AC%E4%BA%BA%E8%AF%8D%E6%9D%A1%E7%BC%96%E8%BE%91%E6%9C%8D%E5%8A%A1/22442459?bk_fr=pcFooter']\n",
      "['/item/秒懂星课堂', '/item/秒懂大师说', '/item/秒懂看瓦特', '/item/秒懂五千年', '/item/秒懂全视界', '/item/%E7%99%BE%E5%BA%A6%E7%99%BE%E7%A7%91/85895', '/item/%E5%8F%82%E8%80%83%E8%B5%84%E6%96%99/5718004', '/item/%E8%BA%AB%E4%BB%BD%E8%AF%81/113951', '/item/%E6%88%B7%E5%8F%A3%E6%9C%AC/5104621', '/item/%E4%B9%89%E9%A1%B9/6176882', '/item/%E5%8F%82%E8%80%83%E8%B5%84%E6%96%99/5718004', '/item/%E7%99%BE%E5%BA%A6%E7%99%BE%E7%A7%91%EF%BC%9A%E6%9C%AC%E4%BA%BA%E8%AF%8D%E6%9D%A1%E7%BC%96%E8%BE%91%E6%9C%8D%E5%8A%A1/22442459?bk_fr=pcFooter']\n",
      "['/item/秒懂星课堂', '/item/秒懂大师说', '/item/秒懂看瓦特', '/item/秒懂五千年', '/item/秒懂全视界', '/item/%E7%99%BE%E5%BA%A6%E7%99%BE%E7%A7%91/85895', '/item/%E5%8F%82%E8%80%83%E8%B5%84%E6%96%99/5718004', '/item/%E8%BA%AB%E4%BB%BD%E8%AF%81/113951', '/item/%E6%88%B7%E5%8F%A3%E6%9C%AC/5104621', '/item/%E4%B9%89%E9%A1%B9/6176882', '/item/%E5%8F%82%E8%80%83%E8%B5%84%E6%96%99/5718004', '/item/%E7%99%BE%E5%BA%A6%E7%99%BE%E7%A7%91%EF%BC%9A%E6%9C%AC%E4%BA%BA%E8%AF%8D%E6%9D%A1%E7%BC%96%E8%BE%91%E6%9C%8D%E5%8A%A1/22442459?bk_fr=pcFooter']\n",
      "['/item/秒懂星课堂', '/item/秒懂大师说', '/item/秒懂看瓦特', '/item/秒懂五千年', '/item/秒懂全视界', '/item/%E7%99%BE%E5%BA%A6%E7%99%BE%E7%A7%91/85895', '/item/%E5%8F%82%E8%80%83%E8%B5%84%E6%96%99/5718004', '/item/%E8%BA%AB%E4%BB%BD%E8%AF%81/113951', '/item/%E6%88%B7%E5%8F%A3%E6%9C%AC/5104621', '/item/%E4%B9%89%E9%A1%B9/6176882', '/item/%E5%8F%82%E8%80%83%E8%B5%84%E6%96%99/5718004', '/item/%E7%99%BE%E5%BA%A6%E7%99%BE%E7%A7%91%EF%BC%9A%E6%9C%AC%E4%BA%BA%E8%AF%8D%E6%9D%A1%E7%BC%96%E8%BE%91%E6%9C%8D%E5%8A%A1/22442459?bk_fr=pcFooter']\n"
     ]
    }
   ],
   "source": [
    "#实现深度优先爬取\n",
    "count = 10\n",
    "r = re.compile(r'href=[\\'\"]?(/item[^\\'\" >]+)') # 抽取所需链接信息的正则语言规则\n",
    "seed = \"/item/%E5%BC%97%E6%8B%89%E5%9F%BA%E7%B1%B3%E5%B0%94%C2%B7%E5%BC%97%E6%8B%89%E5%9F%BA%E7%B1%B3%E7%BD%97%E7%BB%B4%E5%A5%87%C2%B7%E6%99%AE%E4%BA%AC/1156718?fromtitle=%E6%99%AE%E4%BA%AC&fromid=589294\" # 这是普京词条\n",
    "stack = [seed] # 设置种子链接的栈（使用列表模拟栈）\n",
    "storage = {}\n",
    "while count > 0:\n",
    "    try:\n",
    "        url = stack.pop(-1) # 取出栈的最后一条URL\n",
    "        html = ur.urlopen(\"https://baike.baidu.com\"+url).read().decode('utf-8') # 对URL进行拼接\n",
    "        new_urls = r.findall(html) # 提取当前网页下的所有链接URL信息\n",
    "        print(new_urls)\n",
    "        stack.extend(new_urls) # 将新提取的链接信息入队列\n",
    "        storage[url] = len(new_urls)\n",
    "        count -= 1\n",
    "    except Exception as e:\n",
    "        print(url)\n",
    "        print(e)"
   ]
  },
  {
   "cell_type": "markdown",
   "metadata": {},
   "source": [
    "这里对结果进行分析。"
   ]
  },
  {
   "cell_type": "markdown",
   "metadata": {},
   "source": [
    "### 编写抓取网页的广度遍历算法（含去重和不去重），自选合适的种子网站和相关参数，输出结果。 "
   ]
  },
  {
   "cell_type": "code",
   "execution_count": 12,
   "metadata": {
    "scrolled": true
   },
   "outputs": [
    {
     "name": "stdout",
     "output_type": "stream",
     "text": [
      "['/item/秒懂星课堂', '/item/秒懂大师说', '/item/秒懂看瓦特', '/item/秒懂五千年', '/item/秒懂全视界', '/item/%E7%99%BE%E5%BA%A6%E7%99%BE%E7%A7%91%EF%BC%9A%E5%A4%9A%E4%B9%89%E8%AF%8D', '/item/%E4%B9%89%E9%A1%B9', '/item/%E6%99%AE%E4%BA%AC?force=1', '/item/%E6%99%AE%E4%BA%AC/20132344#viewPageContent', '/item/%E6%99%AE%E4%BA%AC/19348856#viewPageContent', '/item/%E6%99%AE%E4%BA%AC/14756301#viewPageContent', '/item/%E5%88%97%E5%AE%81%E6%A0%BC%E5%8B%92/16251', '/item/%E5%9C%A3%E5%BD%BC%E5%BE%97%E5%A0%A1/6447', '/item/%E6%80%BB%E7%90%86', '/item/%E7%BB%9F%E4%B8%80%E4%BF%84%E7%BD%97%E6%96%AF%E5%85%9A', '/item/%E4%BF%84%E7%99%BD%E8%81%94%E7%9B%9F/8457077', '/item/%E4%BF%84%E7%BD%97%E6%96%AF/125568', '/item/%E8%B6%85%E7%BA%A7%E5%A4%A7%E5%9B%BD/1975636', '/item/%E8%81%94%E9%82%A6%E6%94%BF%E5%BA%9C/6345319', '/item/%E5%88%A9%E7%9B%8A/5733966', '/item/%E8%8B%8F%E8%81%94%E8%A7%A3%E4%BD%93/634053', '/item/%E9%93%81%E8%85%95/10681340', '/item/%E6%80%BB%E7%BB%9F/412', '/item/%E6%97%B6%E4%BB%A3/1944848', '/item/%E7%A6%8F%E5%B8%83%E6%96%AF/301065', '/item/%E6%97%B6%E4%BB%A3/1944848', '/item/%E7%A6%8F%E5%B8%83%E6%96%AF/301065', '/item//522193', '/item/%E4%BF%84%E7%BD%97%E6%96%AF%E6%80%BB%E7%BB%9F/5640674', '/item/%E6%9F%B3%E5%BE%B7%E7%B1%B3%E6%8B%89%C2%B7%E9%98%BF%E5%88%97%E5%85%8B%E5%BE%B7%E7%BD%97%E4%BB%98%E5%A8%9C%C2%B7%E6%99%AE%E4%BA%AC%E5%A8%9C/720888', '/item/%E5%BE%B7%E7%B1%B3%E7%89%B9%E9%87%8C%C2%B7%E9%98%BF%E7%BA%B3%E6%89%98%E5%88%A9%E8%80%B6%E7%BB%B4%E5%A5%87%C2%B7%E6%A2%85%E5%BE%B7%E9%9F%A6%E6%9D%B0%E5%A4%AB/5358674', '/item/%E4%BF%84%E7%BD%97%E6%96%AF%E8%81%94%E9%82%A6', '/item/%E4%BF%84%E7%BD%97%E6%96%AF%E4%BA%BA/854086', '/item/%E5%9C%A3%E5%BD%BC%E5%BE%97%E5%A0%A1/6447', '/item/%E6%94%BF%E6%B2%BB%E5%AE%B6', '/item/%E5%9C%A3%E5%BD%BC%E5%BE%97%E5%A0%A1%E5%9B%BD%E7%AB%8B%E5%A4%A7%E5%AD%A6', '/item/%E4%B8%9C%E6%AD%A3%E6%95%99', '/item/%E4%B8%96%E7%95%8C%E8%B4%B8%E6%98%93%E7%BB%84%E7%BB%87', '/item/%E4%BF%84%E7%BD%97%E6%96%AF%E6%80%BB%E7%BB%9F', '/item/%E4%BF%84%E7%BD%97%E6%96%AF%E6%80%BB%E7%90%86', '/item/%E4%BF%84%E7%99%BD%E8%81%94%E7%9B%9F', '/item/%E9%83%A8%E9%95%BF%E4%BC%9A%E8%AE%AE', '/item/%E4%B8%BB%E5%B8%AD', '/item/%E4%B8%96%E7%95%8C%E8%B4%B8%E6%98%93%E7%BB%84%E7%BB%87', '/item/%E4%BF%84%E7%BD%97%E6%96%AF%E6%80%BB%E7%BB%9F', '/item/%E4%BF%84%E7%BD%97%E6%96%AF%E6%80%BB%E7%90%86', '/item/%E4%BF%84%E7%99%BD%E8%81%94%E7%9B%9F', '/item/%E9%83%A8%E9%95%BF%E4%BC%9A%E8%AE%AE', '/item/%E4%B8%BB%E5%B8%AD', '/item/%E7%BB%9F%E4%B8%80%E4%BF%84%E7%BD%97%E6%96%AF%E5%85%9A', '/item/%E4%B8%BB%E5%B8%AD', '/item/%E6%97%B6%E4%BB%A3', '/item/%E7%A6%8F%E5%B8%83%E6%96%AF', '/item/%E7%BB%9F%E4%B8%80%E4%BF%84%E7%BD%97%E6%96%AF%E5%85%9A', '/item/%E5%88%97%E5%AE%81%E6%A0%BC%E5%8B%92', '/item/%E5%9C%A3%E5%BD%BC%E5%BE%97%E5%A0%A1', '/item/%E8%8B%8F%E8%81%94%E6%B5%B7%E5%86%9B', '/item/%E6%BD%9C%E8%89%87%E9%83%A8%E9%98%9F', '/item/%E8%8B%8F%E8%81%94', '/item/%E5%88%97%E5%AE%81%E6%A0%BC%E5%8B%92%E4%BF%9D%E5%8D%AB%E6%88%98', '/item/%E7%99%BD%E5%96%89', '/item/%E5%88%97%E5%AE%81', '/item/%E6%96%AF%E5%A4%A7%E6%9E%97', '/item/%E7%A7%81%E4%BA%BA%E5%8E%A8%E5%B8%88', '/item/%E5%B0%91%E5%85%88%E9%98%9F%E5%91%98', '/item/%E5%88%97%E5%AE%81%E6%A0%BC%E5%8B%92%E5%A4%A7%E5%AD%A6', '/item/%E5%8D%9A%E5%A3%AB%E5%AD%A6%E4%BD%8D', '/item/%E5%9C%A3%E5%BD%BC%E5%BE%97%E5%A0%A1%E5%9B%BD%E7%AB%8B%E7%9F%BF%E4%B8%9A%E5%AD%A6%E9%99%A2', '/item/%E5%85%8B%E6%A0%BC%E5%8B%83', '/item/%E5%88%97%E5%AE%81%E6%A0%BC%E5%8B%92', '/item/%E8%B0%A2%E5%B0%94%E7%9B%96%C2%B7%E4%BC%8A%E4%B8%87%E8%AF%BA%E5%A4%AB', '/item/%E8%8B%8F%E8%81%94%E5%85%B1%E4%BA%A7%E5%85%9A', '/item/%E5%85%8B%E6%A0%BC%E5%8B%83', '/item/%E5%88%97%E5%AE%81%E6%A0%BC%E5%8B%92/16251', '/item/%E8%8E%AB%E6%96%AF%E7%A7%91', '/item/%E9%97%B4%E8%B0%8D', '/item/%E8%A5%BF%E5%BE%B7', '/item/%E4%B8%A4%E5%BE%B7%E7%BB%9F%E4%B8%80', '/item/%E5%9C%A3%E5%BD%BC%E5%BE%97%E5%A0%A1%E5%B8%82', '/item/%E7%B1%B3%E5%93%88%E4%BC%8A%E5%B0%94%C2%B7%E6%88%88%E5%B0%94%E5%B7%B4%E4%B9%94%E5%A4%AB', '/item/%E8%8E%AB%E6%96%AF%E7%A7%91', '/item/%E5%8F%B6%E5%88%A9%E9%92%A6', '/item/%E7%A7%98%E4%B9%A6', '/item/%E6%80%BB%E7%90%86', '/item/%E5%9B%BD%E5%AE%B6%E6%9D%9C%E9%A9%AC', '/item/%E5%88%AB%E6%96%AF%E5%85%B0%E4%BA%BA%E8%B4%A8%E4%BA%8B%E4%BB%B6', '/item/%E7%AB%8B%E6%B3%95%E6%9C%BA%E6%9E%84', '/item/%E6%81%90%E6%80%96%E4%B8%BB%E4%B9%89', '/item/%E7%BB%9F%E4%B8%80%E4%BF%84%E7%BD%97%E6%96%AF%E5%85%9A', '/item/%E5%9B%BD%E6%83%85%E5%92%A8%E6%96%87', '/item/%E5%85%AB%E5%9B%BD%E9%9B%86%E5%9B%A2', '/item/%E5%8F%B6%E5%88%A9%E9%92%A6', '/item/%E5%AE%AA%E6%B3%95', '/item/%E7%BB%A7%E6%89%BF%E4%BA%BA', '/item/%E4%BF%84%E7%BD%97%E6%96%AF%E8%81%94%E9%82%A6', '/item/%E7%BB%9F%E4%B8%80%E4%BF%84%E7%BD%97%E6%96%AF%E5%85%9A', '/item/%E5%85%9A%E9%AD%81', '/item/%E5%9B%BD%E5%AE%B6%E6%9D%9C%E9%A9%AC', '/item/%E7%BB%9F%E4%B8%80%E4%BF%84%E7%BD%97%E6%96%AF%E5%85%9A', '/item/%E6%A2%85%E5%BE%B7%E9%9F%A6%E6%9D%B0%E5%A4%AB', '/item/%E6%A2%85%E5%BE%B7%E9%9F%A6%E6%9D%B0%E5%A4%AB', '/item/%E6%9D%9C%E9%A9%AC', '/item/%E4%B8%8B%E8%AE%AE%E9%99%A2', '/item/%E4%B9%85%E5%8A%A0%E8%AF%BA%E5%A4%AB', '/item/%E6%97%A5%E9%87%8C%E8%AF%BA%E5%A4%AB%E6%96%AF%E5%9F%BA', '/item/%E7%B1%B3%E7%BD%97%E8%AF%BA%E5%A4%AB', '/item/%E5%86%9B%E4%BA%8B%E5%9F%BA%E5%9C%B0', '/item/%E5%AE%89%E7%90%86%E4%BC%9A', '/item/%E4%BC%8A%E6%8B%89%E5%85%8B', '/item/%E8%81%94%E5%90%88%E5%9B%BD', '/item/%E6%85%95%E5%B0%BC%E9%BB%91/855', '/item/%E6%8D%B7%E5%85%8B', '/item/%E9%98%BF%E5%A1%9E%E6%8B%9C%E7%96%86', '/item/%E6%B3%A2%E5%85%B0/421640', '/item/%E5%9C%9F%E8%80%B3%E5%85%B6/198448', '/item/%E5%88%A9%E6%AF%94%E4%BA%9A', '/item/%E8%B6%85%E7%BA%A7%E5%A4%A7%E5%9B%BD', '/item/%E6%85%95%E5%B0%BC%E9%BB%91%E4%BC%9A%E8%AE%AE', '/item/%E5%9B%BD%E9%99%85%E6%B3%95', '/item/%E5%86%9B%E5%A4%87%E7%AB%9E%E8%B5%9B', '/item/%E5%A4%9A%E6%9E%81%E5%8C%96', '/item/%E6%AC%A7%E7%9B%9F', '/item/%E5%85%AB%E5%9B%BD%E9%9B%86%E5%9B%A2', '/item/%E5%BE%B7%E5%9B%BD', '/item/%E5%8D%B0%E5%BA%A6', '/item/%E6%9E%81%E6%9D%83%E4%B8%BB%E4%B9%89', '/item/%E5%B8%83%E4%BB%80', '/item/%E5%B8%83%E8%8E%B1%E5%B0%94', '/item/%E6%96%BD%E7%BD%97%E5%BE%B7', '/item/%E9%BB%98%E5%85%8B%E5%B0%94', '/item/%E6%A0%BC%E5%93%88%E7%89%B9%C2%B7%E6%96%BD%E7%BD%97%E5%BE%B7', '/item/%E5%A4%A9%E7%84%B6%E6%B0%94', '/item/%E5%9C%A3%E5%BD%BC%E5%BE%97%E5%A0%A1', '/item/%E7%8B%AC%E8%81%94%E4%BD%93', '/item/%E6%AC%A7%E7%9B%9F', '/item/%E5%8C%97%E7%BA%A6', '/item/%E4%B9%8C%E5%85%8B%E5%85%B0', '/item/%E6%A0%BC%E9%B2%81%E5%90%89%E4%BA%9A', '/item/%E6%91%A9%E5%B0%94%E5%A4%9A%E7%93%A6', '/item/%E5%88%86%E7%A6%BB%E4%B8%BB%E4%B9%89', '/item/%E6%B3%A2%E7%BD%97%E7%9A%84%E6%B5%B7', '/item/%E7%88%B1%E6%B2%99%E5%B0%BC%E4%BA%9A', '/item/%E5%85%8B%E9%87%8C%E7%B1%B3%E4%BA%9A%E5%85%B1%E5%92%8C%E5%9B%BD/13345297', '/item/%E5%8D%97%E5%A5%A5%E5%A1%9E%E6%A2%AF', '/item/%E4%BF%84%E7%BD%97%E6%96%AF/125568', '/item/%E5%8F%99%E5%88%A9%E4%BA%9A', '/item/%E4%BC%8A%E6%96%AF%E5%85%B0%E5%9B%BD', '/item/%E6%B8%A9%E5%AE%B6%E5%AE%9D/115402', '/item/%E5%8C%97%E4%BA%AC%E4%BA%BA%E6%B0%91%E5%A4%A7%E4%BC%9A%E5%A0%82', '/item/%E4%BF%84%E7%BD%97%E6%96%AF%E8%81%94%E9%82%A6', '/item/%E6%99%AE%E4%BA%AC', '/item/%E4%B8%AD%E5%9B%BD/1122445', '/item/%E6%B8%A9%E5%AE%B6%E5%AE%9D/115402', '/item/%E5%A4%A9%E7%84%B6%E6%B0%94', '/item/%E7%9F%B3%E6%B2%B9', '/item/%E5%A4%96%E4%BA%A4%E9%83%A8', '/item/%E5%88%98%E4%B8%BA%E6%B0%91', '/item/%E5%8C%97%E4%BA%AC/128981', '/item/%E8%83%A1%E9%94%A6%E6%B6%9B', '/item/%E5%8C%97%E4%BA%AC%E4%BA%BA%E6%B0%91%E5%A4%A7%E4%BC%9A%E5%A0%82', '/item/%E9%BB%98%E5%85%8B%E5%B0%94/16917924', '/item/%E6%B1%89%E8%AF%BA%E5%A8%81%E5%B7%A5%E4%B8%9A%E5%8D%9A%E8%A7%88%E4%BC%9A', '/item/%E6%B1%89%E8%AF%BA%E5%A8%81%E5%B7%A5%E4%B8%9A%E5%8D%9A%E8%A7%88%E4%BC%9A', '/item/%E4%B9%8C%E5%85%8B%E5%85%B0', '/item/%E5%85%8B%E9%87%8C%E5%A7%86%E6%9E%97%E5%AE%AB', '/item/%E5%8F%99%E5%88%A9%E4%BA%9A%E6%80%BB%E7%BB%9F/5177807', '/item/%E5%B7%B4%E6%B2%99%E5%B0%94%C2%B7%E9%98%BF%E8%90%A8%E5%BE%B7/2867946', '/item/%E6%97%A5%E6%9C%AC%E9%A6%96%E7%9B%B8', '/item/%E6%A3%AE%E5%96%9C%E6%9C%97', '/item/%E5%B7%9D%E5%A5%88%E6%8F%90%E6%A1%88', '/item/%E6%A3%AE%E5%96%9C%E6%9C%97', '/item/%E5%B0%8F%E6%B3%89%E7%BA%AF%E4%B8%80%E9%83%8E', '/item/%E9%9D%96%E5%9B%BD%E7%A5%9E%E7%A4%BE/1096', '/item/%E4%B8%AD%E5%9B%BD/1122445', '/item/%E9%9F%A9%E5%9B%BD/6009333', '/item/%E8%81%94%E5%90%88%E5%9B%BD', '/item/%E5%AE%89%E7%90%86%E4%BC%9A', '/item/%E5%B8%B8%E4%BB%BB%E7%90%86%E4%BA%8B%E5%9B%BD', '/item/%E6%97%A5%E6%9C%AC%E8%87%AA%E6%B0%91%E5%85%9A', '/item/%E9%BD%BF%E8%88%9E%E7%BE%A4%E5%B2%9B', '/item/%E8%89%B2%E4%B8%B9%E5%B2%9B', '/item/%E5%8F%B3%E7%BF%BC', '/item/%E8%90%A8%E5%93%88%E6%9E%97%E5%B2%9B', '/item/%E8%8B%8F%E8%81%94', '/item/%E4%BC%8A%E6%9C%97', '/item/%E5%B7%B4%E5%9F%BA%E6%96%AF%E5%9D%A6', '/item/%E9%9F%A9%E5%9B%BD/6009333', '/item/%E6%9C%9D%E9%B2%9C/191777', '/item/%E4%BF%84%E7%BD%97%E6%96%AF/125568', '/item/%E6%B0%91%E4%B8%BB', '/item/%E5%9B%BD%E5%86%85%E7%94%9F%E4%BA%A7%E6%80%BB%E5%80%BC', '/item/%E8%B4%AD%E4%B9%B0%E5%8A%9B%E5%B9%B3%E4%BB%B7', '/item/%E6%80%BB%E7%BB%9F', '/item/%E6%80%BB%E7%BB%9F', '/item/%E7%A6%8F%E5%B8%83%E6%96%AF', '/item/%E5%85%A8%E7%90%83%E6%9C%80%E5%85%B7%E5%BD%B1%E5%93%8D%E5%8A%9B%E4%BA%BA%E7%89%A9', '/item/%E5%BC%97%E6%8B%89%E5%9F%BA%E7%B1%B3%E5%B0%94%C2%B7%E6%99%AE%E4%BA%AC', '/item/%E7%A6%8F%E5%B8%83%E6%96%AF', '/item/%E5%85%A8%E7%90%83%E6%9C%80%E5%85%B7%E5%BD%B1%E5%93%8D%E5%8A%9B%E4%BA%BA%E7%89%A9', '/item/%E6%8D%8D%E5%8D%AB%E4%BF%84%E7%BD%97%E6%96%AF%E5%A4%A7%E5%9B%BD%E5%9C%B0%E4%BD%8D%E5%A5%96', '/item/%E6%97%B6%E4%BB%A3/1944848', '/item/%E6%97%B6%E4%BB%A3/1944848', '/item/%E4%B9%A0%E8%BF%91%E5%B9%B3/515617', '/item/%E6%99%AE%E4%BA%AC/589294', '/item/%E6%B8%85%E5%8D%8E%E5%A4%A7%E5%AD%A6/111764', '/item/%E5%9C%A3%E5%BD%BC%E5%BE%97%E5%A0%A1', '/item/%E5%BE%B7%E7%B4%AF%E6%96%AF%E9%A1%BF', '/item/%E5%BE%B7%E5%9B%BD/147953', '/item/%E6%9F%B3%E5%BE%B7%E7%B1%B3%E6%8B%89', '/item/%E6%9F%B3%E5%BE%B7%E7%B1%B3%E6%8B%89', '/item/%E5%8A%A0%E9%87%8C%E5%AE%81%E6%A0%BC%E5%8B%92', '/item/%E8%A5%BF%E7%8F%AD%E7%89%99', '/item/%E6%9F%B3%E5%BE%B7%E7%B1%B3%E6%8B%89%C2%B7%E6%99%AE%E4%BA%AC%E5%A8%9C', '/item/%E6%99%AE%E4%BA%AC', '/item/%E6%9F%B3%E5%BE%B7%E7%B1%B3%E6%8B%89', '/item/%E4%BD%A9%E6%96%AF%E7%A7%91%E5%A4%AB', '/item/%E5%BC%97%E6%8B%89%E5%9F%BA%E7%B1%B3%E5%B0%94%C2%B7%E6%99%AE%E4%BA%AC', '/item/%E6%9F%B3%E5%BE%B7%E7%B1%B3%E6%8B%89%C2%B7%E6%99%AE%E4%BA%AC%E5%A8%9C', '/item/%E5%85%8B%E9%87%8C%E5%A7%86%E6%9E%97%E5%AE%AB', '/item/%E5%85%AC%E5%AF%93', '/item/%E6%B1%BD%E8%BD%A6', '/item/%E8%A5%BF%E4%BC%AF%E5%88%A9%E4%BA%9A/63915', '/item/%E9%87%8C%E6%A0%B9', '/item/%E8%8E%AB%E6%96%AF%E7%A7%91%E7%BA%A2%E5%9C%BA', '/item/%E6%91%84%E5%BD%B1%E5%B8%88', '/item/%E6%9F%94%E9%81%93', '/item/%E6%A1%91%E6%90%8F', '/item/%E5%88%97%E5%AE%81%E6%A0%BC%E5%8B%92', '/item/%E9%98%BF%E5%B8%83%E6%9D%9C%E6%8B%89%E8%80%B6%E5%A4%AB', '/item/%E5%9B%BD%E9%99%85%E6%9F%94%E9%81%93%E8%81%94%E5%90%88%E4%BC%9A', '/item/%E4%B8%96%E7%95%8C%E8%B7%86%E6%8B%B3%E9%81%93%E8%81%94%E5%90%88%E4%BC%9A', '/item/%E6%A2%81%E8%B5%9E%E5%B7%9E', '/item/%E5%A0%AA%E5%AF%9F%E5%8A%A0%E5%8D%8A%E5%B2%9B', '/item/%E9%B2%B8%E9%B1%BC', '/item/%E4%BF%84%E7%BD%97%E6%96%AF', '/item/%E5%88%97%E5%AE%81%E6%A0%BC%E5%8B%92', '/item/%E9%9B%B7%E8%AF%BA%E6%96%B9%E7%A8%8B%E5%BC%8F%E8%B5%9B%E8%BD%A6', '/item/%E7%B4%A2%E5%A5%91', '/item/%E9%A9%AC%E6%8B%89%E6%9D%BE/18579', '/item/%E6%94%BF%E6%B2%BB', '/item/%E7%BB%8F%E6%B5%8E', '/item/%E5%8F%B8%E6%B3%95', '/item/%E5%AE%89%E5%85%A8', '/item/%E7%B4%A2%E5%A5%91%E5%86%AC%E5%A5%A5%E4%BC%9A', '/item/%E4%BA%9A%E5%8A%AA%E7%A7%91%E7%BB%B4%E5%A5%87', '/item/%E8%8B%8F%E8%81%94%E8%A7%A3%E4%BD%93', '/item/%E5%8F%99%E5%88%A9%E4%BA%9A/215811', '/item/ISIS/14507116', '/item/%E7%BE%8E%E5%9B%BD%E5%85%B1%E5%92%8C%E5%85%9A', '/item/%E4%B8%AA%E4%BA%BA%E5%B4%87%E6%8B%9C', '/item/%E5%8D%A1%E6%96%AF%E5%B8%95%E7%BD%97%E5%A4%AB', '/item/%E4%BF%84%E7%BD%97%E6%96%AF%E5%85%B1%E4%BA%A7%E5%85%9A', '/item/%E4%B9%85%E5%8A%A0%E8%AF%BA%E5%A4%AB', '/item/%E5%AE%AA%E6%B3%95', '/item/%E4%BF%84%E7%BD%97%E6%96%AF%E5%85%B1%E4%BA%A7%E5%85%9A', '/item/%E5%9B%BD%E5%AE%B6%E6%9D%9C%E9%A9%AC', '/item/%E8%BD%A6%E8%87%A3', '/item/%E4%BA%BA%E6%9D%83', '/item/%E7%BE%8E%E5%9B%BD%E5%9B%BD%E5%8A%A1%E5%8D%BF', '/item/%E9%B2%8D%E5%A8%81%E5%B0%94', '/item/%E8%B4%A2%E9%98%80', '/item/%E6%9D%83%E5%A8%81%E4%B8%BB%E4%B9%89', '/item/%E4%B9%94%E6%B2%BB%C2%B7%E6%B2%83%E5%85%8B%C2%B7%E5%B8%83%E4%BB%80', '/item/%E5%8D%A1%E6%96%AF%E5%B8%95%E7%BD%97%E5%A4%AB', '/item/%E6%B8%B8%E8%A1%8C', '/item/%E6%AC%A7%E7%9B%9F%E5%B3%B0%E4%BC%9A', '/item/%E7%99%BE%E5%BA%A6%E7%99%BE%E7%A7%91%EF%BC%9A%E6%9C%AC%E4%BA%BA%E8%AF%8D%E6%9D%A1%E7%BC%96%E8%BE%91%E6%9C%8D%E5%8A%A1/22442459?bk_fr=pcFooter']\n",
      "/item/秒懂星课堂\n",
      "'ascii' codec can't encode characters in position 10-14: ordinal not in range(128)\n",
      "/item/秒懂大师说\n",
      "'ascii' codec can't encode characters in position 10-14: ordinal not in range(128)\n",
      "/item/秒懂看瓦特\n",
      "'ascii' codec can't encode characters in position 10-14: ordinal not in range(128)\n",
      "/item/秒懂五千年\n",
      "'ascii' codec can't encode characters in position 10-14: ordinal not in range(128)\n",
      "/item/秒懂全视界\n",
      "'ascii' codec can't encode characters in position 10-14: ordinal not in range(128)\n"
     ]
    },
    {
     "name": "stdout",
     "output_type": "stream",
     "text": [
      "['/item/秒懂星课堂', '/item/秒懂大师说', '/item/秒懂看瓦特', '/item/秒懂五千年', '/item/秒懂全视界', '/item/%E7%99%BE%E5%BA%A6%E7%99%BE%E7%A7%91/85895', '/item/%E4%B9%89%E9%A1%B9', '/item/%E8%B5%B5%E6%B0%8F%E5%AD%A4%E5%84%BF', '/item/%E7%99%BE%E5%BA%A6%E7%99%BE%E7%A7%91%EF%BC%9A%E6%9C%AC%E4%BA%BA%E8%AF%8D%E6%9D%A1%E7%BC%96%E8%BE%91%E6%9C%8D%E5%8A%A1/22442459?bk_fr=pcFooter']\n",
      "['/item/秒懂星课堂', '/item/秒懂大师说', '/item/秒懂看瓦特', '/item/秒懂五千年', '/item/秒懂全视界', '/item/%E7%99%BE%E7%A7%91%E5%A4%9A%E4%B9%89%E8%AF%8D', '/item/%E4%B9%89%E9%A1%B9%E5%90%8D', '/item/%E6%9D%8E%E5%BD%A6%E5%AE%8F', '/item/%E6%9C%B1%E5%BE%B7', '/item/%E8%B5%B5%E6%B0%8F%E5%AD%A4%E5%84%BF', '/item/%E5%B0%84%E9%9B%95%E8%8B%B1%E9%9B%84%E4%BC%A0', '/item/%E7%A5%9E%E9%9B%95%E4%BE%A0%E4%BE%A3', '/item/%E6%B3%B0%E5%9D%A6%E5%B0%BC%E5%85%8B%E5%8F%B7', '/item/%E5%AE%B6%E5%90%8E', '/item/%E7%A5%9D%E7%A6%8F', '/item/%E8%A5%BF%E5%8E%A2%E8%AE%B0', '/item/%E7%BA%A2%E5%8C%96', '/item/%E7%81%8C%E7%AF%AE', '/item/%E6%9D%8E%E5%81%A5', '/item/%E6%B0%B4%E6%9C%A8%E5%B9%B4%E5%8D%8E', '/item/%E5%B0%91%E5%B0%86', '/item/%E8%B7%AF%E5%BE%B7%E7%BB%B4%E5%B8%8C%C2%B7%E5%87%A1%C2%B7%E8%B4%9D%E5%A4%9A%E8%8A%AC', '/item/%E5%B0%8F%E6%8F%90%E7%90%B4%E5%8D%8F%E5%A5%8F%E6%9B%B2', '/item/%E5%BD%BC%E5%BE%97%C2%B7%E4%BC%8A%E9%87%8C%E5%A5%87%C2%B7%E6%9F%B4%E7%A7%91%E5%A4%AB%E6%96%AF%E5%9F%BA', '/item/%E7%BA%A6%E7%BF%B0%E5%A5%88%E6%96%AF%C2%B7%E5%8B%83%E6%8B%89%E5%A7%86%E6%96%AF', '/item/D%E5%A4%A7%E8%B0%83%E5%B0%8F%E6%8F%90%E7%90%B4%E5%8D%8F%E5%A5%8F%E6%9B%B2', '/item/%E5%86%AF%E5%B0%8F%E5%88%9A', '/item/%E8%91%9B%E4%BC%98', '/item/%E8%88%92%E6%B7%87', '/item/%E6%B1%9F%E8%8B%8F%E5%8D%AB%E8%A7%86', '/item/%E5%B7%A9%E6%96%B0%E4%BA%AE', '/item/%E7%9B%9B%E6%94%BE', '/item/%E9%92%A2%E9%93%81%E6%98%AF%E6%80%8E%E6%A0%B7%E7%82%BC%E6%88%90%E7%9A%84', '/item/%E5%B0%BC%E5%8F%A4%E6%8B%89%C2%B7%E5%A5%A5%E6%96%AF%E7%89%B9%E6%B4%9B%E5%A4%AB%E6%96%AF%E5%9F%BA', '/item/%E4%BF%9D%E5%B0%94%C2%B7%E6%9F%AF%E5%AF%9F%E9%87%91', '/item/%E9%A9%AC%E5%85%8B%C2%B7%E9%A1%BF%E6%96%AF%E9%98%94%E4%BE%9D', '/item/%E9%9F%A9%E5%88%9A', '/item/%E6%A2%81%E6%99%93%E5%A3%B0', '/item/%E4%BD%BF%E5%91%BD%E5%8F%AC%E5%94%A4', '/item/%E5%8A%A8%E8%A7%86%E6%9A%B4%E9%9B%AA', '/item/%E4%BD%BF%E5%91%BD%E5%8F%AC%E5%94%A42', '/item/%E4%BD%BF%E5%91%BD%E5%8F%AC%E5%94%A43', '/item/%E7%99%BE%E5%BA%A6%E7%99%BE%E7%A7%91%EF%BC%9A%E6%9C%AC%E4%BA%BA%E8%AF%8D%E6%9D%A1%E7%BC%96%E8%BE%91%E6%9C%8D%E5%8A%A1/22442459?bk_fr=pcFooter']\n",
      "['/item/秒懂星课堂', '/item/秒懂大师说', '/item/秒懂看瓦特', '/item/秒懂五千年', '/item/秒懂全视界', '/item/%E6%99%AE%E4%BA%AC/589294', '/item/%E6%99%AE%E4%BA%AC/20132344', '/item/%E6%99%AE%E4%BA%AC/19348856', '/item/%E6%99%AE%E4%BA%AC/14756301', '/item/%E7%99%BE%E5%BA%A6%E7%99%BE%E7%A7%91%EF%BC%9A%E6%9C%AC%E4%BA%BA%E8%AF%8D%E6%9D%A1%E7%BC%96%E8%BE%91%E6%9C%8D%E5%8A%A1/22442459?bk_fr=pcFooter']\n",
      "['/item/秒懂星课堂', '/item/秒懂大师说', '/item/秒懂看瓦特', '/item/秒懂五千年', '/item/秒懂全视界', '/item/%E7%99%BE%E5%BA%A6%E7%99%BE%E7%A7%91%EF%BC%9A%E5%A4%9A%E4%B9%89%E8%AF%8D', '/item/%E4%B9%89%E9%A1%B9', '/item/%E6%99%AE%E4%BA%AC?force=1', '/item/%E6%99%AE%E4%BA%AC/589294#viewPageContent', '/item/%E6%99%AE%E4%BA%AC/19348856#viewPageContent', '/item/%E6%99%AE%E4%BA%AC/14756301#viewPageContent', '/item/%E7%8E%8B%E6%99%93%E7%8E%89', '/item/%E7%8E%8B%E6%99%93%E7%8E%89', '/item/%E7%8E%8B%E6%99%93%E7%8E%89', '/item/%E6%99%AE%E4%BA%AC/589294', '/item/%E4%BB%95%E9%80%94/24574', '/item/%E4%BF%84%E7%BD%97%E6%96%AF/125568', '/item/%E6%99%AE%E4%BA%AC/589294', '/item/%E7%99%BE%E5%BA%A6%E7%99%BE%E7%A7%91%EF%BC%9A%E6%9C%AC%E4%BA%BA%E8%AF%8D%E6%9D%A1%E7%BC%96%E8%BE%91%E6%9C%8D%E5%8A%A1/22442459?bk_fr=pcFooter']\n",
      "['/item/秒懂星课堂', '/item/秒懂大师说', '/item/秒懂看瓦特', '/item/秒懂五千年', '/item/秒懂全视界', '/item/%E7%99%BE%E5%BA%A6%E7%99%BE%E7%A7%91%EF%BC%9A%E5%A4%9A%E4%B9%89%E8%AF%8D', '/item/%E4%B9%89%E9%A1%B9', '/item/%E6%99%AE%E4%BA%AC?force=1', '/item/%E6%99%AE%E4%BA%AC/589294#viewPageContent', '/item/%E6%99%AE%E4%BA%AC/20132344#viewPageContent', '/item/%E6%99%AE%E4%BA%AC/14756301#viewPageContent', '/item/%E6%99%AE%E4%BA%AC/589294', '/item/%E8%8E%B1%E6%98%82%E7%BA%B3%E5%A4%9A%C2%B7%E8%BF%AA%E5%8D%A1%E6%99%AE%E9%87%8C%E5%A5%A5/1243185', '/item/%E7%99%BE%E5%BA%A6%E7%99%BE%E7%A7%91%EF%BC%9A%E6%9C%AC%E4%BA%BA%E8%AF%8D%E6%9D%A1%E7%BC%96%E8%BE%91%E6%9C%8D%E5%8A%A1/22442459?bk_fr=pcFooter']\n",
      "['/item/秒懂星课堂', '/item/秒懂大师说', '/item/秒懂看瓦特', '/item/秒懂五千年', '/item/秒懂全视界', '/item/%E7%99%BE%E5%BA%A6%E7%99%BE%E7%A7%91%EF%BC%9A%E5%A4%9A%E4%B9%89%E8%AF%8D', '/item/%E4%B9%89%E9%A1%B9', '/item/%E6%99%AE%E4%BA%AC?force=1', '/item/%E6%99%AE%E4%BA%AC/589294#viewPageContent', '/item/%E6%99%AE%E4%BA%AC/20132344#viewPageContent', '/item/%E6%99%AE%E4%BA%AC/19348856#viewPageContent', '/item/%E4%BA%8E%E5%AE%9D%E6%9E%97/5058321', '/item/%E5%BC%97%E6%8B%89%E5%9F%BA%E7%B1%B3%E5%B0%94%C2%B7%E5%BC%97%E6%8B%89%E5%9F%BA%E7%B1%B3%E7%BD%97%E7%BB%B4%E5%A5%87%C2%B7%E6%99%AE%E4%BA%AC/1156718', '/item/%E7%99%BE%E5%BA%A6%E7%99%BE%E7%A7%91%EF%BC%9A%E6%9C%AC%E4%BA%BA%E8%AF%8D%E6%9D%A1%E7%BC%96%E8%BE%91%E6%9C%8D%E5%8A%A1/22442459?bk_fr=pcFooter']\n",
      "['/item/秒懂星课堂', '/item/秒懂大师说', '/item/秒懂看瓦特', '/item/秒懂五千年', '/item/秒懂全视界', '/item/%E7%99%BE%E5%BA%A6%E7%99%BE%E7%A7%91%EF%BC%9A%E5%A4%9A%E4%B9%89%E8%AF%8D', '/item/%E4%B9%89%E9%A1%B9', '/item/%E5%88%97%E5%AE%81%E6%A0%BC%E5%8B%92?force=1', '/item/%E5%88%97%E5%AE%81%E6%A0%BC%E5%8B%92/10944188#viewPageContent', '/item/%E5%88%97%E5%AE%81%E6%A0%BC%E5%8B%92/9263336#viewPageContent', '/item/%E5%88%97%E5%AE%81%E6%A0%BC%E5%8B%92/13880332#viewPageContent', '/item/%E6%B3%A2%E7%BD%97%E7%9A%84%E6%B5%B7/446433', '/item/%E6%B6%85%E7%93%A6%E6%B2%B3/10907270', '/item/%E5%88%97%E5%AE%81%E6%A0%BC%E5%8B%92%E5%B7%9E/3870055', '/item/%E8%80%B6%E7%A8%A3/110027', '/item/%E5%9C%A3%E5%BE%92%E5%BD%BC%E5%BE%97/2166916', '/item/%E5%BD%BC%E5%BE%97%E4%B8%80%E4%B8%96/629058', '/item/%E5%88%97%E5%AE%81/30258', '/item/%E5%88%97%E5%AE%81%E6%A0%BC%E5%8B%92/16251', '/item/%E4%B8%96%E7%95%8C%E9%81%97%E4%BA%A7', '/item/%E4%BF%84%E7%BD%97%E6%96%AF/125568', '/item/%E6%AC%A7%E6%B4%B2/145550', '/item/%E5%BD%BC%E5%BE%97%E6%A0%BC%E5%8B%92', '/item/%E5%88%97%E5%AE%81%E6%A0%BC%E5%8B%92/16251', '/item/%E5%A8%81%E5%B0%BC%E6%96%AF/196', '/item/%E8%A5%BF%E5%8C%97%E8%81%94%E9%82%A6%E5%8C%BA', '/item/%E5%88%97%E5%AE%81%E6%A0%BC%E5%8B%92%E5%B7%9E', '/item/%E7%93%A6%E8%A5%BF%E9%87%8C%E5%B2%9B', '/item/%E6%96%AF%E8%8E%AB%E5%B0%94%E5%B0%BC%E5%AE%AB', '/item/%E4%BF%84%E8%AF%AD', '/item/%E8%8B%B1%E8%AF%AD/109997', '/item/%E8%8A%AC%E5%85%B0%E8%AF%AD', '/item/%E6%B8%A9%E5%B8%A6%E5%A4%A7%E9%99%86%E6%80%A7%E6%B0%94%E5%80%99', '/item/%E5%86%AC%E5%AE%AB/1138088', '/item/%E4%BC%8A%E8%90%A8%E5%9F%BA%E8%BE%85%E5%A4%A7%E6%95%99%E5%A0%82', '/item/%E9%9D%92%E9%93%9C%E9%AA%91%E5%A3%AB', '/item/%E9%98%BF%E8%8A%99%E4%B9%90%E5%B0%94%E5%8F%B7', '/item/%E4%BF%84%E7%BD%97%E6%96%AF%E5%8D%9A%E7%89%A9%E9%A6%86', '/item/%E9%83%81%E9%87%91%E9%A6%99/13506', '/item/%E5%9C%A3%E5%BD%BC%E5%BE%97%E5%A0%A1%E5%A4%A7%E5%AD%A6', '/item/%E5%85%94%E5%AD%90%E5%B2%9B/16246269', '/item/%E5%BD%BC%E5%BE%97%E5%A4%A7%E5%B8%9D/3172', '/item/%E6%B6%85%E7%93%A6%E6%B2%B3', '/item/%E4%B8%89%E8%A7%92%E6%B4%B2', '/item/%E5%BD%BC%E5%BE%97%E4%BF%9D%E7%BD%97%E8%A6%81%E5%A1%9E', '/item/%E7%91%9E%E5%85%B8', '/item/%E6%B3%A2%E7%BD%97%E7%9A%84%E6%B5%B7%E8%88%B0%E9%98%9F', '/item/%E9%98%BF%E8%8A%99%E4%B9%90%E5%B0%94%E5%8F%B7%E5%B7%A1%E6%B4%8B%E8%88%B0', '/item/%E5%88%97%E5%AE%81', '/item/%E5%8D%81%E6%9C%88%E9%9D%A9%E5%91%BD', '/item/%E5%88%97%E5%AE%81%E6%A0%BC%E5%8B%92', '/item/%E6%A0%BC%E5%8B%92/15278925', '/item/%E6%B3%95%E8%A5%BF%E6%96%AF', '/item/%E5%88%97%E5%AE%81%E6%A0%BC%E5%8B%92%E4%BF%9D%E5%8D%AB%E6%88%98', '/item/%E8%8A%AC%E5%85%B0%E6%B9%BE', '/item/%E6%B6%85%E7%93%A6%E6%B2%B3/10907270', '/item/%E4%B8%89%E8%A7%92%E6%B4%B2/35175', '/item/%E5%8F%B6%E5%8D%A1%E6%8D%B7%E7%90%B3%E5%A8%9C%E4%BA%8C%E4%B8%96', '/item/%E4%BF%84%E7%BD%97%E6%96%AF%E6%97%8F', '/item/%E4%B9%8C%E5%85%8B%E5%85%B0', '/item/%E7%8A%B9%E5%A4%AA%E4%BA%BA', '/item/%E7%99%BD%E4%BF%84%E7%BD%97%E6%96%AF', '/item/%E9%9E%91%E9%9D%BC%E4%BA%BA', '/item/%E7%88%B1%E6%B2%99%E5%B0%BC%E4%BA%9A', '/item/%E6%97%A5%E8%80%B3%E6%9B%BC', '/item/%E6%B5%B7%E6%B8%AF', '/item/%E6%AC%A7%E6%B4%B2', '/item/%E8%B5%AB%E5%B0%94%E8%BE%9B%E5%9F%BA', '/item/%E5%8D%8E%E6%B2%99/81378', '/item/%E8%8E%AB%E6%96%AF%E7%A7%91/5522', '/item/%E6%B3%A2%E7%BD%97%E7%9A%84%E6%B5%B7%E4%B8%89%E5%9B%BD', '/item/%E7%99%BD%E4%BF%84%E7%BD%97%E6%96%AF/84249', '/item/%E8%8A%AC%E5%85%B0/397486', '/item/%E9%A9%AC%E6%9E%97%E6%96%AF%E5%9F%BA%E5%89%A7%E9%99%A2', '/item/%E5%9C%A3%E5%BD%BC%E5%BE%97%E5%A0%A1%E5%9B%BD%E7%AB%8B%E5%A4%A7%E5%AD%A6', '/item/%E5%9C%A3%E5%BD%BC%E5%BE%97%E5%A0%A1%E5%9B%BD%E7%AB%8B%E6%8A%80%E6%9C%AF%E5%A4%A7%E5%AD%A6', '/item/%E4%BF%84%E7%BD%97%E6%96%AF%E5%9B%BD%E7%AB%8B%E5%B8%88%E8%8C%83%E5%A4%A7%E5%AD%A6', '/item/%E9%97%A8%E6%8D%B7%E5%88%97%E5%A4%AB', '/item/%E5%88%97%E5%AE%BE%E7%BE%8E%E6%9C%AF%E5%AD%A6%E9%99%A2', '/item/%E5%9C%A3%E5%BD%BC%E5%BE%97%E5%A0%A1%E5%9B%BD%E7%AB%8B%E9%9F%B3%E4%B9%90%E5%AD%A6%E9%99%A2', '/item/%E7%BB%B4%E4%B9%9F%E7%BA%B3%E9%9F%B3%E4%B9%90%E5%AD%A6%E9%99%A2', '/item/%E5%9C%A3%E5%BD%BC%E5%BE%97%E5%A0%A1%E6%B3%BD%E5%B0%BC%E7%89%B9', '/item/%E6%B7%B1%E5%9C%B3', '/item/%E5%8D%8E%E6%B2%99', '/item/%E5%B9%BF%E5%B7%9E/72101', '/item/%E5%BE%B7%E7%B4%AF%E6%96%AF%E9%A1%BF', '/item/%E6%96%AF%E6%B4%9B%E4%BC%90%E5%85%8B', '/item/%E7%A7%91%E5%B8%8C%E7%AD%96', '/item/%E5%AD%9F%E4%B9%B0', '/item/%E8%B4%9D%E5%B0%94%E6%A0%BC%E8%8E%B1%E5%BE%B7', '/item/%E4%BC%AF%E6%98%8E%E7%BF%B0', '/item/%E6%B1%89%E5%A0%A1/17541', '/item/%E5%BE%B7%E5%B8%83%E5%8B%92%E6%A3%AE', '/item/%E7%B1%B3%E5%85%B0/21047', '/item/%E4%BC%8A%E6%96%AF%E6%B3%95%E7%BD%95', '/item/%E9%9D%92%E5%B2%9B/60244', '/item/%E9%B9%BF%E7%89%B9%E4%B8%B9', '/item/%E5%85%B0%E8%BE%9B', '/item/%E6%B4%9B%E6%9D%89%E7%9F%B6', '/item/%E5%A2%A8%E5%B0%94%E6%9C%AC', '/item/%E4%B8%8A%E6%B5%B7/114606', '/item/%E5%A4%A7%E9%98%AA', '/item/%E5%85%8B%E7%BD%97%E5%9C%B0%E4%BA%9A', '/item/%E8%90%A8%E6%A0%BC%E5%8B%92%E5%B8%83', '/item/%E4%BC%8A%E6%96%AF%E5%9D%A6%E5%B8%83%E5%B0%94', '/item/%E5%9B%BE%E5%B0%94%E5%BA%93', '/item/%E6%B6%85%E7%93%A6%E5%A4%A7%E8%A1%97/1398384', '/item/%E6%99%AE%E5%B8%8C%E9%87%91%E6%9D%91', '/item/%E5%86%AC%E5%AE%AB/1138088', '/item/%E5%A4%8F%E5%AE%AB', '/item/%E6%96%AF%E8%8E%AB%E5%B0%94%E5%B0%BC%E5%AE%AB', '/item/%E5%BD%BC%E5%BE%97%E8%A6%81%E5%A1%9E', '/item/%E5%96%80%E5%B1%B1%E5%A4%A7%E6%95%99%E5%A0%82', '/item/%E2%80%9C%E9%98%BF%E8%8A%99%E4%B9%90%E5%B0%94%E2%80%9D%E5%B7%A1%E6%B4%8B%E8%88%B0', '/item/%E9%9D%92%E9%93%9C%E9%AA%91%E5%A3%AB/8640006', '/item/%E5%8D%81%E4%BA%8C%E6%9C%88%E5%85%9A%E4%BA%BA%E5%B9%BF%E5%9C%BA', '/item/%E6%99%AE%E5%B8%8C%E9%87%91', '/item/%E9%A9%AC%E6%9E%97%E6%96%AF%E5%9F%BA%E5%89%A7%E9%99%A2', '/item/%E7%99%BE%E5%BA%A6%E7%99%BE%E7%A7%91%EF%BC%9A%E6%9C%AC%E4%BA%BA%E8%AF%8D%E6%9D%A1%E7%BC%96%E8%BE%91%E6%9C%8D%E5%8A%A1/22442459?bk_fr=pcFooter']\n"
     ]
    },
    {
     "name": "stdout",
     "output_type": "stream",
     "text": [
      "['/item/秒懂星课堂', '/item/秒懂大师说', '/item/秒懂看瓦特', '/item/秒懂五千年', '/item/秒懂全视界', '/item/%E7%99%BE%E5%BA%A6%E7%99%BE%E7%A7%91%EF%BC%9A%E5%A4%9A%E4%B9%89%E8%AF%8D', '/item/%E4%B9%89%E9%A1%B9', '/item/%E5%9C%A3%E5%BD%BC%E5%BE%97%E5%A0%A1?force=1', '/item/%E5%9C%A3%E5%BD%BC%E5%BE%97%E5%A0%A1/9141684#viewPageContent', '/item/%E5%9C%A3%E5%BD%BC%E5%BE%97%E5%A0%A1/9141697#viewPageContent', '/item/%E5%9C%A3%E5%BD%BC%E5%BE%97%E5%A0%A1/23736752#viewPageContent', '/item/%E5%9C%A3%E5%BD%BC%E5%BE%97%E5%A0%A1/24196208#viewPageContent', '/item/%E6%B3%A2%E7%BD%97%E7%9A%84%E6%B5%B7/446433', '/item/%E6%B6%85%E7%93%A6%E6%B2%B3/10907270', '/item/%E5%88%97%E5%AE%81%E6%A0%BC%E5%8B%92%E5%B7%9E/3870055', '/item/%E8%80%B6%E7%A8%A3/110027', '/item/%E5%9C%A3%E5%BE%92%E5%BD%BC%E5%BE%97/2166916', '/item/%E5%BD%BC%E5%BE%97%E4%B8%80%E4%B8%96/629058', '/item/%E5%88%97%E5%AE%81/30258', '/item/%E5%88%97%E5%AE%81%E6%A0%BC%E5%8B%92/16251', '/item/%E4%B8%96%E7%95%8C%E9%81%97%E4%BA%A7', '/item/%E4%BF%84%E7%BD%97%E6%96%AF/125568', '/item/%E6%AC%A7%E6%B4%B2/145550', '/item/%E5%BD%BC%E5%BE%97%E6%A0%BC%E5%8B%92', '/item/%E5%88%97%E5%AE%81%E6%A0%BC%E5%8B%92/16251', '/item/%E5%A8%81%E5%B0%BC%E6%96%AF/196', '/item/%E8%A5%BF%E5%8C%97%E8%81%94%E9%82%A6%E5%8C%BA', '/item/%E5%88%97%E5%AE%81%E6%A0%BC%E5%8B%92%E5%B7%9E', '/item/%E7%93%A6%E8%A5%BF%E9%87%8C%E5%B2%9B', '/item/%E6%96%AF%E8%8E%AB%E5%B0%94%E5%B0%BC%E5%AE%AB', '/item/%E4%BF%84%E8%AF%AD', '/item/%E8%8B%B1%E8%AF%AD/109997', '/item/%E8%8A%AC%E5%85%B0%E8%AF%AD', '/item/%E6%B8%A9%E5%B8%A6%E5%A4%A7%E9%99%86%E6%80%A7%E6%B0%94%E5%80%99', '/item/%E5%86%AC%E5%AE%AB/1138088', '/item/%E4%BC%8A%E8%90%A8%E5%9F%BA%E8%BE%85%E5%A4%A7%E6%95%99%E5%A0%82', '/item/%E9%9D%92%E9%93%9C%E9%AA%91%E5%A3%AB', '/item/%E9%98%BF%E8%8A%99%E4%B9%90%E5%B0%94%E5%8F%B7', '/item/%E4%BF%84%E7%BD%97%E6%96%AF%E5%8D%9A%E7%89%A9%E9%A6%86', '/item/%E9%83%81%E9%87%91%E9%A6%99/13506', '/item/%E5%9C%A3%E5%BD%BC%E5%BE%97%E5%A0%A1%E5%A4%A7%E5%AD%A6', '/item/%E5%85%94%E5%AD%90%E5%B2%9B/16246269', '/item/%E5%BD%BC%E5%BE%97%E5%A4%A7%E5%B8%9D/3172', '/item/%E6%B6%85%E7%93%A6%E6%B2%B3', '/item/%E4%B8%89%E8%A7%92%E6%B4%B2', '/item/%E5%BD%BC%E5%BE%97%E4%BF%9D%E7%BD%97%E8%A6%81%E5%A1%9E', '/item/%E7%91%9E%E5%85%B8', '/item/%E6%B3%A2%E7%BD%97%E7%9A%84%E6%B5%B7%E8%88%B0%E9%98%9F', '/item/%E9%98%BF%E8%8A%99%E4%B9%90%E5%B0%94%E5%8F%B7%E5%B7%A1%E6%B4%8B%E8%88%B0', '/item/%E5%88%97%E5%AE%81', '/item/%E5%8D%81%E6%9C%88%E9%9D%A9%E5%91%BD', '/item/%E5%88%97%E5%AE%81%E6%A0%BC%E5%8B%92', '/item/%E6%A0%BC%E5%8B%92/15278925', '/item/%E6%B3%95%E8%A5%BF%E6%96%AF', '/item/%E5%88%97%E5%AE%81%E6%A0%BC%E5%8B%92%E4%BF%9D%E5%8D%AB%E6%88%98', '/item/%E8%8A%AC%E5%85%B0%E6%B9%BE', '/item/%E6%B6%85%E7%93%A6%E6%B2%B3/10907270', '/item/%E4%B8%89%E8%A7%92%E6%B4%B2/35175', '/item/%E5%8F%B6%E5%8D%A1%E6%8D%B7%E7%90%B3%E5%A8%9C%E4%BA%8C%E4%B8%96', '/item/%E4%BF%84%E7%BD%97%E6%96%AF%E6%97%8F', '/item/%E4%B9%8C%E5%85%8B%E5%85%B0', '/item/%E7%8A%B9%E5%A4%AA%E4%BA%BA', '/item/%E7%99%BD%E4%BF%84%E7%BD%97%E6%96%AF', '/item/%E9%9E%91%E9%9D%BC%E4%BA%BA', '/item/%E7%88%B1%E6%B2%99%E5%B0%BC%E4%BA%9A', '/item/%E6%97%A5%E8%80%B3%E6%9B%BC', '/item/%E6%B5%B7%E6%B8%AF', '/item/%E6%AC%A7%E6%B4%B2', '/item/%E8%B5%AB%E5%B0%94%E8%BE%9B%E5%9F%BA', '/item/%E5%8D%8E%E6%B2%99/81378', '/item/%E8%8E%AB%E6%96%AF%E7%A7%91/5522', '/item/%E6%B3%A2%E7%BD%97%E7%9A%84%E6%B5%B7%E4%B8%89%E5%9B%BD', '/item/%E7%99%BD%E4%BF%84%E7%BD%97%E6%96%AF/84249', '/item/%E8%8A%AC%E5%85%B0/397486', '/item/%E9%A9%AC%E6%9E%97%E6%96%AF%E5%9F%BA%E5%89%A7%E9%99%A2', '/item/%E5%9C%A3%E5%BD%BC%E5%BE%97%E5%A0%A1%E5%9B%BD%E7%AB%8B%E5%A4%A7%E5%AD%A6', '/item/%E5%9C%A3%E5%BD%BC%E5%BE%97%E5%A0%A1%E5%9B%BD%E7%AB%8B%E6%8A%80%E6%9C%AF%E5%A4%A7%E5%AD%A6', '/item/%E4%BF%84%E7%BD%97%E6%96%AF%E5%9B%BD%E7%AB%8B%E5%B8%88%E8%8C%83%E5%A4%A7%E5%AD%A6', '/item/%E9%97%A8%E6%8D%B7%E5%88%97%E5%A4%AB', '/item/%E5%88%97%E5%AE%BE%E7%BE%8E%E6%9C%AF%E5%AD%A6%E9%99%A2', '/item/%E5%9C%A3%E5%BD%BC%E5%BE%97%E5%A0%A1%E5%9B%BD%E7%AB%8B%E9%9F%B3%E4%B9%90%E5%AD%A6%E9%99%A2', '/item/%E7%BB%B4%E4%B9%9F%E7%BA%B3%E9%9F%B3%E4%B9%90%E5%AD%A6%E9%99%A2', '/item/%E5%9C%A3%E5%BD%BC%E5%BE%97%E5%A0%A1%E6%B3%BD%E5%B0%BC%E7%89%B9', '/item/%E6%B7%B1%E5%9C%B3', '/item/%E5%8D%8E%E6%B2%99', '/item/%E5%B9%BF%E5%B7%9E/72101', '/item/%E5%BE%B7%E7%B4%AF%E6%96%AF%E9%A1%BF', '/item/%E6%96%AF%E6%B4%9B%E4%BC%90%E5%85%8B', '/item/%E7%A7%91%E5%B8%8C%E7%AD%96', '/item/%E5%AD%9F%E4%B9%B0', '/item/%E8%B4%9D%E5%B0%94%E6%A0%BC%E8%8E%B1%E5%BE%B7', '/item/%E4%BC%AF%E6%98%8E%E7%BF%B0', '/item/%E6%B1%89%E5%A0%A1/17541', '/item/%E5%BE%B7%E5%B8%83%E5%8B%92%E6%A3%AE', '/item/%E7%B1%B3%E5%85%B0/21047', '/item/%E4%BC%8A%E6%96%AF%E6%B3%95%E7%BD%95', '/item/%E9%9D%92%E5%B2%9B/60244', '/item/%E9%B9%BF%E7%89%B9%E4%B8%B9', '/item/%E5%85%B0%E8%BE%9B', '/item/%E6%B4%9B%E6%9D%89%E7%9F%B6', '/item/%E5%A2%A8%E5%B0%94%E6%9C%AC', '/item/%E4%B8%8A%E6%B5%B7/114606', '/item/%E5%A4%A7%E9%98%AA', '/item/%E5%85%8B%E7%BD%97%E5%9C%B0%E4%BA%9A', '/item/%E8%90%A8%E6%A0%BC%E5%8B%92%E5%B8%83', '/item/%E4%BC%8A%E6%96%AF%E5%9D%A6%E5%B8%83%E5%B0%94', '/item/%E5%9B%BE%E5%B0%94%E5%BA%93', '/item/%E6%B6%85%E7%93%A6%E5%A4%A7%E8%A1%97/1398384', '/item/%E6%99%AE%E5%B8%8C%E9%87%91%E6%9D%91', '/item/%E5%86%AC%E5%AE%AB/1138088', '/item/%E5%A4%8F%E5%AE%AB', '/item/%E6%96%AF%E8%8E%AB%E5%B0%94%E5%B0%BC%E5%AE%AB', '/item/%E5%BD%BC%E5%BE%97%E8%A6%81%E5%A1%9E', '/item/%E5%96%80%E5%B1%B1%E5%A4%A7%E6%95%99%E5%A0%82', '/item/%E2%80%9C%E9%98%BF%E8%8A%99%E4%B9%90%E5%B0%94%E2%80%9D%E5%B7%A1%E6%B4%8B%E8%88%B0', '/item/%E9%9D%92%E9%93%9C%E9%AA%91%E5%A3%AB/8640006', '/item/%E5%8D%81%E4%BA%8C%E6%9C%88%E5%85%9A%E4%BA%BA%E5%B9%BF%E5%9C%BA', '/item/%E6%99%AE%E5%B8%8C%E9%87%91', '/item/%E9%A9%AC%E6%9E%97%E6%96%AF%E5%9F%BA%E5%89%A7%E9%99%A2', '/item/%E7%99%BE%E5%BA%A6%E7%99%BE%E7%A7%91%EF%BC%9A%E6%9C%AC%E4%BA%BA%E8%AF%8D%E6%9D%A1%E7%BC%96%E8%BE%91%E6%9C%8D%E5%8A%A1/22442459?bk_fr=pcFooter']\n",
      "['/item/秒懂星课堂', '/item/秒懂大师说', '/item/秒懂看瓦特', '/item/秒懂五千年', '/item/秒懂全视界', '/item/%E6%80%BB%E7%90%86/156024', '/item/%E6%80%BB%E7%90%86/24506163', '/item/%E7%99%BE%E5%BA%A6%E7%99%BE%E7%A7%91%EF%BC%9A%E6%9C%AC%E4%BA%BA%E8%AF%8D%E6%9D%A1%E7%BC%96%E8%BE%91%E6%9C%8D%E5%8A%A1/22442459?bk_fr=pcFooter']\n"
     ]
    }
   ],
   "source": [
    "#不去重\n",
    "import re,requests\n",
    "count = 10\n",
    "r = re.compile(r'href=[\\'\"]?(/item[^\\'\" >]+)') # 抽取所需链接信息的正则语言规则\n",
    "seed = \"/item/%E5%BC%97%E6%8B%89%E5%9F%BA%E7%B1%B3%E5%B0%94%C2%B7%E5%BC%97%E6%8B%89%E5%9F%BA%E7%B1%B3%E7%BD%97%E7%BB%B4%E5%A5%87%C2%B7%E6%99%AE%E4%BA%AC/1156718?fromtitle=%E6%99%AE%E4%BA%AC&fromid=589294\" # 这是普京词条\n",
    "queue = [seed] # 设置种子链接的栈（使用列表模拟栈）\n",
    "storage = {}\n",
    "while count > 0 and len(queue) > 0:\n",
    "    try:\n",
    "        url = queue.pop(0) # 取出栈的最后一条URL\n",
    "        html = ur.urlopen(\"https://baike.baidu.com\"+url).read().decode('utf-8') # 对URL进行拼接\n",
    "        new_urls = r.findall(html) # 提取当前网页下的所有链接URL信息\n",
    "        print(new_urls)\n",
    "        queue.extend(new_urls) # 将新提取的链接信息入队列\n",
    "        storage[url] = len(new_urls)\n",
    "        count -= 1\n",
    "    except Exception as e:\n",
    "        print(url)\n",
    "        print(e)"
   ]
  },
  {
   "cell_type": "code",
   "execution_count": 1,
   "metadata": {
    "scrolled": true
   },
   "outputs": [
    {
     "name": "stdout",
     "output_type": "stream",
     "text": [
      "/item/%E5%BC%97%E6%8B%89%E5%9F%BA%E7%B1%B3%E5%B0%94%C2%B7%E5%BC%97%E6%8B%89%E5%9F%BA%E7%B1%B3%E7%BD%97%E7%BB%B4%E5%A5%87%C2%B7%E6%99%AE%E4%BA%AC/1156718?fromtitle=%E6%99%AE%E4%BA%AC&fromid=589294 0\n",
      "/item/%E6%94%BF%E6%B2%BB 1\n",
      "/item/%E6%81%90%E6%80%96%E4%B8%BB%E4%B9%89 1\n",
      "/item/%E5%9C%9F%E8%80%B3%E5%85%B6/198448 1\n",
      "/item/%E6%B1%89%E8%AF%BA%E5%A8%81%E5%B7%A5%E4%B8%9A%E5%8D%9A%E8%A7%88%E4%BC%9A 1\n",
      "/item/%E6%85%95%E5%B0%BC%E9%BB%91%E4%BC%9A%E8%AE%AE 1\n",
      "/item/%E6%9F%B3%E5%BE%B7%E7%B1%B3%E6%8B%89%C2%B7%E9%98%BF%E5%88%97%E5%85%8B%E5%BE%B7%E7%BD%97%E4%BB%98%E5%A8%9C%C2%B7%E6%99%AE%E4%BA%AC%E5%A8%9C/720888 1\n",
      "/item/%E6%97%A5%E6%9C%AC%E8%87%AA%E6%B0%91%E5%85%9A 1\n",
      "/item/%E5%85%9A%E9%AD%81 1\n",
      "/item/%E8%B0%A2%E5%B0%94%E7%9B%96%C2%B7%E4%BC%8A%E4%B8%87%E8%AF%BA%E5%A4%AB 1\n",
      "/item/%E4%BA%BA%E6%9D%83 1\n",
      "/item/%E7%B4%A2%E5%A5%91%E5%86%AC%E5%A5%A5%E4%BC%9A 1\n",
      "/item/%E8%83%A1%E9%94%A6%E6%B6%9B 1\n",
      "/item/%E4%B8%BB%E5%B8%AD 1\n",
      "/item/%E6%B8%85%E5%8D%8E%E5%A4%A7%E5%AD%A6/111764 1\n",
      "/item/%E4%B8%96%E7%95%8C%E8%B4%B8%E6%98%93%E7%BB%84%E7%BB%87 1\n",
      "/item/%E6%9C%9D%E9%B2%9C/191777 1\n",
      "/item/秒懂全视界 1\n",
      "/item/秒懂全视界\n",
      "'ascii' codec can't encode characters in position 10-14: ordinal not in range(128)\n",
      "/item/%E4%B9%94%E6%B2%BB%C2%B7%E6%B2%83%E5%85%8B%C2%B7%E5%B8%83%E4%BB%80 1\n",
      "/item/%E5%85%8B%E6%A0%BC%E5%8B%83 1\n",
      "/item/%E6%8D%B7%E5%85%8B 1\n",
      "/item/%E4%BF%84%E7%BD%97%E6%96%AF%E4%BA%BA/854086 1\n",
      "/item/%E9%9D%96%E5%9B%BD%E7%A5%9E%E7%A4%BE/1096 1\n",
      "/item/%E6%85%95%E5%B0%BC%E9%BB%91/855 1\n",
      "/item/%E5%88%97%E5%AE%81 1\n",
      "/item/%E5%88%98%E4%B8%BA%E6%B0%91 1\n",
      "/item/%E6%A0%BC%E5%93%88%E7%89%B9%C2%B7%E6%96%BD%E7%BD%97%E5%BE%B7 1\n",
      "/item/%E5%9C%A3%E5%BD%BC%E5%BE%97%E5%A0%A1%E5%B8%82 1\n",
      "/item/%E9%B2%B8%E9%B1%BC 1\n",
      "/item/%E5%B8%B8%E4%BB%BB%E7%90%86%E4%BA%8B%E5%9B%BD 1\n",
      "/item/%E4%BF%84%E7%BD%97%E6%96%AF%E8%81%94%E9%82%A6 1\n",
      "/item/%E6%99%AE%E4%BA%AC/20132344#viewPageContent 1\n",
      "/item/%E9%A9%AC%E6%8B%89%E6%9D%BE/18579 1\n",
      "/item/%E7%BB%A7%E6%89%BF%E4%BA%BA 1\n",
      "/item/%E6%94%BF%E6%B2%BB%E5%AE%B6 1\n",
      "/item/%E6%9F%B3%E5%BE%B7%E7%B1%B3%E6%8B%89 1\n",
      "/item/%E6%9D%83%E5%A8%81%E4%B8%BB%E4%B9%89 1\n",
      "/item/%E4%BF%84%E7%99%BD%E8%81%94%E7%9B%9F/8457077 1\n",
      "/item/%E5%B0%8F%E6%B3%89%E7%BA%AF%E4%B8%80%E9%83%8E 1\n",
      "/item/%E8%8B%8F%E8%81%94 1\n",
      "/item/%E5%BE%B7%E7%B4%AF%E6%96%AF%E9%A1%BF 1\n",
      "/item/%E5%B8%83%E8%8E%B1%E5%B0%94 1\n",
      "/item/%E7%99%BE%E5%BA%A6%E7%99%BE%E7%A7%91%EF%BC%9A%E6%9C%AC%E4%BA%BA%E8%AF%8D%E6%9D%A1%E7%BC%96%E8%BE%91%E6%9C%8D%E5%8A%A1/22442459?bk_fr=pcFooter 1\n",
      "/item/%E5%8A%A0%E9%87%8C%E5%AE%81%E6%A0%BC%E5%8B%92 1\n",
      "/item/%E8%B4%A2%E9%98%80 1\n",
      "/item/%E6%A2%81%E8%B5%9E%E5%B7%9E 1\n",
      "/item/%E4%B8%8B%E8%AE%AE%E9%99%A2 1\n",
      "/item/%E5%B8%83%E4%BB%80 1\n",
      "/item/%E5%BC%97%E6%8B%89%E5%9F%BA%E7%B1%B3%E5%B0%94%C2%B7%E6%99%AE%E4%BA%AC 1\n",
      "/item/%E6%B8%B8%E8%A1%8C 1\n",
      "/item/%E6%97%B6%E4%BB%A3/1944848 1\n",
      "/item/%E5%88%97%E5%AE%81%E6%A0%BC%E5%8B%92/16251 1\n",
      "/item/%E6%99%AE%E4%BA%AC?force=1 1\n",
      "/item/%E8%8B%8F%E8%81%94%E8%A7%A3%E4%BD%93 1\n",
      "/item/%E8%8E%AB%E6%96%AF%E7%A7%91%E7%BA%A2%E5%9C%BA 1\n",
      "/item/%E6%97%A5%E9%87%8C%E8%AF%BA%E5%A4%AB%E6%96%AF%E5%9F%BA 1\n",
      "/item/秒懂五千年 1\n",
      "/item/秒懂五千年\n",
      "'ascii' codec can't encode characters in position 10-14: ordinal not in range(128)\n",
      "/item/%E7%99%BE%E5%BA%A6%E7%99%BE%E7%A7%91%EF%BC%9A%E5%A4%9A%E4%B9%89%E8%AF%8D 1\n",
      "/item/%E9%98%BF%E5%A1%9E%E6%8B%9C%E7%96%86 1\n",
      "/item/%E7%99%BD%E5%96%89 1\n",
      "/item/%E4%BF%84%E7%BD%97%E6%96%AF%E6%80%BB%E7%BB%9F 1\n",
      "/item/%E5%BE%B7%E5%9B%BD/147953 1\n",
      "/item/%E7%A7%81%E4%BA%BA%E5%8E%A8%E5%B8%88 1\n",
      "/item/%E6%AC%A7%E7%9B%9F%E5%B3%B0%E4%BC%9A 1\n",
      "/item/%E5%88%A9%E6%AF%94%E4%BA%9A 1\n",
      "/item/%E6%BD%9C%E8%89%87%E9%83%A8%E9%98%9F 1\n",
      "/item/%E4%BF%84%E7%BD%97%E6%96%AF%E6%80%BB%E7%90%86 1\n",
      "/item/%E5%9B%BD%E9%99%85%E6%B3%95 1\n",
      "/item/%E8%A5%BF%E4%BC%AF%E5%88%A9%E4%BA%9A/63915 1\n",
      "/item/%E5%A0%AA%E5%AF%9F%E5%8A%A0%E5%8D%8A%E5%B2%9B 1\n",
      "/item/%E6%B8%A9%E5%AE%B6%E5%AE%9D/115402 1\n",
      "/item/%E4%B9%85%E5%8A%A0%E8%AF%BA%E5%A4%AB 1\n",
      "/item/%E9%9B%B7%E8%AF%BA%E6%96%B9%E7%A8%8B%E5%BC%8F%E8%B5%9B%E8%BD%A6 1\n",
      "/item/%E9%97%B4%E8%B0%8D 1\n",
      "/item/%E8%BD%A6%E8%87%A3 1\n",
      "/item/%E5%8F%B3%E7%BF%BC 1\n",
      "/item/%E5%85%AC%E5%AF%93 1\n",
      "/item/%E5%9B%BD%E5%86%85%E7%94%9F%E4%BA%A7%E6%80%BB%E5%80%BC 1\n",
      "/item/%E5%88%86%E7%A6%BB%E4%B8%BB%E4%B9%89 1\n",
      "/item/%E5%88%97%E5%AE%81%E6%A0%BC%E5%8B%92%E4%BF%9D%E5%8D%AB%E6%88%98 1\n",
      "/item/%E5%BE%B7%E5%9B%BD 1\n",
      "/item/%E5%85%8B%E9%87%8C%E7%B1%B3%E4%BA%9A%E5%85%B1%E5%92%8C%E5%9B%BD/13345297 1\n",
      "/item/%E7%B1%B3%E5%93%88%E4%BC%8A%E5%B0%94%C2%B7%E6%88%88%E5%B0%94%E5%B7%B4%E4%B9%94%E5%A4%AB 1\n",
      "/item/%E6%96%BD%E7%BD%97%E5%BE%B7 1\n",
      "/item/%E4%BA%9A%E5%8A%AA%E7%A7%91%E7%BB%B4%E5%A5%87 1\n",
      "/item/%E6%AC%A7%E7%9B%9F 1\n",
      "/item/%E5%8F%B6%E5%88%A9%E9%92%A6 1\n",
      "/item/%E5%88%97%E5%AE%81%E6%A0%BC%E5%8B%92 1\n",
      "/item/%E5%9C%A3%E5%BD%BC%E5%BE%97%E5%A0%A1/6447 1\n",
      "/item/%E4%BC%8A%E6%96%AF%E5%85%B0%E5%9B%BD 1\n",
      "/item/%E5%A4%A9%E7%84%B6%E6%B0%94 1\n",
      "/item/%E6%B3%A2%E5%85%B0/421640 1\n",
      "/item/%E5%8F%99%E5%88%A9%E4%BA%9A 1\n",
      "/item/%E5%9B%BD%E9%99%85%E6%9F%94%E9%81%93%E8%81%94%E5%90%88%E4%BC%9A 1\n",
      "/item/%E8%B4%AD%E4%B9%B0%E5%8A%9B%E5%B9%B3%E4%BB%B7 1\n",
      "/item/%E8%B6%85%E7%BA%A7%E5%A4%A7%E5%9B%BD 1\n",
      "/item/%E7%BE%8E%E5%9B%BD%E5%9B%BD%E5%8A%A1%E5%8D%BF 1\n",
      "/item/%E6%80%BB%E7%BB%9F 1\n",
      "/item/%E6%A3%AE%E5%96%9C%E6%9C%97 1\n",
      "/item/%E5%A4%96%E4%BA%A4%E9%83%A8 1\n",
      "/item/%E5%8D%97%E5%A5%A5%E5%A1%9E%E6%A2%AF 1\n",
      "/item/%E7%B1%B3%E7%BD%97%E8%AF%BA%E5%A4%AB 1\n",
      "/item/%E4%B9%89%E9%A1%B9 1\n",
      "/item/%E6%B1%BD%E8%BD%A6 1\n",
      "/item/%E6%A2%85%E5%BE%B7%E9%9F%A6%E6%9D%B0%E5%A4%AB 1\n",
      "/item/%E4%BF%84%E7%BD%97%E6%96%AF 1\n",
      "/item/%E7%9F%B3%E6%B2%B9 1\n",
      "/item/%E5%88%A9%E7%9B%8A/5733966 1\n",
      "/item/%E9%9F%A9%E5%9B%BD/6009333 1\n",
      "/item/%E4%BC%8A%E6%8B%89%E5%85%8B 1\n",
      "/item/%E9%83%A8%E9%95%BF%E4%BC%9A%E8%AE%AE 1\n",
      "/item/%E5%8C%97%E4%BA%AC%E4%BA%BA%E6%B0%91%E5%A4%A7%E4%BC%9A%E5%A0%82 1\n",
      "/item/%E8%8E%AB%E6%96%AF%E7%A7%91 1\n",
      "/item/%E7%BB%9F%E4%B8%80%E4%BF%84%E7%BD%97%E6%96%AF%E5%85%9A 1\n",
      "/item/%E7%B4%A2%E5%A5%91 1\n",
      "/item/%E4%B8%AA%E4%BA%BA%E5%B4%87%E6%8B%9C 1\n",
      "/item/%E5%AE%AA%E6%B3%95 1\n",
      "/item/%E8%81%94%E9%82%A6%E6%94%BF%E5%BA%9C/6345319 1\n",
      "/item//522193 1\n",
      "/item/%E5%B0%91%E5%85%88%E9%98%9F%E5%91%98 1\n",
      "/item/%E4%B9%A0%E8%BF%91%E5%B9%B3/515617 1\n",
      "/item/%E5%8C%97%E4%BA%AC/128981 1\n",
      "/item/%E8%B6%85%E7%BA%A7%E5%A4%A7%E5%9B%BD/1975636 1\n",
      "/item/%E7%BB%8F%E6%B5%8E 1\n",
      "/item/%E6%99%AE%E4%BA%AC/19348856#viewPageContent 1\n",
      "/item/%E7%BE%8E%E5%9B%BD%E5%85%B1%E5%92%8C%E5%85%9A 1\n",
      "/item/%E6%9D%9C%E9%A9%AC 1\n",
      "/item/%E5%B7%B4%E6%B2%99%E5%B0%94%C2%B7%E9%98%BF%E8%90%A8%E5%BE%B7/2867946 1\n",
      "/item/%E8%A5%BF%E5%BE%B7 1\n",
      "/item/%E6%B0%91%E4%B8%BB 1\n",
      "/item/%E6%96%AF%E5%A4%A7%E6%9E%97 1\n",
      "/item/%E5%AE%89%E5%85%A8 1\n",
      "/item/%E5%85%8B%E9%87%8C%E5%A7%86%E6%9E%97%E5%AE%AB 1\n",
      "/item/%E6%80%BB%E7%90%86 1\n",
      "/item/%E4%B8%A4%E5%BE%B7%E7%BB%9F%E4%B8%80 1\n",
      "/item/%E4%B8%96%E7%95%8C%E8%B7%86%E6%8B%B3%E9%81%93%E8%81%94%E5%90%88%E4%BC%9A 1\n",
      "/item/%E9%BD%BF%E8%88%9E%E7%BE%A4%E5%B2%9B 1\n",
      "/item/%E5%B7%9D%E5%A5%88%E6%8F%90%E6%A1%88 1\n",
      "/item/%E5%8D%A1%E6%96%AF%E5%B8%95%E7%BD%97%E5%A4%AB 1\n",
      "/item/%E6%9F%94%E9%81%93 1\n",
      "/item/%E6%97%B6%E4%BB%A3 1\n",
      "/item/%E5%AE%89%E7%90%86%E4%BC%9A 1\n",
      "/item/%E4%BF%84%E7%99%BD%E8%81%94%E7%9B%9F 1\n",
      "/item/%E7%88%B1%E6%B2%99%E5%B0%BC%E4%BA%9A 1\n",
      "/item/%E6%80%BB%E7%BB%9F/412 1\n",
      "/item/%E6%91%84%E5%BD%B1%E5%B8%88 1\n",
      "/item/%E9%87%8C%E6%A0%B9 1\n",
      "/item/ISIS/14507116 1\n",
      "/item/%E5%8F%99%E5%88%A9%E4%BA%9A/215811 1\n",
      "/item/%E5%9B%BD%E5%AE%B6%E6%9D%9C%E9%A9%AC 1\n",
      "/item/%E7%A6%8F%E5%B8%83%E6%96%AF/301065 1\n",
      "/item/%E8%8B%8F%E8%81%94%E5%85%B1%E4%BA%A7%E5%85%9A 1\n",
      "/item/%E5%8F%99%E5%88%A9%E4%BA%9A%E6%80%BB%E7%BB%9F/5177807 1\n",
      "/item/%E9%93%81%E8%85%95/10681340 1\n",
      "/item/%E5%85%AB%E5%9B%BD%E9%9B%86%E5%9B%A2 1\n",
      "/item/%E6%99%AE%E4%BA%AC/14756301#viewPageContent 1\n",
      "/item/%E5%85%A8%E7%90%83%E6%9C%80%E5%85%B7%E5%BD%B1%E5%93%8D%E5%8A%9B%E4%BA%BA%E7%89%A9 1\n",
      "/item/%E5%88%AB%E6%96%AF%E5%85%B0%E4%BA%BA%E8%B4%A8%E4%BA%8B%E4%BB%B6 1\n",
      "/item/%E5%B7%B4%E5%9F%BA%E6%96%AF%E5%9D%A6 1\n",
      "/item/%E6%8D%8D%E5%8D%AB%E4%BF%84%E7%BD%97%E6%96%AF%E5%A4%A7%E5%9B%BD%E5%9C%B0%E4%BD%8D%E5%A5%96 1\n",
      "/item/%E5%9C%A3%E5%BD%BC%E5%BE%97%E5%A0%A1 1\n",
      "/item/%E5%9B%BD%E6%83%85%E5%92%A8%E6%96%87 1\n",
      "/item/%E7%A7%98%E4%B9%A6 1\n",
      "/item/%E9%BB%98%E5%85%8B%E5%B0%94/16917924 1\n",
      "/item/%E5%88%97%E5%AE%81%E6%A0%BC%E5%8B%92%E5%A4%A7%E5%AD%A6 1\n",
      "/item/%E8%89%B2%E4%B8%B9%E5%B2%9B 1\n",
      "/item/%E6%91%A9%E5%B0%94%E5%A4%9A%E7%93%A6 1\n",
      "/item/%E6%A0%BC%E9%B2%81%E5%90%89%E4%BA%9A 1\n",
      "/item/%E7%AB%8B%E6%B3%95%E6%9C%BA%E6%9E%84 1\n",
      "/item/%E5%8C%97%E7%BA%A6 1\n",
      "/item/%E4%B8%9C%E6%AD%A3%E6%95%99 1\n",
      "/item/%E4%BF%84%E7%BD%97%E6%96%AF/125568 1\n",
      "/item/%E6%97%A5%E6%9C%AC%E9%A6%96%E7%9B%B8 1\n"
     ]
    },
    {
     "name": "stdout",
     "output_type": "stream",
     "text": [
      "/item/%E6%9E%81%E6%9D%83%E4%B8%BB%E4%B9%89 1\n",
      "/item/%E5%9C%A3%E5%BD%BC%E5%BE%97%E5%A0%A1%E5%9B%BD%E7%AB%8B%E5%A4%A7%E5%AD%A6 1\n",
      "/item/秒懂星课堂 1\n",
      "/item/秒懂星课堂\n",
      "'ascii' codec can't encode characters in position 10-14: ordinal not in range(128)\n",
      "/item/%E6%A1%91%E6%90%8F 1\n",
      "/item/%E4%B8%AD%E5%9B%BD/1122445 1\n",
      "/item/%E6%99%AE%E4%BA%AC 1\n",
      "/item/%E4%BD%A9%E6%96%AF%E7%A7%91%E5%A4%AB 1\n",
      "/item/%E8%A5%BF%E7%8F%AD%E7%89%99 1\n",
      "/item/%E8%81%94%E5%90%88%E5%9B%BD 1\n",
      "/item/%E6%B3%A2%E7%BD%97%E7%9A%84%E6%B5%B7 1\n",
      "/item/%E8%8B%8F%E8%81%94%E6%B5%B7%E5%86%9B 1\n",
      "/item/%E5%8D%9A%E5%A3%AB%E5%AD%A6%E4%BD%8D 1\n",
      "/item/%E7%A6%8F%E5%B8%83%E6%96%AF 1\n",
      "/item/秒懂看瓦特 1\n",
      "/item/秒懂看瓦特\n",
      "'ascii' codec can't encode characters in position 10-14: ordinal not in range(128)\n",
      "/item/%E7%8B%AC%E8%81%94%E4%BD%93 1\n",
      "/item/%E5%8D%B0%E5%BA%A6 1\n",
      "/item/%E5%86%9B%E4%BA%8B%E5%9F%BA%E5%9C%B0 1\n",
      "/item/%E5%9C%A3%E5%BD%BC%E5%BE%97%E5%A0%A1%E5%9B%BD%E7%AB%8B%E7%9F%BF%E4%B8%9A%E5%AD%A6%E9%99%A2 1\n",
      "/item/%E5%8F%B8%E6%B3%95 1\n",
      "/item/%E4%BF%84%E7%BD%97%E6%96%AF%E5%85%B1%E4%BA%A7%E5%85%9A 1\n",
      "/item/%E9%B2%8D%E5%A8%81%E5%B0%94 1\n",
      "/item/%E6%99%AE%E4%BA%AC/589294 1\n",
      "/item/%E4%BC%8A%E6%9C%97 1\n",
      "/item/%E8%8B%8F%E8%81%94%E8%A7%A3%E4%BD%93/634053 1\n",
      "/item/%E9%98%BF%E5%B8%83%E6%9D%9C%E6%8B%89%E8%80%B6%E5%A4%AB 1\n",
      "/item/%E4%B9%8C%E5%85%8B%E5%85%B0 1\n",
      "/item/%E9%BB%98%E5%85%8B%E5%B0%94 1\n",
      "/item/%E5%BE%B7%E7%B1%B3%E7%89%B9%E9%87%8C%C2%B7%E9%98%BF%E7%BA%B3%E6%89%98%E5%88%A9%E8%80%B6%E7%BB%B4%E5%A5%87%C2%B7%E6%A2%85%E5%BE%B7%E9%9F%A6%E6%9D%B0%E5%A4%AB/5358674 1\n",
      "/item/秒懂大师说 1\n",
      "/item/秒懂大师说\n",
      "'ascii' codec can't encode characters in position 10-14: ordinal not in range(128)\n",
      "/item/%E8%90%A8%E5%93%88%E6%9E%97%E5%B2%9B 1\n",
      "/item/%E6%9F%B3%E5%BE%B7%E7%B1%B3%E6%8B%89%C2%B7%E6%99%AE%E4%BA%AC%E5%A8%9C 1\n",
      "/item/%E4%BF%84%E7%BD%97%E6%96%AF%E6%80%BB%E7%BB%9F/5640674 1\n",
      "/item/%E5%86%9B%E5%A4%87%E7%AB%9E%E8%B5%9B 1\n",
      "/item/%E5%A4%9A%E6%9E%81%E5%8C%96 1\n"
     ]
    }
   ],
   "source": [
    "#去重\n",
    "import re,requests\n",
    "import urllib.request as ur\n",
    "count = 0#层数\n",
    "floors = 1#限制爬取的层数\n",
    "lastStep = []\n",
    "r = re.compile(r'href=[\\'\"]?(/item[^\\'\" >]+)') # 抽取所需链接信息的正则语言规则\n",
    "seed = \"/item/%E5%BC%97%E6%8B%89%E5%9F%BA%E7%B1%B3%E5%B0%94%C2%B7%E5%BC%97%E6%8B%89%E5%9F%BA%E7%B1%B3%E7%BD%97%E7%BB%B4%E5%A5%87%C2%B7%E6%99%AE%E4%BA%AC/1156718?fromtitle=%E6%99%AE%E4%BA%AC&fromid=589294\" # 这是普京词条\n",
    "queue = [[seed]] # 设置种子链接的栈（使用列表模拟栈）\n",
    "for i in range(floors):\n",
    "    queue.append([])\n",
    "storage = {}\n",
    "used = set()#设置存放爬取过的url的集合\n",
    "while count != 0 or len(queue[0]) > 0:#种子队列不为空或者层数部位0\n",
    "    try:\n",
    "        url = queue[count].pop(-1) # 取出栈的最后一条URL\n",
    "        print(url+\" \"+str(count))#打印该链接和层数\n",
    "        html = ur.urlopen(\"https://baike.baidu.com\"+url).read().decode('utf-8') # 对URL进行拼接\n",
    "        storage[url] = html\n",
    "        used.add(url)#爬取过的url放入集合\n",
    "        new_urls = r.findall(html) # 提取当前网页下的所有链接URL信息\n",
    "        if count < floors:\n",
    "            for new_url in set(new_urls):\n",
    "                if new_url not in used and new_url not in queue:\n",
    "                    queue[count+1].append(new_url)\n",
    "            count += 1\n",
    "        else:\n",
    "            if len(queue[count])==0:\n",
    "                count -= 1\n",
    "    except Exception as e:\n",
    "        print(url)\n",
    "        print(e)"
   ]
  },
  {
   "cell_type": "code",
   "execution_count": null,
   "metadata": {},
   "outputs": [],
   "source": []
  },
  {
   "cell_type": "markdown",
   "metadata": {},
   "source": [
    "这里对结果进行分析。"
   ]
  },
  {
   "cell_type": "markdown",
   "metadata": {},
   "source": [
    "### (选)将抓取网页的去重深度遍历算法封装成对象（类），并测试。 "
   ]
  },
  {
   "cell_type": "code",
   "execution_count": 17,
   "metadata": {},
   "outputs": [],
   "source": [
    "##不会写，只打了这么点##\n",
    "import re,requests\n",
    "import urllib.request as ur\n",
    "class bfs():\n",
    "    def __init__(self,count,floors,seed):\n",
    "        self.count = count\n",
    "        self.floors = floors\n",
    "        self.seed = seed\n",
    "        self.start()\n",
    "\n",
    "    def start(self): \n",
    "        stack = [[self.seed]]\n",
    "        for i in range(self.floors):\n",
    "            stack.append([])\n",
    "        storage = {}\n",
    "        r = re.compile(r'href=[\\'\"]?(/item[^\\'\" >]+)') # 抽取所需链接信息的正则语言规则\n",
    "        used = set()#设置存放爬取过的url的集合\n",
    "        while self.count != 0 or len(stack[0]) > 0:#种子队列不为空或者层数部位0\n",
    "            try:\n",
    "                url = stack[self.count].pop(-1) # 取出栈的最后一条URL\n",
    "                print(url+\" \"+str(self.count))#打印该链接和层数\n",
    "                html = ur.urlopen(\"https://baike.baidu.com\"+url).read().decode('utf-8') # 对URL进行拼接\n",
    "                storage[url] = html\n",
    "                used.add(url)#爬取过的url放入集合\n",
    "                new_urls = r.findall(html) # 提取当前网页下的所有链接URL信息\n",
    "                if self.count < self.floors:\n",
    "                    for new_url in set(new_urls):\n",
    "                        if new_url not in used and new_url not in stack:\n",
    "                            stack[self.count + 1].append(new_url)\n",
    "                    self.count += 1\n",
    "                else:\n",
    "                    if len(stack[self.count]) == 0:\n",
    "                        self.count -= 1\n",
    "            except Exception as e:\n",
    "                print(url)\n",
    "                print(e)"
   ]
  },
  {
   "cell_type": "code",
   "execution_count": 19,
   "metadata": {},
   "outputs": [],
   "source": [
    "count = 0\n",
    "floors = 2\n",
    "seed = \"/item/%E7%BD%91%E7%BB%9C%E7%88%AC%E8%99%AB\"\n"
   ]
  },
  {
   "cell_type": "markdown",
   "metadata": {},
   "source": [
    "这里对结果进行分析。"
   ]
  }
 ],
 "metadata": {
  "kernelspec": {
   "display_name": "Python 3",
   "language": "python",
   "name": "python3"
  },
  "language_info": {
   "codemirror_mode": {
    "name": "ipython",
    "version": 3
   },
   "file_extension": ".py",
   "mimetype": "text/x-python",
   "name": "python",
   "nbconvert_exporter": "python",
   "pygments_lexer": "ipython3",
   "version": "3.7.3"
  }
 },
 "nbformat": 4,
 "nbformat_minor": 4
}
