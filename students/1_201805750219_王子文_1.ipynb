{
 "cells": [
  {
   "cell_type": "markdown",
   "metadata": {},
   "source": [
    "# 《数据采集与清洗》\n",
    "## 第一次作业内容： 网页抓取\n",
    "### 具体目标：\n",
    "+ 用``urllib.requests``库发起一次``get``请求，输出``response``文本信息；\n",
    "+ 用``Requests``库伪装成火狐浏览器发起一次``post``请求，输出``response``文本信息；\n",
    "+ 用``Requests``库中的``session``对象发出``get``请求，设置``cookies``并获取，输出获取的``cookies``内容；\n",
    "+ 实现抓取网页的不去重深度遍历算法，自选合适的种子网站和相关参数，输出结果；\n",
    "+ 编写抓取网页的广度遍历算法（含去重和不去重），自选合适的种子网站和相关参数，输出结果；\n",
    "+ (选)将抓取网页的去重深度遍历算法封装成对象（类），并测试。\n",
    "\n",
    "### 注：\n",
    "+ 代码要有注释，结果要有分析；\n",
    "+ 本次作业提交截至时间：2020年3月10日(星期二)；\n",
    "+ 文件命名规则: 班级号+学号+姓名+作业序号，示例：``1_20188989899_张三_1``；\n",
    "+ 提交方式：1班发送至邮箱：632994085@qq.com；2班发送至邮箱：786888939@qq.com."
   ]
  },
  {
   "cell_type": "markdown",
   "metadata": {},
   "source": [
    "### 问题1：用``urllib.requests``库发起一次``get``请求，输出``response``文本信息。"
   ]
  },
  {
   "cell_type": "code",
   "execution_count": 3,
   "metadata": {},
   "outputs": [
    {
     "name": "stdout",
     "output_type": "stream",
     "text": [
      "<!DOCTYPE html PUBLIC \"-//W3C//DTD XHTML 1.0 Transitional//EN\" \"http://www.w3.org/TR/xhtml1/DTD/xhtml1-transitional.dtd\">\r\n",
      "<html xmlns=\"http://www.w3.org/1999/xhtml\">\r\n",
      "<head>\r\n",
      "<meta http-equiv=\"Content-Type\" content=\"text/html; charset=utf-8\" />\r\n",
      "<meta name=\"baidu-site-verification\" content=\"VV7KtM5nej\" />\r\n",
      "\r\n",
      "<meta name=\"SiteName\" content=\"湖南省卫生健康委员会\"/>\r\n",
      "<meta name=\"SiteDomain\" content=\"wjw.hunan.gov.cn\"/>\r\n",
      "<meta name=\"SiteIDCode\" content=\"4300000048\"/>\r\n",
      "<meta name=\"ColumnName\" content=\"重要新闻\" />\r\n",
      "<meta name=\"ColumnDescription\" content=\"\"/>\r\n",
      "<meta name=\"ColumnKeywords\" content=\"\"/>\r\n",
      "<meta name=\"ColumnType\" content=\"\"/>\r\n",
      "<meta name=\"ArticleTitle\" content=\"湖南省新型冠状病毒肺炎疫情信息发布\"/>\r\n",
      "<meta name=\"PubDate\" content=\"2020-03-08 08:14:30\"/>\r\n",
      "<meta name=\"Keywords\" content=\"\"/>\r\n",
      "<meta name=\"Description\" content=\"\"/>\r\n",
      "\r\n",
      "<meta name=\"others\" content=\"页面生成时间 2020-03-08 08:14:30\" />\r\n",
      "<meta name=\"template,templategroup,version\" content=\"3071,default,1.9\" />\r\n",
      "<title>湖南省新型冠状病毒肺炎疫情信息发布 - 湖南省卫生健康委员会</title>\r\n",
      "<script src=\"/wjw/xhtml/js/wap.js\"></script>\r\n",
      "<link type=\"text/css\" rel=\"stylesheet\" href=\"/wjw/xhtml/css/index.css\" />\r\n",
      "<link type=\"text/css\" rel=\"stylesheet\" href=\"/wjw/xhtml/css/2016wjw_common.css\" />\r\n",
      "<link rel=\"stylesheet\" href=\"/wjw/xhtml/css/wap.css\">\r\n",
      "<script type=\"text/javascript\" src=\"/wjw/xhtml/js/jquery-1.7.1.min.js\"></script>\r\n",
      "<script type=\"text/javascript\" src=\"/wjw/xhtml/js/jquery.SuperSlide.2.1.1.js\"></script>\r\n",
      "<script type=\"text/javascript\" src=\"/wjw/xhtml/js/calendar.js\"></script>\r\n",
      "<script type=\"text/javascript\" src=\"/wjw/xhtml/js/2016wjw_tab.js\"></script>\r\n",
      "\r\n",
      "</head>\r\n",
      "\r\n",
      "<body>\r\n",
      "<!--top begin-->\r\n",
      "<script src=\"http://home.hunan.gov.cn/login/js/wjw/index.js?id=43&tc=556fb6&mc=&p=467\" charset=\"utf-8\"></script>\r\n",
      "<div class=\"top\">\r\n",
      "\t<div class=\"top_cont\">\r\n",
      "    \t<a href=\"http://www.gov.cn/\" target=\"_blank\">中国政府网</a>\r\n",
      "        <em>|</em>\r\n",
      "        <a href=\"http://www.nhfpc.gov.cn/\" target=\"_blank\">中华人民共和国卫生健康委员会</a>\r\n",
      "        <em>|</em>\r\n",
      "        <a href=\"http://www.hunan.gov.cn/\" target=\"_blank\">湖南省政府门户网站</a>\r\n",
      "    </div>\r\n",
      "</div>\r\n",
      "<!--top end-->\r\n",
      "<!--header begin-->\r\n",
      "<div class=\"header\">\r\n",
      "    <div class=\"logo\">\r\n",
      "        <a href=\"/wjw/index.html\" title=\"返回首页\" target=\"_top\"><img src=\"/wjw/xhtml/img/logo.png\" /></a>\r\n",
      "    </div>\r\n",
      "    <div class=\"search\">\r\n",
      "\t\t<select rel=\"dropselect\" cls=\"SimpleSelect\" name=\"channelid\" id=\"searchtype\">\r\n",
      "\t\t\t<option value=\"news\">站内搜索</option>\r\n",
      "\t\t\t<option value=\"all\">站群搜索</option>\r\n",
      "\t\t</select>\r\n",
      "\t\t<form method=\"get\" target=\"_top\" id=\"searchform\" name=\"searchform\" style=\"display: inline;\">\r\n",
      "            <input class=\"search_text\" name=\"q\" id=\"inputid\" type=\"text\" placeholder=\"请输入关键词进行检索\" />\r\n",
      "            <input class=\"search_sub\" id=\"submitid\" type=\"submit\" value=\"检 索\" />\r\n",
      "\t\t</form>\r\n",
      "\t</div>\r\n",
      "    <div class=\"clear\"></div>\r\n",
      "</div>\r\n",
      "<div class=\"clear\"></div>\r\n",
      "<!--header begin-->\r\n",
      "<!--nav begin-->\r\n",
      "<ul class=\"nav\">\r\n",
      "    <li class=\"li01\"><a class=\"nav01\" href=\"/wjw/index.html\" target=\"_top\">网站首页</a></li>\r\n",
      "    <li><a class=\"nav02\" href=\"/wjw/xxgk/index.html\" target=\"_top\">信息公开</a></li>\r\n",
      "    <li><a class=\"nav03\" href=\"http://zwfw-new.hunan.gov.cn/hnvirtualhall/serviceguide/jsp/hnserviceapprovegr.jsp?type=xndtbm&orgId=11b4e0a5e3fe4d5fbd226a900472464a&main=1&orgname=%2525u7701%2525u536B%2525u5065%2525u59D4&typeid=11b4e0a5e3fe4d5fbd226a900472464a&typename=%2525u7701%2525u536B%2525u5065%2525u59D4&areacode=439900000000\" target=\"_top\">办事服务</a></li>\r\n",
      "    <li><a class=\"nav04\" href=\"/wjw/hdjl/index.html\" target=\"_top\">互动交流</a></li>\r\n",
      "    <li><a class=\"nav05\" href=\"/wjw/tslm/jbxx/index.html\" target=\"_top\">简报信息</a></li>\r\n",
      "</ul>\r\n",
      "<!--nav end-->\r\n",
      "<div class=\"clear\"></div>\r\n",
      "<script>\r\n",
      "var searchform = document.getElementById(\"searchform\");\r\n",
      "searchform.onsubmit = function(){\r\n",
      "var type = document.getElementById(\"searchtype\").value;\r\n",
      "var action = 'http://searching.hunan.gov.cn/hunan/123000000/'+type;\r\n",
      "document.getElementById(\"searchform\").setAttribute(\"action\", action);\r\n",
      "searchform.submit();\r\n",
      "}\r\n",
      "</script>\r\n",
      "<!--main begin-->\r\n",
      "<div class=\"main\">\r\n",
      "\t<div class=\"main_local\">\r\n",
      "    \t<div class=\"main_local_main\">\r\n",
      "<a href='/wjw/index.html'  target=\"_self\">首页</a>><a href='/wjw/xxgk/index.html'  target=\"_self\">信息公开</a>><a href='/wjw/xxgk/gzdt/index.html'  target=\"_self\">工作动态</a>><a href='/wjw/xxgk/gzdt/zyxw_1/index.html'  target=\"_self\"><span>重要新闻</span></a>\n",
      "\r\n",
      "    \t</div>\r\n",
      "    </div>\r\n",
      "\t<div class=\"main_content\">\r\n",
      "    \t<h2>湖南省新型冠状病毒肺炎疫情信息发布</h2>\r\n",
      "        <p style=\" text-align:center; padding-bottom:20px; font-size:20px; font-weight:bold; color:#444;\"></p>\r\n",
      "        <div class=\"main_con_ftit\">\r\n",
      "        \t<p class=\"main_conftitp\">湖南省卫生健康委员会&nbsp;&nbsp;时间：2020-03-08 08:13</p>\r\n",
      "        </div>\r\n",
      "        <div class=\"main_con_zw\" id=\"j-show-body\">\r\n",
      "\r\n",
      "\r\n",
      "        \t<p><section style=\"margin: 0px; padding: 0px; max-width: 100%; box-sizing: border-box !important; word-wrap: break-word !important; color: rgb(51, 51, 51); font-family: -apple-system-font, BlinkMacSystemFont, &quot;Helvetica Neue&quot;, &quot;PingFang SC&quot;, &quot;Hiragino Sans GB&quot;, &quot;Microsoft YaHei UI&quot;, &quot;Microsoft YaHei&quot;, Arial, sans-serif; font-size: 16px; font-style: normal; font-variant-ligatures: normal; font-variant-caps: normal; font-weight: normal; letter-spacing: 1px; orphans: 2; text-align: justify; text-transform: none; white-space: normal; widows: 2; word-spacing: 0px; -webkit-text-stroke-width: 0px; background-color: rgb(255, 255, 255); text-indent: 2em; line-height: 1.75em;\"><span style=\"margin: 0px; padding: 0px; max-width: 100%; box-sizing: border-box !important; word-wrap: break-word !important; font-size: 17px; color: rgb(0, 0, 0);\">2020年3月7日0-24时，湖南省报告新型冠状病毒肺炎新增确诊病例0例，新增重症病例0例，新增死亡病例0例，新增出院病例6例。其中：</span></section><section style=\"margin: 0px; padding: 0px; max-width: 100%; box-sizing: border-box !important; word-wrap: break-word !important; color: rgb(51, 51, 51); font-family: -apple-system-font, BlinkMacSystemFont, &quot;Helvetica Neue&quot;, &quot;PingFang SC&quot;, &quot;Hiragino Sans GB&quot;, &quot;Microsoft YaHei UI&quot;, &quot;Microsoft YaHei&quot;, Arial, sans-serif; font-size: 16px; font-style: normal; font-variant-ligatures: normal; font-variant-caps: normal; font-weight: normal; letter-spacing: 1px; orphans: 2; text-align: justify; text-transform: none; white-space: normal; widows: 2; word-spacing: 0px; -webkit-text-stroke-width: 0px; background-color: rgb(255, 255, 255); text-indent: 2em; line-height: 1.75em;\"><span style=\"margin: 0px; padding: 0px; max-width: 100%; box-sizing: border-box !important; word-wrap: break-word !important; font-size: 17px; color: rgb(0, 0, 0);\">新增出院病例中，长沙市4例、岳阳市1例、郴州市1例。</span></section><section style=\"margin: 0px; padding: 0px; max-width: 100%; box-sizing: border-box !important; word-wrap: break-word !important; color: rgb(51, 51, 51); font-family: -apple-system-font, BlinkMacSystemFont, &quot;Helvetica Neue&quot;, &quot;PingFang SC&quot;, &quot;Hiragino Sans GB&quot;, &quot;Microsoft YaHei UI&quot;, &quot;Microsoft YaHei&quot;, Arial, sans-serif; font-size: 16px; font-style: normal; font-variant-ligatures: normal; font-variant-caps: normal; font-weight: normal; letter-spacing: 1px; orphans: 2; text-align: justify; text-transform: none; white-space: normal; widows: 2; word-spacing: 0px; -webkit-text-stroke-width: 0px; background-color: rgb(255, 255, 255); text-indent: 2em; line-height: 1.75em;\"><span style=\"margin: 0px; padding: 0px; max-width: 100%; box-sizing: border-box !important; word-wrap: break-word !important; font-size: 17px; color: rgb(0, 0, 0);\">截至3月7日24时，湖南省累计报告新型冠状病毒肺炎确诊病例1018例，累计报告重症病例147例，现有重症病例6例，死亡病例4例，出院病例965例，在院治疗49例。其中：</span></section><section style=\"margin: 0px; padding: 0px; max-width: 100%; box-sizing: border-box !important; word-wrap: break-word !important; color: rgb(51, 51, 51); font-family: -apple-system-font, BlinkMacSystemFont, &quot;Helvetica Neue&quot;, &quot;PingFang SC&quot;, &quot;Hiragino Sans GB&quot;, &quot;Microsoft YaHei UI&quot;, &quot;Microsoft YaHei&quot;, Arial, sans-serif; font-size: 16px; font-style: normal; font-variant-ligatures: normal; font-variant-caps: normal; font-weight: normal; letter-spacing: 1px; orphans: 2; text-align: justify; text-transform: none; white-space: normal; widows: 2; word-spacing: 0px; -webkit-text-stroke-width: 0px; background-color: rgb(255, 255, 255); text-indent: 2em; line-height: 1.75em;\"><span style=\"margin: 0px; padding: 0px; max-width: 100%; box-sizing: border-box !important; word-wrap: break-word !important; font-size: 17px; color: rgb(0, 0, 0);\">确诊病例中，长沙市242例、衡阳市48例、株洲市80例、湘潭市36例、邵阳市102例、岳阳市156例、常德市82例、张家界市5例、益阳市60例、郴州市39例、永州市44例、怀化市40例、娄底市76例、湘西自治州8例。</span></section><section style=\"margin: 0px; padding: 0px; max-width: 100%; box-sizing: border-box !important; word-wrap: break-word !important; color: rgb(51, 51, 51); font-family: -apple-system-font, BlinkMacSystemFont, &quot;Helvetica Neue&quot;, &quot;PingFang SC&quot;, &quot;Hiragino Sans GB&quot;, &quot;Microsoft YaHei UI&quot;, &quot;Microsoft YaHei&quot;, Arial, sans-serif; font-size: 16px; font-style: normal; font-variant-ligatures: normal; font-variant-caps: normal; font-weight: normal; letter-spacing: 1px; orphans: 2; text-align: justify; text-transform: none; white-space: normal; widows: 2; word-spacing: 0px; -webkit-text-stroke-width: 0px; background-color: rgb(255, 255, 255); text-indent: 2em; line-height: 1.75em;\"><span style=\"margin: 0px; padding: 0px; max-width: 100%; box-sizing: border-box !important; word-wrap: break-word !important; font-size: 17px; color: rgb(0, 0, 0);\">现有重症病例中，长沙市2例、株洲市1例、邵阳市1例、娄底市2例。</span></section><section style=\"margin: 0px; padding: 0px; max-width: 100%; box-sizing: border-box !important; word-wrap: break-word !important; color: rgb(51, 51, 51); font-family: -apple-system-font, BlinkMacSystemFont, &quot;Helvetica Neue&quot;, &quot;PingFang SC&quot;, &quot;Hiragino Sans GB&quot;, &quot;Microsoft YaHei UI&quot;, &quot;Microsoft YaHei&quot;, Arial, sans-serif; font-size: 16px; font-style: normal; font-variant-ligatures: normal; font-variant-caps: normal; font-weight: normal; letter-spacing: 1px; orphans: 2; text-align: justify; text-transform: none; white-space: normal; widows: 2; word-spacing: 0px; -webkit-text-stroke-width: 0px; background-color: rgb(255, 255, 255); text-indent: 2em; line-height: 1.75em;\"><span style=\"margin: 0px; padding: 0px; max-width: 100%; box-sizing: border-box !important; word-wrap: break-word !important; font-size: 17px; color: rgb(0, 0, 0);\">死亡病例中，长沙市2例、邵阳市1例、岳阳市1例。</span></section><section style=\"margin: 0px; padding: 0px; max-width: 100%; box-sizing: border-box !important; word-wrap: break-word !important; color: rgb(51, 51, 51); font-family: -apple-system-font, BlinkMacSystemFont, &quot;Helvetica Neue&quot;, &quot;PingFang SC&quot;, &quot;Hiragino Sans GB&quot;, &quot;Microsoft YaHei UI&quot;, &quot;Microsoft YaHei&quot;, Arial, sans-serif; font-size: 16px; font-style: normal; font-variant-ligatures: normal; font-variant-caps: normal; font-weight: normal; letter-spacing: 1px; orphans: 2; text-align: justify; text-transform: none; white-space: normal; widows: 2; word-spacing: 0px; -webkit-text-stroke-width: 0px; background-color: rgb(255, 255, 255); text-indent: 2em; line-height: 1.75em;\"><span style=\"margin: 0px; padding: 0px; max-width: 100%; box-sizing: border-box !important; word-wrap: break-word !important; font-size: 17px; color: rgb(0, 0, 0);\">出院病例中，长沙市213例、衡阳市48例、株洲市74例、湘潭市36例、邵阳市100例、岳阳市146例、常德市82例、张家界市5例、益阳市59例、郴州市39例、永州市44例、怀化市40例、娄底市71例、湘西自治州8例。</span></section><section style=\"margin: 0px; padding: 0px; max-width: 100%; box-sizing: border-box !important; word-wrap: break-word !important; color: rgb(51, 51, 51); font-family: -apple-system-font, BlinkMacSystemFont, &quot;Helvetica Neue&quot;, &quot;PingFang SC&quot;, &quot;Hiragino Sans GB&quot;, &quot;Microsoft YaHei UI&quot;, &quot;Microsoft YaHei&quot;, Arial, sans-serif; font-size: 16px; font-style: normal; font-variant-ligatures: normal; font-variant-caps: normal; font-weight: normal; letter-spacing: 1px; orphans: 2; text-align: justify; text-transform: none; white-space: normal; widows: 2; word-spacing: 0px; -webkit-text-stroke-width: 0px; background-color: rgb(255, 255, 255); text-indent: 2em; line-height: 1.75em;\"><span style=\"margin: 0px; padding: 0px; max-width: 100%; box-sizing: border-box !important; word-wrap: break-word !important; font-size: 17px; color: rgb(0, 0, 0);\">目前追踪到密切接触者26968人，已解除医学观察26826人，尚有142人正在接受医学观察。</span></section><br class=\"Apple-interchange-newline\">\n",
      "<br>\n",
      "</p>\r\n",
      "        </div>\r\n",
      "        <div class=\"mian_con_foot\">\r\n",
      "        \t<p>\r\n",
      "            \t<script>\r\n",
      "\t\t\t\t\tvar docSource = \"\";if(docSource == \"\") docSource = \"湖南省卫生健康委员会\";\r\n",
      "\t\t\t\t\tif(docSource!=\"\")document.write('信息来源：<span>'+docSource+'</span>');\r\n",
      "\t\t\t\t</script>\r\n",
      "                  \r\n",
      "                  <script>\r\n",
      "\t\t\t\t\tvar docAuthor= \"\";\r\n",
      "\t\t\t\t\tif(docAuthor!=\"\")document.write('<span style=\"margin-left:20px;color:#666\">作者：<span style=\"color:#1a70a7\">'+docAuthor+'</span></span>');\r\n",
      "\t         </script>\r\n",
      "                  \r\n",
      "            </p>\r\n",
      "            <div style=\"margin-top:8px; float:right; margin-right:15px;\">\r\n",
      "            <div class=\"bdsharebuttonbox\"><a href=\"#\" class=\"bds_more\" data-cmd=\"more\">分享到：</a><a href=\"#\" class=\"bds_qzone\" data-cmd=\"qzone\" title=\"分享到QQ空间\">QQ空间</a><a href=\"#\" class=\"bds_tsina\" data-cmd=\"tsina\" title=\"分享到新浪微博\">新浪微博</a><a href=\"#\" class=\"bds_tqq\" data-cmd=\"tqq\" title=\"分享到腾讯微博\">腾讯微博</a><a href=\"#\" class=\"bds_renren\" data-cmd=\"renren\" title=\"分享到人人网\">人人网</a><a href=\"#\" class=\"bds_weixin\" data-cmd=\"weixin\" title=\"分享到微信\">微信</a></div>\r\n",
      "<script>window._bd_share_config={\"common\":{\"bdSnsKey\":{},\"bdText\":\"\",\"bdMini\":\"2\",\"bdMiniList\":false,\"bdPic\":\"\",\"bdStyle\":\"0\",\"bdSize\":\"16\"},\"share\":{\"bdSize\":16}};with(document)0[(getElementsByTagName('head')[0]||body).appendChild(createElement('script')).src='http://bdimg.share.baidu.com/static/api/js/share.js?v=89860593.js?cdnversion='+~(-new Date()/36e5)];</script>\r\n",
      "\t\t\t</div>\r\n",
      "          <p id=\"collect\" style=\"cursor:pointer;float: right;margin-right: 20px;\">收藏</p>\r\n",
      "        </div>\r\n",
      "    </div>\r\n",
      "</div>\r\n",
      "<!--main end-->\r\n",
      "<div class=\"clear\"></div>\r\n",
      "<div class=\"clear\"></div>\r\n",
      "<!--foot begin-->\r\n",
      "<div class=\"footer\">\r\n",
      "    <div class=\"footer_main\">\r\n",
      "    \t<div class=\"gov_icon\">\r\n",
      "        \t<div id=\"_ideConac\"><script type=\"text/javascript\">document.write(unescape(\"%3Cscript src='http://dcs.conac.cn/js/19/000/0000/60645932/CA190000000606459320004.js' async='async' type='text/javascript'%3E%3C/script%3E\"));</script></div>\r\n",
      "<script id=\"_jiucuo_\" sitecode='4300000048' src='/wjw/xhtml/js/jiucuo.js' OLDSRC=\"js/jiucuo.js\" OLDID=\"66098\" RELATED=\"1\"></script>\r\n",
      "        </div>\r\n",
      "        <p>\r\n",
      "            主办单位：湖南省卫生健康委员会 &nbsp;  公安备案号:43010502000560 <br />\r\n",
      "\t\t\t地址：长沙市湘雅路30号 &nbsp;  邮编：410008 &nbsp;  网站标识码：4300000048 <br />\r\n",
      "\t\t\t备案号：湘ICP备13011827号　技术支持：湖南省人民政府发展研究中心<br/>联系电话：0731-84822000 &nbsp;&nbsp;<a target=\"_blank\" href=\"/wjw/zddt_905/index.html\" style=\"color:#fff;\">站点地图</a>\r\n",
      "        </p>\r\n",
      "    </div>\r\n",
      "</div>\r\n",
      "<script type=\"text/javascript\" src=\"http://daohang.hunan.gov.cn/HJFront/require.js\" ignoreapd=\"1\"></script>\r\n",
      "<style>\r\n",
      "#_span_jiucuo img {\r\n",
      "    margin-top: -65px !important;\r\n",
      "    margin-left: 85px!important;\r\n",
      "}\r\n",
      ".footer_main p {\r\n",
      "    margin-left: 135px;\r\n",
      "}\r\n",
      "</style>\r\n",
      "<!--foot end-->\r\n",
      "<script language=\"JavaScript\">var _trackDataType = 'web';var _trackData = _trackData || [];</script>\r\n",
      "<script type=\"text/javascript\" charset=\"utf-8\" id=\"kpyfx_js_id_10006615\" src=\"//fxsjcj.kaipuyun.cn/count/10006615/10006615.js\"></script>\r\n",
      "<script>\r\n",
      "\t// JavaScript Document\r\n",
      "\t$(document).ready(function(e) {\r\n",
      "\tvar dropselect = new WP_DropSelect();\r\n",
      "\tdropselect.init();    \r\n",
      "\t});\r\n",
      "\tfunction getLink(value,name){\r\n",
      "\t\t//alert(value);\r\n",
      "\t\tif(value!=\"\")window.open(value);\r\n",
      "\t}\r\n",
      "$(\"#j-show-body,#j-show-body *\").css(\"fontSize\",\"14pt\");\r\n",
      "$(\"#j-show-body,#j-show-body *\").css(\"fontFamily\",\"宋体\");\r\n",
      "$(\"#j-show-body,#j-show-body *\").css(\"color\",\"#333\");\r\n",
      "</script>\r\n",
      "<script>\r\n",
      "$(\"#j-show-body img,#j-show-body a\").each(function(){\r\n",
      "try{\r\n",
      "  $(this).attr(\"src\",$(this).attr(\"src\").replace(\"http://10.0.0.26:8083\",\"\"));\r\n",
      "}catch(e){}\r\n",
      "try{\r\n",
      "  $(this).attr(\"href\",$(this).attr(\"href\").replace(\"SYSIMAGEPATHFLAGhnzjj\",\"/publicfiles/business/htmlfiles/hnzjj\"));\r\n",
      "}catch(e){}\r\n",
      "});\r\n",
      "</script>\r\n",
      "<script>\r\n",
      "(function(){\r\n",
      "    var bp = document.createElement('script');\r\n",
      "    var curProtocol = window.location.protocol.split(':')[0];\r\n",
      "    if (curProtocol === 'https') {\r\n",
      "        bp.src = 'https://zz.bdstatic.com/linksubmit/push.js';        \r\n",
      "    }\r\n",
      "    else {\r\n",
      "        bp.src = 'http://push.zhanzhang.baidu.com/push.js';\r\n",
      "    }\r\n",
      "    var s = document.getElementsByTagName(\"script\")[0];\r\n",
      "    s.parentNode.insertBefore(bp, s);\r\n",
      "})();\r\n",
      "</script>\r\n",
      "  <div style=\"display:none\">\r\n",
      "    <p id=\"sc_title\">湖南省新型冠状病毒肺炎疫情信息发布</p>\r\n",
      "    <p id=\"sc_manuscriptId\">11802168</p>\r\n",
      "  </div>\r\n",
      "  <script type=\"text/javascript\" src=\"/wjw/xhtml/js/token.js\"></script>\r\n",
      "</body>\r\n",
      "</html>\n"
     ]
    }
   ],
   "source": [
    "# 这里编写代码\n",
    "import urllib.request\n",
    "\n",
    "request =urllib.request.Request(\"http://wjw.hunan.gov.cn/wjw/xxgk/gzdt/zyxw_1/202003/t20200308_11802168.html\")\n",
    "response = urllib.request.urlopen(request)\n",
    "print(response.read().decode(\"utf-8\"))"
   ]
  },
  {
   "cell_type": "code",
   "execution_count": null,
   "metadata": {},
   "outputs": [],
   "source": []
  },
  {
   "cell_type": "markdown",
   "metadata": {},
   "source": [
    "这里对结果进行分析。"
   ]
  },
  {
   "cell_type": "markdown",
   "metadata": {},
   "source": [
    "### 用``Requests``库伪装成火狐浏览器发起一次``post``请求，输出``response``文本信息。"
   ]
  },
  {
   "cell_type": "code",
   "execution_count": 3,
   "metadata": {},
   "outputs": [
    {
     "name": "stdout",
     "output_type": "stream",
     "text": [
      "<html>\r\n",
      "<head><title>405 Not Allowed</title></head>\r\n",
      "<body>\r\n",
      "<center><h1>405 Not Allowed</h1></center>\r\n",
      "<hr><center>nginx</center>\r\n",
      "</body>\r\n",
      "</html>\r\n",
      "<!-- a padding to disable MSIE and Chrome friendly error page -->\r\n",
      "<!-- a padding to disable MSIE and Chrome friendly error page -->\r\n",
      "<!-- a padding to disable MSIE and Chrome friendly error page -->\r\n",
      "<!-- a padding to disable MSIE and Chrome friendly error page -->\r\n",
      "<!-- a padding to disable MSIE and Chrome friendly error page -->\r\n",
      "<!-- a padding to disable MSIE and Chrome friendly error page -->\r\n",
      "\n"
     ]
    }
   ],
   "source": [
    "# 这里编写代码\n",
    "import requests\n",
    "import json\n",
    "header = {\n",
    "    #伪装一个火狐浏览器\n",
    "    \"User-Agent\":'Mozilla/4.0 (compatible; MSIE 5.5; Windows NT)'\n",
    "          }\n",
    "body = {\"name\":\"长沙\"}\n",
    "url = \"http://wjw.hunan.gov.cn/wjw/xxgk/gzdt/zyxw_1/202003/t20200309_11802533.html\"\n",
    "r = requests.post(url,data = json.dumps(body),headers = header)\n",
    "print(r.text)"
   ]
  },
  {
   "cell_type": "code",
   "execution_count": null,
   "metadata": {},
   "outputs": [],
   "source": []
  },
  {
   "cell_type": "markdown",
   "metadata": {},
   "source": [
    "这里对结果进行分析。"
   ]
  },
  {
   "cell_type": "markdown",
   "metadata": {},
   "source": [
    "### 用``Requests``库中的``session``对象发出``get``请求，设置``cookies``并获取，输出获取的``cookies``内容。 "
   ]
  },
  {
   "cell_type": "code",
   "execution_count": 9,
   "metadata": {},
   "outputs": [
    {
     "data": {
      "text/plain": [
       "'<!DOCTYPE html PUBLIC \"-//W3C//DTD XHTML 1.0 Transitional//EN\" \"http://www.w3.org/TR/xhtml1/DTD/xhtml1-transitional.dtd\">\\r\\n<html xmlns=\"http://www.w3.org/1999/xhtml\">\\r\\n<head>\\r\\n<meta http-equiv=\"Content-Type\" content=\"text/html; charset=utf-8\" />\\r\\n<meta name=\"baidu-site-verification\" content=\"VV7KtM5nej\" />\\r\\n\\r\\n<meta name=\"SiteName\" content=\"æ¹\\x96å\\x8d\\x97ç\\x9c\\x81å\\x8d«ç\\x94\\x9få\\x81¥åº·å§\\x94å\\x91\\x98ä¼\\x9a\"/>\\r\\n<meta name=\"SiteDomain\" content=\"wjw.hunan.gov.cn\"/>\\r\\n<meta name=\"SiteIDCode\" content=\"4300000048\"/>\\r\\n<meta name=\"ColumnName\" content=\"é\\x87\\x8dè¦\\x81æ\\x96°é\\x97»\" />\\r\\n<meta name=\"ColumnDescription\" content=\"\"/>\\r\\n<meta name=\"ColumnKeywords\" content=\"\"/>\\r\\n<meta name=\"ColumnType\" content=\"\"/>\\r\\n<meta name=\"ArticleTitle\" content=\"æ¹\\x96å\\x8d\\x97ç\\x9c\\x81æ\\x96°å\\x9e\\x8bå\\x86\\xa0ç\\x8a¶ç\\x97\\x85æ¯\\x92è\\x82ºç\\x82\\x8eç\\x96«æ\\x83\\x85ä¿¡æ\\x81¯å\\x8f\\x91å¸\\x83\"/>\\r\\n<meta name=\"PubDate\" content=\"2020-03-09 08:53:04\"/>\\r\\n<meta name=\"Keywords\" content=\"\"/>\\r\\n<meta name=\"Description\" content=\"\"/>\\r\\n\\r\\n<meta name=\"others\" content=\"é¡µé\\x9d¢ç\\x94\\x9fæ\\x88\\x90æ\\x97¶é\\x97´ 2020-03-09 08:53:04\" />\\r\\n<meta name=\"template,templategroup,version\" content=\"3071,default,1.9\" />\\r\\n<title>æ¹\\x96å\\x8d\\x97ç\\x9c\\x81æ\\x96°å\\x9e\\x8bå\\x86\\xa0ç\\x8a¶ç\\x97\\x85æ¯\\x92è\\x82ºç\\x82\\x8eç\\x96«æ\\x83\\x85ä¿¡æ\\x81¯å\\x8f\\x91å¸\\x83 - æ¹\\x96å\\x8d\\x97ç\\x9c\\x81å\\x8d«ç\\x94\\x9få\\x81¥åº·å§\\x94å\\x91\\x98ä¼\\x9a</title>\\r\\n<script src=\"/wjw/xhtml/js/wap.js\"></script>\\r\\n<link type=\"text/css\" rel=\"stylesheet\" href=\"/wjw/xhtml/css/index.css\" />\\r\\n<link type=\"text/css\" rel=\"stylesheet\" href=\"/wjw/xhtml/css/2016wjw_common.css\" />\\r\\n<link rel=\"stylesheet\" href=\"/wjw/xhtml/css/wap.css\">\\r\\n<script type=\"text/javascript\" src=\"/wjw/xhtml/js/jquery-1.7.1.min.js\"></script>\\r\\n<script type=\"text/javascript\" src=\"/wjw/xhtml/js/jquery.SuperSlide.2.1.1.js\"></script>\\r\\n<script type=\"text/javascript\" src=\"/wjw/xhtml/js/calendar.js\"></script>\\r\\n<script type=\"text/javascript\" src=\"/wjw/xhtml/js/2016wjw_tab.js\"></script>\\r\\n\\r\\n</head>\\r\\n\\r\\n<body>\\r\\n<!--top begin-->\\r\\n<script src=\"http://home.hunan.gov.cn/login/js/wjw/index.js?id=43&tc=556fb6&mc=&p=467\" charset=\"utf-8\"></script>\\r\\n<div class=\"top\">\\r\\n\\t<div class=\"top_cont\">\\r\\n    \\t<a href=\"http://www.gov.cn/\" target=\"_blank\">ä¸\\xadå\\x9b½æ\\x94¿åº\\x9cç½\\x91</a>\\r\\n        <em>|</em>\\r\\n        <a href=\"http://www.nhfpc.gov.cn/\" target=\"_blank\">ä¸\\xadå\\x8d\\x8eäººæ°\\x91å\\x85±å\\x92\\x8cå\\x9b½å\\x8d«ç\\x94\\x9få\\x81¥åº·å§\\x94å\\x91\\x98ä¼\\x9a</a>\\r\\n        <em>|</em>\\r\\n        <a href=\"http://www.hunan.gov.cn/\" target=\"_blank\">æ¹\\x96å\\x8d\\x97ç\\x9c\\x81æ\\x94¿åº\\x9cé\\x97¨æ\\x88·ç½\\x91ç«\\x99</a>\\r\\n    </div>\\r\\n</div>\\r\\n<!--top end-->\\r\\n<!--header begin-->\\r\\n<div class=\"header\">\\r\\n    <div class=\"logo\">\\r\\n        <a href=\"/wjw/index.html\" title=\"è¿\\x94å\\x9b\\x9eé¦\\x96é¡µ\" target=\"_top\"><img src=\"/wjw/xhtml/img/logo.png\" /></a>\\r\\n    </div>\\r\\n    <div class=\"search\">\\r\\n\\t\\t<select rel=\"dropselect\" cls=\"SimpleSelect\" name=\"channelid\" id=\"searchtype\">\\r\\n\\t\\t\\t<option value=\"news\">ç«\\x99å\\x86\\x85æ\\x90\\x9cç´¢</option>\\r\\n\\t\\t\\t<option value=\"all\">ç«\\x99ç¾¤æ\\x90\\x9cç´¢</option>\\r\\n\\t\\t</select>\\r\\n\\t\\t<form method=\"get\" target=\"_top\" id=\"searchform\" name=\"searchform\" style=\"display: inline;\">\\r\\n            <input class=\"search_text\" name=\"q\" id=\"inputid\" type=\"text\" placeholder=\"è¯·è¾\\x93å\\x85¥å\\x85³é\\x94®è¯\\x8dè¿\\x9bè¡\\x8cæ£\\x80ç´¢\" />\\r\\n            <input class=\"search_sub\" id=\"submitid\" type=\"submit\" value=\"æ£\\x80 ç´¢\" />\\r\\n\\t\\t</form>\\r\\n\\t</div>\\r\\n    <div class=\"clear\"></div>\\r\\n</div>\\r\\n<div class=\"clear\"></div>\\r\\n<!--header begin-->\\r\\n<!--nav begin-->\\r\\n<ul class=\"nav\">\\r\\n    <li class=\"li01\"><a class=\"nav01\" href=\"/wjw/index.html\" target=\"_top\">ç½\\x91ç«\\x99é¦\\x96é¡µ</a></li>\\r\\n    <li><a class=\"nav02\" href=\"/wjw/xxgk/index.html\" target=\"_top\">ä¿¡æ\\x81¯å\\x85¬å¼\\x80</a></li>\\r\\n    <li><a class=\"nav03\" href=\"http://zwfw-new.hunan.gov.cn/hnvirtualhall/serviceguide/jsp/hnserviceapprovegr.jsp?type=xndtbm&orgId=11b4e0a5e3fe4d5fbd226a900472464a&main=1&orgname=%2525u7701%2525u536B%2525u5065%2525u59D4&typeid=11b4e0a5e3fe4d5fbd226a900472464a&typename=%2525u7701%2525u536B%2525u5065%2525u59D4&areacode=439900000000\" target=\"_top\">å\\x8a\\x9eäº\\x8bæ\\x9c\\x8då\\x8a¡</a></li>\\r\\n    <li><a class=\"nav04\" href=\"/wjw/hdjl/index.html\" target=\"_top\">äº\\x92å\\x8a¨äº¤æµ\\x81</a></li>\\r\\n    <li><a class=\"nav05\" href=\"/wjw/tslm/jbxx/index.html\" target=\"_top\">ç®\\x80æ\\x8a¥ä¿¡æ\\x81¯</a></li>\\r\\n</ul>\\r\\n<!--nav end-->\\r\\n<div class=\"clear\"></div>\\r\\n<script>\\r\\nvar searchform = document.getElementById(\"searchform\");\\r\\nsearchform.onsubmit = function(){\\r\\nvar type = document.getElementById(\"searchtype\").value;\\r\\nvar action = \\'http://searching.hunan.gov.cn/hunan/123000000/\\'+type;\\r\\ndocument.getElementById(\"searchform\").setAttribute(\"action\", action);\\r\\nsearchform.submit();\\r\\n}\\r\\n</script>\\r\\n<!--main begin-->\\r\\n<div class=\"main\">\\r\\n\\t<div class=\"main_local\">\\r\\n    \\t<div class=\"main_local_main\">\\r\\n<a href=\\'/wjw/index.html\\'  target=\"_self\">é¦\\x96é¡µ</a>><a href=\\'/wjw/xxgk/index.html\\'  target=\"_self\">ä¿¡æ\\x81¯å\\x85¬å¼\\x80</a>><a href=\\'/wjw/xxgk/gzdt/index.html\\'  target=\"_self\">å·¥ä½\\x9cå\\x8a¨æ\\x80\\x81</a>><a href=\\'/wjw/xxgk/gzdt/zyxw_1/index.html\\'  target=\"_self\"><span>é\\x87\\x8dè¦\\x81æ\\x96°é\\x97»</span></a>\\n\\r\\n    \\t</div>\\r\\n    </div>\\r\\n\\t<div class=\"main_content\">\\r\\n    \\t<h2>æ¹\\x96å\\x8d\\x97ç\\x9c\\x81æ\\x96°å\\x9e\\x8bå\\x86\\xa0ç\\x8a¶ç\\x97\\x85æ¯\\x92è\\x82ºç\\x82\\x8eç\\x96«æ\\x83\\x85ä¿¡æ\\x81¯å\\x8f\\x91å¸\\x83</h2>\\r\\n        <p style=\" text-align:center; padding-bottom:20px; font-size:20px; font-weight:bold; color:#444;\"></p>\\r\\n        <div class=\"main_con_ftit\">\\r\\n        \\t<p class=\"main_conftitp\">æ¹\\x96å\\x8d\\x97ç\\x9c\\x81å\\x8d«ç\\x94\\x9få\\x81¥åº·å§\\x94å\\x91\\x98ä¼\\x9a&nbsp;&nbsp;æ\\x97¶é\\x97´ï¼\\x9a2020-03-09 08:52</p>\\r\\n        </div>\\r\\n        <div class=\"main_con_zw\" id=\"j-show-body\">\\r\\n\\r\\n\\r\\n        \\t<p align=\"\" style=\"margin-top: 0px; margin-bottom: 0.5em; text-indent: 2em; text-align: justify; line-height: 2; font-family: å®\\x8bä½\\x93; font-size: 14pt;\"></p>\\n<section><span style=\"font-family: å®\\x8bä½\\x93; font-size: 14pt;\">&ensp;&ensp;&ensp;&ensp;2020å¹´3æ\\x9c\\x888æ\\x97¥0-24æ\\x97¶,æ¹\\x96å\\x8d\\x97ç\\x9c\\x81æ\\x8a¥å\\x91\\x8aæ\\x96°å\\x9e\\x8bå\\x86\\xa0ç\\x8a¶ç\\x97\\x85æ¯\\x92è\\x82ºç\\x82\\x8eæ\\x96°å¢\\x9eç¡®è¯\\x8aç\\x97\\x85ä¾\\x8b0ä¾\\x8b,æ\\x96°å¢\\x9eé\\x87\\x8dç\\x97\\x87ç\\x97\\x85ä¾\\x8b3ä¾\\x8b,æ\\x96°å¢\\x9eæ\\xad»äº¡ç\\x97\\x85ä¾\\x8b0ä¾\\x8b,æ\\x96°å¢\\x9eå\\x87ºé\\x99¢ç\\x97\\x85ä¾\\x8b14ä¾\\x8bã\\x80\\x82å\\x85¶ä¸\\xad:</span></section><section><span style=\"font-family: å®\\x8bä½\\x93; font-size: 14pt;\">&ensp;&ensp;&ensp;&ensp;æ\\x96°å¢\\x9eé\\x87\\x8dç\\x97\\x87ç\\x97\\x85ä¾\\x8bä¸\\xad,æ\\xa0ªæ´²å¸\\x823ä¾\\x8b(æ\\x97¢å¾\\x80é\\x87\\x8dç\\x97\\x87ç½\\x91ç»\\x9cè®¢æ\\xad£)ã\\x80\\x82</span></section><section><span style=\"font-family: å®\\x8bä½\\x93; font-size: 14pt;\">&ensp;&ensp;&ensp;&ensp;æ\\x96°å¢\\x9eå\\x87ºé\\x99¢ç\\x97\\x85ä¾\\x8bä¸\\xad,é\\x95¿æ²\\x99å¸\\x823ä¾\\x8bã\\x80\\x81æ\\xa0ªæ´²å¸\\x822ä¾\\x8bã\\x80\\x81å²³é\\x98³å¸\\x825ä¾\\x8bã\\x80\\x81ç\\x9b\\x8aé\\x98³å¸\\x821ä¾\\x8bã\\x80\\x81å¨\\x84åº\\x95å¸\\x823ä¾\\x8bã\\x80\\x82</span></section><section><span style=\"font-family: å®\\x8bä½\\x93; font-size: 14pt;\">&ensp;&ensp;&ensp;&ensp;æ\\x88ªè\\x87³3æ\\x9c\\x888æ\\x97¥24æ\\x97¶,æ¹\\x96å\\x8d\\x97ç\\x9c\\x81ç´¯è®¡æ\\x8a¥å\\x91\\x8aæ\\x96°å\\x9e\\x8bå\\x86\\xa0ç\\x8a¶ç\\x97\\x85æ¯\\x92è\\x82ºç\\x82\\x8eç¡®è¯\\x8aç\\x97\\x85ä¾\\x8b1018ä¾\\x8b,ç´¯è®¡æ\\x8a¥å\\x91\\x8aé\\x87\\x8dç\\x97\\x87ç\\x97\\x85ä¾\\x8b150ä¾\\x8b,ç\\x8e°æ\\x9c\\x89é\\x87\\x8dç\\x97\\x87ç\\x97\\x85ä¾\\x8b6ä¾\\x8b,æ\\xad»äº¡ç\\x97\\x85ä¾\\x8b4ä¾\\x8b,å\\x87ºé\\x99¢ç\\x97\\x85ä¾\\x8b979ä¾\\x8b,å\\x9c¨é\\x99¢æ²»ç\\x96\\x9735ä¾\\x8bã\\x80\\x82å\\x85¶ä¸\\xad:</span></section><section><span style=\"font-family: å®\\x8bä½\\x93; font-size: 14pt;\">&ensp;&ensp;&ensp;&ensp;ç¡®è¯\\x8aç\\x97\\x85ä¾\\x8bä¸\\xad,é\\x95¿æ²\\x99å¸\\x82242ä¾\\x8bã\\x80\\x81è¡¡é\\x98³å¸\\x8248ä¾\\x8bã\\x80\\x81æ\\xa0ªæ´²å¸\\x8280ä¾\\x8bã\\x80\\x81æ¹\\x98æ½\\xadå¸\\x8236ä¾\\x8bã\\x80\\x81é\\x82µé\\x98³å¸\\x82102ä¾\\x8bã\\x80\\x81å²³é\\x98³å¸\\x82156ä¾\\x8bã\\x80\\x81å¸¸å¾·å¸\\x8282ä¾\\x8bã\\x80\\x81å¼\\xa0å®¶ç\\x95\\x8cå¸\\x825ä¾\\x8bã\\x80\\x81ç\\x9b\\x8aé\\x98³å¸\\x8260ä¾\\x8bã\\x80\\x81é\\x83´å·\\x9eå¸\\x8239ä¾\\x8bã\\x80\\x81æ°¸å·\\x9eå¸\\x8244ä¾\\x8bã\\x80\\x81æ\\x80\\x80å\\x8c\\x96å¸\\x8240ä¾\\x8bã\\x80\\x81å¨\\x84åº\\x95å¸\\x8276ä¾\\x8bã\\x80\\x81æ¹\\x98è¥¿è\\x87ªæ²»å·\\x9e8ä¾\\x8bã\\x80\\x82</span></section><section><span style=\"font-family: å®\\x8bä½\\x93; font-size: 14pt;\">&ensp;&ensp;&ensp;&ensp;ç\\x8e°æ\\x9c\\x89é\\x87\\x8dç\\x97\\x87ç\\x97\\x85ä¾\\x8bä¸\\xad,é\\x95¿æ²\\x99å¸\\x822ä¾\\x8bã\\x80\\x81æ\\xa0ªæ´²å¸\\x821ä¾\\x8bã\\x80\\x81é\\x82µé\\x98³å¸\\x821ä¾\\x8bã\\x80\\x81å¨\\x84åº\\x95å¸\\x822ä¾\\x8bã\\x80\\x82</span></section><section><span style=\"font-family: å®\\x8bä½\\x93; font-size: 14pt;\">&ensp;&ensp;&ensp;&ensp;æ\\xad»äº¡ç\\x97\\x85ä¾\\x8bä¸\\xad,é\\x95¿æ²\\x99å¸\\x822ä¾\\x8bã\\x80\\x81é\\x82µé\\x98³å¸\\x821ä¾\\x8bã\\x80\\x81å²³é\\x98³å¸\\x821ä¾\\x8bã\\x80\\x82</span></section><section><span style=\"font-family: å®\\x8bä½\\x93; font-size: 14pt;\">&ensp;&ensp;&ensp;&ensp;å\\x87ºé\\x99¢ç\\x97\\x85ä¾\\x8bä¸\\xad,é\\x95¿æ²\\x99å¸\\x82216ä¾\\x8bã\\x80\\x81è¡¡é\\x98³å¸\\x8248ä¾\\x8bã\\x80\\x81æ\\xa0ªæ´²å¸\\x8276ä¾\\x8bã\\x80\\x81æ¹\\x98æ½\\xadå¸\\x8236ä¾\\x8bã\\x80\\x81é\\x82µé\\x98³å¸\\x82100ä¾\\x8bã\\x80\\x81å²³é\\x98³å¸\\x82151ä¾\\x8bã\\x80\\x81å¸¸å¾·å¸\\x8282ä¾\\x8bã\\x80\\x81å¼\\xa0å®¶ç\\x95\\x8cå¸\\x825ä¾\\x8bã\\x80\\x81ç\\x9b\\x8aé\\x98³å¸\\x8260ä¾\\x8bã\\x80\\x81é\\x83´å·\\x9eå¸\\x8239ä¾\\x8bã\\x80\\x81æ°¸å·\\x9eå¸\\x8244ä¾\\x8bã\\x80\\x81æ\\x80\\x80å\\x8c\\x96å¸\\x8240ä¾\\x8bã\\x80\\x81å¨\\x84åº\\x95å¸\\x8274ä¾\\x8bã\\x80\\x81æ¹\\x98è¥¿è\\x87ªæ²»å·\\x9e8ä¾\\x8bã\\x80\\x82</span></section><section><span style=\"font-family: å®\\x8bä½\\x93; font-size: 14pt;\">&ensp;&ensp;&ensp;&ensp;ç\\x9b®å\\x89\\x8dè¿½è¸ªå\\x88°å¯\\x86å\\x88\\x87æ\\x8e¥è§¦è\\x80\\x8526969äºº,å·²è§£é\\x99¤å\\x8c»å\\xad¦è§\\x82å¯\\x9f26837äºº,å°\\x9aæ\\x9c\\x89132äººæ\\xad£å\\x9c¨æ\\x8e¥å\\x8f\\x97å\\x8c»å\\xad¦è§\\x82å¯\\x9fã\\x80\\x82</span></section>\\n<p align=\"\" style=\"margin-top: 0px; margin-bottom: 0.5em; text-indent: 2em; text-align: justify; line-height: 2; font-family: å®\\x8bä½\\x93; font-size: 14pt;\"></p>\\r\\n        </div>\\r\\n        <div class=\"mian_con_foot\">\\r\\n        \\t<p>\\r\\n            \\t<script>\\r\\n\\t\\t\\t\\t\\tvar docSource = \"\";if(docSource == \"\") docSource = \"æ¹\\x96å\\x8d\\x97ç\\x9c\\x81å\\x8d«ç\\x94\\x9få\\x81¥åº·å§\\x94å\\x91\\x98ä¼\\x9a\";\\r\\n\\t\\t\\t\\t\\tif(docSource!=\"\")document.write(\\'ä¿¡æ\\x81¯æ\\x9d¥æº\\x90ï¼\\x9a<span>\\'+docSource+\\'</span>\\');\\r\\n\\t\\t\\t\\t</script>\\r\\n                  \\r\\n                  <script>\\r\\n\\t\\t\\t\\t\\tvar docAuthor= \"\";\\r\\n\\t\\t\\t\\t\\tif(docAuthor!=\"\")document.write(\\'<span style=\"margin-left:20px;color:#666\">ä½\\x9cè\\x80\\x85ï¼\\x9a<span style=\"color:#1a70a7\">\\'+docAuthor+\\'</span></span>\\');\\r\\n\\t         </script>\\r\\n                  \\r\\n            </p>\\r\\n            <div style=\"margin-top:8px; float:right; margin-right:15px;\">\\r\\n            <div class=\"bdsharebuttonbox\"><a href=\"#\" class=\"bds_more\" data-cmd=\"more\">å\\x88\\x86äº«å\\x88°ï¼\\x9a</a><a href=\"#\" class=\"bds_qzone\" data-cmd=\"qzone\" title=\"å\\x88\\x86äº«å\\x88°QQç©ºé\\x97´\">QQç©ºé\\x97´</a><a href=\"#\" class=\"bds_tsina\" data-cmd=\"tsina\" title=\"å\\x88\\x86äº«å\\x88°æ\\x96°æµªå¾®å\\x8d\\x9a\">æ\\x96°æµªå¾®å\\x8d\\x9a</a><a href=\"#\" class=\"bds_tqq\" data-cmd=\"tqq\" title=\"å\\x88\\x86äº«å\\x88°è\\x85¾è®¯å¾®å\\x8d\\x9a\">è\\x85¾è®¯å¾®å\\x8d\\x9a</a><a href=\"#\" class=\"bds_renren\" data-cmd=\"renren\" title=\"å\\x88\\x86äº«å\\x88°äººäººç½\\x91\">äººäººç½\\x91</a><a href=\"#\" class=\"bds_weixin\" data-cmd=\"weixin\" title=\"å\\x88\\x86äº«å\\x88°å¾®ä¿¡\">å¾®ä¿¡</a></div>\\r\\n<script>window._bd_share_config={\"common\":{\"bdSnsKey\":{},\"bdText\":\"\",\"bdMini\":\"2\",\"bdMiniList\":false,\"bdPic\":\"\",\"bdStyle\":\"0\",\"bdSize\":\"16\"},\"share\":{\"bdSize\":16}};with(document)0[(getElementsByTagName(\\'head\\')[0]||body).appendChild(createElement(\\'script\\')).src=\\'http://bdimg.share.baidu.com/static/api/js/share.js?v=89860593.js?cdnversion=\\'+~(-new Date()/36e5)];</script>\\r\\n\\t\\t\\t</div>\\r\\n          <p id=\"collect\" style=\"cursor:pointer;float: right;margin-right: 20px;\">æ\\x94¶è\\x97\\x8f</p>\\r\\n        </div>\\r\\n    </div>\\r\\n</div>\\r\\n<!--main end-->\\r\\n<div class=\"clear\"></div>\\r\\n<div class=\"clear\"></div>\\r\\n<!--foot begin-->\\r\\n<div class=\"footer\">\\r\\n    <div class=\"footer_main\">\\r\\n    \\t<div class=\"gov_icon\">\\r\\n        \\t<div id=\"_ideConac\"><script type=\"text/javascript\">document.write(unescape(\"%3Cscript src=\\'http://dcs.conac.cn/js/19/000/0000/60645932/CA190000000606459320004.js\\' async=\\'async\\' type=\\'text/javascript\\'%3E%3C/script%3E\"));</script></div>\\r\\n<script id=\"_jiucuo_\" sitecode=\\'4300000048\\' src=\\'/wjw/xhtml/js/jiucuo.js\\' OLDSRC=\"js/jiucuo.js\" OLDID=\"66098\" RELATED=\"1\"></script>\\r\\n        </div>\\r\\n        <p>\\r\\n            ä¸»å\\x8a\\x9eå\\x8d\\x95ä½\\x8dï¼\\x9aæ¹\\x96å\\x8d\\x97ç\\x9c\\x81å\\x8d«ç\\x94\\x9få\\x81¥åº·å§\\x94å\\x91\\x98ä¼\\x9a &nbsp;  å\\x85¬å®\\x89å¤\\x87æ¡\\x88å\\x8f·:43010502000560 <br />\\r\\n\\t\\t\\tå\\x9c°å\\x9d\\x80ï¼\\x9aé\\x95¿æ²\\x99å¸\\x82æ¹\\x98é\\x9b\\x85è·¯30å\\x8f· &nbsp;  é\\x82®ç¼\\x96ï¼\\x9a410008 &nbsp;  ç½\\x91ç«\\x99æ\\xa0\\x87è¯\\x86ç\\xa0\\x81ï¼\\x9a4300000048 <br />\\r\\n\\t\\t\\tå¤\\x87æ¡\\x88å\\x8f·ï¼\\x9aæ¹\\x98ICPå¤\\x8713011827å\\x8f·ã\\x80\\x80æ\\x8a\\x80æ\\x9c¯æ\\x94¯æ\\x8c\\x81ï¼\\x9aæ¹\\x96å\\x8d\\x97ç\\x9c\\x81äººæ°\\x91æ\\x94¿åº\\x9cå\\x8f\\x91å±\\x95ç\\xa0\\x94ç©¶ä¸\\xadå¿\\x83<br/>è\\x81\\x94ç³»ç\\x94µè¯\\x9dï¼\\x9a0731-84822000 &nbsp;&nbsp;<a target=\"_blank\" href=\"/wjw/zddt_905/index.html\" style=\"color:#fff;\">ç«\\x99ç\\x82¹å\\x9c°å\\x9b¾</a>\\r\\n        </p>\\r\\n    </div>\\r\\n</div>\\r\\n<script type=\"text/javascript\" src=\"http://daohang.hunan.gov.cn/HJFront/require.js\" ignoreapd=\"1\"></script>\\r\\n<style>\\r\\n#_span_jiucuo img {\\r\\n    margin-top: -65px !important;\\r\\n    margin-left: 85px!important;\\r\\n}\\r\\n.footer_main p {\\r\\n    margin-left: 135px;\\r\\n}\\r\\n</style>\\r\\n<!--foot end-->\\r\\n<script language=\"JavaScript\">var _trackDataType = \\'web\\';var _trackData = _trackData || [];</script>\\r\\n<script type=\"text/javascript\" charset=\"utf-8\" id=\"kpyfx_js_id_10006615\" src=\"//fxsjcj.kaipuyun.cn/count/10006615/10006615.js\"></script>\\r\\n<script>\\r\\n\\t// JavaScript Document\\r\\n\\t$(document).ready(function(e) {\\r\\n\\tvar dropselect = new WP_DropSelect();\\r\\n\\tdropselect.init();    \\r\\n\\t});\\r\\n\\tfunction getLink(value,name){\\r\\n\\t\\t//alert(value);\\r\\n\\t\\tif(value!=\"\")window.open(value);\\r\\n\\t}\\r\\n$(\"#j-show-body,#j-show-body *\").css(\"fontSize\",\"14pt\");\\r\\n$(\"#j-show-body,#j-show-body *\").css(\"fontFamily\",\"å®\\x8bä½\\x93\");\\r\\n$(\"#j-show-body,#j-show-body *\").css(\"color\",\"#333\");\\r\\n</script>\\r\\n<script>\\r\\n$(\"#j-show-body img,#j-show-body a\").each(function(){\\r\\ntry{\\r\\n  $(this).attr(\"src\",$(this).attr(\"src\").replace(\"http://10.0.0.26:8083\",\"\"));\\r\\n}catch(e){}\\r\\ntry{\\r\\n  $(this).attr(\"href\",$(this).attr(\"href\").replace(\"SYSIMAGEPATHFLAGhnzjj\",\"/publicfiles/business/htmlfiles/hnzjj\"));\\r\\n}catch(e){}\\r\\n});\\r\\n</script>\\r\\n<script>\\r\\n(function(){\\r\\n    var bp = document.createElement(\\'script\\');\\r\\n    var curProtocol = window.location.protocol.split(\\':\\')[0];\\r\\n    if (curProtocol === \\'https\\') {\\r\\n        bp.src = \\'https://zz.bdstatic.com/linksubmit/push.js\\';        \\r\\n    }\\r\\n    else {\\r\\n        bp.src = \\'http://push.zhanzhang.baidu.com/push.js\\';\\r\\n    }\\r\\n    var s = document.getElementsByTagName(\"script\")[0];\\r\\n    s.parentNode.insertBefore(bp, s);\\r\\n})();\\r\\n</script>\\r\\n  <div style=\"display:none\">\\r\\n    <p id=\"sc_title\">æ¹\\x96å\\x8d\\x97ç\\x9c\\x81æ\\x96°å\\x9e\\x8bå\\x86\\xa0ç\\x8a¶ç\\x97\\x85æ¯\\x92è\\x82ºç\\x82\\x8eç\\x96«æ\\x83\\x85ä¿¡æ\\x81¯å\\x8f\\x91å¸\\x83</p>\\r\\n    <p id=\"sc_manuscriptId\">11802533</p>\\r\\n  </div>\\r\\n  <script type=\"text/javascript\" src=\"/wjw/xhtml/js/token.js\"></script>\\r\\n</body>\\r\\n</html>'"
      ]
     },
     "execution_count": 9,
     "metadata": {},
     "output_type": "execute_result"
    }
   ],
   "source": [
    "# 这里编写代码\n",
    "import requests\n",
    "s = requests.Session()\n",
    "s.get('http://wjw.hunan.gov.cn/wjw/xxgk/gzdt/zyxw_1/202003/t20200309_11802533.html/cookies/set/sessioncookie/123456789')\n",
    "r = s.get('http://wjw.hunan.gov.cn/wjw/xxgk/gzdt/zyxw_1/202003/t20200309_11802533.html')\n",
    "r.text"
   ]
  },
  {
   "cell_type": "code",
   "execution_count": null,
   "metadata": {},
   "outputs": [],
   "source": []
  },
  {
   "cell_type": "markdown",
   "metadata": {},
   "source": [
    "这里对结果进行分析。"
   ]
  },
  {
   "cell_type": "markdown",
   "metadata": {},
   "source": [
    "### 实现抓取网页的不去重深度遍历算法，自选合适的种子网站和相关参数，输出结果。\n"
   ]
  },
  {
   "cell_type": "code",
   "execution_count": null,
   "metadata": {},
   "outputs": [],
   "source": [
    "# 这里编写代码\n",
    "import requests,re\n",
    "count = 10\n",
    "r = re.compile(r'href=[\\''']?(http[^\\'''>]+)')\n",
    "seed = 'http://wjw.hunan.gov.cn/wjw/xxgk/gzdt/zyxw_1/202003/t20200309_11802533.html'\n",
    "stack = [seed]\n",
    "storage = {}\n",
    "while len(queue)>0 and count>0:\n",
    "    try:\n",
    "        url = stack.pop(-1)\n",
    "        html = requests.get(url).text\n",
    "        new_urls = r.findall(html)\n",
    "        stack.extend(new_urls)\n",
    "        storage[url] = len(new_urls)\n",
    "        count = -1\n",
    "    except Exception as e:\n",
    "        print(url)\n",
    "        print(e)"
   ]
  },
  {
   "cell_type": "code",
   "execution_count": null,
   "metadata": {},
   "outputs": [],
   "source": []
  },
  {
   "cell_type": "markdown",
   "metadata": {},
   "source": [
    "这里对结果进行分析。"
   ]
  },
  {
   "cell_type": "markdown",
   "metadata": {},
   "source": [
    "### 编写抓取网页的广度遍历算法（含去重和不去重），自选合适的种子网站和相关参数，输出结果。 "
   ]
  },
  {
   "cell_type": "code",
   "execution_count": null,
   "metadata": {},
   "outputs": [],
   "source": [
    "# 这里编写代码\n",
    "import requests,re\n",
    "count = 10\n",
    "r = re.compile(r'href=[\\''']?(http[^\\'''>]+)')\n",
    "seed = 'http://wjw.hunan.gov.cn/wjw/xxgk/gzdt/zyxw_1/202003/t20200309_11802533.html'\n",
    "queue = [seed]\n",
    "used = set()\n",
    "storage = {}\n",
    "while len(queue)>0 and count>0:\n",
    "    try:\n",
    "        url = queue.pop(0)\n",
    "        html = requests.get(url).text\n",
    "        new_urls = r.findall(html)\n",
    "        queue.extend(new_urls)\n",
    "        storage[url] = len(new_urls)\n",
    "        count-=1\n",
    "    except Exception as e:\n",
    "        print(url)\n",
    "        print(e)"
   ]
  },
  {
   "cell_type": "code",
   "execution_count": null,
   "metadata": {},
   "outputs": [],
   "source": []
  },
  {
   "cell_type": "markdown",
   "metadata": {},
   "source": [
    "这里对结果进行分析。"
   ]
  },
  {
   "cell_type": "markdown",
   "metadata": {},
   "source": [
    "### (选)将抓取网页的去重深度遍历算法封装成对象（类），并测试。 "
   ]
  },
  {
   "cell_type": "code",
   "execution_count": null,
   "metadata": {},
   "outputs": [],
   "source": [
    "# 这里编写代码"
   ]
  },
  {
   "cell_type": "code",
   "execution_count": null,
   "metadata": {},
   "outputs": [],
   "source": [
    "# 测试"
   ]
  },
  {
   "cell_type": "markdown",
   "metadata": {},
   "source": [
    "这里对结果进行分析。"
   ]
  }
 ],
 "metadata": {
  "kernelspec": {
   "display_name": "Python 3",
   "language": "python",
   "name": "python3"
  },
  "language_info": {
   "codemirror_mode": {
    "name": "ipython",
    "version": 3
   },
   "file_extension": ".py",
   "mimetype": "text/x-python",
   "name": "python",
   "nbconvert_exporter": "python",
   "pygments_lexer": "ipython3",
   "version": "3.7.3"
  }
 },
 "nbformat": 4,
 "nbformat_minor": 4
}
