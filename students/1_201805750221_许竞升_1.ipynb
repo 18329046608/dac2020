{
 "cells": [
  {
   "cell_type": "markdown",
   "metadata": {},
   "source": [
    "# 《数据采集与清洗》\n",
    "## 第一次作业内容： 网页抓取\n",
    "### 具体目标：\n",
    "+ 用``urllib.requests``库发起一次``get``请求，输出``response``文本信息；\n",
    "+ 用``Requests``库伪装成火狐浏览器发起一次``post``请求，输出``response``文本信息；\n",
    "+ 用``Requests``库中的``session``对象发出``get``请求，设置``cookies``并获取，输出获取的``cookies``内容；\n",
    "+ 实现抓取网页的不去重深度遍历算法，自选合适的种子网站和相关参数，输出结果；\n",
    "+ 编写抓取网页的广度遍历算法（含去重和不去重），自选合适的种子网站和相关参数，输出结果；\n",
    "+ (选)将抓取网页的去重深度遍历算法封装成对象（类），并测试。\n",
    "\n",
    "### 注：\n",
    "+ 代码要有注释，结果要有分析；\n",
    "+ 本次作业提交截至时间：2020年3月10日(星期二)；\n",
    "+ 文件命名规则: 班级号+学号+姓名+作业序号，示例：``1_20188989899_张三_1``；\n",
    "+ 提交方式：1班发送至邮箱：632994085@qq.com；2班发送至邮箱：786888939@qq.com."
   ]
  },
  {
   "cell_type": "markdown",
   "metadata": {},
   "source": [
    "### 问题1：用``urllib.requests``库发起一次``get``请求，输出``response``文本信息。"
   ]
  },
  {
   "cell_type": "code",
   "execution_count": 26,
   "metadata": {},
   "outputs": [],
   "source": [
    "# 这里编写代码\n",
    "import urllib.request\n",
    "response = urllib.request.urlopen('https://www.baidu.com/')"
   ]
  },
  {
   "cell_type": "code",
   "execution_count": 27,
   "metadata": {},
   "outputs": [
    {
     "name": "stdout",
     "output_type": "stream",
     "text": [
      "200\n",
      "<html>\r\n",
      "<head>\r\n",
      "\t<script>\r\n",
      "\t\tlocation.replace(location.href.replace(\"https://\",\"http://\"));\r\n",
      "\t</script>\r\n",
      "</head>\r\n",
      "<body>\r\n",
      "\t<noscript><meta http-equiv=\"refresh\" content=\"0;url=http://www.baidu.com/\"></noscript>\r\n",
      "</body>\r\n",
      "</html>\n"
     ]
    }
   ],
   "source": [
    "print(response.code)\n",
    "print(response.read().decode('utf-8'))"
   ]
  },
  {
   "cell_type": "markdown",
   "metadata": {},
   "source": [
    "这里对结果进行分析。"
   ]
  },
  {
   "cell_type": "markdown",
   "metadata": {},
   "source": [
    "### 用``Requests``库伪装成火狐浏览器发起一次``post``请求，输出``response``文本信息。"
   ]
  },
  {
   "cell_type": "code",
   "execution_count": 13,
   "metadata": {},
   "outputs": [],
   "source": [
    "# 这里编写代码\n",
    "import requests\n",
    "fake_headers = {\n",
    "    'User-Agent': 'Mozilla/5.0 (Windows NT 10.0; WOW64) AppleWebKit/537.36 (KHTML, like Gecko) Chrome/79.0.3945.79 Safari/537.36'\n",
    "}  #浏览器f12里面复制的\n",
    "response = requests.post(\"https://www.baidu.com\",headers = fake_headers)"
   ]
  },
  {
   "cell_type": "code",
   "execution_count": 16,
   "metadata": {
    "scrolled": true
   },
   "outputs": [
    {
     "name": "stdout",
     "output_type": "stream",
     "text": [
      "200\n",
      "<!DOCTYPE html>\r\n",
      "<!--STATUS OK-->\r\n",
      "<html>\r\n",
      "<head>\r\n",
      "    <meta http-equiv=\"X-UA-Compatible\" content=\"IE=edge,chrome=1\">\r\n",
      "    <meta http-equiv=\"content-type\" content=\"text/html;charset=utf-8\">\r\n",
      "    <meta content=\"always\" name=\"referrer\">\r\n",
      "    <script src=\"https://ss1.bdstatic.com/5eN1bjq8AAUYm2zgoY3K/r/www/nocache/imgdata/seErrorRec.js\"></script>\r\n",
      "    <title>页面不存在_百度搜索</title>\r\n",
      "    <style data-for=\"result\">\r\n",
      "        body {color: #333; background: #fff; padding: 0; margin: 0; position: relative; min-width: 700px; font-family: arial; font-size: 12px }\r\n",
      "        p, form, ol, ul, li, dl, dt, dd, h3 {margin: 0; padding: 0; list-style: none }\r\n",
      "        input {padding-top: 0; padding-bottom: 0; -moz-box-sizing: border-box; -webkit-box-sizing: border-box; box-sizing: border-box } img {border: none; }\r\n",
      "        .logo {width: 117px; height: 38px; cursor: pointer }\r\n",
      "         #wrapper {_zoom: 1 }\r\n",
      "        #head {padding-left: 35px; margin-bottom: 20px; width: 900px }\r\n",
      "        .fm {clear: both; position: relative; z-index: 297 }\r\n",
      "        .btn, #more {font-size: 14px } \r\n",
      "        .s_btn {width: 95px; height: 32px; padding-top: 2px\\9; font-size: 14px; padding: 0; background-color: #ddd; background-position: 0 -48px; border: 0; cursor: pointer }\r\n",
      "        .s_btn_h {background-position: -240px -48px }\r\n",
      "        .s_btn_wr {width: 97px; height: 34px; display: inline-block; background-position: -120px -48px; *position: relative; z-index: 0; vertical-align: top }\r\n",
      "        #foot {}\r\n",
      "        #foot span {color: #666 }\r\n",
      "        .s_ipt_wr {height: 32px }\r\n",
      "        .s_form:after, .s_tab:after {content: \".\"; display: block; height: 0; clear: both; visibility: hidden }\r\n",
      "        .s_form {zoom: 1; height: 55px; padding: 0 0 0 10px }\r\n",
      "        #result_logo {float: left; margin: 7px 0 0 }\r\n",
      "        #result_logo img {width: 101px }\r\n",
      "        #head {padding: 0; margin: 0; width: 100%; position: absolute; z-index: 301; min-width: 1000px; background: #fff; border-bottom: 1px solid #ebebeb; position: fixed; _position: absolute; -webkit-transform: translateZ(0) }\r\n",
      "        #head .head_wrapper {_width: 1000px }\r\n",
      "        #head.s_down {box-shadow: 0 0 5px #888 }\r\n",
      "        .fm {clear: none; float: left; margin: 11px 0 0 10px }\r\n",
      "        #s_tab {background: #f8f8f8; line-height: 36px; height: 38px; padding: 55px 0 0 121px; float: none; zoom: 1 }\r\n",
      "        #s_tab a, #s_tab b {width: 54px; display: inline-block; text-decoration: none; text-align: center; color: #666; font-size: 14px }\r\n",
      "        #s_tab b {border-bottom: 2px solid #38f; font-weight: bold; color: #323232 }\r\n",
      "        #s_tab a:hover {color: #323232 }\r\n",
      "        #content_left {width: 540px; padding-left: 121px; padding-top: 5px }\r\n",
      "        .to_tieba, .to_zhidao_bottom {margin: 10px 0 0 121px }\r\n",
      "        #help {background: #f5f6f5; zoom: 1; padding: 0 0 0 50px; float: right }\r\n",
      "        #help a {color: #777; padding: 0 15px; text-decoration: none }\r\n",
      "        #help a:hover {color: #333 }\r\n",
      "        #foot {position: fixed; bottom:0; width: 100%; background: #f5f6f5; border-top: 1px solid #ebebeb; text-align: left; height: 42px; line-height: 42px; margin-top: 40px; *margin-top: 0; _position:absolute; _bottom:auto; _top:expression(eval(document.documentElement.scrollTop+document.documentElement.clientHeight-this.offsetHeight-(parseInt(this.currentStyle.marginTop,10)||0)-(parseInt(this.currentStyle.marginBottom,10)||0))); }\r\n",
      "\r\n",
      "        .content_none {padding: 45px 0 25px 121px } .s_ipt_wr.bg,\r\n",
      "        .s_btn_wr.bg, #su.bg {background-image: none }\r\n",
      "        .s_ipt_wr.bg {background: 0 }\r\n",
      "        .s_btn_wr {width: auto; height: auto; border-bottom: 1px solid transparent; *border-bottom: 0 }\r\n",
      "        .s_btn {width: 100px; height: 34px; color: white; letter-spacing: 1px; background: #3385ff; border-bottom: 1px solid #2d78f4; outline: medium; *border-bottom: 0; -webkit-appearance: none; -webkit-border-radius: 0 }\r\n",
      "        .s_btn:hover {background: #317ef3; border-bottom: 1px solid #2868c8; *border-bottom: 0; box-shadow: 1px 1px 1px #ccc }\r\n",
      "        .s_btn:active {background: #3075dc; box-shadow: inset 1px 1px 3px #2964bb; -webkit-box-shadow: inset 1px 1px 3px #2964bb; -moz-box-shadow: inset 1px 1px 3px #2964bb; -o-box-shadow: inset 1px 1px 3px #2964bb }\r\n",
      "        #lg {display: none }\r\n",
      "        #head .headBlock {margin: -5px 0 6px 121px }\r\n",
      "        #content_left .leftBlock {margin-bottom: 14px; padding-bottom: 5px; border-bottom: 1px solid #f3f3f3 }\r\n",
      "        .s_ipt_wr {border: 1px solid #b6b6b6; border-color: #7b7b7b #b6b6b6 #b6b6b6 #7b7b7b; background: #fff; display: inline-block; vertical-align: top; width: 539px; margin-right: 0; border-right-width: 0; border-color: #b8b8b8 transparent #ccc #b8b8b8; overflow: hidden }\r\n",
      "        .s_ipt_wr.ip_short {width: 439px; }\r\n",
      "        .s_ipt_wr:hover, .s_ipt_wr.ipthover {border-color: #999 transparent #b3b3b3 #999 }\r\n",
      "        .s_ipt_wr.iptfocus {border-color: #4791ff transparent #4791ff #4791ff }\r\n",
      "        .s_ipt_tip {color: #aaa; position: absolute; z-index: -10; font: 16px/22px arial; height: 32px; line-height: 32px; padding-left: 7px; overflow: hidden; width: 526px }\r\n",
      "        .s_ipt {width: 526px; height: 22px; font: 16px/18px arial; line-height: 22px\\9; margin: 6px 0 0 7px; padding: 0; background: transparent; border: 0; outline: 0; -webkit-appearance: none }\r\n",
      "        #kw {position: relative;display: inline-block;}\r\n",
      "        input::-ms-clear {display: none }\r\n",
      "        /*Error page css*/\r\n",
      "        .norsSuggest {display: inline-block; color: #333; font-family: arial; font-size: 13px; position: relative; } \r\n",
      "        .norsTitle {font-size: 22px; font-family: Microsoft Yahei; font-weight: normal; color: #333; margin: 35px 0 25px 0; }\r\n",
      "        .norsTitle2 {font-family: arial; font-size: 13px; color: #666; }\r\n",
      "        .norsSuggest ol {margin-left: 47px; }\r\n",
      "        .norsSuggest li {margin: 13px 0; }\r\n",
      "        #content_right {\r\n",
      "    border-left: 1px solid #e1e1e1;\r\n",
      "    width: 384px;\r\n",
      "    margin-top: 25px;\r\n",
      "    float: right;\r\n",
      "    padding-left: 17px;\r\n",
      "}\r\n",
      "#wrapper_wrapper {\r\n",
      "    width: 1212px;\r\n",
      "}\r\n",
      ".cr-content {\r\n",
      "    width: 351px;\r\n",
      "    font-size: 13px;\r\n",
      "    line-height: 1.54em;\r\n",
      "    color: #333;\r\n",
      "    margin-top: 6px;\r\n",
      "    margin-bottom: 28px;\r\n",
      "    word-wrap: break-word;\r\n",
      "    word-break: normal;\r\n",
      "}\r\n",
      "@media screen and (max-width: 1217px) {\r\n",
      "    #wrapper_wrapper {\r\n",
      "        width: 1002px;\r\n",
      "    }\r\n",
      "    #wrapper_wrapper #content_right {\r\n",
      "        width: 271px;\r\n",
      "    }\r\n",
      "    #wrapper_wrapper .cr-content {\r\n",
      "        width: 259px;\r\n",
      "    }\r\n",
      "}\r\n",
      ".opr-toplist-title {\r\n",
      "    position: relative;\r\n",
      "    font-size: 14px;\r\n",
      "    line-height: 1.29em;\r\n",
      "    font-weight: 700;\r\n",
      "    margin-bottom: 10px;\r\n",
      "}\r\n",
      ".opr-toplist-table {\r\n",
      "    width: 100%;\r\n",
      "    border-collapse: collapse;\r\n",
      "    border-spacing: 0;\r\n",
      "    font-size: 13px;\r\n",
      "}\r\n",
      ".opr-toplist-table th,td {\r\n",
      "    line-height: 1.54;\r\n",
      "    border-bottom: 1px solid #f3f3f3;\r\n",
      "    text-align: left;\r\n",
      "}\r\n",
      ".opr-toplist-table thead th {\r\n",
      "    padding-top: 4px;\r\n",
      "    padding-bottom: 4px;\r\n",
      "    font-weight: 400;\r\n",
      "    color: #666;\r\n",
      "    white-space: nowrap;\r\n",
      "    background-color: #fafafa;  \r\n",
      "}\r\n",
      ".opr-toplist-table .opr-toplist-right {\r\n",
      "    text-align: right;\r\n",
      "    white-space: nowrap;\r\n",
      "}\r\n",
      ".opr-toplist-table td {\r\n",
      "    width: 100%;\r\n",
      "    font-size: 13px;\r\n",
      "    padding-top: 6.5px;\r\n",
      "    padding-bottom: 6.5px;\r\n",
      "    vertical-align: top;\r\n",
      "}\r\n",
      ".opr-toplist-table a:hover {\r\n",
      "    text-decoration: underline;\r\n",
      "}\r\n",
      ".opr-index-item {\r\n",
      "    display: inline-block;\r\n",
      "    padding:1px 0;\r\n",
      "    color: #fff;\r\n",
      "    width: 14px;\r\n",
      "    line-height: 100%;\r\n",
      "    font-size: 12px;\r\n",
      "    text-align: center;\r\n",
      "    background-color: #8eb9f5;\r\n",
      "    margin-right: 5px;\r\n",
      "}\r\n",
      ".opr-index-hot1 {\r\n",
      "    background-color: #f54545;\r\n",
      "}\r\n",
      "\r\n",
      ".opr-index-hot2 {\r\n",
      "    background-color: #ff8547;\r\n",
      "}\r\n",
      ".opr-index-hot3 {\r\n",
      "    background-color: #ffac38;\r\n",
      "}\r\n",
      ".opr-item-text {\r\n",
      "    text-decoration: none;  \r\n",
      "}\r\n",
      ".opr-toplist-info {\r\n",
      "    color: #666;\r\n",
      "    text-align: right;\r\n",
      "    margin-top: 5px;\r\n",
      "}\r\n",
      ".opr-toplist-info>a {\r\n",
      "    color: #666;\r\n",
      "}\r\n",
      "    </style>\r\n",
      "</head>\r\n",
      "\r\n",
      "<body link=\"#0000cc\">\r\n",
      "    <div id=\"wrapper\" class=\"wrapper_l\">\r\n",
      "        <div id=\"head\">\r\n",
      "            <div class=\"head_wrapper\">\r\n",
      "                <div class=\"s_form\">\r\n",
      "                    <div class=\"s_form_wrapper\">\r\n",
      "                        <a href=\"//www.baidu.com/\" id=\"result_logo\"><img src=\"//www.baidu.com/img/baidu_jgylogo3.gif\" alt=\"到百度首页\" title=\"到百度首页\"></a>\r\n",
      "                        <form id=\"form\" name=\"f\" action=\"//www.baidu.com/s\" class=\"fm\">\r\n",
      "                            <input type=\"hidden\" name=\"ie\" value=\"utf-8\">\r\n",
      "                            <input type=\"hidden\" name=\"f\" value=\"8\">\r\n",
      "                            <input type=\"hidden\" name=\"rsv_bp\" value=\"1\">\r\n",
      "                            <input type=\"hidden\" name=\"ch\" value=\"\">\r\n",
      "                            <input type=\"hidden\" name=\"tn\" value=\"baiduerr\">\r\n",
      "                            <input type=\"hidden\" name=\"bar\" value=\"\">\r\n",
      "                            <span class=\"bg s_ipt_wr iptfocus\">\r\n",
      "                                <input id=\"kw\" name=\"wd\" class=\"s_ipt\" value=\"\" maxlength=\"255\" autocomplete=\"off\" autofocus>\r\n",
      "                            </span><span class=\"bg s_btn_wr\">\r\n",
      "                                <input type=\"submit\" id=\"su\" value=\"百度一下\" class=\"bg s_btn\">\r\n",
      "                            </span>\r\n",
      "                    </form>\r\n",
      "                </div>\r\n",
      "            </div>\r\n",
      "        </div>\r\n",
      "    </div>\r\n",
      "    <div class=\"s_tab\" id=\"s_tab\">\r\n",
      "        <b>网页</b>\r\n",
      "        <a href=\"http://tieba.baidu.com/f?kw=&fr=wwwt\" wdfield=\"kw\">贴吧</a>\r\n",
      "        <a href=\"http://zhidao.baidu.com/q?ct=17&pn=0&tn=ikaslist&rn=10&word=&fr=wwwt\" wdfield=\"word\">知道</a>\r\n",
      "        <a href=\"http://music.baidu.com/search?fr=ps&ie=utf-8&key=\" wdfield=\"key\">音乐</a>\r\n",
      "        <a href=\"http://image.baidu.com/i?tn=baiduimage&ps=1&ct=201326592&lm=-1&cl=2&nc=1&ie=utf-8&word=\" wdfield=\"word\">图片</a>\r\n",
      "        <a href=\"http://v.baidu.com/v?ct=301989888&rn=20&pn=0&db=0&s=25&ie=utf-8&word=\" wdfield=\"word\">视频</a>\r\n",
      "        <a href=\"http://map.baidu.com/m?word=&fr=ps01000\" wdfield=\"word\">地图</a>\r\n",
      "        <a href=\"http://wenku.baidu.com/search?word=&lm=0&od=0&ie=utf-8\" wdfield=\"word\">文库</a>\r\n",
      "        <a href=\"//www.baidu.com/more/\">更多»</a>\r\n",
      "    </div>\r\n",
      "    <div id=\"wrapper_wrapper\">\r\n",
      "        <div id=\"content_left\">\r\n",
      "            <div class=\"nors\">\r\n",
      "                <div class=\"norsSuggest\">\r\n",
      "                    <h3 class=\"norsTitle\">很抱歉，您要访问的页面不存在！</h3>\r\n",
      "                    <p class=\"norsTitle2\">温馨提示：</p>\r\n",
      "                    <ol>\r\n",
      "                        <li>请检查您访问的网址是否正确</li>\r\n",
      "                        <li>如果您不能确认访问的网址，请浏览<a href=\"//www.baidu.com/more/index.html\">百度更多</a>页面查看更多网址。</li>\r\n",
      "                        <li>回到顶部重新发起搜索</li>\r\n",
      "                        <li>如有任何意见或建议，请及时<a href=\"http://qingting.baidu.com/index\">反馈给我们</a>。</li>\r\n",
      "                    </ol>\r\n",
      "                </div>\r\n",
      "            </div>\r\n",
      "        </div>\r\n",
      "    </div>\r\n",
      "    <div id=\"foot\">\r\n",
      "        <span id=\"help\" style=\"float:left;padding-left:121px\">\r\n",
      "            <a href=\"http://help.baidu.com/question\" target=\"_blank\">帮助</a>\r\n",
      "            <a href=\"http://www.baidu.com/search/jubao.html\" target=\"_blank\">举报</a>\r\n",
      "            <a href=\"http://jianyi.baidu.com\" target=\"_blank\">给百度提建议</a>\r\n",
      "        </span>\r\n",
      "    </div>\r\n",
      "</body>\r\n",
      "<script>\r\n",
      "(function () {\r\n",
      "        var LOGURL = 'https://sp1.baidu.com/5b1ZeDe5KgQFm2e88IuM_a/cm.gif';\r\n",
      "        var params = 'type=wwwerror&terminal=www';\r\n",
      "        var img = new Image();\r\n",
      "        img.src = LOGURL + '?' + params;\r\n",
      "    })();\r\n",
      "    (function () {\r\n",
      "        if(window.recommend && window.recommend.query && window.recommend.query.length > 0) {\r\n",
      "            var recommendWrapper = document.createElement('div');\r\n",
      "            var recommendHtml = '<div class=\"cr-content\"><div class=\"opr-toplist-title\">' + window.recommend.title + '</div><table class=\"opr-toplist-table\"><thead><tr><th>排名</th></tr></thead>';\r\n",
      "            var queryArray = window.recommend.query;\r\n",
      "            var itemUrl = '';\r\n",
      "            for(var i = 1; i < (queryArray.length+1); i++) {\r\n",
      "                itemUrl = '//www.baidu.com/s?word=' + encodeURIComponent(queryArray[i-1].word) + '&sa=' + queryArray[i-1].sa + '&tn=' + queryArray[i-1].tn;\r\n",
      "                if (queryArray[i-1].rsv_dl) {\r\n",
      "                    itemUrl += \"&rsv_dl=\" + queryArray[i-1].rsv_dl;\r\n",
      "                }\r\n",
      "                \r\n",
      "                if (i < 4) {\r\n",
      "                    recommendHtml += '<tr><td><span class=\"opr-index-hot' + i + ' opr-index-item\">' + i + '</span><a target=\"_blank\" href=\"' + itemUrl +'\" class=\"opr-item-text\">' + queryArray[i-1].word + '</a></td></tr>';\r\n",
      "                } else {\r\n",
      "                    recommendHtml += '<tr><td><span class=\"opr-index-item\">' + i + '</span><a target=\"_blank\" href=\"' + itemUrl +'\" class=\"opr-item-text\">' + queryArray[i-1].word + '</a></td></tr>';\r\n",
      "                }\r\n",
      "            }\r\n",
      "            recommendHtml += '</tbody></table><div class=\"opr-toplist-info\"><span>来源：</span><a target=\"_blank\" href=\"http://www.baidu.com/link?url=sLR63PtaB7kc3YkTtzDy1k3mbTm1DXDMu-nLcijZx8DmWgOff4lBxqmY-LGDyHqw\">百度风云榜</a><span>&nbsp;-&nbsp;</span><a target=\"_blank\" href=\"http://www.baidu.com/link?url=01vNBVXR2eaJxETl9PI3hcrvKCcwaJIKk5FkpO7l5YI_Q_pC24ogIBoZxI0LAu5oYpAdhRH42nzxAqfui0YnHK\">实时热点</a></div></div>';\r\n",
      "            recommendWrapper.setAttribute('id', 'content_right');\r\n",
      "            document.getElementById('wrapper_wrapper').insertBefore(recommendWrapper, document.getElementById('content_left'));\r\n",
      "            var recommend = document.getElementById('content_right');\r\n",
      "            recommend.innerHTML = recommendHtml;\r\n",
      "        }\r\n",
      "})();\r\n",
      "(function(){\r\n",
      "    var bds = {\r\n",
      "        util: {}\r\n",
      "    };\r\n",
      "    var c = document.getElementById('kw').parentNode;\r\n",
      "\r\n",
      "    bds.util.getWinWidth = function(){\r\n",
      "        return window.document.documentElement.clientWidth;\r\n",
      "    };\r\n",
      "\r\n",
      "    bds.util.setFormWidth = function(){\r\n",
      "        var width = bds.util.getWinWidth();\r\n",
      "        if(width < 1217)    {bds.util.setClass(c, 'ip_short', 'add')}\r\n",
      "        else                {bds.util.setClass(c, 'ip_short', 'remove')};\r\n",
      "    };\r\n",
      "\r\n",
      "    bds.util.setClass = function(obj, class_name, set) {\r\n",
      "        var ori_class = obj.className,\r\n",
      "            has_class_p = -1,\r\n",
      "            ori_class_arr = [],\r\n",
      "            new_class = '';\r\n",
      "\r\n",
      "        if(ori_class.length) ori_class_arr = ori_class.split(' ');\r\n",
      "\r\n",
      "        for( i in ori_class_arr) {\r\n",
      "            if(ori_class_arr[i] == class_name) has_class_p = i;\r\n",
      "        }\r\n",
      "\r\n",
      "        if( set == 'remove' && has_class_p >= 0) {\r\n",
      "            ori_class_arr.splice(has_class_p, 1);\r\n",
      "            new_class = ori_class_arr.join(' ');\r\n",
      "            obj.className = new_class;\r\n",
      "        } else if( set == 'add' && has_class_p < 0) {\r\n",
      "            ori_class_arr.push(class_name);\r\n",
      "            new_class = ori_class_arr.join(' ');\r\n",
      "            obj.className = new_class;\r\n",
      "        }\r\n",
      "    }\r\n",
      "    bds.util.setFormWidth();\r\n",
      "\r\n",
      "    if (typeof document.addEventListener != \"undefined\") {\r\n",
      "        window.addEventListener('resize', bds.util.setFormWidth, false);\r\n",
      "        document.getElementById('kw').addEventListener('focus', function(){bds.util.setClass(c,'iptfocus', 'add');}, false);\r\n",
      "        document.getElementById('kw').addEventListener('blur', function(){bds.util.setClass(c,'iptfocus', 'remove');}, false);\r\n",
      "    } else {\r\n",
      "        window.attachEvent('onresize', bds.util.setFormWidth, false);\r\n",
      "        document.getElementById('kw').attachEvent('onfocus', function(){bds.util.setClass(c,'iptfocus', 'add');}, false);\r\n",
      "        document.getElementById('kw').attachEvent('onblur', function(){bds.util.setClass(c,'iptfocus', 'remove');}, false);\r\n",
      "    } \r\n",
      "\r\n",
      "})();\r\n",
      "\r\n",
      "\r\n",
      "</script>\r\n",
      "\r\n",
      "</html>\r\n",
      "\n"
     ]
    }
   ],
   "source": [
    "print(response.status_code)\n",
    "print(response.content.decode('utf-8'))"
   ]
  },
  {
   "cell_type": "markdown",
   "metadata": {},
   "source": [
    "这里对结果进行分析。"
   ]
  },
  {
   "cell_type": "markdown",
   "metadata": {},
   "source": [
    "### 用``Requests``库中的``session``对象发出``get``请求，设置``cookies``并获取，输出获取的``cookies``内容。 "
   ]
  },
  {
   "cell_type": "code",
   "execution_count": 41,
   "metadata": {},
   "outputs": [],
   "source": [
    "# 这里编写代码\n",
    "import requests\n",
    "http_session = requests.session()   #弄一个session的实例\n",
    "response = http_session.get(\"https://www.baidu.com\")"
   ]
  },
  {
   "cell_type": "code",
   "execution_count": 43,
   "metadata": {},
   "outputs": [
    {
     "data": {
      "text/plain": [
       "<RequestsCookieJar[Cookie(version=0, name='BDORZ', value='27315', port=None, port_specified=False, domain='.baidu.com', domain_specified=True, domain_initial_dot=True, path='/', path_specified=True, secure=False, expires=1583552900, discard=False, comment=None, comment_url=None, rest={}, rfc2109=False)]>"
      ]
     },
     "execution_count": 43,
     "metadata": {},
     "output_type": "execute_result"
    }
   ],
   "source": [
    "http_session.cookies   #获取当前的cookies"
   ]
  },
  {
   "cell_type": "code",
   "execution_count": 30,
   "metadata": {},
   "outputs": [
    {
     "name": "stdout",
     "output_type": "stream",
     "text": [
      "200\n",
      "<!DOCTYPE html>\r\n",
      "<!--STATUS OK--><html> <head><meta http-equiv=content-type content=text/html;charset=utf-8><meta http-equiv=X-UA-Compatible content=IE=Edge><meta content=always name=referrer><link rel=stylesheet type=text/css href=https://ss1.bdstatic.com/5eN1bjq8AAUYm2zgoY3K/r/www/cache/bdorz/baidu.min.css><title>百度一下，你就知道</title></head> <body link=#0000cc> <div id=wrapper> <div id=head> <div class=head_wrapper> <div class=s_form> <div class=s_form_wrapper> <div id=lg> <img hidefocus=true src=//www.baidu.com/img/bd_logo1.png width=270 height=129> </div> <form id=form name=f action=//www.baidu.com/s class=fm> <input type=hidden name=bdorz_come value=1> <input type=hidden name=ie value=utf-8> <input type=hidden name=f value=8> <input type=hidden name=rsv_bp value=1> <input type=hidden name=rsv_idx value=1> <input type=hidden name=tn value=baidu><span class=\"bg s_ipt_wr\"><input id=kw name=wd class=s_ipt value maxlength=255 autocomplete=off autofocus=autofocus></span><span class=\"bg s_btn_wr\"><input type=submit id=su value=百度一下 class=\"bg s_btn\" autofocus></span> </form> </div> </div> <div id=u1> <a href=http://news.baidu.com name=tj_trnews class=mnav>新闻</a> <a href=https://www.hao123.com name=tj_trhao123 class=mnav>hao123</a> <a href=http://map.baidu.com name=tj_trmap class=mnav>地图</a> <a href=http://v.baidu.com name=tj_trvideo class=mnav>视频</a> <a href=http://tieba.baidu.com name=tj_trtieba class=mnav>贴吧</a> <noscript> <a href=http://www.baidu.com/bdorz/login.gif?login&amp;tpl=mn&amp;u=http%3A%2F%2Fwww.baidu.com%2f%3fbdorz_come%3d1 name=tj_login class=lb>登录</a> </noscript> <script>document.write('<a href=\"http://www.baidu.com/bdorz/login.gif?login&tpl=mn&u='+ encodeURIComponent(window.location.href+ (window.location.search === \"\" ? \"?\" : \"&\")+ \"bdorz_come=1\")+ '\" name=\"tj_login\" class=\"lb\">登录</a>');\r\n",
      "                </script> <a href=//www.baidu.com/more/ name=tj_briicon class=bri style=\"display: block;\">更多产品</a> </div> </div> </div> <div id=ftCon> <div id=ftConw> <p id=lh> <a href=http://home.baidu.com>关于百度</a> <a href=http://ir.baidu.com>About Baidu</a> </p> <p id=cp>&copy;2017&nbsp;Baidu&nbsp;<a href=http://www.baidu.com/duty/>使用百度前必读</a>&nbsp; <a href=http://jianyi.baidu.com/ class=cp-feedback>意见反馈</a>&nbsp;京ICP证030173号&nbsp; <img src=//www.baidu.com/img/gs.gif> </p> </div> </div> </div> </body> </html>\r\n",
      "\n"
     ]
    }
   ],
   "source": [
    "print(response.status_code)\n",
    "print(response.content.decode('utf-8'))"
   ]
  },
  {
   "cell_type": "markdown",
   "metadata": {},
   "source": [
    "这里对结果进行分析。"
   ]
  },
  {
   "cell_type": "markdown",
   "metadata": {},
   "source": [
    "### 实现抓取网页的不去重深度遍历算法，自选合适的种子网站和相关参数，输出结果。\n"
   ]
  },
  {
   "cell_type": "code",
   "execution_count": 35,
   "metadata": {},
   "outputs": [],
   "source": [
    "# 这里编写代码\n",
    "import requests\n",
    "import re\n",
    "init_url = \"https://cn.hao123.com/\"\n",
    "r = re.compile(r'href=[\\'\"]?(http[^\\'\" >]+)')\n",
    "stack = [init_url]\n",
    "maxnum = 5  #设置最大爬取限制\n",
    "used =[]   # 保存访问的网址\n",
    "\n",
    "while len(stack) > 0 and maxnum > 0: #利用深度优先遍历找出所有url（不去重）\n",
    "    try:\n",
    "        url = stack.pop(-1)             #这二步就与maxnum挂钩了\n",
    "        html = requests.get(url).text         \n",
    "        used.append(url)               # 将已经抓取过的URL存入used集合中\n",
    "        new_urls = r.findall(html)     # re的方法，将该网站上所有的有关于http开头的url找到并作为列表存储\n",
    "        for new_url in new_urls:      # 将该网页上抓取的URL添加到stack中\n",
    "            if new_url not in stack:  # 栈里面已经存在的    \n",
    "                stack.append(new_url)\n",
    "        maxnum -= 1\n",
    "    except Exception as e:\n",
    "        print(url)\n",
    "        print(e)\n",
    "        maxnum -= 1\n",
    "    "
   ]
  },
  {
   "cell_type": "code",
   "execution_count": 36,
   "metadata": {
    "scrolled": true
   },
   "outputs": [
    {
     "name": "stdout",
     "output_type": "stream",
     "text": [
      "['https://cn.hao123.com/', 'https://haokan.baidu.com/v?vid=6950194982662147532&amp;fr=hao123-op', 'https://baijiahao.baidu.com/builder/app/choosetype?src_from=haokanPC', 'https://sv.bdstatic.com/static/haokan-pc/style/videoland.02cae0.css', 'https://sv.bdstatic.com/static/haokan-pc/style/1.ddbde4.css']\n"
     ]
    }
   ],
   "source": [
    "print(used)"
   ]
  },
  {
   "cell_type": "markdown",
   "metadata": {},
   "source": [
    "这里对结果进行分析。"
   ]
  },
  {
   "cell_type": "markdown",
   "metadata": {},
   "source": [
    "### 编写抓取网页的广度遍历算法（含去重和不去重），自选合适的种子网站和相关参数，输出结果。 "
   ]
  },
  {
   "cell_type": "code",
   "execution_count": 39,
   "metadata": {},
   "outputs": [],
   "source": [
    "# 这里编写代码（去重）\n",
    "import requests\n",
    "import re\n",
    "init_url = \"https://cn.hao123.com/\"\n",
    "r = re.compile(r'href=[\\'\"]?(http[^\\'\" >]+)')\n",
    "queue = [init_url]\n",
    "used = set() # 利用hash消除已重复链接\n",
    "maxnum = 5\n",
    "\n",
    "while len(queue) > 0 and maxnum > 0: #利用广度优先遍历找出所有不重复url\n",
    "    try:\n",
    "        url = queue.pop(0)             #这二步就与maxnum挂钩了    与深度优先遍历的区别就在于栈于队列\n",
    "        html = requests.get(url).text         \n",
    "        used.add(url) # 将已经抓取过的URL存入used集合中\n",
    "        new_urls = r.findall(html)     # re的方法，将该网站上所有的有关于http开头的url找到并作为列表存储\n",
    "        for new_url in new_urls:      # 将该网页上新发新未抓取的URL添加到queue中\n",
    "            if new_url not in used and new_url not in queue:       # 还要注意队列里的缓存数据也要加以判断\n",
    "                queue.append(new_url)\n",
    "        maxnum -= 1\n",
    "    except Exception as e:\n",
    "        print(url)\n",
    "        print(e)\n",
    "        maxnum -= 1"
   ]
  },
  {
   "cell_type": "code",
   "execution_count": 37,
   "metadata": {},
   "outputs": [],
   "source": [
    "# 这里编写代码（不去重）\n",
    "import requests\n",
    "import re\n",
    "init_url = \"https://cn.hao123.com/\"\n",
    "r = re.compile(r'href=[\\'\"]?(http[^\\'\" >]+)')\n",
    "queue = [init_url]\n",
    "used = []\n",
    "maxnum = 5\n",
    "\n",
    "while len(queue) > 0 and maxnum > 0: #利用广度优先遍历找出所有url\n",
    "    try:\n",
    "        url = queue.pop(0)             #这二步就与maxnum挂钩了   \n",
    "        html = requests.get(url).text         \n",
    "        used.append(url) # 将已经抓取过的URL存入used集合中\n",
    "        new_urls = r.findall(html)     # re的方法，将该网站上所有的有关于http开头的url找到并作为列表存储\n",
    "        for new_url in new_urls:      # 将该网页上新发新未抓取的URL添加到queue中\n",
    "            if new_url not in queue:       # 队列的缓存数据就不再存储了\n",
    "                queue.append(new_url)\n",
    "        maxnum -= 1\n",
    "    except Exception as e:\n",
    "        print(url)\n",
    "        print(e)\n",
    "        maxnum -= 1"
   ]
  },
  {
   "cell_type": "code",
   "execution_count": 40,
   "metadata": {},
   "outputs": [
    {
     "name": "stdout",
     "output_type": "stream",
     "text": [
      "{'https://cn.hao123.com/', 'https://dgss2.bdstatic.com', 'https://dgss0.bdstatic.com', 'https://dgss3.bdstatic.com', 'https://dgss1.bdstatic.com'}\n"
     ]
    }
   ],
   "source": [
    "print(used)"
   ]
  },
  {
   "cell_type": "markdown",
   "metadata": {},
   "source": [
    "这里对结果进行分析。"
   ]
  },
  {
   "cell_type": "markdown",
   "metadata": {},
   "source": [
    "### (选)将抓取网页的去重深度遍历算法封装成对象（类），并测试。 "
   ]
  },
  {
   "cell_type": "code",
   "execution_count": 31,
   "metadata": {},
   "outputs": [],
   "source": [
    "# 这里编写代码\n",
    "import requests\n",
    "import re\n",
    "class Climb_web:\n",
    "    \"\"\"\n",
    "    3月5日新编读取url\n",
    "    \"\"\"\n",
    "    def __init__(self,url):\n",
    "        self.url = url\n",
    "    \n",
    "    def get_url_html(self,fake_headers = {\n",
    "        'User-Agent': 'Mozilla/5.0 (Windows NT 10.0; WOW64) AppleWebKit/537.36 (KHTML, like Gecko) Chrome/79.0.3945.79 Safari/537.36'\n",
    "    } ):\n",
    "\n",
    "        response = requests.get(self.url,headers=fake_headers)\n",
    "        return response.content.decode('utf-8')\n",
    "        \n",
    "    def get_all_url(self,maxnum): \n",
    "        \"\"\"\n",
    "        得到网页上指定规模内以href为标签，http开头的网址（广度优先遍历）\n",
    "        \"\"\"\n",
    "        r = re.compile(r'href=[\\'\"]?(http[^\\'\" >]+)')\n",
    "        queue = [self.url]\n",
    "        used = set() # 利用hash消除已重复链接\n",
    "\n",
    "        while len(queue) > 0 and maxnum > 0: #利用广度优先遍历找出所有不重复url\n",
    "            try:\n",
    "                url = queue.pop(0)             #这二步就与maxnum挂钩了\n",
    "                html = requests.get(url).text         \n",
    "                used.add(url) # 将已经抓取过的URL存入used集合中\n",
    "                new_urls = r.findall(html)     # re的方法，将该网站上所有的有关于http开头的url找到并作为列表存储\n",
    "                for new_url in new_urls:      # 将该网页上新发新未抓取的URL添加到queue中\n",
    "                    if new_url not in used and new_url not in queue:       # 还要注意队列里的缓存数据也要加以判断\n",
    "                        queue.append(new_url)\n",
    "                maxnum -= 1\n",
    "            except Exception as e:\n",
    "                print(url)\n",
    "                print(e)\n",
    "                maxnum -= 1\n",
    "        return list(used)"
   ]
  },
  {
   "cell_type": "code",
   "execution_count": 32,
   "metadata": {},
   "outputs": [
    {
     "data": {
      "text/plain": [
       "['https://dgss0.bdstatic.com', 'https://cn.hao123.com/']"
      ]
     },
     "execution_count": 32,
     "metadata": {},
     "output_type": "execute_result"
    }
   ],
   "source": [
    "# 测试\n",
    "a = Climb_web(\"https://cn.hao123.com/\")\n",
    "a.get_all_url(2)"
   ]
  },
  {
   "cell_type": "markdown",
   "metadata": {},
   "source": [
    "这里对结果进行分析。"
   ]
  }
 ],
 "metadata": {
  "kernelspec": {
   "display_name": "Python 3",
   "language": "python",
   "name": "python3"
  },
  "language_info": {
   "codemirror_mode": {
    "name": "ipython",
    "version": 3
   },
   "file_extension": ".py",
   "mimetype": "text/x-python",
   "name": "python",
   "nbconvert_exporter": "python",
   "pygments_lexer": "ipython3",
   "version": "3.7.4"
  }
 },
 "nbformat": 4,
 "nbformat_minor": 4
}
