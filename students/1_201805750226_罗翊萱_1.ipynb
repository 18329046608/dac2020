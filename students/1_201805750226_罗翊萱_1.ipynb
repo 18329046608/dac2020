{
 "cells": [
  {
   "cell_type": "markdown",
   "metadata": {},
   "source": [
    "# 《数据采集与清洗》\n",
    "## 第一次作业内容： 网页抓取\n",
    "### 具体目标：\n",
    "+ 用``urllib.requests``库发起一次``get``请求，输出``response``文本信息；\n",
    "+ 用``Requests``库伪装成火狐浏览器发起一次``post``请求，输出``response``文本信息；\n",
    "+ 用``Requests``库中的``session``对象发出``get``请求，设置``cookies``并获取，输出获取的``cookies``内容；\n",
    "+ 实现抓取网页的不去重深度遍历算法，自选合适的种子网站和相关参数，输出结果；\n",
    "+ 编写抓取网页的广度遍历算法（含去重和不去重），自选合适的种子网站和相关参数，输出结果；\n",
    "+ (选)将抓取网页的去重深度遍历算法封装成对象（类），并测试。\n",
    "\n",
    "### 注：\n",
    "+ 代码要有注释，结果要有分析；\n",
    "+ 本次作业提交截至时间：2020年3月10日(星期二)；\n",
    "+ 文件命名规则: 班级号+学号+姓名，示例：``1_20188989899_张三``；\n",
    "+ 提交方式：1班发送至邮箱：632994085@qq.com；2班发送至邮箱：786888939@qq.com."
   ]
  },
  {
   "cell_type": "markdown",
   "metadata": {},
   "source": [
    "### 问题1：用``urllib.requests``库发起一次``get``请求，输出``response``文本信息。"
   ]
  },
  {
   "cell_type": "code",
   "execution_count": 1,
   "metadata": {},
   "outputs": [
    {
     "name": "stdout",
     "output_type": "stream",
     "text": [
      "{\n",
      "  \"args\": {}, \n",
      "  \"headers\": {\n",
      "    \"Accept\": \"*/*\", \n",
      "    \"Accept-Encoding\": \"gzip, deflate\", \n",
      "    \"Host\": \"httpbin.org\", \n",
      "    \"User-Agent\": \"python-requests/2.22.0\", \n",
      "    \"X-Amzn-Trace-Id\": \"Root=1-5e675395-50c69bb68ed57eac9e9b38ef\"\n",
      "  }, \n",
      "  \"origin\": \"120.228.78.178\", \n",
      "  \"url\": \"http://httpbin.org/get\"\n",
      "}\n",
      "\n"
     ]
    }
   ],
   "source": [
    "#导入requests库 取名res\n",
    "import requests as res\n",
    "\n",
    "#使用res库中的方法get（对应HTTP的get） 发起请求 获得HTTP网页\n",
    "response=res.get(\"http://httpbin.org/get\")\n",
    "\n",
    "#输出请求结果的文本信息\n",
    "print(response.text)"
   ]
  },
  {
   "cell_type": "markdown",
   "metadata": {},
   "source": [
    ">结果分析：输出结果包含了访问网站的headers请求头信息、客户端标识“python-requests/2.22.0”、IP地址“120.228.78.178”、URL、编码方式X-Amzn-Trace-Id"
   ]
  },
  {
   "cell_type": "markdown",
   "metadata": {},
   "source": [
    "  "
   ]
  },
  {
   "cell_type": "markdown",
   "metadata": {},
   "source": [
    "### 用``Requests``库伪装成火狐浏览器发起一次``post``请求，输出``response``文本信息。"
   ]
  },
  {
   "cell_type": "code",
   "execution_count": 2,
   "metadata": {},
   "outputs": [
    {
     "name": "stdout",
     "output_type": "stream",
     "text": [
      "{\n",
      "  \"args\": {}, \n",
      "  \"data\": \"\", \n",
      "  \"files\": {}, \n",
      "  \"form\": {}, \n",
      "  \"headers\": {\n",
      "    \"Accept\": \"*/*\", \n",
      "    \"Accept-Encoding\": \"gzip, deflate\", \n",
      "    \"Content-Length\": \"0\", \n",
      "    \"Host\": \"httpbin.org\", \n",
      "    \"User-Agent\": \"Mozilla/5.0 (Windows NT 6.1; Win64; x64) AppleWebKit/537.36 (KHTML, like Gecko) Chrome/59.0.3071.115 Safari/537.36\", \n",
      "    \"X-Amzn-Trace-Id\": \"Root=1-5e675396-09a51d3062516430a3755b00\"\n",
      "  }, \n",
      "  \"json\": null, \n",
      "  \"origin\": \"120.228.78.178\", \n",
      "  \"url\": \"http://httpbin.org/post\"\n",
      "}\n",
      "\n"
     ]
    }
   ],
   "source": [
    "import requests\n",
    "\n",
    "#修改 请求头中的 User-Agent 来伪装浏览器\n",
    "headers = {\n",
    "    'user-agent': 'Mozilla/5.0 (Windows NT 6.1; Win64; x64) AppleWebKit/537.36 (KHTML, like Gecko) Chrome/59.0.3071.115 Safari/537.36'\n",
    "}\n",
    "\n",
    "#使用res库中的方法post 发起请求 获得网页\n",
    "res = requests.post(\"http://httpbin.org/post\",headers=headers)\n",
    "print(res.text)"
   ]
  },
  {
   "cell_type": "markdown",
   "metadata": {},
   "source": [
    "> 结果分析：输出结果包含了访问网站的headers请求头信息、客户端标识变为伪装的浏览器，而不是默认的requests、IP地址“120.228.77.71”、URL、编码方式X-Amzn-Trace-Id"
   ]
  },
  {
   "cell_type": "markdown",
   "metadata": {},
   "source": [
    "  "
   ]
  },
  {
   "cell_type": "markdown",
   "metadata": {},
   "source": [
    "### 用``Requests``库中的``session``对象发出``get``请求，设置``cookies``并获取，输出获取的``cookies``内容。 "
   ]
  },
  {
   "cell_type": "code",
   "execution_count": 3,
   "metadata": {},
   "outputs": [
    {
     "name": "stdout",
     "output_type": "stream",
     "text": [
      "{\n",
      "  \"cookies\": {\n",
      "    \"setcookies\": \"sharleenlyxA\"\n",
      "  }\n",
      "}\n",
      "\n"
     ]
    }
   ],
   "source": [
    "# 这里编写代码\n",
    "import requests as res\n",
    "#创建一个session对象\n",
    "coo = res.session()\n",
    "# 用session对象发出get请求，设置cookies\n",
    "coo.get('http://httpbin.org/cookies/set/setcookies/sharleenlyxA')\n",
    "# 用session对象发出另外一个get请求，获取cookies\n",
    "c = coo.get(\"http://httpbin.org/cookies\")\n",
    "print(c.text)"
   ]
  },
  {
   "cell_type": "markdown",
   "metadata": {},
   "source": [
    "> 结果输出设置的cookies"
   ]
  },
  {
   "cell_type": "markdown",
   "metadata": {},
   "source": [
    "  "
   ]
  },
  {
   "cell_type": "markdown",
   "metadata": {},
   "source": [
    "### 实现抓取网页的不去重深度遍历算法，自选合适的种子网站和相关参数，输出结果。\n"
   ]
  },
  {
   "cell_type": "code",
   "execution_count": 4,
   "metadata": {},
   "outputs": [
    {
     "name": "stdout",
     "output_type": "stream",
     "text": [
      "['/item/秒懂星课堂', '/item/秒懂大师说', '/item/秒懂看瓦特', '/item/秒懂五千年', '/item/秒懂全视界', '/item/%E5%B0%91%E5%B9%B4%E7%9A%84%E4%BD%A0/22756846', '/item/%E9%95%BF%E5%AE%89%E5%8D%81%E4%BA%8C%E6%97%B6%E8%BE%B0/20110435', '/item/%E9%99%B7%E8%90%BD%E7%BE%8E%E5%A5%BD/23650022', '/item/Fall/23663681', '/item/%E8%88%92%E9%80%82%E5%9C%88/23184383', '/item/Unpredictable/21361151', '/item/NOTHING%20TO%20LOSE/22220151', '/item/%E7%A6%BB%E9%AA%9A/20486867', '/item/%E5%91%A8%E5%86%AC%E9%9B%A8/5051740', '/item/%E7%8E%8B%E6%BA%90/5475062', '/item/%E7%8E%8B%E4%BF%8A%E5%87%AF/75850', '/item/TFBOYS', '/item/%E4%B8%AD%E5%A4%AE%E6%88%8F%E5%89%A7%E5%AD%A6%E9%99%A2/305391', '/item/%E9%A3%9E%E7%82%AB%E5%B0%91%E5%B9%B4/9794050', '/item/%E9%93%81%E6%A2%A8%E8%8A%B1/30869', '/item/%E4%B8%B9%E9%BA%A6%E7%8E%8B%E5%9B%BD%E9%A9%BB%E5%8D%8E%E5%A4%A7%E4%BD%BF%E9%A6%86', '/item/IF%20YOU/18898317', '/item/RHYTHM%20TA/18898383', '/item/%E7%A6%BB%E9%AA%9A/20486867', '/item/Billboard%20Radio%20China', '/item/%E4%BD%A0%E8%AF%B4/20231123', '/item/%E5%85%B1%E9%9D%92%E5%9B%A2%E4%B8%AD%E5%A4%AE', '/item/%E4%B8%96%E7%95%8C%E5%8D%AB%E7%94%9F%E7%BB%84%E7%BB%87/483426', '/item/%E7%AC%AC60%E5%B1%8A%E6%A0%BC%E8%8E%B1%E7%BE%8E%E5%A5%96', '/item/%E8%BF%99%EF%BC%81%E5%B0%B1%E6%98%AF%E8%A1%97%E8%88%9E/22293892', '/item/%E4%B8%AD%E5%A4%AE%E6%88%8F%E5%89%A7%E5%AD%A6%E9%99%A2/305391', '/item/%E8%81%94%E5%90%88%E5%9B%BD%E7%BB%8F%E6%B5%8E%E5%8F%8A%E7%A4%BE%E4%BC%9A%E7%90%86%E4%BA%8B%E4%BC%9A2019%E9%9D%92%E5%B9%B4%E8%AE%BA%E5%9D%9B/23403881', '/item/%E9%95%BF%E5%AE%89%E5%8D%81%E4%BA%8C%E6%97%B6%E8%BE%B0/20110435', '/item/%E5%B0%91%E5%B9%B4%E7%9A%84%E4%BD%A0/22756846', '/item/%E9%A6%99%E6%B8%AF%E7%94%B5%E5%BD%B1%E9%87%91%E5%83%8F%E5%A5%96/184819', '/item//24241813', '/item/%E4%B8%AD%E5%9B%BD%E5%A5%B3%E6%8E%92/22355405', '/item/%E4%B8%8D%E5%88%86%E6%98%BC%E5%A4%9C/24256484', '/item/%E5%8C%97%E4%BA%AC%E6%97%B6%E4%BB%A3%E5%B3%B0%E5%B3%BB%E6%96%87%E5%8C%96%E8%89%BA%E6%9C%AF%E5%8F%91%E5%B1%95%E6%9C%89%E9%99%90%E5%85%AC%E5%8F%B8', '/item/%E5%B0%91%E5%B9%B4%E7%9A%84%E4%BD%A0/22756846', '/item/%E9%95%BF%E5%AE%89%E5%8D%81%E4%BA%8C%E6%97%B6%E8%BE%B0/20110435', '/item/%E9%99%B7%E8%90%BD%E7%BE%8E%E5%A5%BD/23650022', '/item/Fall/23663681', '/item/%E8%88%92%E9%80%82%E5%9C%88/23184383', '/item/Unpredictable', '/item/Nothing%20to%20Lose/22220151', '/item/%E7%A6%BB%E9%AA%9A/20486867', '/item/%E5%8D%83%E7%BA%B8%E9%B9%A4/18819377', '/item/%E6%98%93%E7%83%8A%E5%8D%83%E7%8E%BA%E7%88%B1%E5%BF%83%E5%9F%BA%E9%87%91', '/item/%E4%B8%AD%E5%A4%AE%E6%88%8F%E5%89%A7%E5%AD%A6%E9%99%A2', '/item/%E5%8D%83%E7%A6%A7%E5%B9%B4', '/item/%E6%99%BA%E6%85%A7%E6%A0%91', '/item/%E6%88%90%E9%95%BF%E5%9C%A8%E7%BA%BF', '/item/%E9%A3%9E%E7%82%AB%E5%B0%91%E5%B9%B4', '/item/%E5%85%A8%E7%90%83%E5%8D%8E%E4%BA%BA%E7%BD%91%E7%BB%9C%E6%98%A5%E6%99%9A', '/item/%E9%9D%92%E8%8B%B9%E6%9E%9C%E4%B9%90%E5%9B%AD/1148339', '/item/%E4%B8%AD%E5%8D%8E%E8%BE%BE%E4%BA%BA', '/item/%E9%93%81%E6%A2%A8%E8%8A%B1', '/item/%E9%9F%B3%E4%B9%90%E5%BF%AB%E9%80%92', '/item/%E7%8E%8B%E8%80%85%E5%BD%92%E6%9D%A5/10576729', '/item/%E8%B6%85%E8%A3%85%E5%A4%87%E5%B0%8F%E5%AD%90', '/item/%E7%81%AB%E9%B8%9F/7867576', '/item/MAMA/9182098', '/item/%E8%A1%97%E8%88%9E', '/item/%E7%88%B5%E5%A3%AB%E8%88%9E', '/item/%E6%8B%89%E4%B8%81%E8%88%9E', '/item/%E8%92%99%E5%8F%A4%E8%88%9E', '/item/%E5%8F%98%E8%84%B8/946', '/item/%E6%B2%83%E6%81%A9%C2%B7%E9%9F%A6%E5%BC%97', '/item/%E5%A7%9A%E5%AE%87/678571', '/item/%E8%BF%BD%E4%B8%8A%E5%8E%BB', '/item/%E5%AE%89%E8%BE%BE%E5%85%85', '/item/%E8%9C%97%E7%89%9B/19258993', '/item/%E5%BC%A0%E8%B5%AB%E5%AE%A3', '/item/%E7%88%B8%E7%88%B8/14582683', '/item/TF%E5%AE%B6%E6%97%8F', '/item/%E7%8E%8B%E4%BF%8A%E5%87%AF/75850', '/item/%E7%8E%8B%E6%BA%90/5475062', '/item/Heart%E6%A2%A6%C2%B7%E5%87%BA%E5%8F%91', '/item/%E6%88%91%E5%B0%B1%E6%98%AF%E6%88%91/14082221', '/item/%E6%83%B3%E5%94%B1%E5%B0%B1%E5%94%B1', '/item/%E6%B4%9B%E5%85%8B%E7%8E%8B%E5%9B%BD3', '/item/%E9%AD%94%E6%B3%95%E5%9F%8E%E5%A0%A1', '/item/%E5%B0%91%E5%B9%B4%E4%B8%AD%E5%9B%BD%E5%BC%BA', '/item/%E5%BC%80%E5%AD%A6%E7%AC%AC%E4%B8%80%E8%AF%BE', '/item/%E5%BC%80%E5%AD%A6%E7%AC%AC%E4%B8%80%E8%AF%BE', '/item/TFBOYS%E5%81%B6%E5%83%8F%E6%89%8B%E8%AE%B0', '/item/TF%E5%B0%91%E5%B9%B4GO', '/item/%E7%9C%8B%E6%9C%88%E4%BA%AE%E7%88%AC%E4%B8%8A%E6%9D%A5', '/item/%E7%BA%A2%E8%B1%86/19163329', '/item/%E5%AE%9D%E8%B4%9D/19162252', '/item/%E9%9D%92%E6%98%A5%E4%BF%AE%E7%82%BC%E6%89%8B%E5%86%8C', '/item/%E5%A4%A9%E5%A4%A9%E5%90%91%E4%B8%8A', '/item/%E4%B8%B9%E9%BA%A6%E7%8E%8B%E5%9B%BD%E9%A9%BB%E5%8D%8E%E5%A4%A7%E4%BD%BF%E9%A6%86', '/item/%E6%B1%9F%E8%8B%8F%E5%8D%AB%E8%A7%86%E8%B7%A8%E5%B9%B4%E6%BC%94%E5%94%B1%E4%BC%9A', '/item/%E5%8C%97%E4%BA%AC%E7%94%B5%E8%A7%86%E5%8F%B0%E6%98%A5%E8%8A%82%E8%81%94%E6%AC%A2%E6%99%9A%E4%BC%9A', '/item/%E6%98%A8%E5%A4%A9%E7%9A%84%E4%BD%A0%E7%9A%84%E7%8E%B0%E5%9C%A8%E7%9A%84%E6%9C%AA%E6%9D%A5/19162175', '/item/%E5%8D%97%E9%83%A8%E5%B0%8F%E5%9F%8E/19162105', '/item/%E4%B8%80%E9%A6%96%E7%AE%80%E5%8D%95%E7%9A%84%E6%AD%8C/19163797', '/item/Turn%20Up%20The%20Music/19184988', '/item/%E5%A4%A7%E6%A2%A6%E6%83%B3%E5%AE%B6/18379563', '/item/%E5%B0%8F%E7%8E%8B%E5%AD%90/1000131', '/item/%E5%BE%AE%E5%8D%9A%E7%94%B5%E5%BD%B1%E4%B9%8B%E5%A4%9C', '/item/%E5%A4%A7%E6%A2%A6%E6%83%B3%E5%AE%B6/19129528', '/item/%E6%B9%96%E5%8D%97%E5%8D%AB%E8%A7%86%E8%B7%A8%E5%B9%B4%E6%BC%94%E5%94%B1%E4%BC%9A', '/item/%E5%85%A8%E5%91%98%E5%8A%A0%E9%80%9F%E4%B8%AD', '/item/%E4%B8%AD%E5%A4%AE%E7%94%B5%E8%A7%86%E5%8F%B0%E6%98%A5%E8%8A%82%E8%81%94%E6%AC%A2%E6%99%9A%E4%BC%9A', '/item/%E5%B9%B8%E7%A6%8F%E6%88%90%E9%95%BF', '/item/%E4%B8%AD%E5%9B%BD%E5%9B%BD%E9%99%85%E5%B9%BF%E6%92%AD%E7%94%B5%E5%8F%B0', '/item/%E7%8E%AF%E7%90%83%E6%98%9F%E8%AE%BF%E8%B0%88', '/item/%E7%8E%8B%E7%89%8C%E5%AF%B9%E7%8E%8B%E7%89%8C/18781666', '/item/%E9%99%88%E5%98%89%E6%A1%A6', '/item/Bang%20Bang%20Bang/19451177', '/item/%E7%AC%AC16%E5%B1%8A%E9%9F%B3%E4%B9%90%E9%A3%8E%E4%BA%91%E6%A6%9C%E5%B9%B4%E5%BA%A6%E7%9B%9B%E5%85%B8', '/item/%E6%9D%8E%E6%98%93%E5%B3%B0/3908480', '/item/%E8%B5%B5%E4%B8%BD%E9%A2%96/10075976', '/item/%E9%9D%92%E4%BA%91%E5%BF%97/17545555', '/item/%E5%A4%8F%E6%97%A5%E7%94%9C%E5%BF%83/18752939', '/item/%E4%BD%A0%E8%AF%B4/20231123', '/item/%E4%BF%9D%E7%95%99/20369127', '/item/%E5%8F%B2%E8%AE%B0%C2%B72016', '/item/%E4%B8%AD%E5%A4%AE%E7%94%B5%E8%A7%86%E5%8F%B0%E6%98%A5%E8%8A%82%E8%81%94%E6%AC%A2%E6%99%9A%E4%BC%9A', '/item/%E7%BE%8E%E4%B8%BD%E4%B8%AD%E5%9B%BD%E5%B9%B4/20403338', '/item/SEATTLE/20455921', '/item/%E5%BF%AB%E4%B9%90%E5%A4%A7%E6%9C%AC%E8%90%A5', '/item/%E6%94%BE%E5%BC%80%E6%88%91%E5%8C%97%E9%BC%BB%E7%AC%AC%E4%BA%8C%E5%AD%A3', '/item/%E6%80%9D%E7%BE%8E%E4%BA%BA/18609497', '/item/%E9%87%91%E9%B9%B0%E7%8B%AC%E6%92%AD%E5%89%A7%E5%9C%BA', '/item/Billboard%20Radio%20China', '/item/KINFOLK', '/item/Beatbox', '/item/%E7%88%B5%E5%A3%AB%E9%BC%93', '/item/%E8%B4%9D%E6%96%AF/2947359', '/item/%E4%BA%B2%E7%88%B1%E7%9A%84%C2%B7%E5%AE%A2%E6%A0%88', '/item/%E6%97%B6%E8%A3%85L%27OFFICIEL', '/item/Harvey%20Mason%20Jr./19340117', '/item//22220151', '/item/%E6%99%BA%E6%97%8FGQ', '/item/%E7%AC%AC60%E5%B1%8A%E6%A0%BC%E8%8E%B1%E7%BE%8E%E5%A5%96', '/item/2018%E5%B9%B4%E4%B8%AD%E5%A4%AE%E7%94%B5%E8%A7%86%E5%8F%B0%E6%98%A5%E8%8A%82%E8%81%94%E6%AC%A2%E6%99%9A%E4%BC%9A', '/item/%E6%88%91%E5%92%8C2035%E6%9C%89%E4%B8%AA%E7%BA%A6', '/item/%E5%B9%BB%E4%B9%90%E4%B9%8B%E5%9F%8E/22549116', '/item/%E5%AF%B9%E4%B8%8D%E8%B5%B7/22756212', '/item//22765826', '/item/%E9%9B%85%E5%8A%A0%E8%BE%BE%E4%BA%9A%E8%BF%90%E4%BC%9A/10940360', '/item/%E6%9D%AD%E5%B7%9E8%E5%88%86%E9%92%9F/22850783', '/item/%E6%88%91%E4%B9%90%E6%84%8F%E6%B2%89%E9%BB%98%E9%87%8A%E6%94%BE%E5%86%85%E5%BF%83%E7%84%B0%E7%81%AB/23186166', '/item/Don%27t%20Tie%20Me%20Down/23185476', '/item/%E4%BA%B2%E7%88%B1%E7%9A%84%EF%BC%8C%E8%BF%99%E9%87%8C%E6%B2%A1%E6%9C%89%E4%B8%80%E4%B8%AA%E4%BA%BA/23171861', '/item/%E7%81%BE/22831199', '/item/2019%E7%88%B1%E5%A5%87%E8%89%BA%E5%B0%96%E5%8F%AB%E4%B9%8B%E5%A4%9C/23187259', '/item/%E5%A4%A7%E5%86%B0%E5%B0%8F%E5%B0%86/23217682', '/item/CCTV%E6%98%A5%E8%8A%82%E8%81%94%E6%AC%A2%E6%99%9A%E4%BC%9A/23278193', '/item/%E6%88%91%E4%BB%AC%E9%83%BD%E6%98%AF%E8%BF%BD%E6%A2%A6%E4%BA%BA/23280169', '/item/%E8%BF%99%EF%BC%81%E5%B0%B1%E6%98%AF%E8%A1%97%E8%88%9E%E7%AC%AC%E4%BA%8C%E5%AD%A3/23420390', '/item/%E9%9B%B7%E4%BD%B3%E9%9F%B3/10867132', '/item/%E9%95%BF%E5%AE%89%E5%8D%81%E4%BA%8C%E6%97%B6%E8%BE%B0/20110435', '/item//23650022', '/item//23663681', '/item/2019%E5%B9%B4%E4%B8%AD%E5%A4%AE%E5%B9%BF%E6%92%AD%E7%94%B5%E8%A7%86%E6%80%BB%E5%8F%B0%E4%B8%AD%E7%A7%8B%E6%99%9A%E4%BC%9A/23706993', '/item//52874', '/item//23993254', '/item/%E5%91%A8%E5%86%AC%E9%9B%A8/5051740', '/item/%E5%B0%91%E5%B9%B4%E7%9A%84%E4%BD%A0/22756846', '/item/%E5%BF%B5%E6%83%B3/24117935', '/item/%E9%87%91%E5%83%8F%E5%A5%96/19411031', '/item/%E7%AC%AC26%E5%B1%8A%E9%A6%99%E6%B8%AF%E7%94%B5%E5%BD%B1%E8%AF%84%E8%AE%BA%E5%AD%A6%E4%BC%9A%E5%A4%A7%E5%A5%96/24241813', '/item/2019%E5%A4%A9%E7%8C%AB%E5%8F%8C11%E7%8B%82%E6%AC%A2%E5%A4%9C/23816341', '/item//24169298', '/item/%E6%B9%96%E5%8D%97%E5%8D%AB%E8%A7%86%E8%B7%A8%E5%B9%B4%E6%BC%94%E5%94%B1%E4%BC%9A/24185382', '/item/%E7%83%AD%E8%A1%80%E5%90%8C%E8%A1%8C/23663038', '/item/%E7%BD%97%E5%BF%97%E7%A5%A5/140514', '/item/%E7%8E%8B%E5%98%89%E5%B0%94/13002467', '/item/2020%E5%B9%B4%E4%B8%AD%E5%A4%AE%E5%B9%BF%E6%92%AD%E7%94%B5%E8%A7%86%E6%80%BB%E5%8F%B0%E6%98%A5%E8%8A%82%E8%81%94%E6%AC%A2%E6%99%9A%E4%BC%9A/23503675', '/item/%E6%9C%8B%E5%8F%8B%E8%AF%B7%E5%90%AC%E5%A5%BD/24251131', '/item/%E8%A1%97%E8%88%9E', '/item/%E7%88%B5%E5%A3%AB%E8%88%9E', '/item/%E6%8B%89%E4%B8%81%E8%88%9E', '/item/%E8%92%99%E5%8F%A4%E8%88%9E', '/item/%E4%B8%AD%E5%A4%AE%E6%88%8F%E5%89%A7%E5%AD%A6%E9%99%A2/305391', '/item/%E5%B0%91%E5%B9%B4%E7%9A%84%E4%BD%A0/22756846', '/item/%E5%B0%91%E5%B9%B4%E7%9A%84%E4%BD%A0/22756846', '/item/%E6%9B%BE%E5%9B%BD%E7%A5%A5/14479', '/item/%E5%91%A8%E5%86%AC%E9%9B%A8/5051740', '/item/%E8%80%81%E7%82%AE%E5%84%BF/15891954', '/item/%E8%80%81%E7%82%AE%E5%84%BF/15891954', '/item/%E7%AE%A1%E8%99%8E', '/item/%E5%86%AF%E5%B0%8F%E5%88%9A', '/item/%E5%BC%A0%E6%B6%B5%E4%BA%88', '/item/%E6%9D%8E%E6%98%93%E5%B3%B0', '/item/%E8%87%B4%E5%91%BD%E8%BF%BD%E5%87%BB/17769187', '/item/%E8%87%B4%E5%91%BD%E8%BF%BD%E5%87%BB/17769187', '/item/%E5%B0%9A%E6%A0%BC%E4%BA%91%E9%A1%BF', '/item/%E7%83%AD%E8%A1%80%E5%90%8C%E8%A1%8C/23663038', '/item/%E7%83%AD%E8%A1%80%E5%90%8C%E8%A1%8C/23663038', '/item/%E9%98%BF%E6%98%93', '/item/%E5%88%98%E4%B8%80%E5%BF%97', '/item/%E9%BB%84%E5%AD%90%E9%9F%AC/5217042', '/item/%E8%83%A1%E5%86%B0%E5%8D%BF/714535', '/item/%E9%95%BF%E5%AE%89%E5%8D%81%E4%BA%8C%E6%97%B6%E8%BE%B0/20110435', '/item/%E9%95%BF%E5%AE%89%E5%8D%81%E4%BA%8C%E6%97%B6%E8%BE%B0/20110435', '/item/%E6%9D%8E%E5%BF%85/23600498', '/item/%E6%9B%B9%E7%9B%BE', '/item/%E9%9B%B7%E4%BD%B3%E9%9F%B3/10867132', '/item/%E6%88%91%E4%BB%AC%E7%9A%84%E5%B0%91%E5%B9%B4%E6%97%B6%E4%BB%A3/19815747', '/item/%E6%88%91%E4%BB%AC%E7%9A%84%E5%B0%91%E5%B9%B4%E6%97%B6%E4%BB%A3/19815747', '/item/%E6%88%90%E5%BF%97%E8%B6%85', '/item/%E7%8E%8B%E4%BF%8A%E5%87%AF/75850', '/item/%E7%8E%8B%E6%BA%90/5475062', '/item/%E8%96%9B%E4%B9%8B%E8%B0%A6/144417', '/item/%E6%80%9D%E7%BE%8E%E4%BA%BA/18609497', '/item/%E6%80%9D%E7%BE%8E%E4%BA%BA/18609497', '/item/%E5%B0%91%E5%B9%B4%E5%B1%88%E5%8E%9F/20197200', '/item/%E5%BC%A0%E5%AD%9D%E6%AD%A3', '/item/%E4%B8%81%E4%BB%B0%E5%9B%BD', '/item/%E9%A9%AC%E5%8F%AF/1387579', '/item/%E4%B9%94%E6%8C%AF%E5%AE%87/29657', '/item/%E5%BC%A0%E9%A6%A8%E4%BA%88/26128', '/item/%E5%B0%8F%E5%88%AB%E7%A6%BB/16169797', '/item/%E5%B0%8F%E5%88%AB%E7%A6%BB/16169797', '/item/%E6%B1%AA%E4%BF%8A', '/item/%E9%BB%84%E7%A3%8A/6617', '/item/%E6%B5%B7%E6%B8%85', '/item/%E5%BC%A0%E5%AD%90%E6%9E%AB', '/item/%E9%9D%92%E4%BA%91%E5%BF%97/17545555', '/item/%E9%9D%92%E4%BA%91%E5%BF%97/17545555', '/item/%E5%B0%8F%E4%B8%83/19280744', '/item/%E9%82%93%E7%BB%86%E6%96%8C', '/item/%E6%9D%8E%E6%98%93%E5%B3%B0', '/item/%E8%B5%B5%E4%B8%BD%E9%A2%96', '/item/%E6%9D%A8%E7%B4%AB', '/item/%E8%B6%85%E5%B0%91%E5%B9%B4%E5%AF%86%E7%A0%81/19224976', '/item/%E8%B6%85%E5%B0%91%E5%B9%B4%E5%AF%86%E7%A0%81/19224976', '/item/%E8%B0%8C%E6%B5%A9%E8%BD%A9', '/item/%E9%83%91%E8%8A%AC%E8%8A%AC', '/item/%E6%98%93%E7%83%8A%E5%8D%83%E7%8E%BA', '/item/%E7%8E%8B%E4%BF%8A%E5%87%AF/75850', '/item/%E7%8E%8B%E6%BA%90/5475062', '/item/%E4%B8%87%E4%B8%87%E6%B2%A1%E6%83%B3%E5%88%B0%E7%AC%AC%E4%BA%8C%E5%AD%A3/14517066', '/item/%E4%B8%87%E4%B8%87%E6%B2%A1%E6%83%B3%E5%88%B0%E7%AC%AC%E4%BA%8C%E5%AD%A3/14517066', '/item/%E5%8F%AB%E5%85%BD%E6%98%93%E5%B0%8F%E6%98%9F', '/item/%E5%AD%94%E8%BF%9E%E9%A1%BA', '/item/%E5%88%98%E5%BE%AA%E5%AD%90%E5%A2%A8', '/item/%E9%AB%98%E7%A7%91%E6%8A%80%E5%B0%91%E5%A5%B3%E5%96%B5/13871546', '/item/%E9%AB%98%E7%A7%91%E6%8A%80%E5%B0%91%E5%A5%B3%E5%96%B5/13871546', '/item/%E5%88%98%E5%BE%AA%E5%AD%90%E5%A2%A8', '/item/%E5%BC%A0%E6%9C%AC%E7%85%9C', '/item/%E4%BA%91%E5%B1%85%E5%AF%BA%E4%BC%A0%E5%A5%87/4348684', '/item/%E4%BA%91%E5%B1%85%E5%AF%BA%E4%BC%A0%E5%A5%87/4348684', '/item/%E4%BE%AF%E4%BA%AE', '/item/%E4%BA%8E%E9%A3%9E', '/item/%E4%BA%8E%E5%A8%9C/75243', '/item/%E5%B1%A0%E5%A4%8F%E5%B2%A9', '/item/%E6%9C%B1%E6%B1%9F%E8%BF%AA', '/item/%E8%B6%85%E8%A3%85%E5%A4%87%E5%B0%8F%E5%AD%90/1523947', '/item/%E8%B6%85%E8%A3%85%E5%A4%87%E5%B0%8F%E5%AD%90/1523947', '/item/%E6%AE%B5%E6%97%AD%E5%AE%87', '/item/%E6%98%93%E7%83%8A%E5%8D%83%E7%8E%BA', '/item/%E9%93%81%E6%A2%A8%E8%8A%B1/30869', '/item/%E9%93%81%E6%A2%A8%E8%8A%B1/30869', '/item/%E9%83%AD%E9%9D%96%E5%AE%87', '/item/%E9%99%88%E6%95%B0', '/item/%E5%BC%A0%E5%B0%91%E5%8D%8E/18315', '/item/%E9%9D%92%E6%98%A5%E4%BF%AE%E7%82%BC%E6%89%8B%E5%86%8C/16246864', '/item/%E9%9D%92%E6%98%A5%E4%BF%AE%E7%82%BC%E6%89%8B%E5%86%8C/16246864', '/item/Heart%E6%A2%A6%C2%B7%E5%87%BA%E5%8F%91/14073367', '/item/Heart%E6%A2%A6%C2%B7%E5%87%BA%E5%8F%91/14073367', '/item/%E5%86%B7%E9%9D%99%E5%92%8C%E7%83%AD%E6%83%85%E4%B9%8B%E9%97%B4', '/item/%E5%BF%B5%E6%83%B3', '/item/I%20Adore%20You', '/item/Fall', '/item/%E9%99%B7%E8%90%BD%E7%BE%8E%E5%A5%BD', '/item/%E7%B2%BE%E5%BD%A9%E6%89%8D%E5%88%9A%E5%88%9A%E5%BC%80%E5%A7%8B', '/item/%E7%81%BE', '/item/%E4%B8%B9%E9%9D%92%E5%8D%83%E9%87%8C', '/item/Boyfriend', '/item/All%20of%20Me', '/item/%E5%96%9C%E5%89%A7%E4%B9%8B%E7%8E%8B', '/item/%E4%BD%A0%E7%9A%84%E7%88%B1', '/item/Unpredictable', '/item/Nothing%20to%20Lose', '/item/%E6%8B%A5%E6%8A%B1%E4%BD%A0', '/item/%E7%94%9F%E7%94%9F', '/item/%E7%A6%BB%E9%AA%9A', '/item/%E5%BD%93%E4%BD%A0%E8%80%81%E4%BA%86', '/item/%E4%BF%9D%E7%95%99', '/item/%E6%88%91%E6%80%BB%E6%98%AF%E4%B8%80%E4%B8%AA%E4%BA%BA%E5%9C%A8%E7%BB%83%E4%B9%A0%E4%B8%80%E4%B8%AA%E4%BA%BA', '/item/%E4%B8%8B%E9%9B%A8%E4%BA%86', '/item/%E9%99%8C%E7%94%9F%E4%BA%BA', '/item/%E4%BD%A0%E8%AF%B4', '/item/%E4%B8%8D%E6%81%AF%E4%B9%8B%E6%B2%B3', '/item/%E5%B0%8F%E7%B2%BE%E7%81%B5', '/item/%E6%BD%87%E6%B4%92%E8%B5%B0%E4%B8%80%E5%9B%9E', '/item/%E6%B5%81%E6%B5%AA%E8%AE%B0', '/item/%E6%98%AF%E4%BD%A0', '/item/%E6%9C%AA%E6%9D%A5%E7%9A%84%E8%BF%9B%E5%87%BB', '/item/%E5%AE%88%E6%8A%A4%E5%AE%B6', '/item/%E7%9C%9F%E5%BF%83%E8%AF%9D%E5%A4%AA%E5%86%92%E9%99%A9', '/item/%E4%B8%8D%E5%AE%8C%E7%BE%8E%E5%B0%8F%E5%AD%A9', '/item/%E6%A2%A6%E6%83%B3%E5%A4%A9%E7%81%AF2016', '/item/%E5%94%AF%E4%B8%80', '/item/%E8%B7%AF%E4%B8%80%E7%9B%B4%E9%83%BD%E5%9C%A8', '/item/%E4%B8%80%E9%A6%96%E7%AE%80%E5%8D%95%E7%9A%84%E6%AD%8C', '/item/%E6%88%91%E4%BB%AC%E6%98%AF%E5%85%B1%E4%BA%A7%E4%B8%BB%E4%B9%89%E6%8E%A5%E7%8F%AD%E4%BA%BA', '/item/%E6%81%8B%E8%A5%BF%E6%B8%B8', '/item/%E5%8D%97%E9%83%A8%E5%B0%8F%E5%9F%8E', '/item/%E6%98%A8%E5%A4%A9%E7%9A%84%E4%BD%A0%E7%9A%84%E7%8E%B0%E5%9C%A8%E7%9A%84%E6%9C%AA%E6%9D%A5', '/item/%E5%AE%9D%E8%B4%9D', '/item/%E7%BA%A2%E8%B1%86', '/item/%E7%9C%8B%E6%9C%88%E4%BA%AE%E7%88%AC%E4%B8%8A%E6%9D%A5', '/item/%E5%BC%80%E5%AD%A6%E7%AC%AC%E4%B8%80%E8%AF%BE', '/item/%E4%B8%BA%E6%A2%A6%E6%83%B3%E6%97%B6%E5%88%BB%E5%87%86%E5%A4%87%E7%9D%80', '/item/%E6%83%B3%E5%94%B1%E5%B0%B1%E5%94%B1', '/item/%E5%A5%BD%E4%B9%85%E4%B8%8D%E8%A7%81', '/item/%E6%A2%A6%E6%83%B3%E6%91%A9%E5%A4%A9%E6%A5%BC', '/item/%E4%B8%8D%E5%88%86%E6%98%BC%E5%A4%9C', '/item/%E4%B8%AD%E6%9E%AA%E8%88%9E', '/item/Good%20Boy/19237934', '/item/Turn%20Up%20The%20Music/19184988', '/item/IF%20YOU/18898317', '/item/RHYTHM%20TA/18898383', '/item/Bang%20Bang%20Bang/19451177', '/item/Tell%20Me%20Why/19898853', '/item/%E9%9D%92%E6%98%A5/20243743', '/item/%E6%89%87%E5%AD%90%E8%88%9E/20246961', '/item/SEATTLE/20455921', '/item/%E5%B0%8F%E7%8E%8B%E5%AD%90/1000131', '/item/%E9%A9%AC%E5%85%8B%C2%B7%E5%A5%A5%E6%96%AF%E6%9C%AC', '/item/%E9%BB%84%E6%B8%A4', '/item/%E5%91%A8%E8%BF%85/10076', '/item/%E9%A9%AC%E5%A4%A9%E5%AE%87', '/item/%E9%BB%84%E7%A3%8A/6617', '/item/%E7%8C%AA%E7%8C%AA%E4%BE%A0%E4%B9%8B%E8%8B%B1%E9%9B%84%E7%8C%AA%E5%B0%91%E5%B9%B4', '/item/%E6%9C%8B%E5%8F%8B%E8%AF%B7%E5%90%AC%E5%A5%BD/24251131', '/item/2019%E5%A4%A9%E7%8C%AB%E5%8F%8C11%E7%8B%82%E6%AC%A2%E5%A4%9C/23816341', '/item/%E8%BF%99%EF%BC%81%E5%B0%B1%E6%98%AF%E8%A1%97%E8%88%9E%E7%AC%AC%E4%BA%8C%E5%AD%A3/23420390', '/item/%E8%BF%BD%E6%A2%A6%E5%90%A7%E9%9D%92%E6%98%A5/23462438', '/item/%E5%A4%A7%E5%86%B0%E5%B0%8F%E5%B0%86/23217682', '/item/%E7%B2%BE%E5%BD%A9%E6%89%8D%E5%88%9A%E5%88%9A%E5%BC%80%E5%A7%8B/22932469', '/item/%E5%B9%BB%E4%B9%90%E4%B9%8B%E5%9F%8E/22549116', '/item/%E5%AF%B9%E4%B8%8D%E8%B5%B7/22756212', '/item/2018%E5%B9%B4%E4%B8%AD%E5%A4%AE%E7%94%B5%E8%A7%86%E5%8F%B0%E6%98%A5%E8%8A%82%E8%81%94%E6%AC%A2%E6%99%9A%E4%BC%9A', '/item/%E5%9B%BD%E5%AE%B6%E5%AE%9D%E8%97%8F/22226325', '/item/%E5%A4%A7%E5%85%8B%E9%BC%8E', '/item/%E5%BF%AB%E4%B9%90%E5%A4%A7%E6%9C%AC%E8%90%A5', '/item/%E4%BB%8A%E6%97%A5%E5%BD%B1%E8%AF%84%C2%B7%E8%A1%A8%E6%BC%94%E8%80%85%E8%A8%80', '/item/%E5%A4%A9%E5%A4%A9%E5%90%91%E4%B8%8A/27155', '/item/%E4%BA%B2%E7%88%B1%E7%9A%84%C2%B7%E5%AE%A2%E6%A0%88', '/item/2017%E5%B9%B4%E4%B8%AD%E5%A4%AE%E7%94%B5%E8%A7%86%E5%8F%B0%E4%B8%AD%E7%A7%8B%E6%99%9A%E4%BC%9A', '/item/%E5%BF%AB%E4%B9%90%E5%A4%A7%E6%9C%AC%E8%90%A5', '/item/%E5%BF%AB%E4%B9%90%E5%A4%A7%E6%9C%AC%E8%90%A5', '/item/%E5%BF%AB%E4%B9%90%E5%A4%A7%E6%9C%AC%E8%90%A5', '/item/%E5%B0%8F%E7%B2%BE%E7%81%B5/19954656', '/item/%E5%BF%AB%E4%B9%90%E5%A4%A7%E6%9C%AC%E8%90%A5', '/item/%E7%86%9F%E6%82%89%E7%9A%84%E5%91%B3%E9%81%93%E7%AC%AC%E4%BA%8C%E5%AD%A3', '/item/%E6%94%BE%E5%BC%80%E6%88%91%E5%8C%97%E9%BC%BB%E7%AC%AC%E4%BA%8C%E5%AD%A3', '/item/%E5%BF%AB%E4%B9%90%E5%A4%A7%E6%9C%AC%E8%90%A5', '/item/%E7%8E%8B%E7%89%8C%E5%AF%B9%E7%8E%8B%E7%89%8C%E7%AC%AC%E4%BA%8C%E5%AD%A3', '/item/2017%E5%B9%B4%E4%B8%AD%E5%A4%AE%E7%94%B5%E8%A7%86%E5%8F%B0%E6%98%A5%E8%8A%82%E8%81%94%E6%AC%A2%E6%99%9A%E4%BC%9A', '/item/%E6%AF%8F%E6%97%A5%E6%96%87%E5%A8%B1%E6%92%AD%E6%8A%A5', '/item/%E6%8C%91%E6%88%98%E4%B8%8D%E5%8F%AF%E8%83%BD/15902516', '/item/%E5%A4%8F%E6%97%A5%E7%94%9C%E5%BF%83/18752939', '/item/%E5%BC%80%E5%AD%A6%E7%AC%AC%E4%B8%80%E8%AF%BE/5614437', '/item/%E5%BF%AB%E4%B9%90%E5%A4%A7%E6%9C%AC%E8%90%A5', '/item/%E4%B8%AD%E5%A4%AE%E7%94%B5%E8%A7%86%E5%8F%B0%E5%85%AD%E4%B8%80%E5%84%BF%E7%AB%A5%E8%8A%82%E6%99%9A%E4%BC%9A', '/item/%E7%8E%8B%E7%89%8C%E5%AF%B9%E7%8E%8B%E7%89%8C/18781666', '/item/%E9%99%88%E5%98%89%E6%A1%A6', '/item/Bang%20Bang%20Bang/19451177', '/item/%E7%8E%AF%E7%90%83%E6%98%9F%E8%AE%BF%E8%B0%88', '/item/2016%E6%B9%96%E5%8D%97%E5%8D%AB%E8%A7%86%E5%85%83%E5%AE%B5%E5%96%9C%E4%B9%90%E4%BC%9A', '/item/%E9%9D%A2%E5%AF%B9%E9%9D%A2/1642', '/item/2016%E5%B9%B4%E4%B8%AD%E5%A4%AE%E7%94%B5%E8%A7%86%E5%8F%B0%E6%98%A5%E8%8A%82%E8%81%94%E6%AC%A2%E6%99%9A%E4%BC%9A', '/item/%E5%B9%B8%E7%A6%8F%E6%88%90%E9%95%BF', '/item/%E4%B8%80%E5%B9%B4%E5%8F%88%E4%B8%80%E5%B9%B4/5153902', '/item/%E6%9C%80%E5%BC%BA%E5%A4%A7%E8%84%91/12426652', '/item/%E5%81%B6%E5%83%8F%E4%B8%87%E4%B8%87%E7%A2%8E', '/item/%E6%80%9D%E7%BE%8E%E4%BA%BA/18609497', '/item/%E5%85%A8%E5%91%98%E5%8A%A0%E9%80%9F%E4%B8%AD', '/item/2015-2016%E6%B9%96%E5%8D%97%E5%8D%AB%E8%A7%86%E8%B7%A8%E5%B9%B4%E6%BC%94%E5%94%B1%E4%BC%9A', '/item/%E4%B8%8D%E5%AE%8C%E7%BE%8E%E5%B0%8F%E5%AD%A9', '/item/%E5%85%A8%E5%91%98%E5%8A%A0%E9%80%9F%E4%B8%AD', '/item/%E5%85%A8%E5%91%98%E5%8A%A0%E9%80%9F%E4%B8%AD', '/item/%E6%9D%9C%E6%B7%B3', '/item/%E5%85%A8%E5%91%98%E5%8A%A0%E9%80%9F%E4%B8%AD', '/item/%E5%8A%A0%E6%B2%B9%E5%B0%8F%E5%BD%93%E5%AE%B6', '/item/%E5%85%A8%E5%91%98%E5%8A%A0%E9%80%9F%E4%B8%AD', '/item/%E5%8A%A0%E6%B2%B9%E5%B0%8F%E5%BD%93%E5%AE%B6', '/item/%E5%85%A8%E5%91%98%E5%8A%A0%E9%80%9F%E4%B8%AD', '/item/%E5%85%A8%E5%91%98%E5%8A%A0%E9%80%9F%E4%B8%AD', '/item/%E7%96%AF%E7%8B%82%E7%9A%84%E9%BA%A6%E5%92%AD/16857118', '/item/%E5%85%A8%E5%91%98%E5%8A%A0%E9%80%9F%E4%B8%AD', '/item/%E5%8F%8C%E5%8D%81%E4%B8%80%E6%99%9A%E4%BC%9A', '/item/%E5%A4%A7%E6%A2%A6%E6%83%B3%E5%AE%B6/18379563', '/item/%E5%89%A9%E4%B8%8B%E7%9A%84%E7%9B%9B%E5%A4%8F/18534130', '/item/%E5%85%A8%E5%91%98%E5%8A%A0%E9%80%9F%E4%B8%AD', '/item/%E8%94%A1%E5%B0%91%E8%8A%AC', '/item/%E4%BA%95%E6%9F%8F%E7%84%B6', '/item/%E6%8C%91%E6%88%98%E4%B8%8D%E5%8F%AF%E8%83%BD/15902516', '/item/%E5%BC%80%E5%AD%A6%E7%AC%AC%E4%B8%80%E8%AF%BE/5614437', '/item/%E5%81%B6%E5%83%8F%E6%9D%A5%E4%BA%86', '/item/%E9%9D%92%E6%98%A5%E4%BF%AE%E7%82%BC%E6%89%8B%E5%86%8C', '/item/%E5%BA%B7%E7%86%99%E6%9D%A5%E4%BA%86', '/item/%E5%A8%B1%E4%B9%90%E7%99%BE%E5%88%86%E7%99%BE', '/item/%E4%B8%AD%E5%A4%AE%E7%94%B5%E8%A7%86%E5%8F%B0%E5%85%AD%E4%B8%80%E5%84%BF%E7%AB%A5%E8%8A%82%E6%99%9A%E4%BC%9A', '/item/%E7%88%B1/2059177', '/item/%E7%BA%A2%E8%9C%BB%E8%9C%93/18512305', '/item/%E5%BF%AB%E4%B9%90%E5%A4%A7%E6%9C%AC%E8%90%A5', '/item/TF%E5%B0%91%E5%B9%B4GO', '/item/%E8%BF%87%E5%B9%B4%E4%B8%83%E5%A4%A9%E4%B9%90', '/item/%E5%8C%97%E4%BA%AC%E7%94%B5%E8%A7%86%E5%8F%B0%E6%98%A5%E8%8A%82%E8%81%94%E6%AC%A2%E6%99%9A%E4%BC%9A', '/item/%E5%8C%97%E4%BA%AC%E5%8D%AB%E8%A7%86', '/item/%E7%96%AF%E7%8B%82%E7%9A%84%E9%BA%A6%E5%92%AD', '/item/%E6%B9%96%E5%8D%97%E5%8D%AB%E8%A7%86', '/item/%E6%B1%9F%E8%8B%8F%E5%8D%AB%E8%A7%86%E8%B7%A8%E5%B9%B4%E6%BC%94%E5%94%B1%E4%BC%9A', '/item/%E9%9D%92%E6%98%A5%E4%BF%AE%E7%82%BC%E6%89%8B%E5%86%8C', '/item/%E5%BF%AB%E4%B9%90%E7%8E%AF%E5%B2%9B', '/item/%E5%B9%B8%E8%BF%90%E7%AC%A6%E5%8F%B7', '/item/%E5%A4%A9%E5%A4%A9%E5%90%91%E4%B8%8A', '/item/%E6%A2%A6%E6%83%B3%E6%98%9F%E6%90%AD%E6%A1%A3', '/item/%E4%B8%AD%E5%9B%BD%E6%96%87%E8%89%BA', '/item/TF%E5%B0%91%E5%B9%B4GO', '/item/%E5%B8%A6%E4%BD%A0%E5%8E%BB%E8%A7%81TA', '/item/TFBOYS%E5%81%B6%E5%83%8F%E6%89%8B%E8%AE%B0', '/item/%E5%B9%B4%E4%BB%A3%E7%A7%80', '/item/%E6%A3%89%E8%8A%B1%E7%B3%96/10923910', '/item/%E9%9D%92%E6%98%A5%E4%BF%AE%E7%82%BC%E6%89%8B%E5%86%8C', '/item/%E9%9D%92%E6%98%A5%E4%BF%AE%E7%82%BC%E6%89%8B%E5%86%8C', '/item/%E5%BC%80%E5%AD%A6%E7%AC%AC%E4%B8%80%E8%AF%BE/5614437', '/item/%E9%9D%92%E6%98%A5%E4%BF%AE%E7%82%BC%E6%89%8B%E5%86%8C', '/item/%E6%96%B0%E9%97%BB%E5%BD%93%E4%BA%8B%E4%BA%BA', '/item/%E5%B0%91%E5%B9%B4%E4%B8%AD%E5%9B%BD%E5%BC%BA', '/item/%E4%B8%BA%E6%A2%A6%E6%83%B3%E6%97%B6%E5%88%BB%E5%87%86%E5%A4%87%E7%9D%80', '/item/%E5%BF%AB%E4%B9%90%E5%A4%A7%E6%9C%AC%E8%90%A5', '/item/TF%E5%B0%91%E5%B9%B4GO', '/item/%E7%8E%8B%E8%80%85%E5%BD%92%E6%9D%A5/10576729', '/item/%E5%91%A8%E6%97%A5%E6%88%91%E6%9C%80%E5%A4%A7', '/item/%E9%9F%B3%E4%B9%90%E5%BF%AB%E9%80%92', '/item/%E5%91%A8%E6%97%A5%E6%88%91%E6%9C%80%E5%A4%A7', '/item/%E6%8C%91%E6%88%9860%E7%A7%92', '/item/%E5%96%9C%E6%9D%A5%E5%9D%9E', '/item/%E5%9B%BD%E9%99%85%E5%85%B3%E7%B3%BB%E5%AD%A6%E9%99%A2', '/item/%E4%B8%AD%E5%8D%8E%E8%BE%BE%E4%BA%BA', '/item/%E5%85%A8%E7%90%83%E5%8D%8E%E4%BA%BA%E7%BD%91%E7%BB%9C%E6%98%A5%E6%99%9A', '/item/%E8%BA%AB%E8%BE%B9/9950079', '/item/%E8%BA%AB%E8%BE%B9/9950079', '/item/%E8%BA%AB%E8%BE%B9/9950079', '/item/%E6%88%90%E9%95%BF%E5%9C%A8%E7%BA%BF', '/item/%E6%B2%B3%E5%8D%97%E7%9C%81%E7%AC%AC%E5%8D%81%E4%B8%80%E5%B1%8A%E8%BF%90%E5%8A%A8%E4%BC%9A', '/item/%E7%BB%BC%E8%89%BA%E9%A3%9F8%E8%A1%97', '/item/%E6%88%90%E9%95%BF%E5%9C%A8%E7%BA%BF', '/item/%E6%88%90%E9%95%BF%E5%9C%A8%E7%BA%BF', '/item/%E9%98%B3%E5%85%89%E5%B0%91%E5%B9%B4', '/item/%E6%97%B6%E5%B0%9A%C2%B7COSMOPOLITAN/5777116', '/item/%E6%97%B6%E5%B0%9A%C2%B7COSMOPOLITAN/5777116', '/item/%E4%B8%AD%E5%8D%8E%E5%84%BF%E5%A5%B3/52874', '/item/%E4%B8%AD%E5%8D%8E%E5%84%BF%E5%A5%B3/52874', '/item/%E6%99%BA%E6%97%8FGQ/9300480', '/item/%E6%99%BA%E6%97%8FGQ/9300480', '/item/%E5%8D%97%E6%96%B9%E4%BA%BA%E7%89%A9%E5%91%A8%E5%88%8A/6810693', '/item/%E5%8D%97%E6%96%B9%E4%BA%BA%E7%89%A9%E5%91%A8%E5%88%8A/6810693', '/item/%E6%97%B6%E5%B0%9A%E8%8A%AD%E8%8E%8E/9114295', '/item/%E6%97%B6%E5%B0%9A%E8%8A%AD%E8%8E%8E/9114295', '/item/T/20659648', '/item/T/20659648', '/item/%E6%97%B6%E5%B0%9A%E8%8A%AD%E8%8E%8E/9114295', '/item/%E6%97%B6%E5%B0%9A%E8%8A%AD%E8%8E%8E/9114295', '/item/%E7%BA%A2%E7%A7%80GRAZIA/9126090', '/item/%E7%BA%A2%E7%A7%80GRAZIA/9126090', '/item/ELLE%20MEN%E7%9D%BF%E5%A3%AB/7707396', '/item/ELLE%20MEN%E7%9D%BF%E5%A3%AB/7707396', '/item/NYLON/13473795', '/item/NYLON/13473795', '/item/%E4%BA%BA%E7%89%A9/878982', '/item/%E4%BA%BA%E7%89%A9/878982', '/item/%E6%97%B6%E5%B0%9A%E5%85%88%E7%94%9FEsquire/22258760', '/item/%E6%97%B6%E5%B0%9A%E5%85%88%E7%94%9FEsquire/22258760', '/item/%E5%98%89%E4%BA%BA/262021', '/item/%E5%98%89%E4%BA%BA/262021', '/item/%E6%97%B6%E5%B0%9A%E8%8A%AD%E8%8E%8E/9114295', '/item/%E6%97%B6%E5%B0%9A%E8%8A%AD%E8%8E%8E/9114295', '/item/%E7%BA%A2%E7%A7%80GRAZIA/9126090', '/item/%E7%BA%A2%E7%A7%80GRAZIA/9126090', '/item/%E6%97%B6%E8%A3%85L%27OFFICIEL/1426455', '/item/%E6%97%B6%E8%A3%85L%27OFFICIEL/1426455', '/item/%E6%99%BA%E6%97%8FGQ', '/item/%E6%99%BA%E6%97%8FGQ', '/item/Vogue/10831831', '/item/Vogue/10831831', '/item/ELLE/211378', '/item/ELLE/211378', '/item/%E8%8A%AD%E8%8E%8E%E7%94%B7%E5%A3%AB', '/item/%E8%8A%AD%E8%8E%8E%E7%94%B7%E5%A3%AB', '/item/%E6%97%B6%E5%B0%9A%C2%B7COSMOPOLITAN', '/item/%E6%97%B6%E5%B0%9A%C2%B7COSMOPOLITAN', '/item/%E6%97%B6%E5%B0%9A%E5%81%A5%E5%BA%B7%E7%94%B7%E5%A3%AB', '/item/%E6%97%B6%E5%B0%9A%E5%81%A5%E5%BA%B7%E7%94%B7%E5%A3%AB', '/item/%E6%97%B6%E8%A3%85L%27OFFICIEL', '/item/%E6%97%B6%E8%A3%85L%27OFFICIEL', '/item/NYLON/13473795', '/item/NYLON/13473795', '/item/KINFOLK', '/item/KINFOLK', '/item/T%20Magazine', '/item/T%20Magazine', '/item/%E6%97%B6%E5%B0%9A%E5%85%88%E7%94%9F/9257401', '/item/%E6%97%B6%E5%B0%9A%E5%85%88%E7%94%9F/9257401', '/item/%E7%BA%A2%E7%A7%80GRAZIA', '/item/%E7%BA%A2%E7%A7%80GRAZIA', '/item/%E7%BA%A2%E7%A7%80GRAZIA', '/item/%E7%BA%A2%E7%A7%80GRAZIA', '/item/YOHO%21%E6%BD%AE%E6%B5%81%E5%BF%97', '/item/YOHO%21%E6%BD%AE%E6%B5%81%E5%BF%97', '/item/%E6%97%B6%E5%B0%9A%E8%8A%AD%E8%8E%8E', '/item/%E6%97%B6%E5%B0%9A%E8%8A%AD%E8%8E%8E', '/item/%E6%88%90%E5%90%8D%E5%9C%A8%E6%9C%9B/22132093', '/item/%E4%BA%94%E6%9C%88%E5%A4%A9/17011', '/item/%E7%88%B8%E7%88%B8/14582683', '/item/%E5%BC%A0%E8%B5%AB%E5%AE%A3', '/item/%E8%BF%BD%E4%B8%8A%E5%8E%BB', '/item/%E9%82%93%E7%A7%91', '/item/%E6%B2%83%E6%81%A9%C2%B7%E9%9F%A6%E5%BC%97', '/item/%E8%9C%97%E7%89%9B/19258993', '/item/%E6%88%91%E6%98%AF%E4%BD%A0%E7%9A%84TFphone', '/item/%E5%94%87%E8%85%AD%E8%A3%82', '/item/%E7%AB%A0%E5%AD%90%E6%80%A1', '/item/%E5%86%B0%E6%A1%B6%E6%8C%91%E6%88%98', '/item/ALS/15415467', '/item/%E7%88%B8%E7%88%B8%E5%9C%A8%E5%93%AA%E5%84%BF/15385188', '/item/%E5%BF%83%E8%BF%9E%E5%BF%83%E8%89%BA%E6%9C%AF%E5%9B%A2', '/item/%E5%BC%80%E5%AD%A6%E7%AC%AC%E4%B8%80%E8%AF%BE/5614437', '/item/Bazzar%E6%98%8E%E6%98%9F%E6%85%88%E5%96%84%E5%A4%9C', '/item/%E9%9D%92%E6%98%A5%E4%BF%AE%E7%82%BC%E6%89%8B%E5%86%8C', '/item/%E9%87%8D%E5%BA%86%E5%B8%82%E5%85%AC%E5%AE%89%E6%B6%88%E9%98%B2%E6%80%BB%E9%98%9F', '/item/%E8%85%BE%E8%AE%AFQQ', '/item/QQ%E7%A9%BA%E9%97%B4', '/item/%E4%B8%AD%E5%9B%BD%E6%89%B6%E8%B4%AB%E5%9F%BA%E9%87%91', '/item/%E8%85%BE%E8%AE%AF%E5%85%AC%E7%9B%8A', '/item/QQ%E7%BA%A2%E5%9B%B4%E5%B7%BE%E8%AE%A1%E5%88%92', '/item/%E5%85%A8%E5%91%98%E5%8A%A0%E9%80%9F%E4%B8%AD', '/item/%E5%8D%83%E5%BA%A6%E6%9A%96%E7%83%8A%E5%85%AC%E7%9B%8A%E5%9F%BA%E9%87%91', '/item/%E7%9E%B3%E5%AD%94%E9%87%8C%E7%9A%84%E5%A4%AA%E9%98%B3', '/item/%E5%85%B1%E9%9D%92%E5%9B%A2%E4%B8%AD%E5%A4%AE', '/item/%E4%B8%96%E7%95%8C%E5%8D%AB%E7%94%9F%E7%BB%84%E7%BB%87', '/item/%E9%99%88%E6%BC%AB/11947', '/item/%E4%B8%AD%E5%8D%8E%E7%8E%AF%E5%A2%83%E4%BF%9D%E6%8A%A4%E5%9F%BA%E9%87%91%E4%BC%9A', '/item/%E8%B0%AD%E5%BE%B7%E5%A1%9E', '/item/%E6%8B%A5%E6%8A%B1%E4%BD%A0/22208620', '/item/%E6%98%93%E7%83%8A%E5%8D%83%E7%8E%BA%E7%88%B1%E5%BF%83%E5%9F%BA%E9%87%91', '/item/%E4%B8%AD%E5%9B%BD%E6%89%B6%E8%B4%AB%E5%9F%BA%E9%87%91%E4%BC%9A', '/item/%E7%AB%A5%E4%BC%B4%E8%AE%A1%E5%88%92', '/item/%E8%81%94%E5%90%88%E5%9B%BD%E7%BB%8F%E6%B5%8E%E5%8F%8A%E7%A4%BE%E4%BC%9A%E7%90%86%E4%BA%8B%E4%BC%9A2019%E9%9D%92%E5%B9%B4%E8%AE%BA%E5%9D%9B/23403881', '/item/%E4%B8%AD%E5%9B%BD%E4%BA%BA%E5%8F%A3%E7%A6%8F%E5%88%A9%E5%9F%BA%E9%87%91%E4%BC%9A', '/item/%E8%8A%92%E6%9E%9CV%E5%9F%BA%E9%87%91', '/item/%E5%9C%86%E6%A2%A6%E8%AE%A1%E5%88%92', '/item/%E6%A2%A6%E6%83%B3%E6%98%9F%E6%90%AD%E6%A1%A3', '/item/%E5%85%B1%E9%9D%92%E5%9B%A2%E4%B8%AD%E5%A4%AE', '/item/%E9%98%B3%E5%85%89%E8%B7%9F%E5%B8%96', '/item/%E4%B8%AD%E5%9B%BD%E7%BB%BF%E5%8C%96%E5%9F%BA%E9%87%91%E4%BC%9A', '/item/%E7%81%AB%E6%98%9F%E5%A4%A7%E4%BD%BF', '/item/%E4%B8%AD%E5%9B%BD%E7%81%AB%E6%98%9F%E6%8E%A2%E6%B5%8B%E5%B7%A5%E7%A8%8B', '/item/%E4%B8%AD%E5%9B%BD%E6%96%87%E7%89%A9%E4%BF%9D%E6%8A%A4%E5%9F%BA%E9%87%91%E4%BC%9A', '/item/%E4%B8%AD%E5%9B%BD%E5%84%BF%E7%AB%A5%E5%B0%91%E5%B9%B4%E5%9F%BA%E9%87%91%E4%BC%9A', '/item/%E4%B8%AD%E5%9B%BD%E5%9B%BD%E9%99%85%E8%BF%9B%E5%8F%A3%E5%8D%9A%E8%A7%88%E4%BC%9A/20799679', '/item/%E7%AC%AC39%E5%B1%8A%E9%A6%99%E6%B8%AF%E7%94%B5%E5%BD%B1%E9%87%91%E5%83%8F%E5%A5%96/24276053', '/item/%E5%B0%91%E5%B9%B4%E7%9A%84%E4%BD%A0/22756846', '/item/%E7%AC%AC39%E5%B1%8A%E9%A6%99%E6%B8%AF%E7%94%B5%E5%BD%B1%E9%87%91%E5%83%8F%E5%A5%96/24276053', '/item/%E7%AC%AC26%E5%B1%8A%E9%A6%99%E6%B8%AF%E7%94%B5%E5%BD%B1%E8%AF%84%E8%AE%BA%E5%AD%A6%E4%BC%9A%E5%A4%A7%E5%A5%96/24241813', '/item/2019%E5%B9%B4%E5%BA%A6%E7%94%B5%E5%BD%B1%E9%A2%91%E9%81%93M%E6%A6%9C/24241794', '/item/2019%E5%B9%B4%E5%BA%A6%E7%94%B5%E5%BD%B1%E9%A2%91%E9%81%93M%E6%A6%9C/24241794', '/item/%E4%B8%AD%E5%9B%BD%E5%A4%A7%E5%AD%A6%E7%94%9F%E7%94%B5%E8%A7%86%E8%8A%82/5958656', '/item/%E7%AC%AC26%E5%B1%8A%E5%8D%8E%E9%BC%8E%E5%A5%96/24194284', '/item/%E9%95%BF%E5%AE%89%E5%8D%81%E4%BA%8C%E6%97%B6%E8%BE%B0/20110435', '/item/%E7%A6%BB%E9%AA%9A/20486867', '/item/%E7%A6%BB%E9%AA%9A/20486867', '/item/%E4%BD%A0%E8%AF%B4/20231123', '/item/%E5%89%A9%E4%B8%8B%E7%9A%84%E7%9B%9B%E5%A4%8F/18534130', '/item/%E6%9B%BE%E5%9B%BD%E7%A5%A5/14479', '/item/%E8%AE%B8%E6%9C%88%E7%8F%8D/20400696', '/item/%E5%91%A8%E5%86%AC%E9%9B%A8/5051740', '/item/%E9%A9%AC%E4%BC%8A%E7%90%8D/5444261', '/item/%E5%88%98%E5%98%89%E7%8E%B2/332999', '/item/%E6%B1%AA%E4%BF%8A/24625', '/item/%E9%82%93%E7%BB%86%E6%96%8C', '/item/%E5%B0%8F%E7%8E%8B%E5%AD%90/1000131', '/item/%E5%85%A8%E5%91%98%E5%8A%A0%E9%80%9F%E4%B8%AD', '/item/%E7%99%BE%E5%BA%A6%E7%99%BE%E7%A7%91%EF%BC%9A%E6%9C%AC%E4%BA%BA%E8%AF%8D%E6%9D%A1%E7%BC%96%E8%BE%91%E6%9C%8D%E5%8A%A1/22442459?bk_fr=pcFooter']\n"
     ]
    },
    {
     "name": "stdout",
     "output_type": "stream",
     "text": [
      "['/item/秒懂星课堂', '/item/秒懂大师说', '/item/秒懂看瓦特', '/item/秒懂五千年', '/item/秒懂全视界', '/item/%E7%99%BE%E5%BA%A6%E7%99%BE%E7%A7%91/85895', '/item/%E5%8F%82%E8%80%83%E8%B5%84%E6%96%99/5718004', '/item/%E8%BA%AB%E4%BB%BD%E8%AF%81/113951', '/item/%E6%88%B7%E5%8F%A3%E6%9C%AC/5104621', '/item/%E4%B9%89%E9%A1%B9/6176882', '/item/%E5%8F%82%E8%80%83%E8%B5%84%E6%96%99/5718004', '/item/%E7%99%BE%E5%BA%A6%E7%99%BE%E7%A7%91%EF%BC%9A%E6%9C%AC%E4%BA%BA%E8%AF%8D%E6%9D%A1%E7%BC%96%E8%BE%91%E6%9C%8D%E5%8A%A1/22442459?bk_fr=pcFooter']\n",
      "['/item/秒懂星课堂', '/item/秒懂大师说', '/item/秒懂看瓦特', '/item/秒懂五千年', '/item/秒懂全视界', '/item/%E7%99%BE%E5%BA%A6%E7%99%BE%E7%A7%91/85895', '/item/%E5%8F%82%E8%80%83%E8%B5%84%E6%96%99/5718004', '/item/%E8%BA%AB%E4%BB%BD%E8%AF%81/113951', '/item/%E6%88%B7%E5%8F%A3%E6%9C%AC/5104621', '/item/%E4%B9%89%E9%A1%B9/6176882', '/item/%E5%8F%82%E8%80%83%E8%B5%84%E6%96%99/5718004', '/item/%E7%99%BE%E5%BA%A6%E7%99%BE%E7%A7%91%EF%BC%9A%E6%9C%AC%E4%BA%BA%E8%AF%8D%E6%9D%A1%E7%BC%96%E8%BE%91%E6%9C%8D%E5%8A%A1/22442459?bk_fr=pcFooter']\n"
     ]
    }
   ],
   "source": [
    "# -*- coding: utf-8 -*-\n",
    "import urllib.request as ur\n",
    "import re\n",
    "count = 0\n",
    "r = re.compile(r'href=[\\'\"]?(/item[^\\'\" >]+)')  #抽取所需链接信息的正则语言规则\n",
    "seed = \"/item/%E6%98%93%E7%83%8A%E5%8D%83%E7%8E%BA/221450\"  #种子网站的路径“易烊千玺词条”\n",
    "stack = [seed]        #设置种子链接的栈（使用列表模拟栈）\n",
    "storage = {}\n",
    "while count < 3:  #设定爬取深度为3\n",
    "    try:\n",
    "        url = stack.pop(-1) # 取出栈的最后一条URL\n",
    "        html = ur.urlopen(\"https://baike.baidu.com\"+url).read().decode('utf-8') # 对URL进行拼接\n",
    "        new_urls = r.findall(html) # 提取当前网页下的所有链接URL信息\n",
    "        print(new_urls)\n",
    "        stack.extend(new_urls) # 将新提取的链接入栈\n",
    "        storage[url] = len(new_urls)\n",
    "        count += 1  #深度迭代加一\n",
    "    except Exception as e:\n",
    "        print(url)\n",
    "        print(e)"
   ]
  },
  {
   "cell_type": "markdown",
   "metadata": {},
   "source": [
    ">未去重的爬取策略在网页链接中形成了一个闭环，反复遍历而造成了重复的url出现，如后两个"
   ]
  },
  {
   "cell_type": "markdown",
   "metadata": {},
   "source": [
    " "
   ]
  },
  {
   "cell_type": "markdown",
   "metadata": {},
   "source": [
    "### 编写抓取网页的广度遍历算法（含去重和不去重），自选合适的种子网站和相关参数，输出结果。 "
   ]
  },
  {
   "cell_type": "code",
   "execution_count": 5,
   "metadata": {
    "scrolled": true
   },
   "outputs": [
    {
     "name": "stdout",
     "output_type": "stream",
     "text": [
      "['/item/秒懂星课堂', '/item/秒懂大师说', '/item/秒懂看瓦特', '/item/秒懂五千年', '/item/秒懂全视界', '/item/%E5%85%8B%E9%87%8C%E6%96%AF%C2%B7%E9%A9%AC%E6%B1%80/6403544', '/item/%E5%A8%81%E5%B0%94%C2%B7%E6%9F%A5%E5%B9%B3', '/item/Parachutes/20486104', '/item/A%20Rush%20of%20Blood%20to%20the%20Head/7593492', '/item/In%20My%20Place/7685973', '/item/Clocks/10782702', '/item/X%26Y/15273193', '/item/Viva%20la%20Vida%20or%20Death%20and%20All%20His%20Friends/19941864', '/item/Viva%20la%20Vida/10296254', '/item/Mylo%20Xyloto/1191849', '/item/Ghost%20Stories/13827936', '/item/A%20Head%20Full%20of%20Dreams/18909737', '/item/Everyday%20Life/24124527', '/item/yellow/2760110', '/item/viva%20la%20vida/10296254', '/item/Fix%20you/15489934', '/item/paradise/7081073', '/item/Hymn%20For%20The%20Weekend/18907499', '/item/Something%20just%20like%20this/20449106', '/item/Yellow/2760110', '/item/Viva%20la%20Vida/10296254', '/item/Fix%20You/15489934', '/item/Paradise/7081073', '/item/Hymn%20For%20The%20Weekend/18907499', '/item/Something%20Just%20Like%20This/20449106', '/item/%E5%85%8B%E9%87%8C%E6%96%AF%C2%B7%E9%A9%AC%E6%B1%80', '/item/%E6%B1%A4%E5%A7%86%C2%B7%E5%A8%81%E5%85%B9/6430237', '/item/%E5%9F%83%E9%87%8C%E5%85%8B%C2%B7%E5%85%8B%E8%8E%B1%E6%99%AE%E9%A1%BF/5937590', '/item/%E5%90%89%E7%B1%B3%C2%B7%E4%BA%A8%E5%BE%B7%E9%87%8C%E5%85%8B%E6%96%AF/2067226', '/item/%E5%A8%81%E5%B0%94%C2%B7%E6%9F%A5%E5%B9%B3', '/item/NME/2337787', '/item/%E7%99%BE%E4%BB%A3%E5%94%B1%E7%89%87/6451829', '/item/Shiver/19406532', '/item/Yellow/2760110', '/item/Parachutes/20486104', '/item/Trouble/2823846', '/item/We%20Never%20Change/16956462', '/item/Everything%27s%20Not%20Lost/16956601', '/item/%E6%B0%B4%E6%98%9F%E9%9F%B3%E4%B9%90%E5%A5%96/10213106', '/item/A%20Rush%20of%20Blood%20to%20the%20Head/7593492', '/item/In%20My%20Place/7685973', '/item/Clocks/10782702', '/item/The%20Scientist/10569802', '/item/Speed%20of%20Sound/19918031', '/item/X%26Y/15273193', '/item/Fix%20You/15489934', '/item/Talk/16957109', '/item/Violet%20Hill/6425280', '/item/Viva%20la%20Vida%20or%20Death%20and%20All%20His%20Friends/19941864', '/item/%E6%AC%A7%E4%BB%81%C2%B7%E5%BE%B7%E6%8B%89%E5%85%8B%E7%BD%97%E7%93%A6/2160053', '/item/%E8%87%AA%E7%94%B1%E5%BC%95%E5%AF%BC%E4%BA%BA%E6%B0%91/1686703', '/item/Viva%20la%20Vida/10296254', '/item/Prospekt%27s%20March/8120143', '/item/%E5%87%AF%E8%8E%89%C2%B7%E7%B1%B3%E6%B4%9B/966150', '/item/JAY-Z/1491054', '/item/%E6%BB%9A%E7%9F%B3/7543303', '/item/%E8%8B%B9%E6%9E%9C2010%E7%A7%8B%E5%AD%A3%E6%96%B0%E5%93%81%E5%8F%91%E5%B8%83%E4%BC%9A/353823', '/item/Christmas%20Lights/10120982', '/item/Every%20Teardrop%20Is%20A%20Waterfall/7071645', '/item/Major%20Minus/7686653', '/item/Moving%20to%20Mars/10886793', '/item/Paradise/7081073', '/item/%E5%B0%91%E5%B9%B4%E6%B4%BE%E7%9A%84%E5%A5%87%E5%B9%BB%E6%BC%82%E6%B5%81/4973389', '/item/%E4%B8%9B%E6%9E%97%E4%B9%8B%E7%8E%8B/14435077', '/item/%E5%8F%B2%E8%92%82%E5%A4%AB%C2%B7%E4%B9%94%E5%B8%83%E6%96%AF/85300', '/item/Mylo%20Xyloto/1191849', '/item/%E8%95%BE%E5%93%88%E5%A8%9C/5226798', '/item/Princessof%20China/8088814', '/item/2012%E5%B9%B4%E4%BC%A6%E6%95%A6%E6%AE%8B%E5%A5%A5%E4%BC%9A/5503555', '/item/Us%20Against%20The%20World/18414215', '/item/Coldplay%20Live%202012/17996635', '/item/%E9%A5%A5%E9%A5%BF%E6%B8%B8%E6%88%8F2%EF%BC%9A%E6%98%9F%E7%81%AB%E7%87%8E%E5%8E%9F/4271953', '/item/Atlas/15250373', '/item/%E5%8D%8E%E7%BA%B3%E5%85%84%E5%BC%9F%E5%94%B1%E7%89%87%E5%85%AC%E5%8F%B8/129149', '/item/%E5%A4%A7%E8%A5%BF%E6%B4%8B%E5%94%B1%E7%89%87/2166661', '/item/Midnight/18483083', '/item/Magic/13683901', '/item/%E7%AB%A0%E5%AD%90%E6%80%A1/131804', '/item/%E8%89%BE%E7%BB%B4%E5%A5%87/5027816', '/item/A%20Sky%20Full%20of%20Stars/13844261', '/item/Ghost%20Stories/13827936', '/item/%E5%AE%89%E5%90%89%E4%B8%BD%E5%A8%9C%C2%B7%E6%9C%B1%E8%8E%89/1238331', '/item/%E5%9D%9A%E4%B8%8D%E5%8F%AF%E6%91%A7/12008573', '/item/Miracles/16440231', '/item/Adventure%20of%20a%20Lifetime/18786151', '/item/A%20Head%20Full%20of%20Dreams/18909737', '/item/%E7%A2%A7%E6%98%82%E6%96%AF/7255548', '/item/%E8%AF%BA%E5%B0%94%C2%B7%E5%8A%A0%E6%8B%89%E6%A0%BC/16914295', '/item/%E5%A5%A5%E5%B7%B4%E9%A9%AC/3073', '/item/Hymn%20For%20The%20Weekend/18907499', '/item/%E6%B4%92%E7%BA%A2%E8%8A%82/1320281', '/item/%E5%B8%83%E9%B2%81%E8%AF%BA%C2%B7%E9%A9%AC%E5%B0%94%E6%96%AF', '/item/%E6%A0%BC%E6%8B%89%E6%96%AF%E9%A1%BF%E4%BC%AF%E9%87%8C%E9%9F%B3%E4%B9%90%E8%8A%82/3515732', '/item/Viola%20Beach/19390446', '/item/%E7%83%9F%E9%AC%BC%E7%BB%84%E5%90%88/20438913', '/item/Something%20Just%20Like%20This/20449106', '/item/Hypnotised/20462421', '/item/All%20ICanThinkAboutIsYou/20864679', '/item/A%20L%20I%20E%20N%20S/21801249', '/item/%E8%89%BE%E5%B0%94%E9%A1%BF%C2%B7%E7%BA%A6%E7%BF%B0/441151', '/item/%E6%B3%95%E7%91%9E%E5%B0%94%C2%B7%E5%A8%81%E5%BB%89%E5%A7%86%E6%96%AF/12634143', '/item/Everyday%20Life/24124527', '/item/All%20I%20Can%20Think%20About%20Is%20You', '/item/A%20L%20I%20E%20N%20S', '/item/Everglow', '/item/Yellow', '/item/Viva%20la%20Vida', '/item/Christmas%20Lights', '/item/Adventure%20of%20a%20Lifetime', '/item/A%20Head%20Full%20of%20Dreams', '/item/Kaleidoscope', '/item/Birds', '/item/Army%20of%20One', '/item/Hymn%20for%20the%20Weekend', '/item/Amazing%20Day', '/item/Everglow', '/item/Adventure%20of%20a%20Lifetime', '/item/Fun', '/item/Adventure%20Of%20A%20Lifetime', '/item/Ghost%20Story', '/item/All%20Your%20Friends', '/item/Always%20In%20My%20Head', '/item/Oceans', '/item/Magic', '/item/A%20Sky%20Full%20of%20Stars', '/item/Ink', '/item/O', '/item/True%20Love', '/item/Midnight', '/item/Another%27s%20Arms', '/item/Every%20Teardrop%20Is%20a%20Waterfall', '/item/Paradise', '/item/Violet%20Hill', '/item/Clocks', '/item/God%20Put%20a%20Smile%20upon%20Your%20Face', '/item/Charlie%20Brown', '/item/Mylo%20Xyloto', '/item/Major%20Minus', '/item/Hurts%20Like%20Heaven', '/item/U.F.O.', '/item/Paradise', '/item/Princess%20of%20China', '/item/Charlie%20Brown', '/item/Up%20In%20Flames', '/item/Us%20Against%20The%20World', '/item/Every%20Teardrop%20is%20a%20waterfall', '/item/Every%20Teardrop%20Is%20a%20Waterfall', '/item/Moving%20to%20Mars', '/item/Major%20Minus', '/item/Viva%20La%20Vida', '/item/42', '/item/Clocks', '/item/Fix%20You', '/item/Strawberry%20Swing', '/item/Death%20And%20All%20His%20Friends', '/item/Rainy%20Day', '/item/Life%20In%20Technicolor', '/item/Viva%20la%20Vida', '/item/Cemeteries%20of%20London', '/item/Violet%20Hill', '/item/Strawberry%20Swing', '/item/42', '/item/Death%20and%20All%20His%20Friends', '/item/Yes', '/item/Square%20One', '/item/A%20Message', '/item/What%20If', '/item/Low', '/item/White%20Shadows', '/item/The%20Hardest%20Part', '/item/Fix%20You', '/item/Swallowed%20In%20the%20Sea', '/item/Talk', '/item/Twisted%20Logic', '/item/Speed%20of%20Sound', '/item/Politik', '/item/Green%20Eyes', '/item/In%20My%20Place', '/item/Warning%20Sign', '/item/God%20Put%20a%20Smile%20upon%20Your%20Face', '/item/A%20Whisper', '/item/The%20Scientist', '/item/A%20Rush%20of%20Blood%20to%20the%20Head', '/item/Clocks', '/item/Amsterdam', '/item/Daylight', '/item/Have%20Yourself%20a%20Merry%20Little%20Christmas', '/item/Sparks', '/item/Don%27t%20Panic', '/item/Trouble', '/item/Shiver', '/item/Parachutes', '/item/Spies', '/item/High%20Speed', '/item/Sparks', '/item/We%20Never%20Change', '/item/Yellow', '/item/Bigger%20Stronger', '/item/High%20Speed', '/item/Don%27t%20Panic', '/item/Bigger%20Stronger', '/item/Christmas%20Lights', '/item/Atlas', '/item/Wish%20I%20Was%20Here', '/item/Miracles', '/item/Something%20Just%20like%20This', '/item/Gravity', '/item/Embrace', '/item/%E7%99%BE%E5%BA%A6%E7%99%BE%E7%A7%91%EF%BC%9A%E6%9C%AC%E4%BA%BA%E8%AF%8D%E6%9D%A1%E7%BC%96%E8%BE%91%E6%9C%8D%E5%8A%A1/22442459?bk_fr=pcFooter']\n",
      "/item/秒懂星课堂\n",
      "'ascii' codec can't encode characters in position 10-14: ordinal not in range(128)\n",
      "/item/秒懂大师说\n",
      "'ascii' codec can't encode characters in position 10-14: ordinal not in range(128)\n",
      "/item/秒懂看瓦特\n",
      "'ascii' codec can't encode characters in position 10-14: ordinal not in range(128)\n",
      "/item/秒懂五千年\n",
      "'ascii' codec can't encode characters in position 10-14: ordinal not in range(128)\n",
      "/item/秒懂全视界\n",
      "'ascii' codec can't encode characters in position 10-14: ordinal not in range(128)\n",
      "['/item/秒懂星课堂', '/item/秒懂大师说', '/item/秒懂看瓦特', '/item/秒懂五千年', '/item/秒懂全视界', '/item/%E5%BE%B7%E6%96%87%E9%83%A1/8130468', '/item/%E9%85%B7%E7%8E%A9%E4%B9%90%E9%98%9F/5851362', '/item/%E8%8B%B1%E6%A0%BC%E5%85%B0', '/item/%E5%A4%9A%E5%A1%9E%E7%89%B9%E9%83%A1', '/item/%E4%BC%A6%E6%95%A6%E5%A4%A7%E5%AD%A6%E5%AD%A6%E9%99%A2/325705', '/item/%E6%A0%BC%E6%B8%A9%E5%A6%AE%E6%96%AF%C2%B7%E5%B8%95%E7%89%B9%E6%B4%9B/2276076', '/item/%E4%BC%A6%E6%95%A6/862', '/item/%E7%BA%BD%E7%BA%A6/6230', '/item/Embrace', '/item/Gravity/8314683', '/item/Faultline', '/item/%E8%A1%97%E5%A4%B4%E5%B0%8F%E5%AD%90/16552889', '/item/yellow/2760110', '/item/viva%20la%20vida/10296254', '/item/the%20scientist/10569802', '/item/Fix%20you/15489934', '/item/Something%20just%20like%20this/20449106', '/item/%E6%A0%BC%E6%B8%A9%E5%A6%AE%E6%96%AF%C2%B7%E5%B8%95%E7%89%B9%E6%B4%9B/2276076', '/item/%E5%9F%83%E5%85%8B%E5%A1%9E%E7%89%B9', '/item/%E4%BC%A6%E6%95%A6%E5%A4%A7%E5%AD%A6%E5%AD%A6%E9%99%A2', '/item/Yellow/2760110', '/item/Viva%20la%20Vida/10296254', '/item/The%20Scientist/10569802', '/item/Fix%20You/15489934', '/item/Something%20Just%20Like%20This/20449106', '/item/%E9%A9%AC%E6%B1%80', '/item/%E5%A6%AE%E8%8E%89%C2%B7%E8%B4%B9%E5%A1%94%E6%9C%B5', '/item/Loose/9694942', '/item/All%20Good%20Things', '/item/%E6%A0%BC%E6%8B%89%E6%96%AF%E9%A1%BF%E4%BC%AF%E9%87%8C%E9%9F%B3%E4%B9%90%E8%8A%82', '/item/Graduation', '/item/%E5%98%BB%E5%93%88%E9%9F%B3%E4%B9%90', '/item/%E6%9D%B0%E6%96%AF', '/item/%E7%8E%8B%E8%80%85%E5%86%8D%E4%B8%B4', '/item/Kingdom%20Come', '/item/Beach%20Chair', '/item/Dr.%20Dre', '/item/%E9%85%B7%E7%8E%A9%E4%B9%90%E5%9B%A2', '/item/%E5%90%89%E4%BB%96%E6%89%8B', '/item/%E5%83%B5%E5%B0%B8%E8%82%96%E6%81%A9', '/item/Extras', '/item/%E6%A0%BC%E6%B8%A9%E5%A6%AE%E4%B8%9D%C2%B7%E5%B8%95%E7%89%B9%E6%B4%9B', '/item/%E4%BC%A6%E6%95%A6/862', '/item/%E7%BE%8E%E5%9B%BD/125486', '/item/%E7%BA%BD%E7%BA%A6/6230', '/item/%E6%A0%BC%E6%B8%A9%E5%A6%AE%E4%B8%9D%C2%B7%E5%B8%95%E7%89%B9%E6%B4%9B', '/item/%E6%A0%BC%E6%B8%A9%E5%A6%AE%E4%B8%9D%C2%B7%E5%B8%95%E7%89%B9%E6%B4%9B', '/item/%E8%8E%8E%E7%BF%81%E6%83%85%E5%8F%B2', '/item/%E5%A5%A5%E6%96%AF%E5%8D%A1%E5%BD%B1%E5%90%8E/3206370', '/item/%E9%92%A2%E9%93%81%E4%BE%A0/303', '/item/%E5%B0%8F%E8%BE%A3%E6%A4%92/6996995', '/item/Fix%20You/15489934', '/item/X%26Y', '/item/Make%20Trade%20Fair', '/item/simon%20pegg', '/item/iHeartRadio%E9%9F%B3%E4%B9%90%E8%8A%82', '/item/Jennifer%20Lawrence', '/item/%E6%97%A5%E5%85%89%E8%8A%82%E7%BA%A6%E6%97%B6%E5%88%B6', '/item/Yellow/2760110', '/item/Viva%20La%20Vida/10296254', '/item/The%20Scientist/10569802', '/item/Fix%20You/15489934', '/item/Everglow', '/item/%E9%85%B7%E7%8E%A9%E4%B9%90%E9%98%9F', '/item/%E5%9D%8E%E8%80%B6%C2%B7%E9%9F%A6%E6%96%AF%E7%89%B9', '/item/%E6%8C%AA%E5%A8%81', '/item/a-ha', '/item/Hunting%20High%20and%20Low', '/item/%E9%98%BF%E5%A7%86%E6%96%AF%E7%89%B9%E4%B8%B9', '/item/%E9%A9%AC%E6%B1%80', '/item/%E4%B9%90%E6%96%BD%E4%BC%9A', '/item/%E5%8A%A0%E7%BA%B3', '/item/%E6%B5%B7%E5%9C%B0', '/item/%E4%B9%94%E6%B2%BB%C2%B7%E6%B2%83%E5%85%8B%C2%B7%E5%B8%83%E4%BB%80', '/item/%E4%BC%8A%E6%8B%89%E5%85%8B%E6%88%98%E4%BA%89', '/item/%E9%A9%AC%E6%B1%80', '/item/%E7%BE%8E%E5%9B%BD%E6%B0%91%E4%B8%BB%E5%85%9A', '/item/%E7%BA%A6%E7%BF%B0%C2%B7%E5%87%AF%E5%88%A9', '/item/%E8%8B%B1%E5%9B%BD%E4%BF%9D%E5%AE%88%E5%85%9A', '/item/%E5%A4%A7%E5%8D%AB%C2%B7%E5%8D%A1%E6%A2%85%E4%BC%A6', '/item/%E7%99%BE%E5%BA%A6%E7%99%BE%E7%A7%91%EF%BC%9A%E6%9C%AC%E4%BA%BA%E8%AF%8D%E6%9D%A1%E7%BC%96%E8%BE%91%E6%9C%8D%E5%8A%A1/22442459?bk_fr=pcFooter']\n"
     ]
    },
    {
     "name": "stdout",
     "output_type": "stream",
     "text": [
      "['/item/秒懂星课堂', '/item/秒懂大师说', '/item/秒懂看瓦特', '/item/秒懂五千年', '/item/秒懂全视界', '/item/%E7%99%BE%E5%BA%A6%E7%99%BE%E7%A7%91%EF%BC%9A%E6%9C%AC%E4%BA%BA%E8%AF%8D%E6%9D%A1%E7%BC%96%E8%BE%91%E6%9C%8D%E5%8A%A1/22442459?bk_fr=pcFooter']\n"
     ]
    }
   ],
   "source": [
    "# -*- coding: utf-8 -*-\n",
    "#不去重广度遍历\n",
    "import urllib.request as ur\n",
    "import re\n",
    "count = 0\n",
    "r = re.compile(r'href=[\\'\"]?(/item[^\\'\" >]+)') # 抽取所需链接信息的正则语言规则\n",
    "seed = \"/item/%E9%85%B7%E7%8E%A9%E4%B9%90%E9%98%9F/5851362?fr=aladdin\" # 所要爬虫的词条“酷玩乐队”\n",
    "queue = [seed]  # 设置种子链接的队列（使用队列来进行广度遍历）\n",
    "storage = {}\n",
    "while count < 3:\n",
    "    try:\n",
    "        url = queue.pop(0) # 取出队列最后一条URL\n",
    "        html = ur.urlopen(\"https://baike.baidu.com\"+url).read().decode('utf-8') # 对URL进行拼接\n",
    "        new_urls = r.findall(html) # 提取当前网页下的所有链接URL信息\n",
    "        print(new_urls)\n",
    "        queue.extend(new_urls) # 将新提取的链接信息入队列\n",
    "        storage[url] = len(new_urls)\n",
    "        count += 1\n",
    "    except Exception as e:\n",
    "        print(url)\n",
    "        print(e)"
   ]
  },
  {
   "cell_type": "markdown",
   "metadata": {},
   "source": [
    " "
   ]
  },
  {
   "cell_type": "code",
   "execution_count": 6,
   "metadata": {
    "scrolled": true
   },
   "outputs": [
    {
     "name": "stdout",
     "output_type": "stream",
     "text": [
      "/item/%E6%98%93%E7%83%8A%E5%8D%83%E7%8E%BA/221450 0\n",
      "/item/%E6%9D%AD%E5%B7%9E8%E5%88%86%E9%92%9F/22850783 1\n",
      "/item/SEATTLE/20455921 1\n",
      "/item/%E8%AE%B8%E6%9C%88%E7%8F%8D/20400696 1\n",
      "/item/%E4%B8%AD%E5%9B%BD%E5%84%BF%E7%AB%A5%E5%B0%91%E5%B9%B4%E5%9F%BA%E9%87%91%E4%BC%9A 1\n",
      "/item/%E8%B5%B5%E4%B8%BD%E9%A2%96/10075976 1\n",
      "/item/%E4%B8%AD%E5%8D%8E%E8%BE%BE%E4%BA%BA 1\n",
      "/item/%E7%9E%B3%E5%AD%94%E9%87%8C%E7%9A%84%E5%A4%AA%E9%98%B3 1\n",
      "/item/%E6%B2%83%E6%81%A9%C2%B7%E9%9F%A6%E5%BC%97 1\n",
      "/item/%E5%A4%8F%E6%97%A5%E7%94%9C%E5%BF%83/18752939 1\n",
      "/item/%E6%97%B6%E5%B0%9A%E5%81%A5%E5%BA%B7%E7%94%B7%E5%A3%AB 1\n",
      "/item/%E8%B4%9D%E6%96%AF/2947359 1\n",
      "/item/%E5%91%A8%E8%BF%85/10076 1\n",
      "/item/2016%E6%B9%96%E5%8D%97%E5%8D%AB%E8%A7%86%E5%85%83%E5%AE%B5%E5%96%9C%E4%B9%90%E4%BC%9A 1\n",
      "/item/%E7%BA%A2%E7%A7%80GRAZIA/9126090 1\n",
      "/item/%E7%9C%9F%E5%BF%83%E8%AF%9D%E5%A4%AA%E5%86%92%E9%99%A9 1\n",
      "/item/%E6%8B%A5%E6%8A%B1%E4%BD%A0 1\n",
      "/item/%E7%BD%97%E5%BF%97%E7%A5%A5/140514 1\n",
      "/item/%E6%B2%B3%E5%8D%97%E7%9C%81%E7%AC%AC%E5%8D%81%E4%B8%80%E5%B1%8A%E8%BF%90%E5%8A%A8%E4%BC%9A 1\n",
      "/item/2019%E5%B9%B4%E5%BA%A6%E7%94%B5%E5%BD%B1%E9%A2%91%E9%81%93M%E6%A6%9C/24241794 1\n",
      "/item/%E8%8A%AD%E8%8E%8E%E7%94%B7%E5%A3%AB 1\n",
      "/item/%E5%B0%91%E5%B9%B4%E5%B1%88%E5%8E%9F/20197200 1\n",
      "/item/%E9%9D%92%E6%98%A5%E4%BF%AE%E7%82%BC%E6%89%8B%E5%86%8C 1\n",
      "/item/%E6%99%BA%E6%97%8FGQ/9300480 1\n",
      "/item/%E4%B8%8D%E5%88%86%E6%98%BC%E5%A4%9C/24256484 1\n",
      "/item/%E9%A3%9E%E7%82%AB%E5%B0%91%E5%B9%B4/9794050 1\n",
      "/item/%E6%B4%9B%E5%85%8B%E7%8E%8B%E5%9B%BD3 1\n",
      "/item/%E6%9C%8B%E5%8F%8B%E8%AF%B7%E5%90%AC%E5%A5%BD/24251131 1\n",
      "/item/%E6%B1%9F%E8%8B%8F%E5%8D%AB%E8%A7%86%E8%B7%A8%E5%B9%B4%E6%BC%94%E5%94%B1%E4%BC%9A 1\n",
      "/item/%E7%88%B5%E5%A3%AB%E8%88%9E 1\n",
      "/item/%E4%BD%A0%E8%AF%B4/20231123 1\n",
      "/item/%E6%9C%80%E5%BC%BA%E5%A4%A7%E8%84%91/12426652 1\n",
      "/item/%E6%9D%9C%E6%B7%B3 1\n",
      "/item/%E6%BD%87%E6%B4%92%E8%B5%B0%E4%B8%80%E5%9B%9E 1\n",
      "/item/%E8%BF%87%E5%B9%B4%E4%B8%83%E5%A4%A9%E4%B9%90 1\n",
      "/item/%E6%94%BE%E5%BC%80%E6%88%91%E5%8C%97%E9%BC%BB%E7%AC%AC%E4%BA%8C%E5%AD%A3 1\n",
      "/item/%E8%81%94%E5%90%88%E5%9B%BD%E7%BB%8F%E6%B5%8E%E5%8F%8A%E7%A4%BE%E4%BC%9A%E7%90%86%E4%BA%8B%E4%BC%9A2019%E9%9D%92%E5%B9%B4%E8%AE%BA%E5%9D%9B/23403881 1\n",
      "/item/%E4%B8%AD%E5%9B%BD%E5%A4%A7%E5%AD%A6%E7%94%9F%E7%94%B5%E8%A7%86%E8%8A%82/5958656 1\n",
      "/item/%E5%91%A8%E6%97%A5%E6%88%91%E6%9C%80%E5%A4%A7 1\n",
      "/item/%E8%B7%AF%E4%B8%80%E7%9B%B4%E9%83%BD%E5%9C%A8 1\n",
      "/item/NYLON/13473795 1\n",
      "/item/%E5%B9%B4%E4%BB%A3%E7%A7%80 1\n",
      "/item/Nothing%20to%20Lose 1\n",
      "/item/I%20Adore%20You 1\n",
      "/item/%E9%99%88%E6%95%B0 1\n",
      "/item/%E6%97%B6%E5%B0%9A%E8%8A%AD%E8%8E%8E 1\n",
      "/item/%E5%AE%88%E6%8A%A4%E5%AE%B6 1\n",
      "/item/%E6%B9%96%E5%8D%97%E5%8D%AB%E8%A7%86%E8%B7%A8%E5%B9%B4%E6%BC%94%E5%94%B1%E4%BC%9A/24185382 1\n",
      "/item/%E5%BC%A0%E6%B6%B5%E4%BA%88 1\n",
      "/item/%E5%AF%B9%E4%B8%8D%E8%B5%B7/22756212 1\n",
      "/item/%E5%A5%BD%E4%B9%85%E4%B8%8D%E8%A7%81 1\n",
      "/item//24169298 1\n",
      "/item/秒懂星课堂 1\n",
      "/item/秒懂星课堂\n",
      "'ascii' codec can't encode characters in position 10-14: ordinal not in range(128)\n",
      "/item/%E9%87%91%E9%B9%B0%E7%8B%AC%E6%92%AD%E5%89%A7%E5%9C%BA 1\n",
      "/item/%E7%96%AF%E7%8B%82%E7%9A%84%E9%BA%A6%E5%92%AD 1\n",
      "/item/%E6%B5%81%E6%B5%AA%E8%AE%B0 1\n",
      "/item/%E6%8C%91%E6%88%9860%E7%A7%92 1\n",
      "/item/%E6%99%BA%E6%85%A7%E6%A0%91 1\n",
      "/item/%E9%AD%94%E6%B3%95%E5%9F%8E%E5%A0%A1 1\n",
      "/item/Vogue/10831831 1\n",
      "/item/%E5%8D%83%E7%A6%A7%E5%B9%B4 1\n",
      "/item/%E7%8E%8B%E7%89%8C%E5%AF%B9%E7%8E%8B%E7%89%8C/18781666 1\n",
      "/item/%E5%A4%A7%E6%A2%A6%E6%83%B3%E5%AE%B6/18379563 1\n",
      "/item/%E5%96%9C%E6%9D%A5%E5%9D%9E 1\n",
      "/item/TFBOYS 1\n",
      "/item/%E7%81%BE 1\n",
      "/item/%E4%B8%AD%E5%A4%AE%E6%88%8F%E5%89%A7%E5%AD%A6%E9%99%A2 1\n",
      "/item/%E4%B8%8D%E6%81%AF%E4%B9%8B%E6%B2%B3 1\n",
      "/item/%E8%B6%85%E8%A3%85%E5%A4%87%E5%B0%8F%E5%AD%90 1\n",
      "/item/%E6%97%B6%E5%B0%9A%E5%85%88%E7%94%9FEsquire/22258760 1\n",
      "/item/%E6%A3%89%E8%8A%B1%E7%B3%96/10923910 1\n",
      "/item/RHYTHM%20TA/18898383 1\n",
      "/item/%E7%86%9F%E6%82%89%E7%9A%84%E5%91%B3%E9%81%93%E7%AC%AC%E4%BA%8C%E5%AD%A3 1\n",
      "/item/TFBOYS%E5%81%B6%E5%83%8F%E6%89%8B%E8%AE%B0 1\n",
      "/item/%E6%96%B0%E9%97%BB%E5%BD%93%E4%BA%8B%E4%BA%BA 1\n",
      "/item/%E7%88%B1/2059177 1\n",
      "/item/Fall 1\n",
      "/item/%E5%B0%8F%E7%8E%8B%E5%AD%90/1000131 1\n",
      "/item/%E8%94%A1%E5%B0%91%E8%8A%AC 1\n",
      "/item/%E5%B0%8F%E4%B8%83/19280744 1\n",
      "/item/%E5%86%B0%E6%A1%B6%E6%8C%91%E6%88%98 1\n",
      "/item/%E7%AE%A1%E8%99%8E 1\n",
      "/item/%E4%B8%AD%E5%9B%BD%E5%9B%BD%E9%99%85%E5%B9%BF%E6%92%AD%E7%94%B5%E5%8F%B0 1\n",
      "/item/%E6%88%91%E4%BB%AC%E7%9A%84%E5%B0%91%E5%B9%B4%E6%97%B6%E4%BB%A3/19815747 1\n",
      "/item/%E5%B1%A0%E5%A4%8F%E5%B2%A9 1\n",
      "/item/%E6%97%B6%E5%B0%9A%E5%85%88%E7%94%9F/9257401 1\n",
      "/item/%E4%BD%A0%E7%9A%84%E7%88%B1 1\n",
      "/item/%E6%9D%A8%E7%B4%AB 1\n",
      "/item/%E5%BC%80%E5%AD%A6%E7%AC%AC%E4%B8%80%E8%AF%BE 1\n",
      "/item/%E5%94%AF%E4%B8%80 1\n",
      "/item/%E9%9D%92%E6%98%A5/20243743 1\n",
      "/item/%E4%B8%8D%E5%AE%8C%E7%BE%8E%E5%B0%8F%E5%AD%A9 1\n",
      "/item/TF%E5%AE%B6%E6%97%8F 1\n",
      "/item//23650022 1\n",
      "/item/%E6%83%B3%E5%94%B1%E5%B0%B1%E5%94%B1 1\n",
      "/item/QQ%E7%BA%A2%E5%9B%B4%E5%B7%BE%E8%AE%A1%E5%88%92 1\n",
      "/item/%E5%9B%BD%E5%AE%B6%E5%AE%9D%E8%97%8F/22226325 1\n",
      "/item/%E6%9C%B1%E6%B1%9F%E8%BF%AA 1\n",
      "/item/2017%E5%B9%B4%E4%B8%AD%E5%A4%AE%E7%94%B5%E8%A7%86%E5%8F%B0%E6%98%A5%E8%8A%82%E8%81%94%E6%AC%A2%E6%99%9A%E4%BC%9A 1\n",
      "/item/%E5%B0%9A%E6%A0%BC%E4%BA%91%E9%A1%BF 1\n",
      "/item/%E7%AC%AC60%E5%B1%8A%E6%A0%BC%E8%8E%B1%E7%BE%8E%E5%A5%96 1\n",
      "/item/%E4%B8%AD%E5%A4%AE%E7%94%B5%E8%A7%86%E5%8F%B0%E5%85%AD%E4%B8%80%E5%84%BF%E7%AB%A5%E8%8A%82%E6%99%9A%E4%BC%9A 1\n",
      "/item/%E4%BA%B2%E7%88%B1%E7%9A%84%EF%BC%8C%E8%BF%99%E9%87%8C%E6%B2%A1%E6%9C%89%E4%B8%80%E4%B8%AA%E4%BA%BA/23171861 1\n",
      "/item/%E8%87%B4%E5%91%BD%E8%BF%BD%E5%87%BB/17769187 1\n",
      "/item//22765826 1\n",
      "/item/%E5%BE%AE%E5%8D%9A%E7%94%B5%E5%BD%B1%E4%B9%8B%E5%A4%9C 1\n",
      "/item/%E5%A4%A7%E6%A2%A6%E6%83%B3%E5%AE%B6/19129528 1\n",
      "/item/%E8%85%BE%E8%AE%AFQQ 1\n",
      "/item/%E4%B8%80%E5%B9%B4%E5%8F%88%E4%B8%80%E5%B9%B4/5153902 1\n",
      "/item/%E5%8F%B2%E8%AE%B0%C2%B72016 1\n",
      "/item/%E4%B8%AD%E6%9E%AA%E8%88%9E 1\n",
      "/item/Bang%20Bang%20Bang/19451177 1\n",
      "/item/%E8%B0%8C%E6%B5%A9%E8%BD%A9 1\n",
      "/item/%E9%A9%AC%E5%A4%A9%E5%AE%87 1\n",
      "/item/%E5%B9%BB%E4%B9%90%E4%B9%8B%E5%9F%8E/22549116 1\n",
      "/item/%E7%8E%AF%E7%90%83%E6%98%9F%E8%AE%BF%E8%B0%88 1\n",
      "/item/%E4%B9%94%E6%8C%AF%E5%AE%87/29657 1\n",
      "/item/%E8%BA%AB%E8%BE%B9/9950079 1\n",
      "/item/%E4%B8%AD%E5%9B%BD%E5%9B%BD%E9%99%85%E8%BF%9B%E5%8F%A3%E5%8D%9A%E8%A7%88%E4%BC%9A/20799679 1\n",
      "/item/%E5%85%B1%E9%9D%92%E5%9B%A2%E4%B8%AD%E5%A4%AE 1\n",
      "/item/Unpredictable 1\n",
      "/item/Nothing%20to%20Lose/22220151 1\n",
      "/item/%E9%93%81%E6%A2%A8%E8%8A%B1/30869 1\n",
      "/item/%E7%88%B8%E7%88%B8/14582683 1\n",
      "/item/%E5%A4%A9%E5%A4%A9%E5%90%91%E4%B8%8A/27155 1\n",
      "/item/KINFOLK 1\n",
      "/item/%E9%9B%85%E5%8A%A0%E8%BE%BE%E4%BA%9A%E8%BF%90%E4%BC%9A/10940360 1\n",
      "/item/%E7%BA%A2%E7%A7%80GRAZIA 1\n",
      "/item/%E5%A4%A7%E5%86%B0%E5%B0%8F%E5%B0%86/23217682 1\n",
      "/item/%E4%BA%8E%E9%A3%9E 1\n",
      "/item/%E8%B5%B5%E4%B8%BD%E9%A2%96 1\n",
      "/item/%E4%B8%80%E9%A6%96%E7%AE%80%E5%8D%95%E7%9A%84%E6%AD%8C 1\n",
      "/item/%E9%A9%AC%E5%85%8B%C2%B7%E5%A5%A5%E6%96%AF%E6%9C%AC 1\n",
      "/item/%E6%A2%A6%E6%83%B3%E6%91%A9%E5%A4%A9%E6%A5%BC 1\n",
      "/item/%E9%99%88%E6%BC%AB/11947 1\n",
      "/item/%E5%81%B6%E5%83%8F%E6%9D%A5%E4%BA%86 1\n",
      "/item/%E6%9D%8E%E6%98%93%E5%B3%B0/3908480 1\n",
      "/item/Bazzar%E6%98%8E%E6%98%9F%E6%85%88%E5%96%84%E5%A4%9C 1\n",
      "/item/%E6%89%87%E5%AD%90%E8%88%9E/20246961 1\n",
      "/item/%E7%BA%A2%E8%B1%86/19163329 1\n",
      "/item/Billboard%20Radio%20China 1\n",
      "/item/2020%E5%B9%B4%E4%B8%AD%E5%A4%AE%E5%B9%BF%E6%92%AD%E7%94%B5%E8%A7%86%E6%80%BB%E5%8F%B0%E6%98%A5%E8%8A%82%E8%81%94%E6%AC%A2%E6%99%9A%E4%BC%9A/23503675 1\n",
      "/item/%E5%8D%97%E9%83%A8%E5%B0%8F%E5%9F%8E/19162105 1\n",
      "/item/%E4%B8%AD%E5%9B%BD%E5%A5%B3%E6%8E%92/22355405 1\n",
      "/item/%E5%BF%83%E8%BF%9E%E5%BF%83%E8%89%BA%E6%9C%AF%E5%9B%A2 1\n",
      "/item/%E6%97%B6%E8%A3%85L%27OFFICIEL 1\n",
      "/item/%E5%A8%B1%E4%B9%90%E7%99%BE%E5%88%86%E7%99%BE 1\n",
      "/item/2019%E5%A4%A9%E7%8C%AB%E5%8F%8C11%E7%8B%82%E6%AC%A2%E5%A4%9C/23816341 1\n",
      "/item/%E9%99%B7%E8%90%BD%E7%BE%8E%E5%A5%BD 1\n",
      "/item/%E5%BF%AB%E4%B9%90%E7%8E%AF%E5%B2%9B 1\n",
      "/item/%E8%85%BE%E8%AE%AF%E5%85%AC%E7%9B%8A 1\n",
      "/item/%E5%BC%A0%E5%AD%90%E6%9E%AB 1\n",
      "/item/Boyfriend 1\n",
      "/item/NOTHING%20TO%20LOSE/22220151 1\n",
      "/item/2015-2016%E6%B9%96%E5%8D%97%E5%8D%AB%E8%A7%86%E8%B7%A8%E5%B9%B4%E6%BC%94%E5%94%B1%E4%BC%9A 1\n",
      "/item/%E9%98%BF%E6%98%93 1\n",
      "/item/%E5%96%9C%E5%89%A7%E4%B9%8B%E7%8E%8B 1\n",
      "/item/%E5%B0%8F%E5%88%AB%E7%A6%BB/16169797 1\n",
      "/item/%E6%8B%89%E4%B8%81%E8%88%9E 1\n",
      "/item/%E9%AB%98%E7%A7%91%E6%8A%80%E5%B0%91%E5%A5%B3%E5%96%B5/13871546 1\n",
      "/item/%E8%B6%85%E5%B0%91%E5%B9%B4%E5%AF%86%E7%A0%81/19224976 1\n",
      "/item/%E4%B8%8B%E9%9B%A8%E4%BA%86 1\n",
      "/item/%E6%97%B6%E5%B0%9A%C2%B7COSMOPOLITAN 1\n"
     ]
    },
    {
     "name": "stdout",
     "output_type": "stream",
     "text": [
      "/item/%E4%B8%96%E7%95%8C%E5%8D%AB%E7%94%9F%E7%BB%84%E7%BB%87/483426 1\n",
      "/item/%E9%A3%9E%E7%82%AB%E5%B0%91%E5%B9%B4 1\n",
      "/item/Heart%E6%A2%A6%C2%B7%E5%87%BA%E5%8F%91 1\n",
      "/item/%E5%BF%B5%E6%83%B3 1\n",
      "/item/%E4%B8%AD%E5%9B%BD%E6%96%87%E7%89%A9%E4%BF%9D%E6%8A%A4%E5%9F%BA%E9%87%91%E4%BC%9A 1\n",
      "/item/%E6%B9%96%E5%8D%97%E5%8D%AB%E8%A7%86 1\n",
      "/item/CCTV%E6%98%A5%E8%8A%82%E8%81%94%E6%AC%A2%E6%99%9A%E4%BC%9A/23278193 1\n",
      "/item/%E6%98%93%E7%83%8A%E5%8D%83%E7%8E%BA 1\n",
      "/item/秒懂大师说 1\n",
      "/item/秒懂大师说\n",
      "'ascii' codec can't encode characters in position 10-14: ordinal not in range(128)\n",
      "/item/%E8%BF%BD%E6%A2%A6%E5%90%A7%E9%9D%92%E6%98%A5/23462438 1\n",
      "/item/%E5%8D%83%E7%BA%B8%E9%B9%A4/18819377 1\n",
      "/item/%E5%8F%AB%E5%85%BD%E6%98%93%E5%B0%8F%E6%98%9F 1\n",
      "/item/%E7%AC%AC39%E5%B1%8A%E9%A6%99%E6%B8%AF%E7%94%B5%E5%BD%B1%E9%87%91%E5%83%8F%E5%A5%96/24276053 1\n",
      "/item/%E4%B8%96%E7%95%8C%E5%8D%AB%E7%94%9F%E7%BB%84%E7%BB%87 1\n",
      "/item/%E7%88%B8%E7%88%B8%E5%9C%A8%E5%93%AA%E5%84%BF/15385188 1\n",
      "/item/%E8%80%81%E7%82%AE%E5%84%BF/15891954 1\n",
      "/item/%E5%8D%97%E9%83%A8%E5%B0%8F%E5%9F%8E 1\n",
      "/item/%E5%AE%89%E8%BE%BE%E5%85%85 1\n",
      "/item/%E7%96%AF%E7%8B%82%E7%9A%84%E9%BA%A6%E5%92%AD/16857118 1\n",
      "/item/%E9%99%8C%E7%94%9F%E4%BA%BA 1\n",
      "/item/%E9%9B%B7%E4%BD%B3%E9%9F%B3/10867132 1\n",
      "/item/%E9%9D%A2%E5%AF%B9%E9%9D%A2/1642 1\n",
      "/item/%E4%B8%81%E4%BB%B0%E5%9B%BD 1\n",
      "/item/%E9%87%91%E5%83%8F%E5%A5%96/19411031 1\n",
      "/item/%E5%BC%A0%E5%B0%91%E5%8D%8E/18315 1\n",
      "/item/%E6%97%B6%E5%B0%9A%E8%8A%AD%E8%8E%8E/9114295 1\n",
      "/item/%E8%83%A1%E5%86%B0%E5%8D%BF/714535 1\n",
      "/item/%E4%B8%B9%E9%BA%A6%E7%8E%8B%E5%9B%BD%E9%A9%BB%E5%8D%8E%E5%A4%A7%E4%BD%BF%E9%A6%86 1\n",
      "/item/%E6%A2%A6%E6%83%B3%E6%98%9F%E6%90%AD%E6%A1%A3 1\n",
      "/item/%E9%98%B3%E5%85%89%E8%B7%9F%E5%B8%96 1\n",
      "/item/%E4%BF%9D%E7%95%99/20369127 1\n",
      "/item/%E6%9D%8E%E6%98%93%E5%B3%B0 1\n",
      "/item/%E9%9D%92%E4%BA%91%E5%BF%97/17545555 1\n",
      "/item/%E6%88%91%E4%BB%AC%E9%83%BD%E6%98%AF%E8%BF%BD%E6%A2%A6%E4%BA%BA/23280169 1\n",
      "/item/%E9%82%93%E7%A7%91 1\n",
      "/item/%E9%BB%84%E5%AD%90%E9%9F%AC/5217042 1\n",
      "/item/%E6%88%90%E5%BF%97%E8%B6%85 1\n",
      "/item/%E9%95%BF%E5%AE%89%E5%8D%81%E4%BA%8C%E6%97%B6%E8%BE%B0/20110435 1\n",
      "/item/%E7%BE%8E%E4%B8%BD%E4%B8%AD%E5%9B%BD%E5%B9%B4/20403338 1\n",
      "/item/YOHO%21%E6%BD%AE%E6%B5%81%E5%BF%97 1\n",
      "/item/%E7%88%B5%E5%A3%AB%E9%BC%93 1\n",
      "/item/%E7%BA%A2%E8%9C%BB%E8%9C%93/18512305 1\n",
      "/item/秒懂看瓦特 1\n",
      "/item/秒懂看瓦特\n",
      "'ascii' codec can't encode characters in position 10-14: ordinal not in range(128)\n",
      "/item/%E6%AF%8F%E6%97%A5%E6%96%87%E5%A8%B1%E6%92%AD%E6%8A%A5 1\n",
      "/item/%E7%A6%BB%E9%AA%9A/20486867 1\n",
      "/item/%E5%8D%83%E5%BA%A6%E6%9A%96%E7%83%8A%E5%85%AC%E7%9B%8A%E5%9F%BA%E9%87%91 1\n",
      "/item/TF%E5%B0%91%E5%B9%B4GO 1\n",
      "/item/Heart%E6%A2%A6%C2%B7%E5%87%BA%E5%8F%91/14073367 1\n",
      "/item/%E4%B8%87%E4%B8%87%E6%B2%A1%E6%83%B3%E5%88%B0%E7%AC%AC%E4%BA%8C%E5%AD%A3/14517066 1\n",
      "/item/%E6%B1%AA%E4%BF%8A/24625 1\n",
      "/item/%E5%8C%97%E4%BA%AC%E5%8D%AB%E8%A7%86 1\n",
      "/item/%E6%97%B6%E5%B0%9A%C2%B7COSMOPOLITAN/5777116 1\n",
      "/item/%E5%B0%8F%E7%B2%BE%E7%81%B5/19954656 1\n",
      "/item/%E7%B2%BE%E5%BD%A9%E6%89%8D%E5%88%9A%E5%88%9A%E5%BC%80%E5%A7%8B/22932469 1\n",
      "/item/%E4%B8%8D%E5%88%86%E6%98%BC%E5%A4%9C 1\n",
      "/item/%E5%86%B7%E9%9D%99%E5%92%8C%E7%83%AD%E6%83%85%E4%B9%8B%E9%97%B4 1\n",
      "/item/%E6%98%93%E7%83%8A%E5%8D%83%E7%8E%BA%E7%88%B1%E5%BF%83%E5%9F%BA%E9%87%91 1\n",
      "/item/%E4%BA%8E%E5%A8%9C/75243 1\n",
      "/item//22220151 1\n",
      "/item/%E5%BC%A0%E5%AD%9D%E6%AD%A3 1\n",
      "/item/%E9%A6%99%E6%B8%AF%E7%94%B5%E5%BD%B1%E9%87%91%E5%83%8F%E5%A5%96/184819 1\n",
      "/item/All%20of%20Me 1\n",
      "/item/%E4%B8%AD%E5%9B%BD%E6%96%87%E8%89%BA 1\n",
      "/item/ALS/15415467 1\n",
      "/item/%E7%83%AD%E8%A1%80%E5%90%8C%E8%A1%8C/23663038 1\n",
      "/item/%E4%BF%9D%E7%95%99 1\n",
      "/item/%E5%BC%A0%E8%B5%AB%E5%AE%A3 1\n",
      "/item/%E8%B0%AD%E5%BE%B7%E5%A1%9E 1\n",
      "/item/%E4%B8%AD%E5%9B%BD%E4%BA%BA%E5%8F%A3%E7%A6%8F%E5%88%A9%E5%9F%BA%E9%87%91%E4%BC%9A 1\n",
      "/item/%E6%9C%AA%E6%9D%A5%E7%9A%84%E8%BF%9B%E5%87%BB 1\n",
      "/item/Turn%20Up%20The%20Music/19184988 1\n",
      "/item/%E9%83%AD%E9%9D%96%E5%AE%87 1\n",
      "/item/%E5%88%98%E5%BE%AA%E5%AD%90%E5%A2%A8 1\n",
      "/item/秒懂五千年 1\n",
      "/item/秒懂五千年\n",
      "'ascii' codec can't encode characters in position 10-14: ordinal not in range(128)\n",
      "/item/%E4%B8%AD%E5%A4%AE%E6%88%8F%E5%89%A7%E5%AD%A6%E9%99%A2/305391 1\n",
      "/item/%E6%81%8B%E8%A5%BF%E6%B8%B8 1\n",
      "/item/%E5%B9%B8%E8%BF%90%E7%AC%A6%E5%8F%B7 1\n",
      "/item/T/20659648 1\n",
      "/item/%E7%BB%BC%E8%89%BA%E9%A3%9F8%E8%A1%97 1\n",
      "/item/%E4%BA%B2%E7%88%B1%E7%9A%84%C2%B7%E5%AE%A2%E6%A0%88 1\n",
      "/item/%E5%A7%9A%E5%AE%87/678571 1\n",
      "/item/Don%27t%20Tie%20Me%20Down/23185476 1\n",
      "/item/%E8%BF%99%EF%BC%81%E5%B0%B1%E6%98%AF%E8%A1%97%E8%88%9E/22293892 1\n",
      "/item/%E7%8E%8B%E7%89%8C%E5%AF%B9%E7%8E%8B%E7%89%8C%E7%AC%AC%E4%BA%8C%E5%AD%A3 1\n",
      "/item/%E6%98%A8%E5%A4%A9%E7%9A%84%E4%BD%A0%E7%9A%84%E7%8E%B0%E5%9C%A8%E7%9A%84%E6%9C%AA%E6%9D%A5 1\n",
      "/item/%E6%88%91%E5%92%8C2035%E6%9C%89%E4%B8%AA%E7%BA%A6 1\n",
      "/item/%E4%B8%AD%E5%9B%BD%E7%81%AB%E6%98%9F%E6%8E%A2%E6%B5%8B%E5%B7%A5%E7%A8%8B 1\n",
      "/item/秒懂全视界 1\n",
      "/item/秒懂全视界\n",
      "'ascii' codec can't encode characters in position 10-14: ordinal not in range(128)\n",
      "/item/%E5%AE%9D%E8%B4%9D/19162252 1\n",
      "/item/%E9%99%B7%E8%90%BD%E7%BE%8E%E5%A5%BD/23650022 1\n",
      "/item/QQ%E7%A9%BA%E9%97%B4 1\n",
      "/item/%E7%8E%8B%E6%BA%90/5475062 1\n",
      "/item/%E6%88%91%E4%B9%90%E6%84%8F%E6%B2%89%E9%BB%98%E9%87%8A%E6%94%BE%E5%86%85%E5%BF%83%E7%84%B0%E7%81%AB/23186166 1\n",
      "/item/%E9%99%88%E5%98%89%E6%A1%A6 1\n",
      "/item/IF%20YOU/18898317 1\n",
      "/item/%E9%87%8D%E5%BA%86%E5%B8%82%E5%85%AC%E5%AE%89%E6%B6%88%E9%98%B2%E6%80%BB%E9%98%9F 1\n",
      "/item/%E9%9D%92%E6%98%A5%E4%BF%AE%E7%82%BC%E6%89%8B%E5%86%8C/16246864 1\n",
      "/item/%E5%AE%9D%E8%B4%9D 1\n",
      "/item/%E6%9D%8E%E5%BF%85/23600498 1\n",
      "/item/%E8%BF%BD%E4%B8%8A%E5%8E%BB 1\n",
      "/item/%E7%94%9F%E7%94%9F 1\n",
      "/item/%E8%92%99%E5%8F%A4%E8%88%9E 1\n",
      "/item/T%20Magazine 1\n",
      "/item/%E4%B8%BA%E6%A2%A6%E6%83%B3%E6%97%B6%E5%88%BB%E5%87%86%E5%A4%87%E7%9D%80 1\n",
      "/item/%E6%B9%96%E5%8D%97%E5%8D%AB%E8%A7%86%E8%B7%A8%E5%B9%B4%E6%BC%94%E5%94%B1%E4%BC%9A 1\n",
      "/item/%E8%A1%97%E8%88%9E 1\n",
      "/item/%E5%AD%94%E8%BF%9E%E9%A1%BA 1\n",
      "/item/%E4%B8%AD%E5%9B%BD%E6%89%B6%E8%B4%AB%E5%9F%BA%E9%87%91 1\n",
      "/item/%E6%8B%A5%E6%8A%B1%E4%BD%A0/22208620 1\n",
      "/item/%E4%BA%94%E6%9C%88%E5%A4%A9/17011 1\n",
      "/item/%E9%98%B3%E5%85%89%E5%B0%91%E5%B9%B4 1\n",
      "/item/%E9%93%81%E6%A2%A8%E8%8A%B1 1\n",
      "/item/%E7%B2%BE%E5%BD%A9%E6%89%8D%E5%88%9A%E5%88%9A%E5%BC%80%E5%A7%8B 1\n",
      "/item/%E4%BA%91%E5%B1%85%E5%AF%BA%E4%BC%A0%E5%A5%87/4348684 1\n",
      "/item/%E8%BF%99%EF%BC%81%E5%B0%B1%E6%98%AF%E8%A1%97%E8%88%9E%E7%AC%AC%E4%BA%8C%E5%AD%A3/23420390 1\n",
      "/item/%E4%B8%AD%E5%A4%AE%E7%94%B5%E8%A7%86%E5%8F%B0%E6%98%A5%E8%8A%82%E8%81%94%E6%AC%A2%E6%99%9A%E4%BC%9A 1\n",
      "/item/%E6%A2%A6%E6%83%B3%E5%A4%A9%E7%81%AF2016 1\n",
      "/item/%E6%97%B6%E8%A3%85L%27OFFICIEL/1426455 1\n",
      "/item/%E5%B8%A6%E4%BD%A0%E5%8E%BB%E8%A7%81TA 1\n",
      "/item//24241813 1\n",
      "/item/%E5%B0%91%E5%B9%B4%E4%B8%AD%E5%9B%BD%E5%BC%BA 1\n",
      "/item/%E5%88%98%E4%B8%80%E5%BF%97 1\n",
      "/item/%E5%81%B6%E5%83%8F%E4%B8%87%E4%B8%87%E7%A2%8E 1\n",
      "/item/%E5%B0%8F%E7%B2%BE%E7%81%B5 1\n",
      "/item/%E5%9C%86%E6%A2%A6%E8%AE%A1%E5%88%92 1\n",
      "/item/%E5%94%87%E8%85%AD%E8%A3%82 1\n",
      "/item/%E6%99%BA%E6%97%8FGQ 1\n",
      "/item/%E4%B8%80%E9%A6%96%E7%AE%80%E5%8D%95%E7%9A%84%E6%AD%8C/19163797 1\n",
      "/item/Harvey%20Mason%20Jr./19340117 1\n",
      "/item/Beatbox 1\n",
      "/item/2019%E5%B9%B4%E4%B8%AD%E5%A4%AE%E5%B9%BF%E6%92%AD%E7%94%B5%E8%A7%86%E6%80%BB%E5%8F%B0%E4%B8%AD%E7%A7%8B%E6%99%9A%E4%BC%9A/23706993 1\n",
      "/item/%E7%8E%8B%E8%80%85%E5%BD%92%E6%9D%A5/10576729 1\n",
      "/item/%E4%B8%AD%E5%8D%8E%E7%8E%AF%E5%A2%83%E4%BF%9D%E6%8A%A4%E5%9F%BA%E9%87%91%E4%BC%9A 1\n",
      "/item/%E5%86%AF%E5%B0%8F%E5%88%9A 1\n",
      "/item/%E5%BF%AB%E4%B9%90%E5%A4%A7%E6%9C%AC%E8%90%A5 1\n",
      "/item/%E5%85%A8%E7%90%83%E5%8D%8E%E4%BA%BA%E7%BD%91%E7%BB%9C%E6%98%A5%E6%99%9A 1\n",
      "/item/%E5%91%A8%E5%86%AC%E9%9B%A8/5051740 1\n",
      "/item/%E8%8A%92%E6%9E%9CV%E5%9F%BA%E9%87%91 1\n",
      "/item/ELLE/211378 1\n",
      "/item/%E5%BC%A0%E6%9C%AC%E7%85%9C 1\n",
      "/item/%E4%B8%AD%E5%9B%BD%E7%BB%BF%E5%8C%96%E5%9F%BA%E9%87%91%E4%BC%9A 1\n",
      "/item/%E5%8C%97%E4%BA%AC%E6%97%B6%E4%BB%A3%E5%B3%B0%E5%B3%BB%E6%96%87%E5%8C%96%E8%89%BA%E6%9C%AF%E5%8F%91%E5%B1%95%E6%9C%89%E9%99%90%E5%85%AC%E5%8F%B8 1\n",
      "/item/%E9%82%93%E7%BB%86%E6%96%8C 1\n",
      "/item/%E8%96%9B%E4%B9%8B%E8%B0%A6/144417 1\n",
      "/item/%E7%AB%A5%E4%BC%B4%E8%AE%A1%E5%88%92 1\n",
      "/item/%E7%8C%AA%E7%8C%AA%E4%BE%A0%E4%B9%8B%E8%8B%B1%E9%9B%84%E7%8C%AA%E5%B0%91%E5%B9%B4 1\n",
      "/item/%E6%98%AF%E4%BD%A0 1\n",
      "/item/%E6%AE%B5%E6%97%AD%E5%AE%87 1\n",
      "/item/%E8%9C%97%E7%89%9B/19258993 1\n",
      "/item/2016%E5%B9%B4%E4%B8%AD%E5%A4%AE%E7%94%B5%E8%A7%86%E5%8F%B0%E6%98%A5%E8%8A%82%E8%81%94%E6%AC%A2%E6%99%9A%E4%BC%9A 1\n",
      "/item/%E9%A9%AC%E5%8F%AF/1387579 1\n",
      "/item/%E6%8C%91%E6%88%98%E4%B8%8D%E5%8F%AF%E8%83%BD/15902516 1\n"
     ]
    },
    {
     "name": "stdout",
     "output_type": "stream",
     "text": [
      "/item/2017%E5%B9%B4%E4%B8%AD%E5%A4%AE%E7%94%B5%E8%A7%86%E5%8F%B0%E4%B8%AD%E7%A7%8B%E6%99%9A%E4%BC%9A 1\n",
      "/item/Unpredictable/21361151 1\n",
      "/item/%E5%BC%A0%E9%A6%A8%E4%BA%88/26128 1\n",
      "/item/%E4%B8%AD%E5%8D%8E%E5%84%BF%E5%A5%B3/52874 1\n",
      "/item/%E7%AC%AC26%E5%B1%8A%E9%A6%99%E6%B8%AF%E7%94%B5%E5%BD%B1%E8%AF%84%E8%AE%BA%E5%AD%A6%E4%BC%9A%E5%A4%A7%E5%A5%96/24241813 1\n",
      "/item/%E7%AB%A0%E5%AD%90%E6%80%A1 1\n",
      "/item/%E5%9B%BD%E9%99%85%E5%85%B3%E7%B3%BB%E5%AD%A6%E9%99%A2 1\n",
      "/item/%E4%BA%95%E6%9F%8F%E7%84%B6 1\n",
      "/item/%E6%88%91%E6%80%BB%E6%98%AF%E4%B8%80%E4%B8%AA%E4%BA%BA%E5%9C%A8%E7%BB%83%E4%B9%A0%E4%B8%80%E4%B8%AA%E4%BA%BA 1\n",
      "/item/%E5%BD%93%E4%BD%A0%E8%80%81%E4%BA%86 1\n",
      "/item/%E6%9B%BE%E5%9B%BD%E7%A5%A5/14479 1\n",
      "/item/%E7%99%BE%E5%BA%A6%E7%99%BE%E7%A7%91%EF%BC%9A%E6%9C%AC%E4%BA%BA%E8%AF%8D%E6%9D%A1%E7%BC%96%E8%BE%91%E6%9C%8D%E5%8A%A1/22442459?bk_fr=pcFooter 1\n",
      "/item//23663681 1\n",
      "/item/%E6%9B%B9%E7%9B%BE 1\n",
      "/item/%E7%81%AB%E9%B8%9F/7867576 1\n",
      "/item/%E5%A4%A7%E5%85%8B%E9%BC%8E 1\n",
      "/item/%E9%BB%84%E7%A3%8A/6617 1\n",
      "/item/Tell%20Me%20Why/19898853 1\n",
      "/item/%E5%85%A8%E5%91%98%E5%8A%A0%E9%80%9F%E4%B8%AD 1\n",
      "/item/%E7%8E%8B%E4%BF%8A%E5%87%AF/75850 1\n",
      "/item/%E4%B8%B9%E9%9D%92%E5%8D%83%E9%87%8C 1\n",
      "/item/%E6%88%90%E9%95%BF%E5%9C%A8%E7%BA%BF 1\n",
      "/item/%E9%9D%92%E8%8B%B9%E6%9E%9C%E4%B9%90%E5%9B%AD/1148339 1\n",
      "/item/%E6%88%91%E4%BB%AC%E6%98%AF%E5%85%B1%E4%BA%A7%E4%B8%BB%E4%B9%89%E6%8E%A5%E7%8F%AD%E4%BA%BA 1\n",
      "/item/%E9%BB%84%E6%B8%A4 1\n",
      "/item/%E9%83%91%E8%8A%AC%E8%8A%AC 1\n",
      "/item/%E4%BE%AF%E4%BA%AE 1\n",
      "/item/%E4%BB%8A%E6%97%A5%E5%BD%B1%E8%AF%84%C2%B7%E8%A1%A8%E6%BC%94%E8%80%85%E8%A8%80 1\n",
      "/item/%E6%B1%AA%E4%BF%8A 1\n",
      "/item/ELLE%20MEN%E7%9D%BF%E5%A3%AB/7707396 1\n",
      "/item/2018%E5%B9%B4%E4%B8%AD%E5%A4%AE%E7%94%B5%E8%A7%86%E5%8F%B0%E6%98%A5%E8%8A%82%E8%81%94%E6%AC%A2%E6%99%9A%E4%BC%9A 1\n",
      "/item/%E6%B5%B7%E6%B8%85 1\n",
      "/item/%E7%9C%8B%E6%9C%88%E4%BA%AE%E7%88%AC%E4%B8%8A%E6%9D%A5 1\n",
      "/item/Fall/23663681 1\n",
      "/item/Good%20Boy/19237934 1\n",
      "/item/%E4%B8%AD%E5%9B%BD%E6%89%B6%E8%B4%AB%E5%9F%BA%E9%87%91%E4%BC%9A 1\n",
      "/item/%E6%98%A8%E5%A4%A9%E7%9A%84%E4%BD%A0%E7%9A%84%E7%8E%B0%E5%9C%A8%E7%9A%84%E6%9C%AA%E6%9D%A5/19162175 1\n",
      "/item/%E7%81%AB%E6%98%9F%E5%A4%A7%E4%BD%BF 1\n",
      "/item/%E5%98%89%E4%BA%BA/262021 1\n",
      "/item/%E5%8F%98%E8%84%B8/946 1\n",
      "/item/%E5%89%A9%E4%B8%8B%E7%9A%84%E7%9B%9B%E5%A4%8F/18534130 1\n"
     ]
    },
    {
     "ename": "KeyboardInterrupt",
     "evalue": "",
     "output_type": "error",
     "traceback": [
      "\u001b[1;31m---------------------------------------------------------------------------\u001b[0m",
      "\u001b[1;31mKeyboardInterrupt\u001b[0m                         Traceback (most recent call last)",
      "\u001b[1;32m<ipython-input-6-e5f0f010cf3e>\u001b[0m in \u001b[0;36m<module>\u001b[1;34m\u001b[0m\n\u001b[0;32m     21\u001b[0m         \u001b[0murl\u001b[0m \u001b[1;33m=\u001b[0m \u001b[0mqueue\u001b[0m\u001b[1;33m[\u001b[0m\u001b[0mcount\u001b[0m\u001b[1;33m]\u001b[0m\u001b[1;33m.\u001b[0m\u001b[0mpop\u001b[0m\u001b[1;33m(\u001b[0m\u001b[1;33m-\u001b[0m\u001b[1;36m1\u001b[0m\u001b[1;33m)\u001b[0m\u001b[1;33m\u001b[0m\u001b[1;33m\u001b[0m\u001b[0m\n\u001b[0;32m     22\u001b[0m         \u001b[0mprint\u001b[0m\u001b[1;33m(\u001b[0m\u001b[0murl\u001b[0m\u001b[1;33m+\u001b[0m\u001b[1;34m\" \"\u001b[0m\u001b[1;33m+\u001b[0m\u001b[0mstr\u001b[0m\u001b[1;33m(\u001b[0m\u001b[0mcount\u001b[0m\u001b[1;33m)\u001b[0m\u001b[1;33m)\u001b[0m   \u001b[1;31m# 打印当前链接和层数\u001b[0m\u001b[1;33m\u001b[0m\u001b[1;33m\u001b[0m\u001b[0m\n\u001b[1;32m---> 23\u001b[1;33m         \u001b[0mhtml\u001b[0m \u001b[1;33m=\u001b[0m \u001b[0mur\u001b[0m\u001b[1;33m.\u001b[0m\u001b[0murlopen\u001b[0m\u001b[1;33m(\u001b[0m\u001b[1;34m'https://baike.baidu.com'\u001b[0m\u001b[1;33m+\u001b[0m\u001b[0murl\u001b[0m\u001b[1;33m)\u001b[0m\u001b[1;33m.\u001b[0m\u001b[0mread\u001b[0m\u001b[1;33m(\u001b[0m\u001b[1;33m)\u001b[0m\u001b[1;33m.\u001b[0m\u001b[0mdecode\u001b[0m\u001b[1;33m(\u001b[0m\u001b[1;34m'utf-8'\u001b[0m\u001b[1;33m)\u001b[0m\u001b[1;33m\u001b[0m\u001b[1;33m\u001b[0m\u001b[0m\n\u001b[0m\u001b[0;32m     24\u001b[0m         \u001b[0mstorage\u001b[0m\u001b[1;33m[\u001b[0m\u001b[0murl\u001b[0m\u001b[1;33m]\u001b[0m \u001b[1;33m=\u001b[0m \u001b[0mhtml\u001b[0m\u001b[1;33m\u001b[0m\u001b[1;33m\u001b[0m\u001b[0m\n\u001b[0;32m     25\u001b[0m         \u001b[0mused\u001b[0m\u001b[1;33m.\u001b[0m\u001b[0madd\u001b[0m\u001b[1;33m(\u001b[0m\u001b[0murl\u001b[0m\u001b[1;33m)\u001b[0m   \u001b[1;31m# 将爬取过的URL放入set中\u001b[0m\u001b[1;33m\u001b[0m\u001b[1;33m\u001b[0m\u001b[0m\n",
      "\u001b[1;32mE:\\anaconda\\lib\\http\\client.py\u001b[0m in \u001b[0;36mread\u001b[1;34m(self, amt)\u001b[0m\n\u001b[0;32m    452\u001b[0m \u001b[1;33m\u001b[0m\u001b[0m\n\u001b[0;32m    453\u001b[0m             \u001b[1;32mif\u001b[0m \u001b[0mself\u001b[0m\u001b[1;33m.\u001b[0m\u001b[0mchunked\u001b[0m\u001b[1;33m:\u001b[0m\u001b[1;33m\u001b[0m\u001b[1;33m\u001b[0m\u001b[0m\n\u001b[1;32m--> 454\u001b[1;33m                 \u001b[1;32mreturn\u001b[0m \u001b[0mself\u001b[0m\u001b[1;33m.\u001b[0m\u001b[0m_readall_chunked\u001b[0m\u001b[1;33m(\u001b[0m\u001b[1;33m)\u001b[0m\u001b[1;33m\u001b[0m\u001b[1;33m\u001b[0m\u001b[0m\n\u001b[0m\u001b[0;32m    455\u001b[0m \u001b[1;33m\u001b[0m\u001b[0m\n\u001b[0;32m    456\u001b[0m             \u001b[1;32mif\u001b[0m \u001b[0mself\u001b[0m\u001b[1;33m.\u001b[0m\u001b[0mlength\u001b[0m \u001b[1;32mis\u001b[0m \u001b[1;32mNone\u001b[0m\u001b[1;33m:\u001b[0m\u001b[1;33m\u001b[0m\u001b[1;33m\u001b[0m\u001b[0m\n",
      "\u001b[1;32mE:\\anaconda\\lib\\http\\client.py\u001b[0m in \u001b[0;36m_readall_chunked\u001b[1;34m(self)\u001b[0m\n\u001b[0;32m    562\u001b[0m                 \u001b[1;32mif\u001b[0m \u001b[0mchunk_left\u001b[0m \u001b[1;32mis\u001b[0m \u001b[1;32mNone\u001b[0m\u001b[1;33m:\u001b[0m\u001b[1;33m\u001b[0m\u001b[1;33m\u001b[0m\u001b[0m\n\u001b[0;32m    563\u001b[0m                     \u001b[1;32mbreak\u001b[0m\u001b[1;33m\u001b[0m\u001b[1;33m\u001b[0m\u001b[0m\n\u001b[1;32m--> 564\u001b[1;33m                 \u001b[0mvalue\u001b[0m\u001b[1;33m.\u001b[0m\u001b[0mappend\u001b[0m\u001b[1;33m(\u001b[0m\u001b[0mself\u001b[0m\u001b[1;33m.\u001b[0m\u001b[0m_safe_read\u001b[0m\u001b[1;33m(\u001b[0m\u001b[0mchunk_left\u001b[0m\u001b[1;33m)\u001b[0m\u001b[1;33m)\u001b[0m\u001b[1;33m\u001b[0m\u001b[1;33m\u001b[0m\u001b[0m\n\u001b[0m\u001b[0;32m    565\u001b[0m                 \u001b[0mself\u001b[0m\u001b[1;33m.\u001b[0m\u001b[0mchunk_left\u001b[0m \u001b[1;33m=\u001b[0m \u001b[1;36m0\u001b[0m\u001b[1;33m\u001b[0m\u001b[1;33m\u001b[0m\u001b[0m\n\u001b[0;32m    566\u001b[0m             \u001b[1;32mreturn\u001b[0m \u001b[1;34mb''\u001b[0m\u001b[1;33m.\u001b[0m\u001b[0mjoin\u001b[0m\u001b[1;33m(\u001b[0m\u001b[0mvalue\u001b[0m\u001b[1;33m)\u001b[0m\u001b[1;33m\u001b[0m\u001b[1;33m\u001b[0m\u001b[0m\n",
      "\u001b[1;32mE:\\anaconda\\lib\\http\\client.py\u001b[0m in \u001b[0;36m_safe_read\u001b[1;34m(self, amt)\u001b[0m\n\u001b[0;32m    608\u001b[0m         \u001b[0ms\u001b[0m \u001b[1;33m=\u001b[0m \u001b[1;33m[\u001b[0m\u001b[1;33m]\u001b[0m\u001b[1;33m\u001b[0m\u001b[1;33m\u001b[0m\u001b[0m\n\u001b[0;32m    609\u001b[0m         \u001b[1;32mwhile\u001b[0m \u001b[0mamt\u001b[0m \u001b[1;33m>\u001b[0m \u001b[1;36m0\u001b[0m\u001b[1;33m:\u001b[0m\u001b[1;33m\u001b[0m\u001b[1;33m\u001b[0m\u001b[0m\n\u001b[1;32m--> 610\u001b[1;33m             \u001b[0mchunk\u001b[0m \u001b[1;33m=\u001b[0m \u001b[0mself\u001b[0m\u001b[1;33m.\u001b[0m\u001b[0mfp\u001b[0m\u001b[1;33m.\u001b[0m\u001b[0mread\u001b[0m\u001b[1;33m(\u001b[0m\u001b[0mmin\u001b[0m\u001b[1;33m(\u001b[0m\u001b[0mamt\u001b[0m\u001b[1;33m,\u001b[0m \u001b[0mMAXAMOUNT\u001b[0m\u001b[1;33m)\u001b[0m\u001b[1;33m)\u001b[0m\u001b[1;33m\u001b[0m\u001b[1;33m\u001b[0m\u001b[0m\n\u001b[0m\u001b[0;32m    611\u001b[0m             \u001b[1;32mif\u001b[0m \u001b[1;32mnot\u001b[0m \u001b[0mchunk\u001b[0m\u001b[1;33m:\u001b[0m\u001b[1;33m\u001b[0m\u001b[1;33m\u001b[0m\u001b[0m\n\u001b[0;32m    612\u001b[0m                 \u001b[1;32mraise\u001b[0m \u001b[0mIncompleteRead\u001b[0m\u001b[1;33m(\u001b[0m\u001b[1;34mb''\u001b[0m\u001b[1;33m.\u001b[0m\u001b[0mjoin\u001b[0m\u001b[1;33m(\u001b[0m\u001b[0ms\u001b[0m\u001b[1;33m)\u001b[0m\u001b[1;33m,\u001b[0m \u001b[0mamt\u001b[0m\u001b[1;33m)\u001b[0m\u001b[1;33m\u001b[0m\u001b[1;33m\u001b[0m\u001b[0m\n",
      "\u001b[1;32mE:\\anaconda\\lib\\socket.py\u001b[0m in \u001b[0;36mreadinto\u001b[1;34m(self, b)\u001b[0m\n\u001b[0;32m    587\u001b[0m         \u001b[1;32mwhile\u001b[0m \u001b[1;32mTrue\u001b[0m\u001b[1;33m:\u001b[0m\u001b[1;33m\u001b[0m\u001b[1;33m\u001b[0m\u001b[0m\n\u001b[0;32m    588\u001b[0m             \u001b[1;32mtry\u001b[0m\u001b[1;33m:\u001b[0m\u001b[1;33m\u001b[0m\u001b[1;33m\u001b[0m\u001b[0m\n\u001b[1;32m--> 589\u001b[1;33m                 \u001b[1;32mreturn\u001b[0m \u001b[0mself\u001b[0m\u001b[1;33m.\u001b[0m\u001b[0m_sock\u001b[0m\u001b[1;33m.\u001b[0m\u001b[0mrecv_into\u001b[0m\u001b[1;33m(\u001b[0m\u001b[0mb\u001b[0m\u001b[1;33m)\u001b[0m\u001b[1;33m\u001b[0m\u001b[1;33m\u001b[0m\u001b[0m\n\u001b[0m\u001b[0;32m    590\u001b[0m             \u001b[1;32mexcept\u001b[0m \u001b[0mtimeout\u001b[0m\u001b[1;33m:\u001b[0m\u001b[1;33m\u001b[0m\u001b[1;33m\u001b[0m\u001b[0m\n\u001b[0;32m    591\u001b[0m                 \u001b[0mself\u001b[0m\u001b[1;33m.\u001b[0m\u001b[0m_timeout_occurred\u001b[0m \u001b[1;33m=\u001b[0m \u001b[1;32mTrue\u001b[0m\u001b[1;33m\u001b[0m\u001b[1;33m\u001b[0m\u001b[0m\n",
      "\u001b[1;32mE:\\anaconda\\lib\\ssl.py\u001b[0m in \u001b[0;36mrecv_into\u001b[1;34m(self, buffer, nbytes, flags)\u001b[0m\n\u001b[0;32m   1050\u001b[0m                   \u001b[1;34m\"non-zero flags not allowed in calls to recv_into() on %s\"\u001b[0m \u001b[1;33m%\u001b[0m\u001b[1;33m\u001b[0m\u001b[1;33m\u001b[0m\u001b[0m\n\u001b[0;32m   1051\u001b[0m                   self.__class__)\n\u001b[1;32m-> 1052\u001b[1;33m             \u001b[1;32mreturn\u001b[0m \u001b[0mself\u001b[0m\u001b[1;33m.\u001b[0m\u001b[0mread\u001b[0m\u001b[1;33m(\u001b[0m\u001b[0mnbytes\u001b[0m\u001b[1;33m,\u001b[0m \u001b[0mbuffer\u001b[0m\u001b[1;33m)\u001b[0m\u001b[1;33m\u001b[0m\u001b[1;33m\u001b[0m\u001b[0m\n\u001b[0m\u001b[0;32m   1053\u001b[0m         \u001b[1;32melse\u001b[0m\u001b[1;33m:\u001b[0m\u001b[1;33m\u001b[0m\u001b[1;33m\u001b[0m\u001b[0m\n\u001b[0;32m   1054\u001b[0m             \u001b[1;32mreturn\u001b[0m \u001b[0msuper\u001b[0m\u001b[1;33m(\u001b[0m\u001b[1;33m)\u001b[0m\u001b[1;33m.\u001b[0m\u001b[0mrecv_into\u001b[0m\u001b[1;33m(\u001b[0m\u001b[0mbuffer\u001b[0m\u001b[1;33m,\u001b[0m \u001b[0mnbytes\u001b[0m\u001b[1;33m,\u001b[0m \u001b[0mflags\u001b[0m\u001b[1;33m)\u001b[0m\u001b[1;33m\u001b[0m\u001b[1;33m\u001b[0m\u001b[0m\n",
      "\u001b[1;32mE:\\anaconda\\lib\\ssl.py\u001b[0m in \u001b[0;36mread\u001b[1;34m(self, len, buffer)\u001b[0m\n\u001b[0;32m    909\u001b[0m         \u001b[1;32mtry\u001b[0m\u001b[1;33m:\u001b[0m\u001b[1;33m\u001b[0m\u001b[1;33m\u001b[0m\u001b[0m\n\u001b[0;32m    910\u001b[0m             \u001b[1;32mif\u001b[0m \u001b[0mbuffer\u001b[0m \u001b[1;32mis\u001b[0m \u001b[1;32mnot\u001b[0m \u001b[1;32mNone\u001b[0m\u001b[1;33m:\u001b[0m\u001b[1;33m\u001b[0m\u001b[1;33m\u001b[0m\u001b[0m\n\u001b[1;32m--> 911\u001b[1;33m                 \u001b[1;32mreturn\u001b[0m \u001b[0mself\u001b[0m\u001b[1;33m.\u001b[0m\u001b[0m_sslobj\u001b[0m\u001b[1;33m.\u001b[0m\u001b[0mread\u001b[0m\u001b[1;33m(\u001b[0m\u001b[0mlen\u001b[0m\u001b[1;33m,\u001b[0m \u001b[0mbuffer\u001b[0m\u001b[1;33m)\u001b[0m\u001b[1;33m\u001b[0m\u001b[1;33m\u001b[0m\u001b[0m\n\u001b[0m\u001b[0;32m    912\u001b[0m             \u001b[1;32melse\u001b[0m\u001b[1;33m:\u001b[0m\u001b[1;33m\u001b[0m\u001b[1;33m\u001b[0m\u001b[0m\n\u001b[0;32m    913\u001b[0m                 \u001b[1;32mreturn\u001b[0m \u001b[0mself\u001b[0m\u001b[1;33m.\u001b[0m\u001b[0m_sslobj\u001b[0m\u001b[1;33m.\u001b[0m\u001b[0mread\u001b[0m\u001b[1;33m(\u001b[0m\u001b[0mlen\u001b[0m\u001b[1;33m)\u001b[0m\u001b[1;33m\u001b[0m\u001b[1;33m\u001b[0m\u001b[0m\n",
      "\u001b[1;31mKeyboardInterrupt\u001b[0m: "
     ]
    }
   ],
   "source": [
    "import re\n",
    "import requests\n",
    "from urllib import request\n",
    "import urllib.request as ur\n",
    "\n",
    "count = 0 # 层数\n",
    "floors = 1 # 限制爬取的层数\n",
    "lastStep = []\n",
    "headers = {\n",
    "    'user-agent': 'Mozilla/5.0 (Windows NT 6.1; Win64; x64) AppleWebKit/537.36 (KHTML, like Gecko) Chrome/59.0.3071.115 Safari/537.36'\n",
    "}\n",
    "r = re.compile(r'href=[\\'\"]?(/item[^\\'\" >]+)')\n",
    "seed = '/item/%E6%98%93%E7%83%8A%E5%8D%83%E7%8E%BA/221450' # 爬虫将访问的词条\n",
    "queue = [[seed]]\n",
    "for i in range(floors): # 限制爬取范围在设定的层数范围内\n",
    "    queue.append([])\n",
    "storage = {}\n",
    "used = set() # 设置集合存放爬取过的url\n",
    "while len(queue[0])>0 or count!=0: # 种子队列不为空或者层数不为零\n",
    "    try:\n",
    "        url = queue[count].pop(-1)\n",
    "        print(url+\" \"+str(count))   # 打印当前链接和层数\n",
    "        html = ur.urlopen('https://baike.baidu.com'+url).read().decode('utf-8')\n",
    "        storage[url] = html\n",
    "        used.add(url)   # 将爬取过的URL放入set中\n",
    "        new_urls = r.findall(html)\n",
    "        if count < floors:\n",
    "            for new_url in set(new_urls):\n",
    "                if new_url not in used and new_url not in queue: # 判断新链接网址中所包含的链接是否是重复\n",
    "                    queue[count+1].append(new_url)  # 将爬取的URL存入到队列中的列表\n",
    "            count+=1\n",
    "        else:\n",
    "            if len(queue[count])==0:\n",
    "                count -= 1\n",
    "    except Exception as e:\n",
    "        print(url)\n",
    "        print(e)"
   ]
  },
  {
   "cell_type": "markdown",
   "metadata": {},
   "source": [
    " "
   ]
  },
  {
   "cell_type": "markdown",
   "metadata": {},
   "source": [
    " "
   ]
  },
  {
   "cell_type": "markdown",
   "metadata": {},
   "source": [
    "### (选)将抓取网页的去重深度遍历算法封装成对象（类），并测试。 "
   ]
  },
  {
   "cell_type": "code",
   "execution_count": 7,
   "metadata": {},
   "outputs": [],
   "source": [
    "# 这里编写代码 \n",
    "class test(): #创建test的类\n",
    "    def __init__(self,seed,count,floors): # 根据__init__ ( self [,args...] )方法 构造函数\n",
    "        self.seed=seed\n",
    "        self.count=count\n",
    "        self.floors=floors\n",
    "    \n",
    "    def run(self):\n",
    "        stack = [[self.seed]]\n",
    "        for i in range(self.floors): # 限制爬取范围在设定的层数范围内\n",
    "            stack.append([])\n",
    "        storage = {}\n",
    "        used = set() # 设置集合存放爬取过的url\n",
    "        while len(stack[0])>0 or self.count!=0: # 种子队列不为空或者层数不为零\n",
    "            try:\n",
    "                url = stack[self.count].pop(-1)\n",
    "                print(url+\" \"+str(self.count))   # 打印当前链接和层数\n",
    "                html = ur.urlopen('https://baike.baidu.com'+url).read().decode('utf-8')\n",
    "                storage[url] = html\n",
    "                used.add(url)   # 将爬取过的URL放入集合中\n",
    "                new_urls = r.findall(html)\n",
    "                if self.count < self.floors:\n",
    "                    for new_url in set(new_urls):\n",
    "                        if new_url not in used and new_url not in stack:#判断新链接网址中的包含的链接是否为重复的\n",
    "                            stack[self.count+1].append(new_url) # 将爬取的URL存入到队列中相应层数的列表\n",
    "                    self.count+=1\n",
    "                else:\n",
    "                    if len(queue[self.count])==0:\n",
    "                        self.count -= 1\n",
    "            except Exception as e:\n",
    "                print(url)\n",
    "                print(e)"
   ]
  },
  {
   "cell_type": "code",
   "execution_count": 8,
   "metadata": {},
   "outputs": [
    {
     "name": "stdout",
     "output_type": "stream",
     "text": [
      "<__main__.test object at 0x00000239F87DBD30>\n"
     ]
    }
   ],
   "source": [
    "# 测试\n",
    "import re\n",
    "import requests\n",
    "from urllib import request\n",
    "import urllib.request as ur\n",
    "r = re.compile(r'href=[\\'\"]?(/item[^\\'\" >]+)')\n",
    "seed='/item/%E9%85%B7%E7%8E%A9%E4%B9%90%E9%98%9F/5851362?fr=aladdin'\n",
    "count=0\n",
    "floors=2\n",
    "print(test(seed,count,floors))"
   ]
  },
  {
   "cell_type": "markdown",
   "metadata": {},
   "source": [
    "> 结果分析  test类中没有定义 __repr__ 或 __str__ 方法，因此print时使用系统的默认表达格式输出."
   ]
  },
  {
   "cell_type": "markdown",
   "metadata": {},
   "source": [
    " "
   ]
  }
 ],
 "metadata": {
  "kernelspec": {
   "display_name": "Python 3",
   "language": "python",
   "name": "python3"
  },
  "language_info": {
   "codemirror_mode": {
    "name": "ipython",
    "version": 3
   },
   "file_extension": ".py",
   "mimetype": "text/x-python",
   "name": "python",
   "nbconvert_exporter": "python",
   "pygments_lexer": "ipython3",
   "version": "3.7.3"
  }
 },
 "nbformat": 4,
 "nbformat_minor": 4
}
