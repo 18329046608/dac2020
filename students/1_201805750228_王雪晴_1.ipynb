{
 "cells": [
  {
   "cell_type": "markdown",
   "metadata": {},
   "source": [
    "# 《数据采集与清洗》\n",
    "## 第一次作业内容： 网页抓取\n",
    "### 具体目标：\n",
    "+ 用``urllib.requests``库发起一次``get``请求，输出``response``文本信息；\n",
    "+ 用``Requests``库伪装成火狐浏览器发起一次``post``请求，输出``response``文本信息；\n",
    "+ 用``Requests``库中的``session``对象发出``get``请求，设置``cookies``并获取，输出获取的``cookies``内容；\n",
    "+ 实现抓取网页的不去重深度遍历算法，自选合适的种子网站和相关参数，输出结果；\n",
    "+ 编写抓取网页的广度遍历算法（含去重和不去重），自选合适的种子网站和相关参数，输出结果；\n",
    "+ (选)将抓取网页的去重深度遍历算法封装成对象（类），并测试。\n",
    "\n",
    "### 注：\n",
    "+ 代码要有注释，结果要有分析；\n",
    "+ 本次作业提交截至时间：2020年3月10日(星期二)；\n",
    "+ 文件命名规则: 班级号+学号+姓名+作业序号，示例：``1_20188989899_张三_1``；\n",
    "+ 提交方式：1班发送至邮箱：632994085@qq.com；2班发送至邮箱：786888939@qq.com."
   ]
  },
  {
   "cell_type": "markdown",
   "metadata": {},
   "source": [
    "### 问题1：用``urllib.requests``库发起一次``get``请求，输出``response``文本信息。"
   ]
  },
  {
   "cell_type": "code",
   "execution_count": 65,
   "metadata": {},
   "outputs": [
    {
     "name": "stdout",
     "output_type": "stream",
     "text": [
      "<!DOCTYPE html>\n",
      "<html>\n",
      "<head>\n",
      "    <meta http-equiv=\"Content-type\" content=\"text/html; charset=gb2312\"/>\n",
      "    <title>Sina Visitor System</title>\n",
      "</head>\n",
      "<body>\n",
      "<span id=\"message\"></span>\n",
      "<script type=\"text/javascript\" src=\"/js/visitor/mini_original.js?v=20161116\"></script>\n",
      "<script type=\"text/javascript\">\n",
      "    window.use_fp = \"1\" == \"1\"; // ÊÇ·ñ²É¼¯Éè±¸Ö¸ÎÆ¡£\n",
      "    var url = url || {};\n",
      "    (function () {\n",
      "        this.l = function (u, c) {\n",
      "            try {\n",
      "                var s = document.createElement(\"script\");\n",
      "                s.type = \"text/javascript\";\n",
      "                s[document.all ? \"onreadystatechange\" : \"onload\"] = function () {\n",
      "\n",
      "                    if (document.all && this.readyState != \"loaded\" && this.readyState != \"complete\") {\n",
      "                        return\n",
      "                    }\n",
      "                    this[document.all ? \"onreadystatechange\" : \"onload\"] = null;\n",
      "                    this.parentNode.removeChild(this);\n",
      "                    if (c) {\n",
      "                        c()\n",
      "                    }\n",
      "                };\n",
      "                s.src = u;\n",
      "                document.getElementsByTagName(\"head\")[0].appendChild(s)\n",
      "            } catch (e) {\n",
      "            }\n",
      "        };\n",
      "    }).call(url);\n",
      "\n",
      "    // Á÷³ÌÈë¿Ú¡£\n",
      "    wload(function () {\n",
      "\n",
      "        try {\n",
      "\n",
      "            var need_restore = \"1\" == \"1\"; // ÊÇ·ñ×ß»Ö¸´Éí·ÝÁ÷³Ì¡£\n",
      "\n",
      "            // Èç¹ûÐèÒª×ß»Ö¸´Éí·ÝÁ÷³Ì£¬³¢ÊÔ´Ó cookie »ñÈ¡ÓÃ»§Éí·Ý¡£\n",
      "            if (!need_restore || !Store.CookieHelper.get(\"SRF\")) {\n",
      "\n",
      "                // Èô»ñÈ¡Ê§°Ü×ß´´½¨·Ã¿ÍÁ÷³Ì¡£\n",
      "                // Á÷³ÌÖ´ÐÐÊ±¼ä¹ý³¤£¨³¬¹ý 3s£©£¬ÔòÈÏÎª³ö´í¡£\n",
      "                var error_timeout = window.setTimeout(\"error_back()\", 5000);\n",
      "\n",
      "                tid.get(function (tid, where, confidence) {\n",
      "                    // È¡Ö¸ÎÆË³ÀûÍê³É£¬Çå³ý³ö´í timeout ¡£\n",
      "                    window.clearTimeout(error_timeout);\n",
      "                    incarnate(tid, where, confidence);\n",
      "                });\n",
      "            } else {\n",
      "                // ÓÃ»§Éí·Ý´æÔÚ£¬³¢ÊÔ»Ö¸´ÓÃ»§Éí·Ý¡£\n",
      "                restore();\n",
      "            }\n",
      "        } catch (e) {\n",
      "            // ³ö´í¡£\n",
      "            error_back();\n",
      "        }\n",
      "    });\n",
      "\n",
      "    // ¡°·µ»Ø¡± »Øµ÷º¯Êý¡£\n",
      "    var return_back = function (response) {\n",
      "\n",
      "        if (response[\"retcode\"] == 20000000) {\n",
      "            back();\n",
      "        } else {\n",
      "            // ³ö´í¡£\n",
      "            error_back(response[\"msg\"]);\n",
      "        }\n",
      "    };\n",
      "\n",
      "    // Ìø×ª»Ø³õÊ¼µØÖ·¡£\n",
      "    var back = function() {\n",
      "\n",
      "        var url = \"https://weibo.com/u/7120847109\";\n",
      "        if (url != \"none\") {\n",
      "            window.location.href = url;\n",
      "        }\n",
      "    };\n",
      "\n",
      "    // ¿çÓò¹ã²¥¡£\n",
      "    var cross_domain = function (response) {\n",
      "\n",
      "        var from = \"weibo\";\n",
      "        if (response[\"retcode\"] == 20000000) {\n",
      "\n",
      "            var crossdomain_host = \"login.sina.com.cn\";\n",
      "            if (crossdomain_host != \"none\") {\n",
      "\n",
      "                var cross_domain_intr = window.location.protocol + \"//\" + crossdomain_host + \"/visitor/visitor?a=crossdomain&cb=return_back&s=\" +\n",
      "                        encodeURIComponent(response[\"data\"][\"sub\"]) + \"&sp=\" + encodeURIComponent(response[\"data\"][\"subp\"]) + \"&from=\" + from + \"&_rand=\" + Math.random();\n",
      "                url.l(cross_domain_intr);\n",
      "            } else {\n",
      "\n",
      "                back();\n",
      "            }\n",
      "        } else {\n",
      "\n",
      "            // ³ö´í¡£\n",
      "            error_back(response[\"msg\"]);\n",
      "        }\n",
      "    };\n",
      "\n",
      "    // ÎªÓÃ»§¸³Óè·Ã¿ÍÉí·Ý ¡£\n",
      "    var incarnate = function (tid, where, conficence) {\n",
      "\n",
      "        var gen_conf = \"\";\n",
      "        var from = \"weibo\";\n",
      "        var incarnate_intr = window.location.protocol + \"//\" + window.location.host + \"/visitor/visitor?a=incarnate&t=\" +\n",
      "                encodeURIComponent(tid) + \"&w=\" + encodeURIComponent(where) + \"&c=\" + encodeURIComponent(conficence) +\n",
      "                \"&gc=\" + encodeURIComponent(gen_conf) + \"&cb=cross_domain&from=\" + from + \"&_rand=\" + Math.random();\n",
      "        url.l(incarnate_intr);\n",
      "    };\n",
      "\n",
      "    // »Ö¸´ÓÃ»§¶ªÊ§µÄÉí·Ý¡£\n",
      "    var restore = function () {\n",
      "\n",
      "        var from = \"weibo\";\n",
      "        var restore_intr = window.location.protocol + \"//\" + window.location.host +\n",
      "                \"/visitor/visitor?a=restore&cb=restore_back&from=\" + from + \"&_rand=\" + Math.random();\n",
      "\n",
      "        url.l(restore_intr);\n",
      "    };\n",
      "\n",
      "    // ¿çÓò»Ö¸´¶ªÊ§µÄÉí·Ý¡£\n",
      "    var restore_back = function (response) {\n",
      "\n",
      "        // Éí·Ý»Ö¸´³É¹¦×ß¹ã²¥Á÷³Ì£¬·ñÔò×ß´´½¨·Ã¿ÍÁ÷³Ì¡£\n",
      "        if (response[\"retcode\"] == 20000000) {\n",
      "\n",
      "            var url = \"https://weibo.com/u/7120847109\";\n",
      "            var alt = response[\"data\"][\"alt\"];\n",
      "            var savestate = response[\"data\"][\"savestate\"];\n",
      "            if (alt != \"\") {\n",
      "                requrl = (url == \"none\") ? \"\" : \"&url=\" + encodeURIComponent(url);\n",
      "                var params = \"entry=sso&alt=\" + encodeURIComponent(alt) + \"&returntype=META\" +\n",
      "                    \"&gateway=1&savestate=\" + encodeURIComponent(savestate) + requrl;\n",
      "                window.location.href = \"https://login.sina.com.cn/sso/login.php?\" + params;\n",
      "            } else {\n",
      "\n",
      "                cross_domain(response);\n",
      "            }\n",
      "        } else if(response['retcode'] == 50111261 && isInIframe()) {\n",
      "            //do nothing\n",
      "        } else {\n",
      "\n",
      "            tid.get(function (tid, where, confidence) {\n",
      "                incarnate(tid, where, confidence);\n",
      "            });\n",
      "        }\n",
      "    };\n",
      "\n",
      "    // ³ö´íÇé¿ö·µ»ØµÇÂ¼Ò³¡£\n",
      "    var error_back = function (msg) {\n",
      "\n",
      "        var url = \"https://weibo.com/u/7120847109\";\n",
      "        var clientType = \"pc\";\n",
      "        if (url != \"none\") {\n",
      "\n",
      "            if (url.indexOf(\"ssovie4c55=0\") === -1) {\n",
      "                url += (((url.indexOf(\"?\") === -1) ? \"?\" : \"&\") + \"ssovie4c55=0\");\n",
      "            }\n",
      "            if (clientType == \"mobile\") {\n",
      "            \twindow.location.href = \"https://passport.weibo.cn/signin/login?r=\"+url;\n",
      "            } else{\n",
      "            \twindow.location.href = \"http://weibo.com/login.php\";\n",
      "            }\n",
      "        } else {\n",
      "\n",
      "            if(document.getElementById(\"message\")) {\n",
      "                document.getElementById(\"message\").innerHTML = \"Error occurred\" + (msg ? (\": \" + msg) : \".\");\n",
      "            }\n",
      "        }\n",
      "    };\n",
      "\n",
      "    var isInIframe = function () {\n",
      "        try {\n",
      "            return window.self !== window.top;\n",
      "        } catch (e) {\n",
      "            return true;\n",
      "        }\n",
      "    };\n",
      "\n",
      "</script>\n",
      "</body>\n",
      "</html>\n"
     ]
    }
   ],
   "source": [
    "import requests\n",
    "\n",
    "url_get='https://weibo.com/u/7120847109'\n",
    "response=requests.get(url_get)\n",
    "\n",
    "print(response.text)"
   ]
  },
  {
   "cell_type": "markdown",
   "metadata": {},
   "source": [
    "出现中文乱码情况"
   ]
  },
  {
   "cell_type": "markdown",
   "metadata": {},
   "source": [
    "这里对结果进行分析。"
   ]
  },
  {
   "cell_type": "markdown",
   "metadata": {},
   "source": [
    "### 用``Requests``库伪装成火狐浏览器发起一次``post``请求，输出``response``文本信息。"
   ]
  },
  {
   "cell_type": "code",
   "execution_count": null,
   "metadata": {},
   "outputs": [],
   "source": [
    "import requests\n",
    "\n",
    "url='https://weibo.com/u/7120847109'\n",
    "\n",
    "data={\"i\":\"peop\",\n",
    "      \"from\":\"AUTO\",\n",
    "      \"to\":\"AUTO\",\n",
    "      \"smartresult\":\"dict\",\n",
    "      \"client\":\"fanyideskweb\",\n",
    "      \"salt\":\"15838580284241\",\n",
    "      \"sign\":\"83c60b3ce55bf308f3d4abe1c337a9d0\",\n",
    "      \"ts\":\"1583858028424\",\n",
    "      \"bv\":\"e2a78ed30c66e16a857c5b6486a1d326\",\n",
    "      \"doctype\":\"json\",\n",
    "      \"version\":\"2.1\",\n",
    "      \"keyfrom\":\"fanyi.web\",\n",
    "      \"action\":\"FY_BY_REALTlME\"}\n",
    "headers={\"User-Agent\":\" Mozilla/5.0 (Windows NT 10.0; Win64; x64; rv:74.0) Gecko/20100101 Firefox/74.0\"}\n",
    "\n",
    "response=requests.post(url,data=data,headers=headers)\n",
    "\n",
    "print(response.text)"
   ]
  },
  {
   "cell_type": "code",
   "execution_count": null,
   "metadata": {},
   "outputs": [],
   "source": []
  },
  {
   "cell_type": "markdown",
   "metadata": {},
   "source": [
    "这里对结果进行分析。"
   ]
  },
  {
   "cell_type": "markdown",
   "metadata": {},
   "source": [
    "### 用``Requests``库中的``session``对象发出``get``请求，设置``cookies``并获取，输出获取的``cookies``内容。 "
   ]
  },
  {
   "cell_type": "code",
   "execution_count": 63,
   "metadata": {},
   "outputs": [
    {
     "data": {
      "text/plain": [
       "'<!DOCTYPE html>\\n<html>\\n<head>\\n    <meta http-equiv=\"Content-type\" content=\"text/html; charset=gb2312\"/>\\n    <title>Sina Visitor System</title>\\n</head>\\n<body>\\n<span id=\"message\"></span>\\n<script type=\"text/javascript\" src=\"/js/visitor/mini_original.js?v=20161116\"></script>\\n<script type=\"text/javascript\">\\n    window.use_fp = \"1\" == \"1\"; // ÊÇ·ñ²É¼¯Éè±¸Ö¸ÎÆ¡£\\n    var url = url || {};\\n    (function () {\\n        this.l = function (u, c) {\\n            try {\\n                var s = document.createElement(\"script\");\\n                s.type = \"text/javascript\";\\n                s[document.all ? \"onreadystatechange\" : \"onload\"] = function () {\\n\\n                    if (document.all && this.readyState != \"loaded\" && this.readyState != \"complete\") {\\n                        return\\n                    }\\n                    this[document.all ? \"onreadystatechange\" : \"onload\"] = null;\\n                    this.parentNode.removeChild(this);\\n                    if (c) {\\n                        c()\\n                    }\\n                };\\n                s.src = u;\\n                document.getElementsByTagName(\"head\")[0].appendChild(s)\\n            } catch (e) {\\n            }\\n        };\\n    }).call(url);\\n\\n    // Á÷³ÌÈë¿Ú¡£\\n    wload(function () {\\n\\n        try {\\n\\n            var need_restore = \"1\" == \"1\"; // ÊÇ·ñ×ß»Ö¸´Éí·ÝÁ÷³Ì¡£\\n\\n            // Èç¹ûÐèÒª×ß»Ö¸´Éí·ÝÁ÷³Ì£¬³¢ÊÔ´Ó cookie »ñÈ¡ÓÃ»§Éí·Ý¡£\\n            if (!need_restore || !Store.CookieHelper.get(\"SRF\")) {\\n\\n                // Èô»ñÈ¡Ê§°Ü×ß´´½¨·Ã¿ÍÁ÷³Ì¡£\\n                // Á÷³ÌÖ´ÐÐÊ±¼ä¹ý³¤£¨³¬¹ý 3s£©£¬ÔòÈÏÎª³ö´í¡£\\n                var error_timeout = window.setTimeout(\"error_back()\", 5000);\\n\\n                tid.get(function (tid, where, confidence) {\\n                    // È¡Ö¸ÎÆË³ÀûÍê³É£¬Çå³ý³ö´í timeout ¡£\\n                    window.clearTimeout(error_timeout);\\n                    incarnate(tid, where, confidence);\\n                });\\n            } else {\\n                // ÓÃ»§Éí·Ý´æÔÚ£¬³¢ÊÔ»Ö¸´ÓÃ»§Éí·Ý¡£\\n                restore();\\n            }\\n        } catch (e) {\\n            // ³ö´í¡£\\n            error_back();\\n        }\\n    });\\n\\n    // ¡°·µ»Ø¡± »Øµ÷º¯Êý¡£\\n    var return_back = function (response) {\\n\\n        if (response[\"retcode\"] == 20000000) {\\n            back();\\n        } else {\\n            // ³ö´í¡£\\n            error_back(response[\"msg\"]);\\n        }\\n    };\\n\\n    // Ìø×ª»Ø³õÊ¼µØÖ·¡£\\n    var back = function() {\\n\\n        var url = \"https://weibo.com/u/7120847109/cookies\";\\n        if (url != \"none\") {\\n            window.location.href = url;\\n        }\\n    };\\n\\n    // ¿çÓò¹ã²¥¡£\\n    var cross_domain = function (response) {\\n\\n        var from = \"weibo\";\\n        if (response[\"retcode\"] == 20000000) {\\n\\n            var crossdomain_host = \"login.sina.com.cn\";\\n            if (crossdomain_host != \"none\") {\\n\\n                var cross_domain_intr = window.location.protocol + \"//\" + crossdomain_host + \"/visitor/visitor?a=crossdomain&cb=return_back&s=\" +\\n                        encodeURIComponent(response[\"data\"][\"sub\"]) + \"&sp=\" + encodeURIComponent(response[\"data\"][\"subp\"]) + \"&from=\" + from + \"&_rand=\" + Math.random();\\n                url.l(cross_domain_intr);\\n            } else {\\n\\n                back();\\n            }\\n        } else {\\n\\n            // ³ö´í¡£\\n            error_back(response[\"msg\"]);\\n        }\\n    };\\n\\n    // ÎªÓÃ»§¸³Óè·Ã¿ÍÉí·Ý ¡£\\n    var incarnate = function (tid, where, conficence) {\\n\\n        var gen_conf = \"\";\\n        var from = \"weibo\";\\n        var incarnate_intr = window.location.protocol + \"//\" + window.location.host + \"/visitor/visitor?a=incarnate&t=\" +\\n                encodeURIComponent(tid) + \"&w=\" + encodeURIComponent(where) + \"&c=\" + encodeURIComponent(conficence) +\\n                \"&gc=\" + encodeURIComponent(gen_conf) + \"&cb=cross_domain&from=\" + from + \"&_rand=\" + Math.random();\\n        url.l(incarnate_intr);\\n    };\\n\\n    // »Ö¸´ÓÃ»§¶ªÊ§µÄÉí·Ý¡£\\n    var restore = function () {\\n\\n        var from = \"weibo\";\\n        var restore_intr = window.location.protocol + \"//\" + window.location.host +\\n                \"/visitor/visitor?a=restore&cb=restore_back&from=\" + from + \"&_rand=\" + Math.random();\\n\\n        url.l(restore_intr);\\n    };\\n\\n    // ¿çÓò»Ö¸´¶ªÊ§µÄÉí·Ý¡£\\n    var restore_back = function (response) {\\n\\n        // Éí·Ý»Ö¸´³É¹¦×ß¹ã²¥Á÷³Ì£¬·ñÔò×ß´´½¨·Ã¿ÍÁ÷³Ì¡£\\n        if (response[\"retcode\"] == 20000000) {\\n\\n            var url = \"https://weibo.com/u/7120847109/cookies\";\\n            var alt = response[\"data\"][\"alt\"];\\n            var savestate = response[\"data\"][\"savestate\"];\\n            if (alt != \"\") {\\n                requrl = (url == \"none\") ? \"\" : \"&url=\" + encodeURIComponent(url);\\n                var params = \"entry=sso&alt=\" + encodeURIComponent(alt) + \"&returntype=META\" +\\n                    \"&gateway=1&savestate=\" + encodeURIComponent(savestate) + requrl;\\n                window.location.href = \"https://login.sina.com.cn/sso/login.php?\" + params;\\n            } else {\\n\\n                cross_domain(response);\\n            }\\n        } else if(response[\\'retcode\\'] == 50111261 && isInIframe()) {\\n            //do nothing\\n        } else {\\n\\n            tid.get(function (tid, where, confidence) {\\n                incarnate(tid, where, confidence);\\n            });\\n        }\\n    };\\n\\n    // ³ö´íÇé¿ö·µ»ØµÇÂ¼Ò³¡£\\n    var error_back = function (msg) {\\n\\n        var url = \"https://weibo.com/u/7120847109/cookies\";\\n        var clientType = \"pc\";\\n        if (url != \"none\") {\\n\\n            if (url.indexOf(\"ssovie4c55=0\") === -1) {\\n                url += (((url.indexOf(\"?\") === -1) ? \"?\" : \"&\") + \"ssovie4c55=0\");\\n            }\\n            if (clientType == \"mobile\") {\\n            \\twindow.location.href = \"https://passport.weibo.cn/signin/login?r=\"+url;\\n            } else{\\n            \\twindow.location.href = \"http://weibo.com/login.php\";\\n            }\\n        } else {\\n\\n            if(document.getElementById(\"message\")) {\\n                document.getElementById(\"message\").innerHTML = \"Error occurred\" + (msg ? (\": \" + msg) : \".\");\\n            }\\n        }\\n    };\\n\\n    var isInIframe = function () {\\n        try {\\n            return window.self !== window.top;\\n        } catch (e) {\\n            return true;\\n        }\\n    };\\n\\n</script>\\n</body>\\n</html>'"
      ]
     },
     "execution_count": 63,
     "metadata": {},
     "output_type": "execute_result"
    }
   ],
   "source": [
    "import requests\n",
    "\n",
    "s=requests.Session()\n",
    "s.get('https://weibo.com/u/7120847109/cookies/set')\n",
    "r=s.get('https://weibo.com/u/7120847109/cookies')\n",
    "\n",
    "r.text"
   ]
  },
  {
   "cell_type": "markdown",
   "metadata": {},
   "source": [
    "中文乱码。"
   ]
  },
  {
   "cell_type": "markdown",
   "metadata": {},
   "source": [
    "这里对结果进行分析。"
   ]
  },
  {
   "cell_type": "markdown",
   "metadata": {},
   "source": [
    "### 实现抓取网页的不去重深度遍历算法，自选合适的种子网站和相关参数，输出结果。\n"
   ]
  },
  {
   "cell_type": "code",
   "execution_count": null,
   "metadata": {},
   "outputs": [],
   "source": [
    "PATTERN_URl = \"<a.*href=\\\"(https?://.*?)[\\\"|\\'].*\"\n",
    "\n",
    "import re\n",
    "\n",
    "def getHtml(url):\n",
    "    res = requests.get(url,verify=False)\n",
    "    text = res.text\n",
    "    return text\n",
    "\n",
    "def getPageUrl(url,html=None):\n",
    "    if html == None:\n",
    "        html = getHtml(url)\n",
    "    uList = re.findall(PATTERN_URl, html)\n",
    "    return uList\n",
    "\n",
    "    \n",
    "clist = getPageUrl(url)\n",
    "print(\"\\t\\t\"*depthDict[url],\"#%d:%s\"%(depthDict[url],url))\n",
    "    \n",
    "if __name__ == '__main__':\n",
    "    startUrl = 'https://weibo.com/u/7120847109'"
   ]
  },
  {
   "cell_type": "code",
   "execution_count": null,
   "metadata": {},
   "outputs": [],
   "source": []
  },
  {
   "cell_type": "markdown",
   "metadata": {},
   "source": [
    "这里对结果进行分析。"
   ]
  },
  {
   "cell_type": "markdown",
   "metadata": {},
   "source": [
    "### 编写抓取网页的广度遍历算法（含去重和不去重），自选合适的种子网站和相关参数，输出结果。 "
   ]
  },
  {
   "cell_type": "code",
   "execution_count": null,
   "metadata": {},
   "outputs": [],
   "source": [
    "PATTERN_URl = \"<a.*href=\\\"(https?://.*?)[\\\"|\\'].*\"\n",
    "\n",
    "import threading\n",
    "import re\n",
    "\n",
    "def getHtml(url):\n",
    "    res = requests.get(url,verify=False)\n",
    "    text = res.text\n",
    "    return text\n",
    "\n",
    "def getPageUrl(url,html=None):\n",
    "    if html == None:\n",
    "        html = getHtml(url)\n",
    "    uList = re.findall(PATTERN_URl, html)\n",
    "    return uList\n",
    "\n",
    "tmplist = []\n",
    "depthDict = {}\n",
    "urlList = []\n",
    "tlist = []\n",
    " \n",
    "def getSonPageUrl(url):\n",
    "    subList = getPageUrl(url)\n",
    "    for u in subList:\n",
    "        if u not in depthDict:\n",
    "            depthDict[u] = depthDict[url] + 1\n",
    "            tmplist.append(u)\n",
    " \n",
    "def getUrls(depth):\n",
    "    while ((len(tmplist)>0) or (threading.activeCount()>1)):\n",
    "        while len(tmplist) == 0:\n",
    "            continue\n",
    "        url = tmplist.pop(0)\n",
    "        urlList.append(url)\n",
    "        \n",
    "        if depthDict[url] <depth:\n",
    "            t = threading.Thread(target=getSonPageUrl,args=(url,))\n",
    "            tlist.append(t)\n",
    "            t.start()\n",
    " \n",
    " \n",
    "startUrl = 'https://weibo.com/u/7120847109'\n",
    "if __name__ == '__main__':\n",
    "    depthDict[startUrl] = 0\n",
    "    tmplist.append(startUrl)\n",
    "    getUrls(3)\n"
   ]
  },
  {
   "cell_type": "code",
   "execution_count": null,
   "metadata": {},
   "outputs": [],
   "source": []
  },
  {
   "cell_type": "markdown",
   "metadata": {},
   "source": [
    "这里对结果进行分析。"
   ]
  },
  {
   "cell_type": "markdown",
   "metadata": {},
   "source": [
    "### (选)将抓取网页的去重深度遍历算法封装成对象（类），并测试。 "
   ]
  },
  {
   "cell_type": "code",
   "execution_count": 6,
   "metadata": {},
   "outputs": [],
   "source": []
  },
  {
   "cell_type": "code",
   "execution_count": 7,
   "metadata": {},
   "outputs": [],
   "source": [
    "# 测试"
   ]
  },
  {
   "cell_type": "markdown",
   "metadata": {},
   "source": [
    "这里对结果进行分析。"
   ]
  }
 ],
 "metadata": {
  "kernelspec": {
   "display_name": "Python 3",
   "language": "python",
   "name": "python3"
  },
  "language_info": {
   "codemirror_mode": {
    "name": "ipython",
    "version": 3
   },
   "file_extension": ".py",
   "mimetype": "text/x-python",
   "name": "python",
   "nbconvert_exporter": "python",
   "pygments_lexer": "ipython3",
   "version": "3.7.3"
  }
 },
 "nbformat": 4,
 "nbformat_minor": 4
}
