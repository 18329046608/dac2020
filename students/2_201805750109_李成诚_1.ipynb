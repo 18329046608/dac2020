{
 "cells": [
  {
   "cell_type": "markdown",
   "metadata": {},
   "source": [
    "# 《数据采集与清洗》\n",
    "## 第一次作业内容： 网页抓取\n",
    "### 具体目标：\n",
    "+ 用``urllib.requests``库发起一次``get``请求，输出``response``文本信息；\n",
    "+ 用``Requests``库伪装成火狐浏览器发起一次``post``请求，输出``response``文本信息；\n",
    "+ 用``Requests``库中的``session``对象发出``get``请求，设置``cookies``并获取，输出获取的``cookies``内容；\n",
    "+ 实现抓取网页的不去重深度遍历算法，自选合适的种子网站和相关参数，输出结果；\n",
    "+ 编写抓取网页的广度遍历算法（含去重和不去重），自选合适的种子网站和相关参数，输出结果；\n",
    "+ (选)将抓取网页的去重深度遍历算法封装成对象（类），并测试。\n",
    "\n",
    "### 注：\n",
    "+ 代码要有注释，结果要有分析；\n",
    "+ 本次作业提交截至时间：2020年3月10日(星期二)；\n",
    "+ 文件命名规则: 班级号+学号+姓名+作业序号，示例：``1_20188989899_张三_1``；\n",
    "+ 提交方式：1班发送至邮箱：632994085@qq.com；2班发送至邮箱：786888939@qq.com."
   ]
  },
  {
   "cell_type": "markdown",
   "metadata": {},
   "source": [
    "### 问题1：用``urllib.requests``库发起一次``get``请求，输出``response``文本信息。"
   ]
  },
  {
   "cell_type": "code",
   "execution_count": 1,
   "metadata": {},
   "outputs": [],
   "source": [
    "# 这里编写代码"
   ]
  },
  {
   "cell_type": "code",
   "execution_count": 40,
   "metadata": {},
   "outputs": [
    {
     "name": "stdout",
     "output_type": "stream",
     "text": [
      "<!DOCTYPE html>\r\n",
      "<!--STATUS OK--><html> <head><meta http-equiv=content-type content=text/html;charset=utf-8><meta http-equiv=X-UA-Compatible content=IE=Edge><meta content=always name=referrer><link rel=stylesheet type=text/css href=http://s1.bdstatic.com/r/www/cache/bdorz/baidu.min.css><title>ç¾åº¦ä¸ä¸ï¼ä½ å°±ç¥é</title></head> <body link=#0000cc> <div id=wrapper> <div id=head> <div class=head_wrapper> <div class=s_form> <div class=s_form_wrapper> <div id=lg> <img hidefocus=true src=//www.baidu.com/img/bd_logo1.png width=270 height=129> </div> <form id=form name=f action=//www.baidu.com/s class=fm> <input type=hidden name=bdorz_come value=1> <input type=hidden name=ie value=utf-8> <input type=hidden name=f value=8> <input type=hidden name=rsv_bp value=1> <input type=hidden name=rsv_idx value=1> <input type=hidden name=tn value=baidu><span class=\"bg s_ipt_wr\"><input id=kw name=wd class=s_ipt value maxlength=255 autocomplete=off autofocus></span><span class=\"bg s_btn_wr\"><input type=submit id=su value=ç¾åº¦ä¸ä¸ class=\"bg s_btn\"></span> </form> </div> </div> <div id=u1> <a href=http://news.baidu.com name=tj_trnews class=mnav>æ°é»</a> <a href=http://www.hao123.com name=tj_trhao123 class=mnav>hao123</a> <a href=http://map.baidu.com name=tj_trmap class=mnav>å°å¾</a> <a href=http://v.baidu.com name=tj_trvideo class=mnav>è§é¢</a> <a href=http://tieba.baidu.com name=tj_trtieba class=mnav>è´´å§</a> <noscript> <a href=http://www.baidu.com/bdorz/login.gif?login&amp;tpl=mn&amp;u=http%3A%2F%2Fwww.baidu.com%2f%3fbdorz_come%3d1 name=tj_login class=lb>ç»å½</a> </noscript> <script>document.write('<a href=\"http://www.baidu.com/bdorz/login.gif?login&tpl=mn&u='+ encodeURIComponent(window.location.href+ (window.location.search === \"\" ? \"?\" : \"&\")+ \"bdorz_come=1\")+ '\" name=\"tj_login\" class=\"lb\">ç»å½</a>');</script> <a href=//www.baidu.com/more/ name=tj_briicon class=bri style=\"display: block;\">æ´å¤äº§å</a> </div> </div> </div> <div id=ftCon> <div id=ftConw> <p id=lh> <a href=http://home.baidu.com>å",
      "³äºç¾åº¦</a> <a href=http://ir.baidu.com>About Baidu</a> </p> <p id=cp>&copy;2017&nbsp;Baidu&nbsp;<a href=http://www.baidu.com/duty/>ä½¿ç¨ç¾åº¦åå¿",
      "è¯»</a>&nbsp; <a href=http://jianyi.baidu.com/ class=cp-feedback>æè§åé¦</a>&nbsp;äº¬ICPè¯030173å·&nbsp; <img src=//www.baidu.com/img/gs.gif> </p> </div> </div> </div> </body> </html>\r\n",
      "\n"
     ]
    }
   ],
   "source": [
    "import requests\n",
    "#导入库\n",
    "r=requests.get('http://www.baidu.com')\n",
    "#发起get请求\n",
    "print(r.text)\n",
    "#输出文本信息"
   ]
  },
  {
   "cell_type": "markdown",
   "metadata": {},
   "source": [
    "这里对结果进行分析。"
   ]
  },
  {
   "cell_type": "markdown",
   "metadata": {},
   "source": [
    "### 用``Requests``库伪装成火狐浏览器发起一次``post``请求，输出``response``文本信息。"
   ]
  },
  {
   "cell_type": "code",
   "execution_count": 2,
   "metadata": {},
   "outputs": [],
   "source": [
    "# 这里编写代码"
   ]
  },
  {
   "cell_type": "code",
   "execution_count": 37,
   "metadata": {},
   "outputs": [
    {
     "name": "stdout",
     "output_type": "stream",
     "text": [
      "<!DOCTYPE html>\r\n",
      "<!--STATUS OK-->\r\n",
      "<html>\r\n",
      "<head>\r\n",
      "    <meta http-equiv=\"X-UA-Compatible\" content=\"IE=edge,chrome=1\">\r\n",
      "    <meta http-equiv=\"content-type\" content=\"text/html;charset=utf-8\">\r\n",
      "    <meta content=\"always\" name=\"referrer\">\r\n",
      "    <script src=\"https://ss1.bdstatic.com/5eN1bjq8AAUYm2zgoY3K/r/www/nocache/imgdata/seErrorRec.js\"></script>\r\n",
      "    <title>é¡µé¢ä¸å­å¨_ç¾åº¦æç´¢</title>\r\n",
      "    <style data-for=\"result\">\r\n",
      "        body {color: #333; background: #fff; padding: 0; margin: 0; position: relative; min-width: 700px; font-family: arial; font-size: 12px }\r\n",
      "        p, form, ol, ul, li, dl, dt, dd, h3 {margin: 0; padding: 0; list-style: none }\r\n",
      "        input {padding-top: 0; padding-bottom: 0; -moz-box-sizing: border-box; -webkit-box-sizing: border-box; box-sizing: border-box } img {border: none; }\r\n",
      "        .logo {width: 117px; height: 38px; cursor: pointer }\r\n",
      "         #wrapper {_zoom: 1 }\r\n",
      "        #head {padding-left: 35px; margin-bottom: 20px; width: 900px }\r\n",
      "        .fm {clear: both; position: relative; z-index: 297 }\r\n",
      "        .btn, #more {font-size: 14px } \r\n",
      "        .s_btn {width: 95px; height: 32px; padding-top: 2px\\9; font-size: 14px; padding: 0; background-color: #ddd; background-position: 0 -48px; border: 0; cursor: pointer }\r\n",
      "        .s_btn_h {background-position: -240px -48px }\r\n",
      "        .s_btn_wr {width: 97px; height: 34px; display: inline-block; background-position: -120px -48px; *position: relative; z-index: 0; vertical-align: top }\r\n",
      "        #foot {}\r\n",
      "        #foot span {color: #666 }\r\n",
      "        .s_ipt_wr {height: 32px }\r\n",
      "        .s_form:after, .s_tab:after {content: \".\"; display: block; height: 0; clear: both; visibility: hidden }\r\n",
      "        .s_form {zoom: 1; height: 55px; padding: 0 0 0 10px }\r\n",
      "        #result_logo {float: left; margin: 7px 0 0 }\r\n",
      "        #result_logo img {width: 101px }\r\n",
      "        #head {padding: 0; margin: 0; width: 100%; position: absolute; z-index: 301; min-width: 1000px; background: #fff; border-bottom: 1px solid #ebebeb; position: fixed; _position: absolute; -webkit-transform: translateZ(0) }\r\n",
      "        #head .head_wrapper {_width: 1000px }\r\n",
      "        #head.s_down {box-shadow: 0 0 5px #888 }\r\n",
      "        .fm {clear: none; float: left; margin: 11px 0 0 10px }\r\n",
      "        #s_tab {background: #f8f8f8; line-height: 36px; height: 38px; padding: 55px 0 0 121px; float: none; zoom: 1 }\r\n",
      "        #s_tab a, #s_tab b {width: 54px; display: inline-block; text-decoration: none; text-align: center; color: #666; font-size: 14px }\r\n",
      "        #s_tab b {border-bottom: 2px solid #38f; font-weight: bold; color: #323232 }\r\n",
      "        #s_tab a:hover {color: #323232 }\r\n",
      "        #content_left {width: 540px; padding-left: 121px; padding-top: 5px }\r\n",
      "        .to_tieba, .to_zhidao_bottom {margin: 10px 0 0 121px }\r\n",
      "        #help {background: #f5f6f5; zoom: 1; padding: 0 0 0 50px; float: right }\r\n",
      "        #help a {color: #777; padding: 0 15px; text-decoration: none }\r\n",
      "        #help a:hover {color: #333 }\r\n",
      "        #foot {position: fixed; bottom:0; width: 100%; background: #f5f6f5; border-top: 1px solid #ebebeb; text-align: left; height: 42px; line-height: 42px; margin-top: 40px; *margin-top: 0; _position:absolute; _bottom:auto; _top:expression(eval(document.documentElement.scrollTop+document.documentElement.clientHeight-this.offsetHeight-(parseInt(this.currentStyle.marginTop,10)||0)-(parseInt(this.currentStyle.marginBottom,10)||0))); }\r\n",
      "\r\n",
      "        .content_none {padding: 45px 0 25px 121px } .s_ipt_wr.bg,\r\n",
      "        .s_btn_wr.bg, #su.bg {background-image: none }\r\n",
      "        .s_ipt_wr.bg {background: 0 }\r\n",
      "        .s_btn_wr {width: auto; height: auto; border-bottom: 1px solid transparent; *border-bottom: 0 }\r\n",
      "        .s_btn {width: 100px; height: 34px; color: white; letter-spacing: 1px; background: #3385ff; border-bottom: 1px solid #2d78f4; outline: medium; *border-bottom: 0; -webkit-appearance: none; -webkit-border-radius: 0 }\r\n",
      "        .s_btn:hover {background: #317ef3; border-bottom: 1px solid #2868c8; *border-bottom: 0; box-shadow: 1px 1px 1px #ccc }\r\n",
      "        .s_btn:active {background: #3075dc; box-shadow: inset 1px 1px 3px #2964bb; -webkit-box-shadow: inset 1px 1px 3px #2964bb; -moz-box-shadow: inset 1px 1px 3px #2964bb; -o-box-shadow: inset 1px 1px 3px #2964bb }\r\n",
      "        #lg {display: none }\r\n",
      "        #head .headBlock {margin: -5px 0 6px 121px }\r\n",
      "        #content_left .leftBlock {margin-bottom: 14px; padding-bottom: 5px; border-bottom: 1px solid #f3f3f3 }\r\n",
      "        .s_ipt_wr {border: 1px solid #b6b6b6; border-color: #7b7b7b #b6b6b6 #b6b6b6 #7b7b7b; background: #fff; display: inline-block; vertical-align: top; width: 539px; margin-right: 0; border-right-width: 0; border-color: #b8b8b8 transparent #ccc #b8b8b8; overflow: hidden }\r\n",
      "        .s_ipt_wr.ip_short {width: 439px; }\r\n",
      "        .s_ipt_wr:hover, .s_ipt_wr.ipthover {border-color: #999 transparent #b3b3b3 #999 }\r\n",
      "        .s_ipt_wr.iptfocus {border-color: #4791ff transparent #4791ff #4791ff }\r\n",
      "        .s_ipt_tip {color: #aaa; position: absolute; z-index: -10; font: 16px/22px arial; height: 32px; line-height: 32px; padding-left: 7px; overflow: hidden; width: 526px }\r\n",
      "        .s_ipt {width: 526px; height: 22px; font: 16px/18px arial; line-height: 22px\\9; margin: 6px 0 0 7px; padding: 0; background: transparent; border: 0; outline: 0; -webkit-appearance: none }\r\n",
      "        #kw {position: relative;display: inline-block;}\r\n",
      "        input::-ms-clear {display: none }\r\n",
      "        /*Error page css*/\r\n",
      "        .norsSuggest {display: inline-block; color: #333; font-family: arial; font-size: 13px; position: relative; } \r\n",
      "        .norsTitle {font-size: 22px; font-family: Microsoft Yahei; font-weight: normal; color: #333; margin: 35px 0 25px 0; }\r\n",
      "        .norsTitle2 {font-family: arial; font-size: 13px; color: #666; }\r\n",
      "        .norsSuggest ol {margin-left: 47px; }\r\n",
      "        .norsSuggest li {margin: 13px 0; }\r\n",
      "        #content_right {\r\n",
      "    border-left: 1px solid #e1e1e1;\r\n",
      "    width: 384px;\r\n",
      "    margin-top: 25px;\r\n",
      "    float: right;\r\n",
      "    padding-left: 17px;\r\n",
      "}\r\n",
      "#wrapper_wrapper {\r\n",
      "    width: 1212px;\r\n",
      "}\r\n",
      ".cr-content {\r\n",
      "    width: 351px;\r\n",
      "    font-size: 13px;\r\n",
      "    line-height: 1.54em;\r\n",
      "    color: #333;\r\n",
      "    margin-top: 6px;\r\n",
      "    margin-bottom: 28px;\r\n",
      "    word-wrap: break-word;\r\n",
      "    word-break: normal;\r\n",
      "}\r\n",
      "@media screen and (max-width: 1217px) {\r\n",
      "    #wrapper_wrapper {\r\n",
      "        width: 1002px;\r\n",
      "    }\r\n",
      "    #wrapper_wrapper #content_right {\r\n",
      "        width: 271px;\r\n",
      "    }\r\n",
      "    #wrapper_wrapper .cr-content {\r\n",
      "        width: 259px;\r\n",
      "    }\r\n",
      "}\r\n",
      ".opr-toplist-title {\r\n",
      "    position: relative;\r\n",
      "    font-size: 14px;\r\n",
      "    line-height: 1.29em;\r\n",
      "    font-weight: 700;\r\n",
      "    margin-bottom: 10px;\r\n",
      "}\r\n",
      ".opr-toplist-table {\r\n",
      "    width: 100%;\r\n",
      "    border-collapse: collapse;\r\n",
      "    border-spacing: 0;\r\n",
      "    font-size: 13px;\r\n",
      "}\r\n",
      ".opr-toplist-table th,td {\r\n",
      "    line-height: 1.54;\r\n",
      "    border-bottom: 1px solid #f3f3f3;\r\n",
      "    text-align: left;\r\n",
      "}\r\n",
      ".opr-toplist-table thead th {\r\n",
      "    padding-top: 4px;\r\n",
      "    padding-bottom: 4px;\r\n",
      "    font-weight: 400;\r\n",
      "    color: #666;\r\n",
      "    white-space: nowrap;\r\n",
      "    background-color: #fafafa;  \r\n",
      "}\r\n",
      ".opr-toplist-table .opr-toplist-right {\r\n",
      "    text-align: right;\r\n",
      "    white-space: nowrap;\r\n",
      "}\r\n",
      ".opr-toplist-table td {\r\n",
      "    width: 100%;\r\n",
      "    font-size: 13px;\r\n",
      "    padding-top: 6.5px;\r\n",
      "    padding-bottom: 6.5px;\r\n",
      "    vertical-align: top;\r\n",
      "}\r\n",
      ".opr-toplist-table a:hover {\r\n",
      "    text-decoration: underline;\r\n",
      "}\r\n",
      ".opr-index-item {\r\n",
      "    display: inline-block;\r\n",
      "    padding:1px 0;\r\n",
      "    color: #fff;\r\n",
      "    width: 14px;\r\n",
      "    line-height: 100%;\r\n",
      "    font-size: 12px;\r\n",
      "    text-align: center;\r\n",
      "    background-color: #8eb9f5;\r\n",
      "    margin-right: 5px;\r\n",
      "}\r\n",
      ".opr-index-hot1 {\r\n",
      "    background-color: #f54545;\r\n",
      "}\r\n",
      "\r\n",
      ".opr-index-hot2 {\r\n",
      "    background-color: #ff8547;\r\n",
      "}\r\n",
      ".opr-index-hot3 {\r\n",
      "    background-color: #ffac38;\r\n",
      "}\r\n",
      ".opr-item-text {\r\n",
      "    text-decoration: none;  \r\n",
      "}\r\n",
      ".opr-toplist-info {\r\n",
      "    color: #666;\r\n",
      "    text-align: right;\r\n",
      "    margin-top: 5px;\r\n",
      "}\r\n",
      ".opr-toplist-info>a {\r\n",
      "    color: #666;\r\n",
      "}\r\n",
      "    </style>\r\n",
      "</head>\r\n",
      "\r\n",
      "<body link=\"#0000cc\">\r\n",
      "    <div id=\"wrapper\" class=\"wrapper_l\">\r\n",
      "        <div id=\"head\">\r\n",
      "            <div class=\"head_wrapper\">\r\n",
      "                <div class=\"s_form\">\r\n",
      "                    <div class=\"s_form_wrapper\">\r\n",
      "                        <a href=\"//www.baidu.com/\" id=\"result_logo\"><img src=\"//www.baidu.com/img/baidu_jgylogo3.gif\" alt=\"å°ç¾åº¦é¦é¡µ\" title=\"å°ç¾åº¦é¦é¡µ\"></a>\r\n",
      "                        <form id=\"form\" name=\"f\" action=\"//www.baidu.com/s\" class=\"fm\">\r\n",
      "                            <input type=\"hidden\" name=\"ie\" value=\"utf-8\">\r\n",
      "                            <input type=\"hidden\" name=\"f\" value=\"8\">\r\n",
      "                            <input type=\"hidden\" name=\"rsv_bp\" value=\"1\">\r\n",
      "                            <input type=\"hidden\" name=\"ch\" value=\"\">\r\n",
      "                            <input type=\"hidden\" name=\"tn\" value=\"baiduerr\">\r\n",
      "                            <input type=\"hidden\" name=\"bar\" value=\"\">\r\n",
      "                            <span class=\"bg s_ipt_wr iptfocus\">\r\n",
      "                                <input id=\"kw\" name=\"wd\" class=\"s_ipt\" value=\"\" maxlength=\"255\" autocomplete=\"off\" autofocus>\r\n",
      "                            </span><span class=\"bg s_btn_wr\">\r\n",
      "                                <input type=\"submit\" id=\"su\" value=\"ç¾åº¦ä¸ä¸\" class=\"bg s_btn\">\r\n",
      "                            </span>\r\n",
      "                    </form>\r\n",
      "                </div>\r\n",
      "            </div>\r\n",
      "        </div>\r\n",
      "    </div>\r\n",
      "    <div class=\"s_tab\" id=\"s_tab\">\r\n",
      "        <b>ç½é¡µ</b>\r\n",
      "        <a href=\"http://tieba.baidu.com/f?kw=&fr=wwwt\" wdfield=\"kw\">è´´å§</a>\r\n",
      "        <a href=\"http://zhidao.baidu.com/q?ct=17&pn=0&tn=ikaslist&rn=10&word=&fr=wwwt\" wdfield=\"word\">ç¥é</a>\r\n",
      "        <a href=\"http://music.baidu.com/search?fr=ps&ie=utf-8&key=\" wdfield=\"key\">é³ä¹</a>\r\n",
      "        <a href=\"http://image.baidu.com/i?tn=baiduimage&ps=1&ct=201326592&lm=-1&cl=2&nc=1&ie=utf-8&word=\" wdfield=\"word\">å¾ç</a>\r\n",
      "        <a href=\"http://v.baidu.com/v?ct=301989888&rn=20&pn=0&db=0&s=25&ie=utf-8&word=\" wdfield=\"word\">è§é¢</a>\r\n",
      "        <a href=\"http://map.baidu.com/m?word=&fr=ps01000\" wdfield=\"word\">å°å¾</a>\r\n",
      "        <a href=\"http://wenku.baidu.com/search?word=&lm=0&od=0&ie=utf-8\" wdfield=\"word\">æåº</a>\r\n",
      "        <a href=\"//www.baidu.com/more/\">æ´å¤Â»</a>\r\n",
      "    </div>\r\n",
      "    <div id=\"wrapper_wrapper\">\r\n",
      "        <div id=\"content_left\">\r\n",
      "            <div class=\"nors\">\r\n",
      "                <div class=\"norsSuggest\">\r\n",
      "                    <h3 class=\"norsTitle\">å¾æ±æ­ï¼æ¨è¦è®¿é®çé¡µé¢ä¸å­å¨ï¼</h3>\r\n",
      "                    <p class=\"norsTitle2\">æ¸©é¦¨æç¤ºï¼</p>\r\n",
      "                    <ol>\r\n",
      "                        <li>è¯·æ£æ¥æ¨è®¿é®çç½åæ¯å¦æ­£ç¡®</li>\r\n",
      "                        <li>å¦ææ¨ä¸è½ç¡®è®¤è®¿é®çç½åï¼è¯·æµè§<a href=\"//www.baidu.com/more/index.html\">ç¾åº¦æ´å¤</a>é¡µé¢æ¥çæ´å¤ç½åã</li>\r\n",
      "                        <li>åå°é¡¶é¨éæ°åèµ·æç´¢</li>\r\n",
      "                        <li>å¦æä»»ä½æè§æå»ºè®®ï¼è¯·åæ¶<a href=\"http://qingting.baidu.com/index\">åé¦ç»æä»¬</a>ã</li>\r\n",
      "                    </ol>\r\n",
      "                </div>\r\n",
      "            </div>\r\n",
      "        </div>\r\n",
      "    </div>\r\n",
      "    <div id=\"foot\">\r\n",
      "        <span id=\"help\" style=\"float:left;padding-left:121px\">\r\n",
      "            <a href=\"http://help.baidu.com/question\" target=\"_blank\">å¸®å©</a>\r\n",
      "            <a href=\"http://www.baidu.com/search/jubao.html\" target=\"_blank\">ä¸¾æ¥</a>\r\n",
      "            <a href=\"http://jianyi.baidu.com\" target=\"_blank\">ç»ç¾åº¦æå»ºè®®</a>\r\n",
      "        </span>\r\n",
      "    </div>\r\n",
      "</body>\r\n",
      "<script>\r\n",
      "(function () {\r\n",
      "        var LOGURL = 'https://sp1.baidu.com/5b1ZeDe5KgQFm2e88IuM_a/cm.gif';\r\n",
      "        var params = 'type=wwwerror&terminal=www';\r\n",
      "        var img = new Image();\r\n",
      "        img.src = LOGURL + '?' + params;\r\n",
      "    })();\r\n",
      "    (function () {\r\n",
      "        if(window.recommend && window.recommend.query && window.recommend.query.length > 0) {\r\n",
      "            var recommendWrapper = document.createElement('div');\r\n",
      "            var recommendHtml = '<div class=\"cr-content\"><div class=\"opr-toplist-title\">' + window.recommend.title + '</div><table class=\"opr-toplist-table\"><thead><tr><th>æå</th></tr></thead>';\r\n",
      "            var queryArray = window.recommend.query;\r\n",
      "            var itemUrl = '';\r\n",
      "            for(var i = 1; i < (queryArray.length+1); i++) {\r\n",
      "                itemUrl = '//www.baidu.com/s?word=' + encodeURIComponent(queryArray[i-1].word) + '&sa=' + queryArray[i-1].sa + '&tn=' + queryArray[i-1].tn;\r\n",
      "                if (queryArray[i-1].rsv_dl) {\r\n",
      "                    itemUrl += \"&rsv_dl=\" + queryArray[i-1].rsv_dl;\r\n",
      "                }\r\n",
      "                \r\n",
      "                if (i < 4) {\r\n",
      "                    recommendHtml += '<tr><td><span class=\"opr-index-hot' + i + ' opr-index-item\">' + i + '</span><a target=\"_blank\" href=\"' + itemUrl +'\" class=\"opr-item-text\">' + queryArray[i-1].word + '</a></td></tr>';\r\n",
      "                } else {\r\n",
      "                    recommendHtml += '<tr><td><span class=\"opr-index-item\">' + i + '</span><a target=\"_blank\" href=\"' + itemUrl +'\" class=\"opr-item-text\">' + queryArray[i-1].word + '</a></td></tr>';\r\n",
      "                }\r\n",
      "            }\r\n",
      "            recommendHtml += '</tbody></table><div class=\"opr-toplist-info\"><span>æ¥æºï¼</span><a target=\"_blank\" href=\"http://www.baidu.com/link?url=sLR63PtaB7kc3YkTtzDy1k3mbTm1DXDMu-nLcijZx8DmWgOff4lBxqmY-LGDyHqw\">ç¾åº¦é£äºæ¦</a><span>&nbsp;-&nbsp;</span><a target=\"_blank\" href=\"http://www.baidu.com/link?url=01vNBVXR2eaJxETl9PI3hcrvKCcwaJIKk5FkpO7l5YI_Q_pC24ogIBoZxI0LAu5oYpAdhRH42nzxAqfui0YnHK\">å®æ¶ç­ç¹</a></div></div>';\r\n",
      "            recommendWrapper.setAttribute('id', 'content_right');\r\n",
      "            document.getElementById('wrapper_wrapper').insertBefore(recommendWrapper, document.getElementById('content_left'));\r\n",
      "            var recommend = document.getElementById('content_right');\r\n",
      "            recommend.innerHTML = recommendHtml;\r\n",
      "        }\r\n",
      "})();\r\n",
      "(function(){\r\n",
      "    var bds = {\r\n",
      "        util: {}\r\n",
      "    };\r\n",
      "    var c = document.getElementById('kw').parentNode;\r\n",
      "\r\n",
      "    bds.util.getWinWidth = function(){\r\n",
      "        return window.document.documentElement.clientWidth;\r\n",
      "    };\r\n",
      "\r\n",
      "    bds.util.setFormWidth = function(){\r\n",
      "        var width = bds.util.getWinWidth();\r\n",
      "        if(width < 1217)    {bds.util.setClass(c, 'ip_short', 'add')}\r\n",
      "        else                {bds.util.setClass(c, 'ip_short', 'remove')};\r\n",
      "    };\r\n",
      "\r\n",
      "    bds.util.setClass = function(obj, class_name, set) {\r\n",
      "        var ori_class = obj.className,\r\n",
      "            has_class_p = -1,\r\n",
      "            ori_class_arr = [],\r\n",
      "            new_class = '';\r\n",
      "\r\n",
      "        if(ori_class.length) ori_class_arr = ori_class.split(' ');\r\n",
      "\r\n",
      "        for( i in ori_class_arr) {\r\n",
      "            if(ori_class_arr[i] == class_name) has_class_p = i;\r\n",
      "        }\r\n",
      "\r\n",
      "        if( set == 'remove' && has_class_p >= 0) {\r\n",
      "            ori_class_arr.splice(has_class_p, 1);\r\n",
      "            new_class = ori_class_arr.join(' ');\r\n",
      "            obj.className = new_class;\r\n",
      "        } else if( set == 'add' && has_class_p < 0) {\r\n",
      "            ori_class_arr.push(class_name);\r\n",
      "            new_class = ori_class_arr.join(' ');\r\n",
      "            obj.className = new_class;\r\n",
      "        }\r\n",
      "    }\r\n",
      "    bds.util.setFormWidth();\r\n",
      "\r\n",
      "    if (typeof document.addEventListener != \"undefined\") {\r\n",
      "        window.addEventListener('resize', bds.util.setFormWidth, false);\r\n",
      "        document.getElementById('kw').addEventListener('focus', function(){bds.util.setClass(c,'iptfocus', 'add');}, false);\r\n",
      "        document.getElementById('kw').addEventListener('blur', function(){bds.util.setClass(c,'iptfocus', 'remove');}, false);\r\n",
      "    } else {\r\n",
      "        window.attachEvent('onresize', bds.util.setFormWidth, false);\r\n",
      "        document.getElementById('kw').attachEvent('onfocus', function(){bds.util.setClass(c,'iptfocus', 'add');}, false);\r\n",
      "        document.getElementById('kw').attachEvent('onblur', function(){bds.util.setClass(c,'iptfocus', 'remove');}, false);\r\n",
      "    } \r\n",
      "\r\n",
      "})();\r\n",
      "\r\n",
      "\r\n",
      "</script>\r\n",
      "\r\n",
      "</html>\r\n",
      "\n"
     ]
    }
   ],
   "source": [
    "import requests\n",
    "#导入库\n",
    "send_headers = {\n",
    "        \"User-Agent\": \"Mozilla/5.0 (Windows NT 10.0; Win64; x64) Gecko/20100101 Firefox/73.0\",\n",
    "        \"Connection\": \"keep-alive\",\n",
    "        \"Accept\": \"*/*\",\n",
    "        \"Accept-Encoding\":\"gzip,deflate,br\",\n",
    "        \"Accept-Language\": \"zh-CN,zh;q=0.8,zh-TW\"}\n",
    "#伪装火狐浏览器\n",
    "url=\"http://www.baidu.com\"\n",
    "response = requests.post(url, data, headers=send_headers).text\n",
    "#发起post请求\n",
    "print(response)\n",
    "#输出文本信息"
   ]
  },
  {
   "cell_type": "markdown",
   "metadata": {},
   "source": [
    "这里对结果进行分析。"
   ]
  },
  {
   "cell_type": "markdown",
   "metadata": {},
   "source": [
    "### 用``Requests``库中的``session``对象发出``get``请求，设置``cookies``并获取，输出获取的``cookies``内容。 "
   ]
  },
  {
   "cell_type": "code",
   "execution_count": 3,
   "metadata": {},
   "outputs": [],
   "source": [
    "# 这里编写代码"
   ]
  },
  {
   "cell_type": "code",
   "execution_count": 28,
   "metadata": {},
   "outputs": [
    {
     "name": "stdout",
     "output_type": "stream",
     "text": [
      "{\n",
      "  \"cookies\": {\n",
      "    \"sessioncookie\": \"12345\"\n",
      "  }\n",
      "}\n",
      "\n"
     ]
    }
   ],
   "source": [
    "import requests\n",
    "s=requests.session()\n",
    "#创建session对象\n",
    "s.get('http://httpbin.org/cookies/set/sessioncookie/12345')\n",
    "#发出get请求，设置cookies\n",
    "r=s.get('http://httpbin.org/cookies')\n",
    "#获取cookies\n",
    "print(r.text)\n",
    "#输出"
   ]
  },
  {
   "cell_type": "markdown",
   "metadata": {},
   "source": [
    "这里对结果进行分析。"
   ]
  },
  {
   "cell_type": "markdown",
   "metadata": {},
   "source": [
    "### 实现抓取网页的不去重深度遍历算法，自选合适的种子网站和相关参数，输出结果。\n"
   ]
  },
  {
   "cell_type": "code",
   "execution_count": 4,
   "metadata": {},
   "outputs": [],
   "source": [
    "# 这里编写代码"
   ]
  },
  {
   "cell_type": "code",
   "execution_count": null,
   "metadata": {},
   "outputs": [],
   "source": [
    "def dfs(G,s,S=None):\n",
    "    if S is None:S = set()\n",
    "    S.add(s)\n",
    "    for u in G[s]:\n",
    "        if u in S:continue\n",
    "        dfs(G,u,S)\n",
    "#递归深度遍历\n",
    "import  re, urllib.request\n",
    "url = 'http://www.nmc.cn'\n",
    "html = urllib.request.urlopen(url).read()\n",
    "html = html.decode('utf-8')\n",
    "links = re.findall('<a target=\"_blank\" href=\"(.+?)\" title',html)\n",
    "titles = re.findall('<a target=\"_blank\" .+? title=\"(.+?)\">',html)\n",
    "tags = re.findall('<a target=\"_blank\" .+? title=.+?>(.+?)</a>',html)\n",
    "for link,title,tag in zip(links,titles,tags):\n",
    "    print(tag,url+link,title)\n",
    "#抓取网页"
   ]
  },
  {
   "cell_type": "markdown",
   "metadata": {},
   "source": [
    "这里对结果进行分析。"
   ]
  },
  {
   "cell_type": "markdown",
   "metadata": {},
   "source": [
    "### 编写抓取网页的广度遍历算法（含去重和不去重），自选合适的种子网站和相关参数，输出结果。 "
   ]
  },
  {
   "cell_type": "code",
   "execution_count": 5,
   "metadata": {},
   "outputs": [],
   "source": [
    "# 这里编写代码"
   ]
  },
  {
   "cell_type": "code",
   "execution_count": null,
   "metadata": {},
   "outputs": [],
   "source": [
    "import collections  \n",
    "def bfs(G,s):  \n",
    "    P,Q={s:None},collections.deque([s])  \n",
    "    while Q:  \n",
    "        u=Q.popleft()  \n",
    "        for v in G[u]:  \n",
    "            if v in P:continue  \n",
    "            P[v]=u  \n",
    "            Q.append(v)  \n",
    "    return P\n",
    "#广度遍历\n",
    "import  re, urllib.request\n",
    "url = 'http://www.nmc.cn'\n",
    "html = urllib.request.urlopen(url).read()\n",
    "html = html.decode('utf-8')\n",
    "links = re.findall('<a target=\"_blank\" href=\"(.+?)\" title',html)\n",
    "titles = re.findall('<a target=\"_blank\" .+? title=\"(.+?)\">',html)\n",
    "tags = re.findall('<a target=\"_blank\" .+? title=.+?>(.+?)</a>',html)\n",
    "for link,title,tag in zip(links,titles,tags):\n",
    "    print(tag,url+link,title)\n",
    "#抓取网页"
   ]
  },
  {
   "cell_type": "markdown",
   "metadata": {},
   "source": [
    "这里对结果进行分析。"
   ]
  },
  {
   "cell_type": "markdown",
   "metadata": {},
   "source": [
    "### (选)将抓取网页的去重深度遍历算法封装成对象（类），并测试。 "
   ]
  },
  {
   "cell_type": "code",
   "execution_count": 6,
   "metadata": {},
   "outputs": [],
   "source": [
    "# 这里编写代码"
   ]
  },
  {
   "cell_type": "code",
   "execution_count": 7,
   "metadata": {},
   "outputs": [],
   "source": [
    "# 测试"
   ]
  },
  {
   "cell_type": "markdown",
   "metadata": {},
   "source": [
    "这里对结果进行分析。"
   ]
  }
 ],
 "metadata": {
  "kernelspec": {
   "display_name": "Python 3",
   "language": "python",
   "name": "python3"
  },
  "language_info": {
   "codemirror_mode": {
    "name": "ipython",
    "version": 3
   },
   "file_extension": ".py",
   "mimetype": "text/x-python",
   "name": "python",
   "nbconvert_exporter": "python",
   "pygments_lexer": "ipython3",
   "version": "3.7.3"
  }
 },
 "nbformat": 4,
 "nbformat_minor": 4
}
