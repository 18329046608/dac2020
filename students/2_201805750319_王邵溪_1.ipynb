{
 "cells": [
  {
   "cell_type": "code",
   "execution_count": 1,
   "metadata": {},
   "outputs": [],
   "source": [
    "import urllib.request\n",
    "import urllib.parse\n",
    "import requests\n",
    "import re\n",
    "from collections import Counter"
   ]
  },
  {
   "cell_type": "markdown",
   "metadata": {},
   "source": [
    "## 用``urllib.request``库发起``get``请求，输出``response``的文本信息"
   ]
  },
  {
   "cell_type": "code",
   "execution_count": 2,
   "metadata": {
    "scrolled": true
   },
   "outputs": [
    {
     "name": "stdout",
     "output_type": "stream",
     "text": [
      "<!DOCTYPE html>\n",
      "<html lang=\"en\">\n",
      "\n",
      "<head>\n",
      "    <meta charset=\"UTF-8\">\n",
      "    <title>httpbin.org</title>\n",
      "    <link href=\"https://fonts.googleapis.com/css?family=Open+Sans:400,700|Source+Code+Pro:300,600|Titillium+Web:400,600,700\"\n",
      "        rel=\"stylesheet\">\n",
      "    <link rel=\"stylesheet\" type=\"text/css\" href=\"/flasgger_static/swagger-ui.css\">\n",
      "    <link rel=\"icon\" type=\"image/png\" href=\"/static/favicon.ico\" sizes=\"64x64 32x32 16x16\" />\n",
      "    <style>\n",
      "        html {\n",
      "            box-sizing: border-box;\n",
      "            overflow: -moz-scrollbars-vertical;\n",
      "            overflow-y: scroll;\n",
      "        }\n",
      "\n",
      "        *,\n",
      "        *:before,\n",
      "        *:after {\n",
      "            box-sizing: inherit;\n",
      "        }\n",
      "\n",
      "        body {\n",
      "            margin: 0;\n",
      "            background: #fafafa;\n",
      "        }\n",
      "    </style>\n",
      "</head>\n",
      "\n",
      "<body>\n",
      "    <a href=\"https://github.com/requests/httpbin\" class=\"github-corner\" aria-label=\"View source on Github\">\n",
      "        <svg width=\"80\" height=\"80\" viewBox=\"0 0 250 250\" style=\"fill:#151513; color:#fff; position: absolute; top: 0; border: 0; right: 0;\"\n",
      "            aria-hidden=\"true\">\n",
      "            <path d=\"M0,0 L115,115 L130,115 L142,142 L250,250 L250,0 Z\"></path>\n",
      "            <path d=\"M128.3,109.0 C113.8,99.7 119.0,89.6 119.0,89.6 C122.0,82.7 120.5,78.6 120.5,78.6 C119.2,72.0 123.4,76.3 123.4,76.3 C127.3,80.9 125.5,87.3 125.5,87.3 C122.9,97.6 130.6,101.9 134.4,103.2\"\n",
      "                fill=\"currentColor\" style=\"transform-origin: 130px 106px;\" class=\"octo-arm\"></path>\n",
      "            <path d=\"M115.0,115.0 C114.9,115.1 118.7,116.5 119.8,115.4 L133.7,101.6 C136.9,99.2 139.9,98.4 142.2,98.6 C133.8,88.0 127.5,74.4 143.8,58.0 C148.5,53.4 154.0,51.2 159.7,51.0 C160.3,49.4 163.2,43.6 171.4,40.1 C171.4,40.1 176.1,42.5 178.8,56.2 C183.1,58.6 187.2,61.8 190.9,65.4 C194.5,69.0 197.7,73.2 200.1,77.6 C213.8,80.2 216.3,84.9 216.3,84.9 C212.7,93.1 206.9,96.0 205.4,96.6 C205.1,102.4 203.0,107.8 198.3,112.5 C181.9,128.9 168.3,122.5 157.7,114.1 C157.9,116.9 156.7,120.9 152.7,124.9 L141.0,136.5 C139.8,137.7 141.6,141.9 141.8,141.8 Z\"\n",
      "                fill=\"currentColor\" class=\"octo-body\"></path>\n",
      "        </svg>\n",
      "    </a>\n",
      "    <svg xmlns=\"http://www.w3.org/2000/svg\" xmlns:xlink=\"http://www.w3.org/1999/xlink\" style=\"position:absolute;width:0;height:0\">\n",
      "        <defs>\n",
      "            <symbol viewBox=\"0 0 20 20\" id=\"unlocked\">\n",
      "                <path d=\"M15.8 8H14V5.6C14 2.703 12.665 1 10 1 7.334 1 6 2.703 6 5.6V6h2v-.801C8 3.754 8.797 3 10 3c1.203 0 2 .754 2 2.199V8H4c-.553 0-1 .646-1 1.199V17c0 .549.428 1.139.951 1.307l1.197.387C5.672 18.861 6.55 19 7.1 19h5.8c.549 0 1.428-.139 1.951-.307l1.196-.387c.524-.167.953-.757.953-1.306V9.199C17 8.646 16.352 8 15.8 8z\"></path>\n",
      "            </symbol>\n",
      "\n",
      "            <symbol viewBox=\"0 0 20 20\" id=\"locked\">\n",
      "                <path d=\"M15.8 8H14V5.6C14 2.703 12.665 1 10 1 7.334 1 6 2.703 6 5.6V8H4c-.553 0-1 .646-1 1.199V17c0 .549.428 1.139.951 1.307l1.197.387C5.672 18.861 6.55 19 7.1 19h5.8c.549 0 1.428-.139 1.951-.307l1.196-.387c.524-.167.953-.757.953-1.306V9.199C17 8.646 16.352 8 15.8 8zM12 8H8V5.199C8 3.754 8.797 3 10 3c1.203 0 2 .754 2 2.199V8z\"\n",
      "                />\n",
      "            </symbol>\n",
      "\n",
      "            <symbol viewBox=\"0 0 20 20\" id=\"close\">\n",
      "                <path d=\"M14.348 14.849c-.469.469-1.229.469-1.697 0L10 11.819l-2.651 3.029c-.469.469-1.229.469-1.697 0-.469-.469-.469-1.229 0-1.697l2.758-3.15-2.759-3.152c-.469-.469-.469-1.228 0-1.697.469-.469 1.228-.469 1.697 0L10 8.183l2.651-3.031c.469-.469 1.228-.469 1.697 0 .469.469.469 1.229 0 1.697l-2.758 3.152 2.758 3.15c.469.469.469 1.229 0 1.698z\"\n",
      "                />\n",
      "            </symbol>\n",
      "\n",
      "            <symbol viewBox=\"0 0 20 20\" id=\"large-arrow\">\n",
      "                <path d=\"M13.25 10L6.109 2.58c-.268-.27-.268-.707 0-.979.268-.27.701-.27.969 0l7.83 7.908c.268.271.268.709 0 .979l-7.83 7.908c-.268.271-.701.27-.969 0-.268-.269-.268-.707 0-.979L13.25 10z\"\n",
      "                />\n",
      "            </symbol>\n",
      "\n",
      "            <symbol viewBox=\"0 0 20 20\" id=\"large-arrow-down\">\n",
      "                <path d=\"M17.418 6.109c.272-.268.709-.268.979 0s.271.701 0 .969l-7.908 7.83c-.27.268-.707.268-.979 0l-7.908-7.83c-.27-.268-.27-.701 0-.969.271-.268.709-.268.979 0L10 13.25l7.418-7.141z\"\n",
      "                />\n",
      "            </symbol>\n",
      "\n",
      "\n",
      "            <symbol viewBox=\"0 0 24 24\" id=\"jump-to\">\n",
      "                <path d=\"M19 7v4H5.83l3.58-3.59L8 6l-6 6 6 6 1.41-1.41L5.83 13H21V7z\" />\n",
      "            </symbol>\n",
      "\n",
      "            <symbol viewBox=\"0 0 24 24\" id=\"expand\">\n",
      "                <path d=\"M10 18h4v-2h-4v2zM3 6v2h18V6H3zm3 7h12v-2H6v2z\" />\n",
      "            </symbol>\n",
      "\n",
      "        </defs>\n",
      "    </svg>\n",
      "\n",
      "\n",
      "    <div id=\"swagger-ui\">\n",
      "        <div data-reactroot=\"\" class=\"swagger-ui\">\n",
      "            <div>\n",
      "                <div class=\"information-container wrapper\">\n",
      "                    <section class=\"block col-12\">\n",
      "                        <div class=\"info\">\n",
      "                            <hgroup class=\"main\">\n",
      "                                <h2 class=\"title\">httpbin.org\n",
      "                                    <small>\n",
      "                                        <pre class=\"version\">0.9.2</pre>\n",
      "                                    </small>\n",
      "                                </h2>\n",
      "                                <pre class=\"base-url\">[ Base URL: httpbin.org/ ]</pre>\n",
      "                            </hgroup>\n",
      "                            <div class=\"description\">\n",
      "                                <div class=\"markdown\">\n",
      "                                    <p>A simple HTTP Request &amp; Response Service.\n",
      "                                        <br>\n",
      "                                        <br>\n",
      "                                        <b>Run locally: </b>\n",
      "                                        <code>$ docker run -p 80:80 kennethreitz/httpbin</code>\n",
      "                                    </p>\n",
      "                                </div>\n",
      "                            </div>\n",
      "                            <div>\n",
      "                                <div>\n",
      "                                    <a href=\"https://kennethreitz.org\" target=\"_blank\">the developer - Website</a>\n",
      "                                </div>\n",
      "                                <a href=\"mailto:me@kennethreitz.org\">Send email to the developer</a>\n",
      "                            </div>\n",
      "                        </div>\n",
      "                        <!-- ADDS THE LOADER SPINNER -->\n",
      "                        <div class=\"loading-container\">\n",
      "                            <div class=\"loading\"></div>\n",
      "                        </div>\n",
      "\n",
      "                    </section>\n",
      "                </div>\n",
      "            </div>\n",
      "        </div>\n",
      "    </div>\n",
      "\n",
      "\n",
      "    <div class='swagger-ui'>\n",
      "        <div class=\"wrapper\">\n",
      "            <section class=\"clear\">\n",
      "                <span style=\"float: right;\">\n",
      "                    [Powered by\n",
      "                    <a target=\"_blank\" href=\"https://github.com/rochacbruno/flasgger\">Flasgger</a>]\n",
      "                    <br>\n",
      "                </span>\n",
      "            </section>\n",
      "        </div>\n",
      "    </div>\n",
      "\n",
      "\n",
      "\n",
      "    <script src=\"/flasgger_static/swagger-ui-bundle.js\"> </script>\n",
      "    <script src=\"/flasgger_static/swagger-ui-standalone-preset.js\"> </script>\n",
      "    <script src='/flasgger_static/lib/jquery.min.js' type='text/javascript'></script>\n",
      "    <script>\n",
      "\n",
      "        window.onload = function () {\n",
      "            \n",
      "\n",
      "            fetch(\"/spec.json\")\n",
      "                .then(function (response) {\n",
      "                    response.json()\n",
      "                        .then(function (json) {\n",
      "                            var current_protocol = window.location.protocol.slice(0, -1);\n",
      "                            if (json.schemes[0] != current_protocol) {\n",
      "                                // Switches scheme to the current in use\n",
      "                                var other_protocol = json.schemes[0];\n",
      "                                json.schemes[0] = current_protocol;\n",
      "                                json.schemes[1] = other_protocol;\n",
      "\n",
      "                            }\n",
      "                            json.host = window.location.host;  // sets the current host\n",
      "\n",
      "                            const ui = SwaggerUIBundle({\n",
      "                                spec: json,\n",
      "                                validatorUrl: null,\n",
      "                                dom_id: '#swagger-ui',\n",
      "                                deepLinking: true,\n",
      "                                jsonEditor: true,\n",
      "                                docExpansion: \"none\",\n",
      "                                apisSorter: \"alpha\",\n",
      "                                //operationsSorter: \"alpha\",\n",
      "                                presets: [\n",
      "                                    SwaggerUIBundle.presets.apis,\n",
      "                                    // yay ES6 modules ↘\n",
      "                                    Array.isArray(SwaggerUIStandalonePreset) ? SwaggerUIStandalonePreset : SwaggerUIStandalonePreset.default\n",
      "                                ],\n",
      "                                plugins: [\n",
      "                                    SwaggerUIBundle.plugins.DownloadUrl\n",
      "                                ],\n",
      "            \n",
      "            // layout: \"StandaloneLayout\"  // uncomment to enable the green top header\n",
      "        })\n",
      "\n",
      "        window.ui = ui\n",
      "\n",
      "        // uncomment to rename the top brand if layout is enabled\n",
      "        // $(\".topbar-wrapper .link span\").replaceWith(\"<span>httpbin</span>\");\n",
      "        })\n",
      "    })\n",
      "}\n",
      "    </script>  <div class='swagger-ui'>\n",
      "    <div class=\"wrapper\">\n",
      "        <section class=\"block col-12 block-desktop col-12-desktop\">\n",
      "            <div>\n",
      "\n",
      "                <h2>Other Utilities</h2>\n",
      "\n",
      "                <ul>\n",
      "                    <li>\n",
      "                        <a href=\"/forms/post\">HTML form</a> that posts to /post /forms/post</li>\n",
      "                </ul>\n",
      "\n",
      "                <br />\n",
      "                <br />\n",
      "            </div>\n",
      "        </section>\n",
      "    </div>\n",
      "</div>\n",
      "</body>\n",
      "\n",
      "</html>\n"
     ]
    }
   ],
   "source": [
    "url ='http://httpbin.org'\n",
    "response  = urllib.request.urlopen(url)\n",
    "# print(response.status) #响应头状态码\n",
    "# print(response.getheaders()) # 响应头信息\n",
    "# print(response.getheader('Server')) \n",
    "print(response.read().decode('utf-8'))"
   ]
  },
  {
   "cell_type": "markdown",
   "metadata": {},
   "source": [
    "## 用``requests``库伪装成火狐浏览器发起``post``请求,输出``response``文本信息"
   ]
  },
  {
   "cell_type": "code",
   "execution_count": 3,
   "metadata": {},
   "outputs": [
    {
     "name": "stdout",
     "output_type": "stream",
     "text": [
      "{\n",
      "  \"args\": {}, \n",
      "  \"data\": \"\", \n",
      "  \"files\": {}, \n",
      "  \"form\": {}, \n",
      "  \"headers\": {\n",
      "    \"Accept\": \"*/*\", \n",
      "    \"Accept-Encoding\": \"gzip, deflate\", \n",
      "    \"Content-Length\": \"0\", \n",
      "    \"Host\": \"httpbin.org\", \n",
      "    \"User-Agent\": \"Mozilla/4.0 (compatible; MSIE S. S; Windows NT)\", \n",
      "    \"X-Amzn-Trace-Id\": \"Root=1-5e636dfb-f37b3d027e1d7d98334a32f0\"\n",
      "  }, \n",
      "  \"json\": null, \n",
      "  \"origin\": \"113.220.6.35\", \n",
      "  \"url\": \"http://httpbin.org/post\"\n",
      "}\n",
      "\n"
     ]
    }
   ],
   "source": [
    "url = 'http://httpbin.org/post'\n",
    "headers = {\n",
    "    'User-Agent':'Mozilla/4.0 (compatible; MSIE S. S; Windows NT)',# 伪装成火狐浏览器\n",
    "    'Host':'httpbin.org'\n",
    "}\n",
    "# headers 指定user-Agent,host\n",
    "req = requests.post(url =url,headers=headers)\n",
    "print(req.text) # 输出文本信息"
   ]
  },
  {
   "cell_type": "markdown",
   "metadata": {},
   "source": [
    "## 用``request``库中的``Session``对象发出``get``请求，设置cookies并获取，输出获取的cookies"
   ]
  },
  {
   "cell_type": "code",
   "execution_count": 4,
   "metadata": {},
   "outputs": [
    {
     "name": "stdout",
     "output_type": "stream",
     "text": [
      "{\n",
      "  \"cookies\": {\n",
      "    \"times\": \"2014-02-12\"\n",
      "  }\n",
      "}\n",
      "\n"
     ]
    }
   ],
   "source": [
    "url = 'http://httpbin.org/cookies/set/times/2014-02-12'\n",
    "s = requests.Session() # 维持同一个会话\n",
    "s.get(url) #设置该会话一个cookies\n",
    "reponse = s.get('http://httpbin.org/cookies') # 获取当前cookies\n",
    "print(reponse.text)"
   ]
  },
  {
   "cell_type": "markdown",
   "metadata": {},
   "source": [
    "## 实现爬取网页的不去重深度算法"
   ]
  },
  {
   "cell_type": "code",
   "execution_count": 5,
   "metadata": {},
   "outputs": [],
   "source": [
    "count = 3 #爬取网页个数\n",
    "r = re.compile(r'href=[\\`\"]?(http[^\\`\">]+)') # 匹配网页的正则表达式\n",
    "seed = 'http://httpbin.org/'       # 初始网页\n",
    "queue =[seed]                      # 待爬取网页栈\n",
    "used = set()                       # 已爬取网页集合\n",
    "storge = {}                        # 存储网页对应内容\n",
    "while len(queue)>0 and count>0:\n",
    "    try:                           #异常处理\n",
    "        url = queue.pop(-1)        # 从末尾删除元素\n",
    "        html = requests.get(url).text\n",
    "        storge[url] = html\n",
    "        new_urls = r.findall(html) # 找出上一个爬取网站内容中所含的所有网址信息\n",
    "        used.add(url)              # 将已爬取的网址加入到used中\n",
    "        for new_url in new_urls:\n",
    "            queue.append(new_url)  # 从末尾添加，将所有网址添加到待爬取队列，先进后出形成栈\n",
    "        count-=1\n",
    "    except Exception as e:        # 出现异常时输出异常的网站，及异常类型\n",
    "        print(url)\n",
    "        print(e)"
   ]
  },
  {
   "cell_type": "code",
   "execution_count": 6,
   "metadata": {},
   "outputs": [
    {
     "name": "stdout",
     "output_type": "stream",
     "text": [
      "https://education.github.com 4\n",
      "https://github.githubassets.com/assets/site-db5797d9868460861af755858749976b.css 3\n",
      "https://lab.github.com/ 3\n",
      "https://github.community 3\n",
      "https://desktop.github.com/ 3\n",
      "https://github.blog 3\n",
      "https://github.githubassets.com 2\n",
      "https://avatars0.githubusercontent.com 2\n",
      "https://avatars1.githubusercontent.com 2\n",
      "https://avatars2.githubusercontent.com 2\n",
      "https://avatars3.githubusercontent.com 2\n",
      "https://github-cloud.s3.amazonaws.com 2\n",
      "https://user-images.githubusercontent.com/ 2\n",
      "https://github.githubassets.com/assets/frameworks-7b00555b34e27547e4200fc646d0f990.css 2\n",
      "https://github.githubassets.com/assets/github-cf76c0d32d2339066765a3b53a4a84d4.css 2\n",
      "https://github.com/fluidicon.png 2\n",
      "https://github.githubassets.com/ 2\n",
      "https://github.githubassets.com/pinned-octocat.svg 2\n",
      "https://github.githubassets.com/favicon.ico 2\n",
      "https://github.com/ 2\n",
      "https://opensource.guide 2\n",
      "https://github.com/events 2\n",
      "https://enterprise.github.com/contact 2\n",
      "http://flasgger.pythonanywhere.com/ 2\n",
      "https://githubstatus.com/ 2\n",
      "https://help.github.com 2\n",
      "https://github.com/contact 2\n",
      "https://developer.github.com 2\n",
      "https://socialimpact.github.com/ 2\n"
     ]
    }
   ],
   "source": [
    "number =Counter(queue)\n",
    "for url,count in number.most_common():\n",
    "    if count>1:\n",
    "        print(url,count)\n",
    "# 输出为待爬取网址队列中重复出现的网址，及重复次数"
   ]
  },
  {
   "cell_type": "markdown",
   "metadata": {},
   "source": [
    "运行代码后，``queue``存储了尚未爬取的网址，存在相同网站，``used``存储了已爬取网址,``storge``用字典存储爬取网站的文本信息，``key``为网站地址,``value``为对应网站文本信息"
   ]
  },
  {
   "cell_type": "markdown",
   "metadata": {},
   "source": [
    "##  抓取网页的广度遍历算法"
   ]
  },
  {
   "cell_type": "markdown",
   "metadata": {},
   "source": [
    "## 去重"
   ]
  },
  {
   "cell_type": "code",
   "execution_count": 7,
   "metadata": {},
   "outputs": [
    {
     "name": "stdout",
     "output_type": "stream",
     "text": [
      "重复： https://github.com/requests/httpbin\n",
      "重复： https://github.com/requests/httpbin\n",
      "重复： https://github.com/requests/httpbin\n",
      "重复： https://github.com/requests/httpbin\n"
     ]
    }
   ],
   "source": [
    "count = 3                                    # 爬取网页数\n",
    "r = re.compile(r'href=[\\`\"]?(http[^\\`\">]+)') # 匹配网页正则表达式\n",
    "seed = 'http://httpbin.org/'                 # 初始网页\n",
    "queue =[seed]                                # 待爬取队列\n",
    "used = set()                                 #  已爬取网址集合\n",
    "storge = {}                                  #  存储已爬取网址文本内容\n",
    "recount =0                                   # 重复网址出现次数\n",
    "while len(queue)>0 and count>0:\n",
    "    try:\n",
    "        url = queue.pop(0)                   # 从头部取出\n",
    "        html = requests.get(url).text\n",
    "        storge[url] = html                   # 存储网址文本内容\n",
    "        new_urls = r.findall(html)\n",
    "        used.add(url)\n",
    "        \n",
    "        for new_url in new_urls:\n",
    "            if new_url not in used and new_url not in queue:\n",
    "                queue.append(new_url)        # 从尾部添加数据，形成队列\n",
    "            else:\n",
    "                print('重复： '+url)         # 输出重复出现的网址\n",
    "                recount+=1                   # 重复网址数加一\n",
    "        count-=1\n",
    "    except Exception as e:                  # 异常处理，输出出现异常的网址和错误\n",
    "        print(url)\n",
    "        print(e)"
   ]
  },
  {
   "cell_type": "markdown",
   "metadata": {},
   "source": [
    "运行代码后，会自行输出爬取时出现的重复网站，``queue``存储了尚未爬取的网址，``used``存储了已爬取网址,``storge``用字典存储爬取网站的文本信息，``key``为网站地址,``value``为对应网站文本信息"
   ]
  },
  {
   "cell_type": "markdown",
   "metadata": {},
   "source": [
    "## 不去重广度算法"
   ]
  },
  {
   "cell_type": "code",
   "execution_count": 8,
   "metadata": {},
   "outputs": [],
   "source": [
    "count = 3                                    # 爬取网页数\n",
    "r = re.compile(r'href=[\\`\"]?(http[^\\`\">]+)') # 匹配网页正则表达式\n",
    "seed = 'http://httpbin.org/'                 # 初始网页\n",
    "queue =[seed]                                # 待爬取队列\n",
    "used = set()                                 #  已爬取网址集合\n",
    "storge = {}                                  #  存储已爬取网址文本内容\n",
    "while len(queue)>0 and count>0:\n",
    "    try:\n",
    "        url = queue.pop(0)                   # 从头部取出\n",
    "        html = requests.get(url).text\n",
    "        storge[url] = html                   # 存储网址文本内容\n",
    "        new_urls = r.findall(html)\n",
    "        used.add(url)\n",
    "        for new_url in new_urls:\n",
    "            queue.append(new_url)        # 从尾部添加数据，形成队列\n",
    "        count-=1\n",
    "    except Exception as e:                  # 异常处理，输出出现异常的网址和错误\n",
    "        print(url)\n",
    "        print(e)"
   ]
  },
  {
   "cell_type": "code",
   "execution_count": 9,
   "metadata": {},
   "outputs": [
    {
     "name": "stdout",
     "output_type": "stream",
     "text": [
      "https://education.github.com 2\n",
      "https://httpbin.org 2\n",
      "https://desktop.github.com/ 2\n",
      "http://httpbin.org 2\n"
     ]
    }
   ],
   "source": [
    "number =Counter(queue)\n",
    "for url,count in number.most_common():\n",
    "    if count>1:\n",
    "        print(url,count)\n",
    "# 输出为待爬取网址队列中重复出现的网址，及其重复次数"
   ]
  },
  {
   "cell_type": "markdown",
   "metadata": {},
   "source": [
    "运行代码后，``queue``存储了尚未爬取的网址，``used``存储了已爬取网址,``storge``用字典存储爬取网站的文本信息，``key``为网站地址,``value``为对应网站文本信息"
   ]
  },
  {
   "cell_type": "markdown",
   "metadata": {},
   "source": [
    "## 将网页的去重深度遍历算法封装成类，并测试"
   ]
  },
  {
   "cell_type": "code",
   "execution_count": 8,
   "metadata": {},
   "outputs": [],
   "source": [
    "import requests,re\n",
    "from collections import Counter\n",
    "class url_get():\n",
    "    def __init__(self,url):\n",
    "        \n",
    "        self.url = url   # url为初始网址\n",
    "        self.storge = {} # 存储网址对应的text\n",
    "        self.recount = 0 # 记录重复网址数\n",
    "        self.queue = [self.url]\n",
    "        self.used = []\n",
    "        \n",
    "    def get_url(self,temp):\n",
    "        self.html = requests.get(temp).text\n",
    "        # 该网站内的信息 \n",
    "        self.storge[temp] = self.html\n",
    "        # 存储数据 字典\n",
    "        r = re.compile(r'href=[\\`\"]?(http[^\\`\">]+)')\n",
    "        self.new_urls = r.findall(self.html)\n",
    "        # 该网址信息中所含的其他网址\n",
    "    def DFS(self,count): \n",
    "        # 深度探索\n",
    "        self.count =count # count为爬取网址个数\n",
    "        while len(self.queue)>0 and self.count >0:\n",
    "            tem = self.queue.pop(-1)\n",
    "            self.get_url(tem)\n",
    "            self.used.append(tem)\n",
    "            for new_url in self.new_urls:\n",
    "                if new_url not in self.used and new_url not in self.queue:\n",
    "                    self.queue.append(new_url)\n",
    "                \n",
    "                else:\n",
    "                    self.recount+=1\n",
    "            self.count-=1\n",
    "    def count_queue(self):\n",
    "        url_count = Counter(self.queue)\n",
    "        for url,count in url_count.most_common(10):\n",
    "            print(url,count)"
   ]
  },
  {
   "cell_type": "code",
   "execution_count": 9,
   "metadata": {},
   "outputs": [],
   "source": [
    "url = 'http://httpbin.org/'\n",
    "data=url_get(url) # 输入网址\n",
    "data.DFS(3) # 爬取网址个数"
   ]
  },
  {
   "cell_type": "code",
   "execution_count": 12,
   "metadata": {
    "scrolled": false
   },
   "outputs": [
    {
     "data": {
      "text/plain": [
       "37"
      ]
     },
     "execution_count": 12,
     "metadata": {},
     "output_type": "execute_result"
    }
   ],
   "source": [
    "data.recount # 重复网站出现次数"
   ]
  },
  {
   "cell_type": "code",
   "execution_count": 13,
   "metadata": {},
   "outputs": [
    {
     "data": {
      "text/plain": [
       "['http://httpbin.org/',\n",
       " 'https://github.com/rochacbruno/flasgger',\n",
       " 'https://github.com/about']"
      ]
     },
     "execution_count": 13,
     "metadata": {},
     "output_type": "execute_result"
    }
   ],
   "source": [
    "data.used # 爬取的网址"
   ]
  },
  {
   "cell_type": "code",
   "execution_count": null,
   "metadata": {},
   "outputs": [],
   "source": []
  },
  {
   "cell_type": "code",
   "execution_count": null,
   "metadata": {},
   "outputs": [],
   "source": []
  }
 ],
 "metadata": {
  "kernelspec": {
   "display_name": "Python 3",
   "language": "python",
   "name": "python3"
  },
  "language_info": {
   "codemirror_mode": {
    "name": "ipython",
    "version": 3
   },
   "file_extension": ".py",
   "mimetype": "text/x-python",
   "name": "python",
   "nbconvert_exporter": "python",
   "pygments_lexer": "ipython3",
   "version": "3.7.3"
  }
 },
 "nbformat": 4,
 "nbformat_minor": 2
}
