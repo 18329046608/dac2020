{
 "cells": [
  {
   "cell_type": "markdown",
   "metadata": {},
   "source": [
    "# 《数据采集与清洗》\n",
    "## 第一次作业内容： 网页抓取\n",
    "### 具体目标：\n",
    "+ 用``urllib.requests``库发起一次``get``请求，输出``response``文本信息；\n",
    "+ 用``Requests``库伪装成火狐浏览器发起一次``post``请求，输出``response``文本信息；\n",
    "+ 用``Requests``库中的``session``对象发出``get``请求，设置``cookies``并获取，输出获取的``cookies``内容；\n",
    "+ 实现抓取网页的不去重深度遍历算法，自选合适的种子网站和相关参数，输出结果；\n",
    "+ 编写抓取网页的广度遍历算法（含去重和不去重），自选合适的种子网站和相关参数，输出结果；\n",
    "+ (选)将抓取网页的去重深度遍历算法封装成对象（类），并测试。\n",
    "\n",
    "### 注：\n",
    "+ 代码要有注释，结果要有分析；\n",
    "+ 本次作业提交截至时间：2020年3月10日(星期二)；\n",
    "+ 文件命名规则: 班级号+学号+姓名+作业序号，示例：``1_20188989899_张三_1``；\n",
    "+ 提交方式：1班发送至邮箱：632994085@qq.com；2班发送至邮箱：786888939@qq.com."
   ]
  },
  {
   "cell_type": "markdown",
   "metadata": {},
   "source": [
    "### 问题1：用``urllib.requests``库发起一次``get``请求，输出``response``文本信息。"
   ]
  },
  {
   "cell_type": "code",
   "execution_count": 1,
   "metadata": {},
   "outputs": [
    {
     "name": "stdout",
     "output_type": "stream",
     "text": [
      "https://www.xtu.edu.cn/\n",
      "response= <urllib.request.Request object at 0x0000021CC0753EB8>\n"
     ]
    }
   ],
   "source": [
    "import urllib.request\n",
    "import urllib.parse\n",
    "url = 'https://www.xtu.edu.cn/'\n",
    "data={\n",
    "    'start':0,\n",
    "    'limit':2\n",
    "}#get请求的参数\n",
    "#将数据data转换为浏览器认识的字符串\n",
    "data2 = urllib.parse.urlencode(data).encode()\n",
    "#将data数据拼接在后边url后形成一个完整的url\n",
    "print(url)\n",
    "#发送请求\n",
    "response= urllib.request.Request(\n",
    "    url,\n",
    "    data=data2,\n",
    "    headers={},\n",
    "    method='GET'\n",
    ")\n",
    "print('response=',response)\n",
    "response_url=urllib.request.urlopen(\n",
    "    response,\n",
    "    data=data2,\n",
    "    timeout= 5,\n",
    ")"
   ]
  },
  {
   "cell_type": "code",
   "execution_count": null,
   "metadata": {},
   "outputs": [],
   "source": []
  },
  {
   "cell_type": "markdown",
   "metadata": {},
   "source": [
    "这里对结果进行分析。"
   ]
  },
  {
   "cell_type": "markdown",
   "metadata": {},
   "source": [
    "### 用``Requests``库伪装成火狐浏览器发起一次``post``请求，输出``response``文本信息。"
   ]
  },
  {
   "cell_type": "code",
   "execution_count": null,
   "metadata": {},
   "outputs": [],
   "source": [
    "from urllib import request,parse\n",
    "url='http://httpbin.org/post'\n",
    "headers={\n",
    "    #伪装成火狐浏览器\n",
    "    'User-Agent':'Mozilla/4.0(compatible;MSIE 5.5;Windows NT)',\n",
    "    'host':'httpbin.org'\n",
    "}\n",
    "dict={\n",
    "    'name':'Hackdata'\n",
    "}\n",
    "data=bytes(parse.urlencode(dict),encoding='utf8')\n",
    "req = request.Request(url=url,data=data,headers=headers,method='POST')\n",
    "response = request.urlopen(req)\n",
    "print(response.read().decode('utf-8'))"
   ]
  },
  {
   "cell_type": "code",
   "execution_count": null,
   "metadata": {},
   "outputs": [],
   "source": []
  },
  {
   "cell_type": "markdown",
   "metadata": {},
   "source": [
    "这里对结果进行分析。"
   ]
  },
  {
   "cell_type": "markdown",
   "metadata": {},
   "source": [
    "### 用``Requests``库中的``session``对象发出``get``请求，设置``cookies``并获取，输出获取的``cookies``内容。 "
   ]
  },
  {
   "cell_type": "code",
   "execution_count": 3,
   "metadata": {},
   "outputs": [],
   "source": [
    "#用``Requests``库中的``session``对象发出``get``请求，设置``cookies``并获取，输出获取的``cookies``内容\n",
    "import requests\n",
    "#创建一个sesion对象\n",
    "s=requests.Session()\n",
    "# 用session对象发出get请求，设置cookies \n",
    "s.get('http://httpbin.org/cookies/set/sessioncookie/123456789')\n",
    "# 用session对象发出另外一个get请求，获取cookies \n",
    "r = s.get(\"http://httpbin.org/cookies\")\n",
    "# 显示结果 \n",
    "r.text"
   ]
  },
  {
   "cell_type": "code",
   "execution_count": null,
   "metadata": {},
   "outputs": [],
   "source": []
  },
  {
   "cell_type": "markdown",
   "metadata": {},
   "source": [
    "这里对结果进行分析。"
   ]
  },
  {
   "cell_type": "markdown",
   "metadata": {},
   "source": [
    "### 实现抓取网页的不去重深度遍历算法，自选合适的种子网站和相关参数，输出结果。\n"
   ]
  },
  {
   "cell_type": "code",
   "execution_count": 4,
   "metadata": {},
   "outputs": [],
   "source": [
    "import requests\n",
    "import re\n",
    "#根据包含的正则表达式的字符串创建模式对象\n",
    "r = re.compile(r'<a.*href=\\\"(https?://.*?)[\\\"|\\'].*')\n",
    "\n",
    "def geturlsdeep(seed,depth):\n",
    "    #根据包含的正则表达式的字符串创建模式对象\n",
    "    r = re.compile(r'href=[\\'\"]?(http[^\\'\">]+)')\n",
    "    stack = [seed]\n",
    "    storage = {}\n",
    "    storage[seed] = 0 #设置种子网站的深度为0\n",
    "    while len(stack)>0 :\n",
    "        try:\n",
    "            #从后往前以此弹出url\n",
    "            url = stack.pop(-1)\n",
    "            html = requests.get(url,timeout=5,verify=False).text\n",
    "            #输出当前url所在深度以及url本身\n",
    "            print(storage[url],url)\n",
    "            #将爬取出的url存储到new_urls列表中\n",
    "            new_urls = re.findall(r,html)\n",
    "            for new_url in new_urls:\n",
    "                #如果当前url未达到总深度，则所在深度数+1\n",
    "                if storage[url]<depth:\n",
    "                    storage[new_url] = storage[url]+1\n",
    "                    stack.append(new_url)      \n",
    "    except Exception as e:\n",
    "        pass\n",
    "    \n",
    "if __name__ == '__main__':\n",
    "    seed = 'http://httpbin.org'\n",
    "    geturlsdeep(seed,depth=3)"
   ]
  },
  {
   "cell_type": "code",
   "execution_count": null,
   "metadata": {},
   "outputs": [],
   "source": []
  },
  {
   "cell_type": "markdown",
   "metadata": {},
   "source": [
    "这里对结果进行分析。"
   ]
  },
  {
   "cell_type": "markdown",
   "metadata": {},
   "source": [
    "### 编写抓取网页的广度遍历算法（含去重和不去重），自选合适的种子网站和相关参数，输出结果。 "
   ]
  },
  {
   "cell_type": "code",
   "execution_count": null,
   "metadata": {},
   "outputs": [],
   "source": [
    "#不去重\n",
    "import requests,re\n",
    "waited_urls=[]#存储所有待爬取的url\n",
    "all_urls=[]#存储所有爬取过的url\n",
    "url='https://www.xtu.edu.cn/'\n",
    "def get_all_url(a):\n",
    "\n",
    "    html=requests.get(a).text\n",
    "    condition=re.compile(r'href=[\\'\"]?(http[^\\'\" >]+)')\n",
    "    url_in_putin=condition.findall(html)\n",
    "    return url_in_putin\n",
    "\n",
    "all_urls=all_urls+(get_all_url('https://www.xtu.edu.cn/'))\n",
    "waited_urls=waited_urls+(get_all_url('https://www.xtu.edu.cn/'))\n",
    "\n",
    "new_url=list.pop(pre,0)\n",
    "\n",
    "for i in range(1):\n",
    "    for new_url in all_urls:\n",
    "        \n",
    "        next_floor_urls=get_all_url(new_url)\n",
    "        all_urls=all_urls+next_floor_urls\n",
    "        waited_urls=waited_urls+next_floor_urls\n",
    "        used_url=list.pop(all_urls,0)\n",
    "print(waited_urls)"
   ]
  },
  {
   "cell_type": "code",
   "execution_count": null,
   "metadata": {},
   "outputs": [],
   "source": [
    "#去重\n",
    "import requests,re\n",
    "waited_urls=[]#存储所有待爬取的url\n",
    "all_urls=[]#存储所有爬取过的url\n",
    "url='http://mnks.jxedt.com/'\n",
    "used_urls=[]\n",
    "def get_all_url(a):\n",
    "\n",
    "    html=requests.get(a).text\n",
    "    condition=re.compile(r'href=[\\'\"]?(http[^\\'\" >]+)')\n",
    "    url_in_putin=condition.findall(html)\n",
    "    return url_in_putin\n",
    "\n",
    "all_urls=all_urls+(get_all_url('http://mnks.jxedt.com/'))\n",
    "waited_urls=waited_urls+(get_all_url('http://mnks.jxedt.com/'))\n",
    "\n",
    "new_url=list.pop(pre,0)\n",
    "#将waited_urls中的第一个url赋值给new_url\n",
    "\n",
    "for i in range(1):\n",
    "    for new_url in all_urls:\n",
    "        if new_url not in used_urls:\n",
    "            next_floor_urls=get_all_url(new_url)\n",
    "            all_urls=all_urls+next_floor_urls\n",
    "            waited_urls=waited_urls+next_floor_urls\n",
    "            used_url=list.pop(all_urls,0)\n",
    "            used_urls.append(used_url)\n",
    "print(waited_urls)"
   ]
  },
  {
   "cell_type": "markdown",
   "metadata": {},
   "source": [
    "这里对结果进行分析。"
   ]
  },
  {
   "cell_type": "markdown",
   "metadata": {},
   "source": [
    "### (选)将抓取网页的去重深度遍历算法封装成对象（类），并测试。 "
   ]
  },
  {
   "cell_type": "code",
   "execution_count": 6,
   "metadata": {},
   "outputs": [],
   "source": [
    "# 这里编写代码"
   ]
  },
  {
   "cell_type": "code",
   "execution_count": 7,
   "metadata": {},
   "outputs": [],
   "source": [
    "# 测试"
   ]
  },
  {
   "cell_type": "markdown",
   "metadata": {},
   "source": [
    "这里对结果进行分析。"
   ]
  }
 ],
 "metadata": {
  "kernelspec": {
   "display_name": "Python 3",
   "language": "python",
   "name": "python3"
  },
  "language_info": {
   "codemirror_mode": {
    "name": "ipython",
    "version": 3
   },
   "file_extension": ".py",
   "mimetype": "text/x-python",
   "name": "python",
   "nbconvert_exporter": "python",
   "pygments_lexer": "ipython3",
   "version": "3.7.3"
  }
 },
 "nbformat": 4,
 "nbformat_minor": 4
}