{
 "cells": [
  {
   "cell_type": "code",
   "execution_count": 18,
   "metadata": {},
   "outputs": [
    {
     "name": "stdout",
     "output_type": "stream",
     "text": [
      "http://www.hao123.com 1\n",
      "http://map.baidu.com 1\n",
      "http://v.baidu.com 1\n",
      "http://tieba.baidu.com 1\n",
      "http://www.baidu.com/bdorz/login.gif?login&amp;tpl=mn&amp;u=http%3A%2F%2Fwww.baidu.com%2f%3fbdorz_come%3d1 1\n",
      "http://www.baidu.com/bdorz/login.gif?login&tpl=mn&u= 1\n",
      "http://home.baidu.com 1\n",
      "http://ir.baidu.com 1\n",
      "http://www.baidu.com/duty/ 1\n",
      "http://jianyi.baidu.com/ 1\n"
     ]
    }
   ],
   "source": [
    "import re,requests\n",
    "count = 3\n",
    "r = re.compile(r'href=[\\'\"]?(http[^\\'\" >]+)')\n",
    "seed = 'http://www.baidu.com/'\n",
    "\n",
    "queue = [seed]\n",
    "used = set()\n",
    "storage = {}\n",
    "while len(queue)>0 and count > 0: #Hash去重\n",
    "    try:\n",
    "        url = queue.pop(0)\n",
    "        html = requests.get(url,timeout=5).text\n",
    "        storage[url] = html\n",
    "        used.add(url)  #将已经抓取过的url存入used中\n",
    "        new_urls = r.findall(html)\n",
    "        for new_url in new_urls:  #将新发现的未抓取的url添加到queue中\n",
    "            if new_url not in used and new_url not in queue:\n",
    "                queue.append(new_url)\n",
    "        count -=1\n",
    "    except Exception as e:\n",
    "        print(url)\n",
    "        print(e)\n",
    "\n",
    "from collections import Counter\n",
    "url_count = Counter(queue)\n",
    "for url,count in url_count.most_common(10):\n",
    "    print(url,count)"
   ]
  },
  {
   "cell_type": "code",
   "execution_count": null,
   "metadata": {},
   "outputs": [],
   "source": [
    "from urllib import request,parse\n",
    "\n",
    "url = 'http://httpbin.org/post'\n",
    "headers={ #伪装成一个火狐浏览器，加入头部信息\n",
    "    \"User-Agent\":'Mozilla/4.0(compatible;MSIE 5.5;Windows NT)',\n",
    "    \"host\":'httpbin.org'\n",
    "    }\n",
    "\n",
    "req = request.Request(url=url,headers=headers,method='POST')\n",
    "response=request.urlopen(req)\n",
    "print(response.read().decode('utf8'))"
   ]
  },
  {
   "cell_type": "code",
   "execution_count": null,
   "metadata": {},
   "outputs": [],
   "source": []
  },
  {
   "cell_type": "code",
   "execution_count": null,
   "metadata": {},
   "outputs": [],
   "source": []
  },
  {
   "cell_type": "code",
   "execution_count": null,
   "metadata": {},
   "outputs": [],
   "source": []
  },
  {
   "cell_type": "code",
   "execution_count": null,
   "metadata": {},
   "outputs": [],
   "source": []
  }
 ],
 "metadata": {
  "kernelspec": {
   "display_name": "Python 3",
   "language": "python",
   "name": "python3"
  },
  "language_info": {
   "codemirror_mode": {
    "name": "ipython",
    "version": 3
   },
   "file_extension": ".py",
   "mimetype": "text/x-python",
   "name": "python",
   "nbconvert_exporter": "python",
   "pygments_lexer": "ipython3",
   "version": "3.7.3"
  }
 },
 "nbformat": 4,
 "nbformat_minor": 2
}
