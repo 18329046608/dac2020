{
 "cells": [
  {
   "cell_type": "code",
   "execution_count": null,
   "metadata": {},
   "outputs": [],
   "source": [
    "import requests,re\n",
    "count = 5\n",
    "r = re.compile(r'href=[\\'\"]?(http[^\\'\">]+)') #正则表达式\n",
    "seed = 'http://httpbin.org/'\n",
    "stack = [seed] # 设置种子链接的栈（使用列表模拟栈）\n",
    "storage = {}\n",
    "\n",
    "while len (stack) > 0 and count > 0:\n",
    "    try:\n",
    "        url = stack.pop(0)\n",
    "        html = requests.get(url).text\n",
    "        new_urls = r.findall(html) # 提取当前网页下的所有链接URL信息\n",
    "        stack.extend(new_urls) # 将新提取的链接信息入栈\n",
    "        storage[url] = len(new_urls)\n",
    "        count -= 1\n",
    "    except Exception as e:\n",
    "        print(url)\n",
    "        print(e)\n",
    "from collections import Counter  #计数\n",
    "url_count = Counter(stack)\n",
    "for url,count in url_count.most_common(5):\n",
    "    print(url,count)"
   ]
  },
  {
   "cell_type": "code",
   "execution_count": null,
   "metadata": {},
   "outputs": [],
   "source": []
  },
  {
   "cell_type": "code",
   "execution_count": null,
   "metadata": {},
   "outputs": [],
   "source": []
  }
 ],
 "metadata": {
  "kernelspec": {
   "display_name": "Python 3",
   "language": "python",
   "name": "python3"
  },
  "language_info": {
   "codemirror_mode": {
    "name": "ipython",
    "version": 3
   },
   "file_extension": ".py",
   "mimetype": "text/x-python",
   "name": "python",
   "nbconvert_exporter": "python",
   "pygments_lexer": "ipython3",
   "version": "3.7.3"
  }
 },
 "nbformat": 4,
 "nbformat_minor": 2
}
